{
 "cells": [
  {
   "cell_type": "markdown",
   "id": "803a2a28-bcb7-4d73-b748-12ffe7a9a2a2",
   "metadata": {},
   "source": [
    "# Single Band Data Compression"
   ]
  },
  {
   "cell_type": "code",
   "execution_count": 1,
   "id": "ff8d4e92-d613-488b-baef-2dde45071c03",
   "metadata": {},
   "outputs": [],
   "source": [
    "# imports \n",
    "import numpy as np \n",
    "import xarray as xr\n",
    "import matplotlib.pyplot as plt\n",
    "from tqdm import tqdm\n",
    "from scipy.sparse import diags, hstack as sparse_hstack\n",
    "import os\n",
    "from skimage.transform import resize\n",
    "import pandas as pd\n",
    "from netCDF4 import Dataset, num2date\n",
    "from datetime import datetime, timedelta\n",
    "from scipy.interpolate import interp1d\n",
    "import imageio\n",
    "from matplotlib.animation import FuncAnimation, PillowWriter\n",
    "from matplotlib.colors import Normalize\n",
    "from matplotlib.colorbar import Colorbar\n",
    "from matplotlib.backends.backend_agg import FigureCanvasAgg as FigureCanvas\n",
    "from matplotlib import cm\n",
    "import pytz\n",
    "from pytz import timezone"
   ]
  },
  {
   "cell_type": "markdown",
   "id": "1b1a61b0-2f97-4494-b696-ac2781286418",
   "metadata": {},
   "source": [
    "## Helper Functions"
   ]
  },
  {
   "cell_type": "code",
   "execution_count": 2,
   "id": "bc6fd31e-b519-4d23-8ce1-693ca94eee7d",
   "metadata": {},
   "outputs": [],
   "source": [
    "#Function to load in the data\n",
    "def load_nc_timeseries(filepath):\n",
    "    ds = xr.open_dataset(filepath)\n",
    "    data = ds['Rad'].values \n",
    "\n",
    "    time_raw = ds['time'].values\n",
    "    times = pd.to_datetime(time_raw).to_pydatetime().tolist()\n",
    "\n",
    "    return data, times\n",
    "\n",
    "# Function to interpolate and trim frames, making sure frames are equally aligned\n",
    "def interpolate_and_trim_frames(frames, times, duration, frame_spacing=timedelta(minutes=10),  max_gap=timedelta(minutes=12)):\n",
    "    max_frames = int(duration / frame_spacing)\n",
    "    expected_spacing = duration / max_frames\n",
    "\n",
    "    cleaned_frames = []\n",
    "    cleaned_times = []\n",
    "\n",
    "    current_block = []\n",
    "    current_times = []\n",
    "    start_time = times[0]\n",
    "\n",
    "    for frame, t in zip(frames, times):\n",
    "        if t - start_time < duration:\n",
    "            current_block.append(frame)\n",
    "            current_times.append(t)\n",
    "        else:\n",
    "            # Process current block\n",
    "            if len(current_block) > 0:\n",
    "                # Interpolate gaps\n",
    "                new_frames = list(current_block)\n",
    "                new_times = list(current_times)\n",
    "                total_insertions = 0\n",
    "                MAX_INSERTIONS = 50\n",
    "\n",
    "                made_change = True\n",
    "                while made_change:\n",
    "                    made_change = False\n",
    "                    i = 0\n",
    "                    while i < len(new_times) - 1:\n",
    "                        gap = new_times[i + 1] - new_times[i]\n",
    "                        if gap > timedelta(hours=2):\n",
    "                            print(f\"Large time gap: {gap} at index {i}\")\n",
    "                            num_insertions = int(round(gap / frame_spacing)) - 1\n",
    "                        elif gap > max_gap:\n",
    "                            num_insertions = int(round(gap / expected_spacing)) - 1\n",
    "                        else:\n",
    "                            num_insertions = 0\n",
    "                            \n",
    "                        if num_insertions > 0:\n",
    "                            for n in range(1, num_insertions + 1):\n",
    "                                alpha = n / (num_insertions + 1)\n",
    "                                interp_time = new_times[i] + alpha * gap\n",
    "                                interp_frame = (1 - alpha) * new_frames[i] + alpha * new_frames[i + 1]\n",
    "                                new_times.insert(i + n, interp_time)\n",
    "                                new_frames.insert(i + n, interp_frame)\n",
    "                                total_insertions += 1\n",
    "\n",
    "                                if total_insertions > MAX_INSERTIONS: \n",
    "                                    print(\"Too many interpolated frames — skipping block early.\")\n",
    "                                    return np.array([]), []\n",
    "\n",
    "                            made_change = True\n",
    "                            i += num_insertions\n",
    "                        i += 1\n",
    "\n",
    "                #Trim block to fit duration and frame count\n",
    "                trimmed_frames = [new_frames[0]]\n",
    "                trimmed_times = [new_times[0]]\n",
    "                block_start_time = new_times[0]\n",
    "\n",
    "                for i in range(1, len(new_times)):\n",
    "                    if new_times[i] - block_start_time > duration:\n",
    "                        break\n",
    "                    trimmed_frames.append(new_frames[i])\n",
    "                    trimmed_times.append(new_times[i])\n",
    "                    if len(trimmed_frames) >= max_frames:\n",
    "                        break\n",
    "\n",
    "                cleaned_frames.extend(trimmed_frames)\n",
    "                cleaned_times.extend(trimmed_times)\n",
    "\n",
    "            # Start new block\n",
    "            current_block = [frame]\n",
    "            current_times = [t]\n",
    "            start_time = t\n",
    "\n",
    "    # Process final block\n",
    "    if len(current_block) > 0:\n",
    "        new_frames = list(current_block)\n",
    "        new_times = list(current_times)\n",
    "\n",
    "        made_change = True\n",
    "        while made_change:\n",
    "            made_change = False\n",
    "            i = 0\n",
    "            while i < len(new_times) - 1:\n",
    "                gap = new_times[i + 1] - new_times[i]\n",
    "                if gap > max_gap:\n",
    "                    num_insertions = int(round(gap / expected_spacing)) - 1\n",
    "                    for n in range(1, num_insertions + 1):\n",
    "                        alpha = n / (num_insertions + 1)\n",
    "                        interp_time = new_times[i] + alpha * gap\n",
    "                        interp_frame = (1 - alpha) * new_frames[i] + alpha * new_frames[i + 1]\n",
    "                        new_times.insert(i + n, interp_time)\n",
    "                        new_frames.insert(i + n, interp_frame)\n",
    "                    made_change = True\n",
    "                    i += num_insertions\n",
    "                i += 1\n",
    "\n",
    "        trimmed_frames = [new_frames[0]]\n",
    "        trimmed_times = [new_times[0]]\n",
    "        block_start_time = new_times[0]\n",
    "\n",
    "        for i in range(1, len(new_times)):\n",
    "            if new_times[i] - block_start_time > duration:\n",
    "                break\n",
    "            trimmed_frames.append(new_frames[i])\n",
    "            trimmed_times.append(new_times[i])\n",
    "            if len(trimmed_frames) >= max_frames:\n",
    "                break\n",
    "\n",
    "        cleaned_frames.extend(trimmed_frames)\n",
    "        cleaned_times.extend(trimmed_times)\n",
    "\n",
    "    return np.array(cleaned_frames), cleaned_times\n"
   ]
  },
  {
   "cell_type": "code",
   "execution_count": 3,
   "id": "0e316eff-ab45-4aae-8cb8-c0dc111bf16f",
   "metadata": {},
   "outputs": [],
   "source": [
    "#Temporal Compression Function based off of Zhang et al., 2025\n",
    "def compress_frames_by_time(frames, times, duration: timedelta, p=0.5, noise_std=0.001):\n",
    "    T, H, W = frames.shape\n",
    "    blocks = []\n",
    "    all_masks = []\n",
    "    compressed = []\n",
    "\n",
    "    y_list = []\n",
    "    phi_list = []\n",
    "    x_list = []\n",
    "    g_list = []\n",
    "    forward_compressed_frame_list = []\n",
    "    block_times = []\n",
    "\n",
    "    start_idx = 0\n",
    "    with tqdm(desc=\"Compressing Time-Based Blocks\") as pbar: #Run through blocks\n",
    "        while start_idx < T:\n",
    "            start_time = times[start_idx]\n",
    "            end_idx = start_idx\n",
    "            while end_idx < T and (times[end_idx] - start_time) < duration:\n",
    "                end_idx += 1\n",
    "\n",
    "            block = frames[start_idx:end_idx]\n",
    "            \n",
    "            if len(block) == 0:\n",
    "                break\n",
    "            print(f\"Compressing block {len(blocks)} with {block.shape[0]} frames\") \n",
    "            block_times.append(start_time + (duration/2))\n",
    "\n",
    "            current_block_size = block.shape[0]\n",
    "\n",
    "            # Generate masks\n",
    "            masks = np.random.binomial(n=1, p=p, size=(current_block_size, H, W))\n",
    "\n",
    "            unsampled_mask = np.sum(masks, axis=0) == 0\n",
    "            if np.any(unsampled_mask):\n",
    "                unsampled_indices = np.argwhere(unsampled_mask)\n",
    "                for h, w in unsampled_indices:\n",
    "                    t_idx = np.random.randint(0, current_block_size)\n",
    "                    masks[t_idx, h, w] = 1\n",
    "\n",
    "            #Force center pixel to be sampled at least once (important check for plotting purposes)\n",
    "            if np.sum(masks[:, H//2, W//2]) == 0:\n",
    "                idx = np.random.randint(0, current_block_size)\n",
    "                masks[idx, H//2, W//2] = 1\n",
    "\n",
    "            #Apply the masks \n",
    "            masked_sum = np.nansum(block * masks, axis=0)\n",
    "\n",
    "            # Forward model: y = phi x + g\n",
    "            x = np.concatenate([frame.flatten() for frame in block])\n",
    "            diagonal_masks = [diags(mask.flatten(), 0, format='csr') for mask in masks]\n",
    "            phi = sparse_hstack(diagonal_masks).tocsr()\n",
    "            g = 0  # you can add noise here if you want\n",
    "            y = phi @ x + g\n",
    "            flattened_mask_sum = np.sum(masks, axis=0).flatten()\n",
    "            forward_compressed_frame = (y / np.maximum(flattened_mask_sum, 1e-8)).reshape(H, W)\n",
    "\n",
    "            # Save forward model components\n",
    "            y_list.append(y)\n",
    "            phi_list.append(phi)\n",
    "            x_list.append(x)\n",
    "            g_list.append(g)\n",
    "            forward_compressed_frame_list.append(forward_compressed_frame)\n",
    "            blocks.append(block)\n",
    "\n",
    "            # Final output with safety division\n",
    "            compressed_frame = masked_sum / np.maximum(np.sum(masks, axis=0), 1e-8)\n",
    "            mask_sum = np.sum(masks, axis=0)\n",
    "            compressed_frame[mask_sum == 0] = np.nan\n",
    "\n",
    "\n",
    "            compressed.append(compressed_frame)\n",
    "            all_masks.append(masks)\n",
    "\n",
    "            pbar.update(current_block_size)\n",
    "            start_idx = end_idx\n",
    "\n",
    "        # Adjust block times to match output length if needed\n",
    "        num_blocks = len(compressed)\n",
    "        merged_block_times = [times[0] + i * duration for i in range(num_blocks)]\n",
    "\n",
    "    return compressed, blocks, all_masks, y_list, phi_list, x_list, g_list, forward_compressed_frame_list, block_times, merged_block_times\n"
   ]
  },
  {
   "cell_type": "markdown",
   "id": "3426f12c-60eb-4a57-b647-c0a61b17a7ea",
   "metadata": {},
   "source": [
    "# Plotting Functions"
   ]
  },
  {
   "cell_type": "code",
   "execution_count": 4,
   "id": "243e14f8-7f11-4f07-ab0b-999c21f9fa94",
   "metadata": {},
   "outputs": [],
   "source": [
    "#visualize an entire compressed frame \n",
    "def plot_compression(frames, masks, compressed_frame, cmap = 'plasma'):\n",
    "    N, H, W = frames.shape\n",
    "    vmin = np.nanmin(frames)\n",
    "    vmax = np.nanmax(frames)\n",
    "    \n",
    "    fig, axs = plt.subplots(N, 3, figsize = (10, 2.5 * N))\n",
    "\n",
    "    vmin = np.nanmin(frames)\n",
    "    vmax = np.nanmax(frames)\n",
    "\n",
    "    for i in range(N):\n",
    "        im = axs[i,0].imshow(frames[i], cmap = cmap, vmin=vmin, vmax=vmax)\n",
    "        fig.colorbar(im, ax=axs[i, 0], fraction=0.046, pad=0.04, label='Radiance')\n",
    "        axs[i,0].set_title(f'Original Frame {i+1}')\n",
    "        axs[i,0].axis('off')\n",
    "\n",
    "        im = axs[i,1].imshow(masks[i], cmap='gray')\n",
    "        fig.colorbar(im, ax=axs[i, 1], fraction=0.046, pad=0.04)\n",
    "        axs[i,1].set_title(f'Mask {i+1}')\n",
    "        axs[i,1].axis('off')\n",
    "\n",
    "        im = axs[i,2].imshow(frames[i] * masks[i], cmap='plasma',vmin=vmin, vmax=vmax)\n",
    "        fig.colorbar(im, ax=axs[i, 2], fraction=0.046, pad=0.04, label='Radiance')\n",
    "        axs[i,2].set_title(f'Masked Frame')\n",
    "        axs[i,2].axis('off')\n",
    "\n",
    "    plt.show()\n",
    "\n",
    "    vmin = np.min(frames)\n",
    "    vmax = np.max(frames)\n",
    "\n",
    "    visual_frame = compressed_frame.copy()\n",
    "    visual_frame[np.sum(masks, axis=0) == 0] = np.nan\n",
    "\n",
    "\n",
    "    plt.figure(figsize = (4,4))\n",
    "    im  = plt.imshow(visual_frame, cmap=cmap, vmin=vmin, vmax=vmax)\n",
    "    plt.title('Compressed Frame (Normalized)')\n",
    "    plt.colorbar(im, fraction=0.046, pad=0.04, label = 'Radiance')\n",
    "    plt.axis('off')\n",
    "    plt.tight_layout()\n",
    "    plt.show()\n"
   ]
  },
  {
   "cell_type": "code",
   "execution_count": 5,
   "id": "8e597705-cab7-4970-a3ea-629ac1be9a59",
   "metadata": {},
   "outputs": [],
   "source": [
    "# #Time series plotter, old vs new time series. \n",
    "def plot_center_pixel_time_series(frames, compressed_frames, masks, times_compressed, times_original):\n",
    "    import matplotlib.pyplot as plt\n",
    "    import pandas as pd\n",
    "    import numpy as np\n",
    "\n",
    "    T, H, W = frames.shape\n",
    "    center_row = H // 2\n",
    "    center_col = W // 2\n",
    "\n",
    "    compressed_f = np.array(compressed_frames)\n",
    "    original_ts = frames[:, center_row, center_col]\n",
    "    compressed_ts_raw = compressed_f[:, center_row, center_col]\n",
    "\n",
    "    expected_blocks = min(len(compressed_f), len(masks))\n",
    "    compressed_f = compressed_f[:expected_blocks]\n",
    "    masks = masks[:expected_blocks]\n",
    "    times_compressed = times_compressed[:expected_blocks]\n",
    "\n",
    "    # Convert times\n",
    "    original_times = pd.to_datetime(times_original)\n",
    "    compressed_times = pd.to_datetime(times_compressed)\n",
    "\n",
    "    # Mask sum at center\n",
    "    mask_sums = np.array([np.sum(mask[:, center_row, center_col]) for mask in masks])\n",
    "    compressed_ts = np.full(expected_blocks, np.nan, dtype=np.float64)\n",
    "    valid_mask = mask_sums > 0\n",
    "    compressed_ts[valid_mask] = compressed_ts_raw[valid_mask]\n",
    "\n",
    "    # Separate valid and invalid masks\n",
    "    compressed_valid = valid_mask\n",
    "    compressed_invalid = ~valid_mask\n",
    "\n",
    "    print(f\"Compressed blocks: {expected_blocks}\")\n",
    "    if np.any(compressed_invalid):\n",
    "        print(\"Blocks with zero center mask coverage that need to be fixed:\")\n",
    "        for i in np.where(compressed_invalid)[0]:\n",
    "            print(f\"  Block {i}: {compressed_times[i]}\")\n",
    "\n",
    "    #Original and Compressed Time Series\n",
    "    plt.figure(figsize=(12, 5))\n",
    "    plt.plot(original_times, original_ts, label='Original Time Series', color='gray', alpha=0.4, marker='')\n",
    "    plt.plot(compressed_times[compressed_valid], compressed_ts[compressed_valid], \n",
    "             label='Compressed Time Series', color='purple', marker='')\n",
    "    plt.title(\"Time Series at Observed Center\")\n",
    "    plt.xlabel(\"Time\")\n",
    "    plt.ylabel(\"Radiance\")\n",
    "    plt.xticks(rotation=45)\n",
    "    plt.grid(True)\n",
    "    plt.legend()\n",
    "    plt.tight_layout()\n",
    "    plt.show()"
   ]
  },
  {
   "cell_type": "code",
   "execution_count": 6,
   "id": "1c6ecedd-e5b6-4efa-be40-c741332dd133",
   "metadata": {
    "scrolled": true
   },
   "outputs": [
    {
     "name": "stdout",
     "output_type": "stream",
     "text": [
      "⚠️ Large time gap: 3:00:00 at index 2\n"
     ]
    },
    {
     "name": "stderr",
     "output_type": "stream",
     "text": [
      "Compressing Time-Based Blocks: 432it [00:00, 4156.28it/s]"
     ]
    },
    {
     "name": "stdout",
     "output_type": "stream",
     "text": [
      "Compressing block 0 with 72 frames\n",
      "Compressing block 1 with 72 frames\n",
      "Compressing block 2 with 72 frames\n",
      "Compressing block 3 with 72 frames\n",
      "Compressing block 4 with 72 frames\n",
      "Compressing block 5 with 72 frames\n",
      "Compressing block 6 with 72 frames\n",
      "Compressing block 7 with 72 frames\n",
      "Compressing block 8 with 72 frames\n",
      "Compressing block 9 with 72 frames\n",
      "Compressing block 10 with 72 frames\n",
      "Compressing block 11 with 72 frames\n"
     ]
    },
    {
     "name": "stderr",
     "output_type": "stream",
     "text": [
      "Compressing Time-Based Blocks: 1440it [00:00, 4448.27it/s]"
     ]
    },
    {
     "name": "stdout",
     "output_type": "stream",
     "text": [
      "Compressing block 12 with 72 frames\n",
      "Compressing block 13 with 72 frames\n",
      "Compressing block 14 with 72 frames\n",
      "Compressing block 15 with 72 frames\n",
      "Compressing block 16 with 72 frames\n",
      "Compressing block 17 with 72 frames\n",
      "Compressing block 18 with 72 frames\n",
      "Compressing block 19 with 72 frames\n",
      "Compressing block 20 with 72 frames\n",
      "Compressing block 21 with 72 frames\n",
      "Compressing block 22 with 72 frames\n",
      "Compressing block 23 with 72 frames\n",
      "Compressing block 24 with 72 frames\n"
     ]
    },
    {
     "name": "stderr",
     "output_type": "stream",
     "text": [
      "Compressing Time-Based Blocks: 2448it [00:00, 4548.16it/s]"
     ]
    },
    {
     "name": "stdout",
     "output_type": "stream",
     "text": [
      "Compressing block 25 with 72 frames\n",
      "Compressing block 26 with 72 frames\n",
      "Compressing block 27 with 72 frames\n",
      "Compressing block 28 with 72 frames\n",
      "Compressing block 29 with 72 frames\n",
      "Compressing block 30 with 72 frames\n",
      "Compressing block 31 with 72 frames\n",
      "Compressing block 32 with 72 frames\n",
      "Compressing block 33 with 72 frames\n",
      "Compressing block 34 with 72 frames\n",
      "Compressing block 35 with 72 frames\n",
      "Compressing block 36 with 72 frames\n",
      "Compressing block 37 with 72 frames\n"
     ]
    },
    {
     "name": "stderr",
     "output_type": "stream",
     "text": [
      "Compressing Time-Based Blocks: 3456it [00:00, 4550.26it/s]"
     ]
    },
    {
     "name": "stdout",
     "output_type": "stream",
     "text": [
      "Compressing block 38 with 72 frames\n",
      "Compressing block 39 with 72 frames\n",
      "Compressing block 40 with 72 frames\n",
      "Compressing block 41 with 72 frames\n",
      "Compressing block 42 with 72 frames\n",
      "Compressing block 43 with 72 frames\n",
      "Compressing block 44 with 72 frames\n",
      "Compressing block 45 with 72 frames\n",
      "Compressing block 46 with 72 frames\n",
      "Compressing block 47 with 72 frames\n",
      "Compressing block 48 with 72 frames\n",
      "Compressing block 49 with 72 frames\n",
      "Compressing block 50 with 72 frames\n"
     ]
    },
    {
     "name": "stderr",
     "output_type": "stream",
     "text": [
      "Compressing Time-Based Blocks: 3960it [00:00, 4425.71it/s]"
     ]
    },
    {
     "name": "stdout",
     "output_type": "stream",
     "text": [
      "Compressing block 51 with 72 frames\n",
      "Compressing block 52 with 72 frames\n",
      "Compressing block 53 with 72 frames\n",
      "Compressing block 54 with 72 frames\n",
      "Compressing block 55 with 72 frames\n",
      "Compressing block 56 with 72 frames\n",
      "Compressing block 57 with 72 frames\n",
      "Compressing block 58 with 72 frames\n",
      "Compressing block 59 with 72 frames\n",
      "Compressing block 60 with 72 frames\n"
     ]
    },
    {
     "name": "stderr",
     "output_type": "stream",
     "text": [
      "Compressing Time-Based Blocks: 4464it [00:01, 4250.82it/s]"
     ]
    },
    {
     "name": "stdout",
     "output_type": "stream",
     "text": [
      "Compressing block 61 with 72 frames\n",
      "Compressing block 62 with 72 frames\n"
     ]
    },
    {
     "name": "stderr",
     "output_type": "stream",
     "text": [
      "Compressing Time-Based Blocks: 4968it [00:01, 4335.47it/s]"
     ]
    },
    {
     "name": "stdout",
     "output_type": "stream",
     "text": [
      "Compressing block 63 with 72 frames\n",
      "Compressing block 64 with 72 frames\n",
      "Compressing block 65 with 72 frames\n",
      "Compressing block 66 with 72 frames\n",
      "Compressing block 67 with 72 frames\n",
      "Compressing block 68 with 72 frames\n",
      "Compressing block 69 with 72 frames\n",
      "Compressing block 70 with 72 frames\n",
      "Compressing block 71 with 72 frames\n",
      "Compressing block 72 with 72 frames\n",
      "Compressing block 73 with 72 frames\n",
      "Compressing block 74 with 72 frames\n",
      "Compressing block 75 with 72 frames\n"
     ]
    },
    {
     "name": "stderr",
     "output_type": "stream",
     "text": [
      "Compressing Time-Based Blocks: 5976it [00:01, 4496.24it/s]"
     ]
    },
    {
     "name": "stdout",
     "output_type": "stream",
     "text": [
      "Compressing block 76 with 72 frames\n",
      "Compressing block 77 with 72 frames\n",
      "Compressing block 78 with 72 frames\n",
      "Compressing block 79 with 72 frames\n",
      "Compressing block 80 with 72 frames\n",
      "Compressing block 81 with 72 frames\n",
      "Compressing block 82 with 72 frames\n",
      "Compressing block 83 with 72 frames\n",
      "Compressing block 84 with 72 frames\n",
      "Compressing block 85 with 72 frames\n",
      "Compressing block 86 with 72 frames\n",
      "Compressing block 87 with 72 frames\n",
      "Compressing block 88 with 72 frames\n",
      "Compressing block 89 with 72 frames\n"
     ]
    },
    {
     "name": "stderr",
     "output_type": "stream",
     "text": [
      "Compressing Time-Based Blocks: 6984it [00:01, 4573.75it/s]"
     ]
    },
    {
     "name": "stdout",
     "output_type": "stream",
     "text": [
      "Compressing block 90 with 72 frames\n",
      "Compressing block 91 with 72 frames\n",
      "Compressing block 92 with 72 frames\n",
      "Compressing block 93 with 72 frames\n",
      "Compressing block 94 with 72 frames\n",
      "Compressing block 95 with 72 frames\n",
      "Compressing block 96 with 72 frames\n",
      "Compressing block 97 with 72 frames\n",
      "Compressing block 98 with 72 frames\n",
      "Compressing block 99 with 72 frames\n",
      "Compressing block 100 with 72 frames\n",
      "Compressing block 101 with 72 frames\n",
      "Compressing block 102 with 72 frames\n"
     ]
    },
    {
     "name": "stderr",
     "output_type": "stream",
     "text": [
      "Compressing Time-Based Blocks: 7992it [00:01, 4573.49it/s]"
     ]
    },
    {
     "name": "stdout",
     "output_type": "stream",
     "text": [
      "Compressing block 103 with 72 frames\n",
      "Compressing block 104 with 72 frames\n",
      "Compressing block 105 with 72 frames\n",
      "Compressing block 106 with 72 frames\n",
      "Compressing block 107 with 72 frames\n",
      "Compressing block 108 with 72 frames\n",
      "Compressing block 109 with 72 frames\n",
      "Compressing block 110 with 72 frames\n",
      "Compressing block 111 with 72 frames\n",
      "Compressing block 112 with 72 frames\n",
      "Compressing block 113 with 72 frames\n",
      "Compressing block 114 with 72 frames\n",
      "Compressing block 115 with 72 frames\n"
     ]
    },
    {
     "name": "stderr",
     "output_type": "stream",
     "text": [
      "Compressing Time-Based Blocks: 9000it [00:02, 4611.59it/s]"
     ]
    },
    {
     "name": "stdout",
     "output_type": "stream",
     "text": [
      "Compressing block 116 with 72 frames\n",
      "Compressing block 117 with 72 frames\n",
      "Compressing block 118 with 72 frames\n",
      "Compressing block 119 with 72 frames\n",
      "Compressing block 120 with 72 frames\n",
      "Compressing block 121 with 72 frames\n",
      "Compressing block 122 with 72 frames\n",
      "Compressing block 123 with 72 frames\n",
      "Compressing block 124 with 72 frames\n",
      "Compressing block 125 with 72 frames\n",
      "Compressing block 126 with 72 frames\n",
      "Compressing block 127 with 72 frames\n",
      "Compressing block 128 with 72 frames\n",
      "Compressing block 129 with 72 frames\n"
     ]
    },
    {
     "name": "stderr",
     "output_type": "stream",
     "text": [
      "Compressing Time-Based Blocks: 9504it [00:02, 4547.53it/s]"
     ]
    },
    {
     "name": "stdout",
     "output_type": "stream",
     "text": [
      "Compressing block 130 with 72 frames\n",
      "Compressing block 131 with 72 frames\n",
      "Compressing block 132 with 72 frames\n",
      "Compressing block 133 with 72 frames\n",
      "Compressing block 134 with 72 frames\n",
      "Compressing block 135 with 72 frames\n",
      "Compressing block 136 with 72 frames\n",
      "Compressing block 137 with 72 frames\n",
      "Compressing block 138 with 72 frames\n"
     ]
    },
    {
     "name": "stderr",
     "output_type": "stream",
     "text": [
      "Compressing Time-Based Blocks: 10008it [00:02, 4129.46it/s]"
     ]
    },
    {
     "name": "stdout",
     "output_type": "stream",
     "text": [
      "Compressing block 139 with 72 frames\n"
     ]
    },
    {
     "name": "stderr",
     "output_type": "stream",
     "text": [
      "Compressing Time-Based Blocks: 10512it [00:02, 4277.95it/s]"
     ]
    },
    {
     "name": "stdout",
     "output_type": "stream",
     "text": [
      "Compressing block 140 with 72 frames\n",
      "Compressing block 141 with 72 frames\n",
      "Compressing block 142 with 72 frames\n",
      "Compressing block 143 with 72 frames\n",
      "Compressing block 144 with 72 frames\n",
      "Compressing block 145 with 72 frames\n",
      "Compressing block 146 with 72 frames\n",
      "Compressing block 147 with 72 frames\n",
      "Compressing block 148 with 72 frames\n",
      "Compressing block 149 with 72 frames\n",
      "Compressing block 150 with 72 frames\n",
      "Compressing block 151 with 72 frames\n",
      "Compressing block 152 with 72 frames\n"
     ]
    },
    {
     "name": "stderr",
     "output_type": "stream",
     "text": [
      "Compressing Time-Based Blocks: 11016it [00:02, 4413.07it/s]"
     ]
    },
    {
     "name": "stdout",
     "output_type": "stream",
     "text": [
      "Compressing block 153 with 72 frames\n"
     ]
    },
    {
     "name": "stderr",
     "output_type": "stream",
     "text": [
      "Compressing Time-Based Blocks: 11520it [00:02, 4448.68it/s]"
     ]
    },
    {
     "name": "stdout",
     "output_type": "stream",
     "text": [
      "Compressing block 154 with 72 frames\n",
      "Compressing block 155 with 72 frames\n",
      "Compressing block 156 with 72 frames\n",
      "Compressing block 157 with 72 frames\n",
      "Compressing block 158 with 72 frames\n",
      "Compressing block 159 with 72 frames\n",
      "Compressing block 160 with 72 frames\n",
      "Compressing block 161 with 72 frames\n",
      "Compressing block 162 with 72 frames\n",
      "Compressing block 163 with 72 frames\n",
      "Compressing block 164 with 72 frames\n"
     ]
    },
    {
     "name": "stderr",
     "output_type": "stream",
     "text": [
      "Compressing Time-Based Blocks: 12528it [00:02, 4176.52it/s]"
     ]
    },
    {
     "name": "stdout",
     "output_type": "stream",
     "text": [
      "Compressing block 165 with 72 frames\n",
      "Compressing block 166 with 72 frames\n",
      "Compressing block 167 with 72 frames\n",
      "Compressing block 168 with 72 frames\n",
      "Compressing block 169 with 72 frames\n",
      "Compressing block 170 with 72 frames\n",
      "Compressing block 171 with 72 frames\n",
      "Compressing block 172 with 72 frames\n",
      "Compressing block 173 with 72 frames\n",
      "Compressing block 174 with 72 frames\n",
      "Compressing block 175 with 72 frames\n",
      "Compressing block 176 with 72 frames\n",
      "Compressing block 177 with 72 frames\n",
      "Compressing block 178 with 72 frames\n"
     ]
    },
    {
     "name": "stderr",
     "output_type": "stream",
     "text": [
      "Compressing Time-Based Blocks: 13536it [00:03, 4402.25it/s]"
     ]
    },
    {
     "name": "stdout",
     "output_type": "stream",
     "text": [
      "Compressing block 179 with 72 frames\n",
      "Compressing block 180 with 72 frames\n",
      "Compressing block 181 with 72 frames\n",
      "Compressing block 182 with 72 frames\n",
      "Compressing block 183 with 72 frames\n",
      "Compressing block 184 with 72 frames\n",
      "Compressing block 185 with 72 frames\n",
      "Compressing block 186 with 72 frames\n",
      "Compressing block 187 with 72 frames\n",
      "Compressing block 188 with 72 frames\n",
      "Compressing block 189 with 72 frames\n",
      "Compressing block 190 with 72 frames\n",
      "Compressing block 191 with 72 frames\n",
      "Compressing block 192 with 72 frames\n"
     ]
    },
    {
     "name": "stderr",
     "output_type": "stream",
     "text": [
      "Compressing Time-Based Blocks: 14391it [00:03, 4418.70it/s]\n"
     ]
    },
    {
     "name": "stdout",
     "output_type": "stream",
     "text": [
      "Compressing block 193 with 72 frames\n",
      "Compressing block 194 with 72 frames\n",
      "Compressing block 195 with 72 frames\n",
      "Compressing block 196 with 72 frames\n",
      "Compressing block 197 with 72 frames\n",
      "Compressing block 198 with 72 frames\n",
      "Compressing block 199 with 63 frames\n",
      "Compressed blocks: 200\n"
     ]
    },
    {
     "data": {
      "image/png": "[encoded data removed]",
      "text/plain": [
       "<Figure size 1200x500 with 1 Axes>"
      ]
     },
     "metadata": {},
     "output_type": "display_data"
    },
    {
     "name": "stdout",
     "output_type": "stream",
     "text": [
      "Block 0: 72 frames\n",
      "Block 1: 72 frames\n",
      "Block 2: 72 frames\n",
      "Block 3: 72 frames\n",
      "Block 4: 72 frames\n",
      "Block 5: 72 frames\n",
      "Block 6: 72 frames\n",
      "Block 7: 72 frames\n",
      "Block 8: 72 frames\n",
      "Block 9: 72 frames\n",
      "Block 10: 72 frames\n",
      "Block 11: 72 frames\n",
      "Block 12: 72 frames\n",
      "Block 13: 72 frames\n",
      "Block 14: 72 frames\n",
      "Block 15: 72 frames\n",
      "Block 16: 72 frames\n",
      "Block 17: 72 frames\n",
      "Block 18: 72 frames\n",
      "Block 19: 72 frames\n",
      "Block 20: 72 frames\n",
      "Block 21: 72 frames\n",
      "Block 22: 72 frames\n",
      "Block 23: 72 frames\n",
      "Block 24: 72 frames\n",
      "Block 25: 72 frames\n",
      "Block 26: 72 frames\n",
      "Block 27: 72 frames\n",
      "Block 28: 72 frames\n",
      "Block 29: 72 frames\n",
      "Block 30: 72 frames\n",
      "Block 31: 72 frames\n",
      "Block 32: 72 frames\n",
      "Block 33: 72 frames\n",
      "Block 34: 72 frames\n",
      "Block 35: 72 frames\n",
      "Block 36: 72 frames\n",
      "Block 37: 72 frames\n",
      "Block 38: 72 frames\n",
      "Block 39: 72 frames\n",
      "Block 40: 72 frames\n",
      "Block 41: 72 frames\n",
      "Block 42: 72 frames\n",
      "Block 43: 72 frames\n",
      "Block 44: 72 frames\n",
      "Block 45: 72 frames\n",
      "Block 46: 72 frames\n",
      "Block 47: 72 frames\n",
      "Block 48: 72 frames\n",
      "Block 49: 72 frames\n",
      "Block 50: 72 frames\n",
      "Block 51: 72 frames\n",
      "Block 52: 72 frames\n",
      "Block 53: 72 frames\n",
      "Block 54: 72 frames\n",
      "Block 55: 72 frames\n",
      "Block 56: 72 frames\n",
      "Block 57: 72 frames\n",
      "Block 58: 72 frames\n",
      "Block 59: 72 frames\n",
      "Block 60: 72 frames\n",
      "Block 61: 72 frames\n",
      "Block 62: 72 frames\n",
      "Block 63: 72 frames\n",
      "Block 64: 72 frames\n",
      "Block 65: 72 frames\n",
      "Block 66: 72 frames\n",
      "Block 67: 72 frames\n",
      "Block 68: 72 frames\n",
      "Block 69: 72 frames\n",
      "Block 70: 72 frames\n",
      "Block 71: 72 frames\n",
      "Block 72: 72 frames\n",
      "Block 73: 72 frames\n",
      "Block 74: 72 frames\n",
      "Block 75: 72 frames\n",
      "Block 76: 72 frames\n",
      "Block 77: 72 frames\n",
      "Block 78: 72 frames\n",
      "Block 79: 72 frames\n",
      "Block 80: 72 frames\n",
      "Block 81: 72 frames\n",
      "Block 82: 72 frames\n",
      "Block 83: 72 frames\n",
      "Block 84: 72 frames\n",
      "Block 85: 72 frames\n",
      "Block 86: 72 frames\n",
      "Block 87: 72 frames\n",
      "Block 88: 72 frames\n",
      "Block 89: 72 frames\n",
      "Block 90: 72 frames\n",
      "Block 91: 72 frames\n",
      "Block 92: 72 frames\n",
      "Block 93: 72 frames\n",
      "Block 94: 72 frames\n",
      "Block 95: 72 frames\n",
      "Block 96: 72 frames\n",
      "Block 97: 72 frames\n",
      "Block 98: 72 frames\n",
      "Block 99: 72 frames\n",
      "Block 100: 72 frames\n",
      "Block 101: 72 frames\n",
      "Block 102: 72 frames\n",
      "Block 103: 72 frames\n",
      "Block 104: 72 frames\n",
      "Block 105: 72 frames\n",
      "Block 106: 72 frames\n",
      "Block 107: 72 frames\n",
      "Block 108: 72 frames\n",
      "Block 109: 72 frames\n",
      "Block 110: 72 frames\n",
      "Block 111: 72 frames\n",
      "Block 112: 72 frames\n",
      "Block 113: 72 frames\n",
      "Block 114: 72 frames\n",
      "Block 115: 72 frames\n",
      "Block 116: 72 frames\n",
      "Block 117: 72 frames\n",
      "Block 118: 72 frames\n",
      "Block 119: 72 frames\n",
      "Block 120: 72 frames\n",
      "Block 121: 72 frames\n",
      "Block 122: 72 frames\n",
      "Block 123: 72 frames\n",
      "Block 124: 72 frames\n",
      "Block 125: 72 frames\n",
      "Block 126: 72 frames\n",
      "Block 127: 72 frames\n",
      "Block 128: 72 frames\n",
      "Block 129: 72 frames\n",
      "Block 130: 72 frames\n",
      "Block 131: 72 frames\n",
      "Block 132: 72 frames\n",
      "Block 133: 72 frames\n",
      "Block 134: 72 frames\n",
      "Block 135: 72 frames\n",
      "Block 136: 72 frames\n",
      "Block 137: 72 frames\n",
      "Block 138: 72 frames\n",
      "Block 139: 72 frames\n",
      "Block 140: 72 frames\n",
      "Block 141: 72 frames\n",
      "Block 142: 72 frames\n",
      "Block 143: 72 frames\n",
      "Block 144: 72 frames\n",
      "Block 145: 72 frames\n",
      "Block 146: 72 frames\n",
      "Block 147: 72 frames\n",
      "Block 148: 72 frames\n",
      "Block 149: 72 frames\n",
      "Block 150: 72 frames\n",
      "Block 151: 72 frames\n",
      "Block 152: 72 frames\n",
      "Block 153: 72 frames\n",
      "Block 154: 72 frames\n",
      "Block 155: 72 frames\n",
      "Block 156: 72 frames\n",
      "Block 157: 72 frames\n",
      "Block 158: 72 frames\n",
      "Block 159: 72 frames\n",
      "Block 160: 72 frames\n",
      "Block 161: 72 frames\n",
      "Block 162: 72 frames\n",
      "Block 163: 72 frames\n",
      "Block 164: 72 frames\n",
      "Block 165: 72 frames\n",
      "Block 166: 72 frames\n",
      "Block 167: 72 frames\n",
      "Block 168: 72 frames\n",
      "Block 169: 72 frames\n",
      "Block 170: 72 frames\n",
      "Block 171: 72 frames\n",
      "Block 172: 72 frames\n",
      "Block 173: 72 frames\n",
      "Block 174: 72 frames\n",
      "Block 175: 72 frames\n",
      "Block 176: 72 frames\n",
      "Block 177: 72 frames\n",
      "Block 178: 72 frames\n",
      "Block 179: 72 frames\n",
      "Block 180: 72 frames\n",
      "Block 181: 72 frames\n",
      "Block 182: 72 frames\n",
      "Block 183: 72 frames\n",
      "Block 184: 72 frames\n",
      "Block 185: 72 frames\n",
      "Block 186: 72 frames\n",
      "Block 187: 72 frames\n",
      "Block 188: 72 frames\n",
      "Block 189: 72 frames\n",
      "Block 190: 72 frames\n",
      "Block 191: 72 frames\n",
      "Block 192: 72 frames\n",
      "Block 193: 72 frames\n",
      "Block 194: 72 frames\n",
      "Block 195: 72 frames\n",
      "Block 196: 72 frames\n",
      "Block 197: 72 frames\n",
      "Block 198: 72 frames\n",
      "Block 199: 63 frames\n"
     ]
    }
   ],
   "source": [
    "duration = timedelta(hours=12)\n",
    "filepath = 'time_series_cleaned_bos/C07_time_series.nc' #Put filepath here\n",
    "\n",
    "\n",
    "data, initial_times = load_nc_timeseries(filepath)\n",
    "frames, times = interpolate_and_trim_frames(data, initial_times, duration, max_gap=timedelta(minutes=12))\n",
    "N, H, W = frames.shape\n",
    "compressed_frames, blocks, masks, y, phi, x, g, forward_compressed_frames, block_times, merged_block_times = compress_frames_by_time(frames, times, duration=duration, p=0.5)\n",
    "plot_center_pixel_time_series(frames, compressed_frames, masks=masks, times_compressed=block_times, times_original=times)\n",
    "\n",
    "#Quick check to make all blocks have the same number of frames\n",
    "for i, block in enumerate(blocks):\n",
    "    print(f\"Block {i}: {block.shape[0]} frames\")"
   ]
  },
  {
   "cell_type": "markdown",
   "id": "499e7e7e-0680-48ed-90ee-0b3074a1fa32",
   "metadata": {},
   "source": [
    "## Process and Compress all time series"
   ]
  },
  {
   "cell_type": "code",
   "execution_count": 12,
   "id": "8f29162c-e543-4b08-b345-90b88f0541d1",
   "metadata": {},
   "outputs": [],
   "source": [
    "def process_and_save_compressed_blocks(filepath, output_dir,location, band, duration=timedelta(hours=12), frame_spacing=timedelta(minutes=10), max_gap=timedelta(minutes=11.5), p=0.5):\n",
    "    os.makedirs(output_dir, exist_ok=True)\n",
    "    data, initial_times = load_nc_timeseries(filepath)\n",
    "    print(f\"Starting compression for {filepath}\")\n",
    "    print(f\"Loaded {data.shape[0]} frames\")\n",
    "    print(f\"First time: {initial_times[0]}, Last time: {initial_times[-1]}\")\n",
    "\n",
    "    # Check gaps\n",
    "    gaps = np.diff(initial_times)\n",
    "    print(f\"Largest time gap: {max(gaps)}\")\n",
    "    print(f\"Smallest time gap: {min(gaps)}\")\n",
    "\n",
    "    # Optional: show where the big gap is\n",
    "    for i, g in enumerate(gaps):\n",
    "        if g > timedelta(hours=2):\n",
    "            print(f\"Large gap at index {i}: {g} between {initial_times[i]} and {initial_times[i+1]}\")\n",
    "\n",
    "\n",
    "    frames, times = interpolate_and_trim_frames(data, initial_times, duration, frame_spacing=frame_spacing, max_gap=max_gap)\n",
    "\n",
    "    print(f\"Interpolated to {frames.shape[0]} frames\")\n",
    "    T, H, W = frames.shape\n",
    "    print(f\"Got {frames.shape[0]} frames after interpolation\")\n",
    "\n",
    "    #Compress frames:    \n",
    "    compressed_frames, blocks, masks, y_list, phi_list, x_list, g_list, forward_compressed_frames, block_times, merged_block_times = compress_frames_by_time(frames, times, duration=duration, p=0.5)\n",
    "\n",
    "    for i, (y, phi, x) in enumerate(zip(y_list, masks, blocks)):\n",
    "        compressed_frame = y.reshape(H, W)\n",
    "        save_path = os.path.join(output_dir, f\"{location}_band_{band:02d}_block_{i:04d}.npz\")\n",
    "        np.savez_compressed(save_path, y=compressed_frame, phi=phi, x=x)\n",
    "\n",
    "    return len(y_list), output_dir\n",
    "\n",
    "#Produce compression for multiple bands across multiple locations\n",
    "def process_multiple_locations_and_bands(base_path, locations, bands, save_root, duration=timedelta(hours=12), frame_spacing=timedelta(minutes=10), max_gap=timedelta(minutes=12), p=0.5):\n",
    "    summary = []\n",
    "\n",
    "    for loc in locations:\n",
    "        for band in bands:\n",
    "            filename = f\"C{band:02d}_time_series.nc\"\n",
    "            filepath = os.path.join(base_path, f'time_series_cleaned_{loc}', filename)\n",
    "            output_dir = os.path.join(save_root, f'band_{band:02d}')\n",
    "            os.makedirs(output_dir, exist_ok=True)\n",
    "            print(f\"RAM usage: {psutil.Process().memory_info().rss / 1024**2:.2f} MB\")\n",
    "\n",
    "            try:\n",
    "                count, path = process_and_save_compressed_blocks(\n",
    "                    filepath, output_dir,loc, band,\n",
    "                    duration=duration, frame_spacing=frame_spacing, max_gap=max_gap, p=p)\n",
    "                summary.append((loc, band, count))\n",
    "                print(f\"Saved {count} blocks for {loc}, band {band:02d}\")\n",
    "            except Exception as e:\n",
    "                print(f\"Skipped {loc}, band {band:02d} due to error: {e}\")\n",
    "                summary.append((loc, band, 0))\n",
    "\n",
    "    return summary\n",
    "    \n",
    "    "
   ]
  },
  {
   "cell_type": "code",
   "execution_count": 13,
   "id": "aec5664b-b245-40f5-bf04-4116357b0ceb",
   "metadata": {
    "scrolled": true
   },
   "outputs": [
    {
     "name": "stdout",
     "output_type": "stream",
     "text": [
      "RAM usage: 1190.16 MB\n",
      "Starting compression for ./time_series_cleaned_la2/C01_time_series.nc\n",
      "Loaded 14327 frames\n",
      "First time: 2024-09-01 00:00:20, Last time: 2024-12-09 23:50:20\n",
      "Largest time gap: 4:10:00\n",
      "Smallest time gap: 0:00:00\n",
      "⚠️ Large gap at index 4556: 4:10:00 between 2024-10-02 11:50:20 and 2024-10-02 16:00:20\n",
      "⚠️ Large gap at index 10891: 2:50:00 between 2024-11-15 17:40:19 and 2024-11-15 20:30:19\n",
      "⚠️ Large gap at index 13389: 3:10:00 between 2024-12-03 07:00:20 and 2024-12-03 10:10:20\n",
      "→ Interpolated to 14311 frames\n",
      "Got 14311 frames after interpolation\n"
     ]
    },
    {
     "name": "stderr",
     "output_type": "stream",
     "text": [
      "Compressing Time-Based Blocks: 0it [00:00, ?it/s]"
     ]
    },
    {
     "name": "stdout",
     "output_type": "stream",
     "text": [
      "Compressing block 0 with 72 frames\n",
      "Compressing block 1 with 72 frames\n",
      "Compressing block 2 with 72 frames\n"
     ]
    },
    {
     "name": "stderr",
     "output_type": "stream",
     "text": [
      "Compressing Time-Based Blocks: 216it [00:00, 1594.74it/s]"
     ]
    },
    {
     "name": "stdout",
     "output_type": "stream",
     "text": [
      "Compressing block 3 with 72 frames\n",
      "Compressing block 4 with 72 frames\n"
     ]
    },
    {
     "name": "stderr",
     "output_type": "stream",
     "text": [
      "Compressing Time-Based Blocks: 432it [00:00, 1596.13it/s]"
     ]
    },
    {
     "name": "stdout",
     "output_type": "stream",
     "text": [
      "Compressing block 5 with 72 frames\n",
      "Compressing block 6 with 72 frames\n",
      "Compressing block 7 with 72 frames\n"
     ]
    },
    {
     "name": "stderr",
     "output_type": "stream",
     "text": [
      "Compressing Time-Based Blocks: 648it [00:00, 1599.38it/s]"
     ]
    },
    {
     "name": "stdout",
     "output_type": "stream",
     "text": [
      "Compressing block 8 with 72 frames\n",
      "Compressing block 9 with 72 frames\n"
     ]
    },
    {
     "name": "stderr",
     "output_type": "stream",
     "text": [
      "Compressing Time-Based Blocks: 864it [00:00, 1591.77it/s]"
     ]
    },
    {
     "name": "stdout",
     "output_type": "stream",
     "text": [
      "Compressing block 10 with 72 frames\n",
      "Compressing block 11 with 72 frames\n",
      "Compressing block 12 with 72 frames\n",
      "Compressing block 13 with 72 frames\n",
      "Compressing block 14 with 72 frames\n"
     ]
    },
    {
     "name": "stderr",
     "output_type": "stream",
     "text": [
      "Compressing Time-Based Blocks: 1080it [00:00, 1560.51it/s]"
     ]
    },
    {
     "name": "stdout",
     "output_type": "stream",
     "text": [
      "Compressing block 15 with 72 frames\n",
      "Compressing block 16 with 72 frames\n"
     ]
    },
    {
     "name": "stderr",
     "output_type": "stream",
     "text": [
      "Compressing Time-Based Blocks: 1296it [00:00, 1486.47it/s]"
     ]
    },
    {
     "name": "stdout",
     "output_type": "stream",
     "text": [
      "Compressing block 17 with 72 frames\n",
      "Compressing block 18 with 72 frames\n"
     ]
    },
    {
     "name": "stderr",
     "output_type": "stream",
     "text": [
      "Compressing Time-Based Blocks: 1512it [00:00, 1489.36it/s]"
     ]
    },
    {
     "name": "stdout",
     "output_type": "stream",
     "text": [
      "Compressing block 19 with 72 frames\n",
      "Compressing block 20 with 72 frames\n",
      "Compressing block 21 with 72 frames\n",
      "Compressing block 22 with 72 frames\n",
      "Compressing block 23 with 72 frames\n"
     ]
    },
    {
     "name": "stderr",
     "output_type": "stream",
     "text": [
      "Compressing Time-Based Blocks: 1728it [00:01, 1483.99it/s]"
     ]
    },
    {
     "name": "stdout",
     "output_type": "stream",
     "text": [
      "Compressing block 24 with 72 frames\n",
      "Compressing block 25 with 72 frames\n",
      "Compressing block 26 with 72 frames\n"
     ]
    },
    {
     "name": "stderr",
     "output_type": "stream",
     "text": [
      "Compressing Time-Based Blocks: 1944it [00:01, 1529.64it/s]"
     ]
    },
    {
     "name": "stdout",
     "output_type": "stream",
     "text": [
      "Compressing block 27 with 72 frames\n",
      "Compressing block 28 with 72 frames\n"
     ]
    },
    {
     "name": "stderr",
     "output_type": "stream",
     "text": [
      "Compressing Time-Based Blocks: 2160it [00:01, 1557.35it/s]"
     ]
    },
    {
     "name": "stdout",
     "output_type": "stream",
     "text": [
      "Compressing block 29 with 72 frames\n",
      "Compressing block 30 with 72 frames\n",
      "Compressing block 31 with 72 frames\n"
     ]
    },
    {
     "name": "stderr",
     "output_type": "stream",
     "text": [
      "Compressing Time-Based Blocks: 2376it [00:01, 1573.22it/s]"
     ]
    },
    {
     "name": "stdout",
     "output_type": "stream",
     "text": [
      "Compressing block 32 with 72 frames\n",
      "Compressing block 33 with 72 frames\n",
      "Compressing block 34 with 72 frames\n",
      "Compressing block 35 with 72 frames\n"
     ]
    },
    {
     "name": "stderr",
     "output_type": "stream",
     "text": [
      "Compressing Time-Based Blocks: 2592it [00:01, 1500.74it/s]"
     ]
    },
    {
     "name": "stdout",
     "output_type": "stream",
     "text": [
      "Compressing block 36 with 72 frames\n",
      "Compressing block 37 with 72 frames\n",
      "Compressing block 38 with 72 frames\n"
     ]
    },
    {
     "name": "stderr",
     "output_type": "stream",
     "text": [
      "Compressing Time-Based Blocks: 2808it [00:01, 1504.65it/s]"
     ]
    },
    {
     "name": "stdout",
     "output_type": "stream",
     "text": [
      "Compressing block 39 with 72 frames\n",
      "Compressing block 40 with 72 frames\n"
     ]
    },
    {
     "name": "stderr",
     "output_type": "stream",
     "text": [
      "Compressing Time-Based Blocks: 3024it [00:01, 1543.50it/s]"
     ]
    },
    {
     "name": "stdout",
     "output_type": "stream",
     "text": [
      "Compressing block 41 with 72 frames\n",
      "Compressing block 42 with 72 frames\n",
      "Compressing block 43 with 72 frames\n"
     ]
    },
    {
     "name": "stderr",
     "output_type": "stream",
     "text": [
      "Compressing Time-Based Blocks: 3240it [00:02, 1495.76it/s]"
     ]
    },
    {
     "name": "stdout",
     "output_type": "stream",
     "text": [
      "Compressing block 44 with 72 frames\n",
      "Compressing block 45 with 72 frames\n"
     ]
    },
    {
     "name": "stderr",
     "output_type": "stream",
     "text": [
      "Compressing Time-Based Blocks: 3456it [00:02, 1529.94it/s]"
     ]
    },
    {
     "name": "stdout",
     "output_type": "stream",
     "text": [
      "Compressing block 46 with 72 frames\n",
      "Compressing block 47 with 72 frames\n",
      "Compressing block 48 with 72 frames\n",
      "Compressing block 49 with 72 frames\n",
      "Compressing block 50 with 72 frames\n"
     ]
    },
    {
     "name": "stderr",
     "output_type": "stream",
     "text": [
      "Compressing Time-Based Blocks: 3672it [00:02, 1565.84it/s]"
     ]
    },
    {
     "name": "stdout",
     "output_type": "stream",
     "text": [
      "Compressing block 51 with 72 frames\n",
      "Compressing block 52 with 72 frames\n",
      "Compressing block 53 with 72 frames\n"
     ]
    },
    {
     "name": "stderr",
     "output_type": "stream",
     "text": [
      "Compressing Time-Based Blocks: 3888it [00:02, 1582.43it/s]"
     ]
    },
    {
     "name": "stdout",
     "output_type": "stream",
     "text": [
      "Compressing block 54 with 72 frames\n",
      "Compressing block 55 with 72 frames\n"
     ]
    },
    {
     "name": "stderr",
     "output_type": "stream",
     "text": [
      "Compressing Time-Based Blocks: 4104it [00:02, 1505.36it/s]"
     ]
    },
    {
     "name": "stdout",
     "output_type": "stream",
     "text": [
      "Compressing block 56 with 72 frames\n",
      "Compressing block 57 with 72 frames\n",
      "Compressing block 58 with 72 frames\n",
      "Compressing block 59 with 72 frames\n"
     ]
    },
    {
     "name": "stderr",
     "output_type": "stream",
     "text": [
      "Compressing Time-Based Blocks: 4320it [00:02, 1466.32it/s]"
     ]
    },
    {
     "name": "stdout",
     "output_type": "stream",
     "text": [
      "Compressing block 60 with 72 frames\n",
      "Compressing block 61 with 72 frames\n",
      "Compressing block 62 with 70 frames\n"
     ]
    },
    {
     "name": "stderr",
     "output_type": "stream",
     "text": [
      "Compressing Time-Based Blocks: 4534it [00:02, 1493.89it/s]"
     ]
    },
    {
     "name": "stdout",
     "output_type": "stream",
     "text": [
      "Compressing block 63 with 72 frames\n",
      "Compressing block 64 with 72 frames\n"
     ]
    },
    {
     "name": "stderr",
     "output_type": "stream",
     "text": [
      "Compressing Time-Based Blocks: 4750it [00:03, 1536.57it/s]"
     ]
    },
    {
     "name": "stdout",
     "output_type": "stream",
     "text": [
      "Compressing block 65 with 72 frames\n",
      "Compressing block 66 with 71 frames\n",
      "Compressing block 67 with 72 frames\n"
     ]
    },
    {
     "name": "stderr",
     "output_type": "stream",
     "text": [
      "Compressing Time-Based Blocks: 4965it [00:03, 1483.49it/s]"
     ]
    },
    {
     "name": "stdout",
     "output_type": "stream",
     "text": [
      "Compressing block 68 with 72 frames\n",
      "Compressing block 69 with 72 frames\n"
     ]
    },
    {
     "name": "stderr",
     "output_type": "stream",
     "text": [
      "Compressing Time-Based Blocks: 5181it [00:03, 1513.73it/s]"
     ]
    },
    {
     "name": "stdout",
     "output_type": "stream",
     "text": [
      "Compressing block 70 with 72 frames\n",
      "Compressing block 71 with 72 frames\n",
      "Compressing block 72 with 72 frames\n",
      "Compressing block 73 with 72 frames\n",
      "Compressing block 74 with 72 frames\n"
     ]
    },
    {
     "name": "stderr",
     "output_type": "stream",
     "text": [
      "Compressing Time-Based Blocks: 5397it [00:03, 1527.02it/s]"
     ]
    },
    {
     "name": "stdout",
     "output_type": "stream",
     "text": [
      "Compressing block 75 with 72 frames\n",
      "Compressing block 76 with 72 frames\n",
      "Compressing block 77 with 72 frames\n"
     ]
    },
    {
     "name": "stderr",
     "output_type": "stream",
     "text": [
      "Compressing Time-Based Blocks: 5613it [00:03, 1501.44it/s]"
     ]
    },
    {
     "name": "stdout",
     "output_type": "stream",
     "text": [
      "Compressing block 78 with 72 frames\n",
      "Compressing block 79 with 72 frames\n"
     ]
    },
    {
     "name": "stderr",
     "output_type": "stream",
     "text": [
      "Compressing Time-Based Blocks: 5829it [00:03, 1528.72it/s]"
     ]
    },
    {
     "name": "stdout",
     "output_type": "stream",
     "text": [
      "Compressing block 80 with 72 frames\n",
      "Compressing block 81 with 72 frames\n",
      "Compressing block 82 with 72 frames\n"
     ]
    },
    {
     "name": "stderr",
     "output_type": "stream",
     "text": [
      "Compressing Time-Based Blocks: 6045it [00:03, 1535.05it/s]"
     ]
    },
    {
     "name": "stdout",
     "output_type": "stream",
     "text": [
      "Compressing block 83 with 72 frames\n",
      "Compressing block 84 with 72 frames\n"
     ]
    },
    {
     "name": "stderr",
     "output_type": "stream",
     "text": [
      "Compressing Time-Based Blocks: 6261it [00:04, 1552.00it/s]"
     ]
    },
    {
     "name": "stdout",
     "output_type": "stream",
     "text": [
      "Compressing block 85 with 72 frames\n",
      "Compressing block 86 with 72 frames\n",
      "Compressing block 87 with 72 frames\n",
      "Compressing block 88 with 72 frames\n",
      "Compressing block 89 with 72 frames\n"
     ]
    },
    {
     "name": "stderr",
     "output_type": "stream",
     "text": [
      "Compressing Time-Based Blocks: 6477it [00:04, 1568.32it/s]"
     ]
    },
    {
     "name": "stdout",
     "output_type": "stream",
     "text": [
      "Compressing block 90 with 72 frames\n",
      "Compressing block 91 with 72 frames\n",
      "Compressing block 92 with 72 frames\n"
     ]
    },
    {
     "name": "stderr",
     "output_type": "stream",
     "text": [
      "Compressing Time-Based Blocks: 6693it [00:04, 1574.14it/s]"
     ]
    },
    {
     "name": "stdout",
     "output_type": "stream",
     "text": [
      "Compressing block 93 with 72 frames\n",
      "Compressing block 94 with 72 frames\n"
     ]
    },
    {
     "name": "stderr",
     "output_type": "stream",
     "text": [
      "Compressing Time-Based Blocks: 6909it [00:04, 1581.49it/s]"
     ]
    },
    {
     "name": "stdout",
     "output_type": "stream",
     "text": [
      "Compressing block 95 with 72 frames\n",
      "Compressing block 96 with 72 frames\n",
      "Compressing block 97 with 72 frames\n"
     ]
    },
    {
     "name": "stderr",
     "output_type": "stream",
     "text": [
      "Compressing Time-Based Blocks: 7125it [00:04, 1592.48it/s]"
     ]
    },
    {
     "name": "stdout",
     "output_type": "stream",
     "text": [
      "Compressing block 98 with 72 frames\n",
      "Compressing block 99 with 72 frames\n"
     ]
    },
    {
     "name": "stderr",
     "output_type": "stream",
     "text": [
      "Compressing Time-Based Blocks: 7341it [00:04, 1603.33it/s]"
     ]
    },
    {
     "name": "stdout",
     "output_type": "stream",
     "text": [
      "Compressing block 100 with 72 frames\n",
      "Compressing block 101 with 72 frames\n",
      "Compressing block 102 with 72 frames\n",
      "Compressing block 103 with 72 frames\n",
      "Compressing block 104 with 72 frames\n"
     ]
    },
    {
     "name": "stderr",
     "output_type": "stream",
     "text": [
      "Compressing Time-Based Blocks: 7557it [00:04, 1614.64it/s]"
     ]
    },
    {
     "name": "stdout",
     "output_type": "stream",
     "text": [
      "Compressing block 105 with 72 frames\n",
      "Compressing block 106 with 72 frames\n",
      "Compressing block 107 with 72 frames\n"
     ]
    },
    {
     "name": "stderr",
     "output_type": "stream",
     "text": [
      "Compressing Time-Based Blocks: 7773it [00:05, 1620.80it/s]"
     ]
    },
    {
     "name": "stdout",
     "output_type": "stream",
     "text": [
      "Compressing block 108 with 72 frames\n",
      "Compressing block 109 with 72 frames\n"
     ]
    },
    {
     "name": "stderr",
     "output_type": "stream",
     "text": [
      "Compressing Time-Based Blocks: 7989it [00:05, 1626.57it/s]"
     ]
    },
    {
     "name": "stdout",
     "output_type": "stream",
     "text": [
      "Compressing block 110 with 72 frames\n",
      "Compressing block 111 with 72 frames\n",
      "Compressing block 112 with 72 frames\n"
     ]
    },
    {
     "name": "stderr",
     "output_type": "stream",
     "text": [
      "Compressing Time-Based Blocks: 8205it [00:05, 1624.47it/s]"
     ]
    },
    {
     "name": "stdout",
     "output_type": "stream",
     "text": [
      "Compressing block 113 with 72 frames\n",
      "Compressing block 114 with 72 frames\n"
     ]
    },
    {
     "name": "stderr",
     "output_type": "stream",
     "text": [
      "Compressing Time-Based Blocks: 8421it [00:05, 1628.44it/s]"
     ]
    },
    {
     "name": "stdout",
     "output_type": "stream",
     "text": [
      "Compressing block 115 with 72 frames\n",
      "Compressing block 116 with 72 frames\n",
      "Compressing block 117 with 72 frames\n",
      "Compressing block 118 with 72 frames\n",
      "Compressing block 119 with 72 frames\n"
     ]
    },
    {
     "name": "stderr",
     "output_type": "stream",
     "text": [
      "Compressing Time-Based Blocks: 8637it [00:05, 1626.21it/s]"
     ]
    },
    {
     "name": "stdout",
     "output_type": "stream",
     "text": [
      "Compressing block 120 with 72 frames\n",
      "Compressing block 121 with 72 frames\n",
      "Compressing block 122 with 72 frames\n"
     ]
    },
    {
     "name": "stderr",
     "output_type": "stream",
     "text": [
      "Compressing Time-Based Blocks: 8853it [00:05, 1637.66it/s]"
     ]
    },
    {
     "name": "stdout",
     "output_type": "stream",
     "text": [
      "Compressing block 123 with 72 frames\n",
      "Compressing block 124 with 72 frames\n"
     ]
    },
    {
     "name": "stderr",
     "output_type": "stream",
     "text": [
      "Compressing Time-Based Blocks: 9069it [00:05, 1649.55it/s]"
     ]
    },
    {
     "name": "stdout",
     "output_type": "stream",
     "text": [
      "Compressing block 125 with 72 frames\n",
      "Compressing block 126 with 72 frames\n",
      "Compressing block 127 with 72 frames\n"
     ]
    },
    {
     "name": "stderr",
     "output_type": "stream",
     "text": [
      "Compressing Time-Based Blocks: 9285it [00:05, 1643.80it/s]"
     ]
    },
    {
     "name": "stdout",
     "output_type": "stream",
     "text": [
      "Compressing block 128 with 72 frames\n",
      "Compressing block 129 with 72 frames\n"
     ]
    },
    {
     "name": "stderr",
     "output_type": "stream",
     "text": [
      "Compressing Time-Based Blocks: 9501it [00:06, 1644.21it/s]"
     ]
    },
    {
     "name": "stdout",
     "output_type": "stream",
     "text": [
      "Compressing block 130 with 72 frames\n",
      "Compressing block 131 with 72 frames\n",
      "Compressing block 132 with 72 frames\n",
      "Compressing block 133 with 72 frames\n",
      "Compressing block 134 with 72 frames\n"
     ]
    },
    {
     "name": "stderr",
     "output_type": "stream",
     "text": [
      "Compressing Time-Based Blocks: 9717it [00:06, 1637.76it/s]"
     ]
    },
    {
     "name": "stdout",
     "output_type": "stream",
     "text": [
      "Compressing block 135 with 72 frames\n",
      "Compressing block 136 with 72 frames\n",
      "Compressing block 137 with 72 frames\n"
     ]
    },
    {
     "name": "stderr",
     "output_type": "stream",
     "text": [
      "Compressing Time-Based Blocks: 9933it [00:06, 1642.08it/s]"
     ]
    },
    {
     "name": "stdout",
     "output_type": "stream",
     "text": [
      "Compressing block 138 with 72 frames\n",
      "Compressing block 139 with 72 frames\n"
     ]
    },
    {
     "name": "stderr",
     "output_type": "stream",
     "text": [
      "Compressing Time-Based Blocks: 10149it [00:06, 1634.94it/s]"
     ]
    },
    {
     "name": "stdout",
     "output_type": "stream",
     "text": [
      "Compressing block 140 with 72 frames\n",
      "Compressing block 141 with 72 frames\n",
      "Compressing block 142 with 72 frames\n"
     ]
    },
    {
     "name": "stderr",
     "output_type": "stream",
     "text": [
      "Compressing Time-Based Blocks: 10365it [00:06, 1636.36it/s]"
     ]
    },
    {
     "name": "stdout",
     "output_type": "stream",
     "text": [
      "Compressing block 143 with 72 frames\n",
      "Compressing block 144 with 72 frames\n"
     ]
    },
    {
     "name": "stderr",
     "output_type": "stream",
     "text": [
      "Compressing Time-Based Blocks: 10581it [00:06, 1632.98it/s]"
     ]
    },
    {
     "name": "stdout",
     "output_type": "stream",
     "text": [
      "Compressing block 145 with 72 frames\n",
      "Compressing block 146 with 72 frames\n",
      "Compressing block 147 with 72 frames\n",
      "Compressing block 148 with 72 frames\n",
      "Compressing block 149 with 72 frames\n"
     ]
    },
    {
     "name": "stderr",
     "output_type": "stream",
     "text": [
      "Compressing Time-Based Blocks: 10797it [00:06, 1643.56it/s]"
     ]
    },
    {
     "name": "stdout",
     "output_type": "stream",
     "text": [
      "Compressing block 150 with 71 frames\n",
      "Compressing block 151 with 72 frames\n",
      "Compressing block 152 with 72 frames\n"
     ]
    },
    {
     "name": "stderr",
     "output_type": "stream",
     "text": [
      "Compressing Time-Based Blocks: 11012it [00:07, 1643.79it/s]"
     ]
    },
    {
     "name": "stdout",
     "output_type": "stream",
     "text": [
      "Compressing block 153 with 72 frames\n",
      "Compressing block 154 with 72 frames\n"
     ]
    },
    {
     "name": "stderr",
     "output_type": "stream",
     "text": [
      "Compressing Time-Based Blocks: 11228it [00:07, 1646.00it/s]"
     ]
    },
    {
     "name": "stdout",
     "output_type": "stream",
     "text": [
      "Compressing block 155 with 72 frames\n",
      "Compressing block 156 with 72 frames\n",
      "Compressing block 157 with 72 frames\n"
     ]
    },
    {
     "name": "stderr",
     "output_type": "stream",
     "text": [
      "Compressing Time-Based Blocks: 11444it [00:07, 1640.73it/s]"
     ]
    },
    {
     "name": "stdout",
     "output_type": "stream",
     "text": [
      "Compressing block 158 with 72 frames\n",
      "Compressing block 159 with 72 frames\n"
     ]
    },
    {
     "name": "stderr",
     "output_type": "stream",
     "text": [
      "Compressing Time-Based Blocks: 11660it [00:07, 1635.52it/s]"
     ]
    },
    {
     "name": "stdout",
     "output_type": "stream",
     "text": [
      "Compressing block 160 with 72 frames\n",
      "Compressing block 161 with 72 frames\n",
      "Compressing block 162 with 72 frames\n",
      "Compressing block 163 with 72 frames\n",
      "Compressing block 164 with 72 frames\n"
     ]
    },
    {
     "name": "stderr",
     "output_type": "stream",
     "text": [
      "Compressing Time-Based Blocks: 11876it [00:07, 1627.50it/s]"
     ]
    },
    {
     "name": "stdout",
     "output_type": "stream",
     "text": [
      "Compressing block 165 with 72 frames\n",
      "Compressing block 166 with 72 frames\n",
      "Compressing block 167 with 72 frames\n"
     ]
    },
    {
     "name": "stderr",
     "output_type": "stream",
     "text": [
      "Compressing Time-Based Blocks: 12092it [00:07, 1624.96it/s]"
     ]
    },
    {
     "name": "stdout",
     "output_type": "stream",
     "text": [
      "Compressing block 168 with 72 frames\n",
      "Compressing block 169 with 72 frames\n"
     ]
    },
    {
     "name": "stderr",
     "output_type": "stream",
     "text": [
      "Compressing Time-Based Blocks: 12308it [00:07, 1626.29it/s]"
     ]
    },
    {
     "name": "stdout",
     "output_type": "stream",
     "text": [
      "Compressing block 170 with 72 frames\n",
      "Compressing block 171 with 72 frames\n",
      "Compressing block 172 with 72 frames\n"
     ]
    },
    {
     "name": "stderr",
     "output_type": "stream",
     "text": [
      "Compressing Time-Based Blocks: 12524it [00:07, 1623.53it/s]"
     ]
    },
    {
     "name": "stdout",
     "output_type": "stream",
     "text": [
      "Compressing block 173 with 72 frames\n",
      "Compressing block 174 with 72 frames\n"
     ]
    },
    {
     "name": "stderr",
     "output_type": "stream",
     "text": [
      "Compressing Time-Based Blocks: 12740it [00:08, 1625.38it/s]"
     ]
    },
    {
     "name": "stdout",
     "output_type": "stream",
     "text": [
      "Compressing block 175 with 72 frames\n",
      "Compressing block 176 with 72 frames\n",
      "Compressing block 177 with 72 frames\n",
      "Compressing block 178 with 72 frames\n",
      "Compressing block 179 with 72 frames\n"
     ]
    },
    {
     "name": "stderr",
     "output_type": "stream",
     "text": [
      "Compressing Time-Based Blocks: 12956it [00:08, 1624.99it/s]"
     ]
    },
    {
     "name": "stdout",
     "output_type": "stream",
     "text": [
      "Compressing block 180 with 72 frames\n",
      "Compressing block 181 with 72 frames\n",
      "Compressing block 182 with 72 frames\n"
     ]
    },
    {
     "name": "stderr",
     "output_type": "stream",
     "text": [
      "Compressing Time-Based Blocks: 13172it [00:08, 1622.44it/s]"
     ]
    },
    {
     "name": "stdout",
     "output_type": "stream",
     "text": [
      "Compressing block 183 with 72 frames\n",
      "Compressing block 184 with 72 frames\n"
     ]
    },
    {
     "name": "stderr",
     "output_type": "stream",
     "text": [
      "Compressing Time-Based Blocks: 13377it [00:08, 1625.25it/s]"
     ]
    },
    {
     "name": "stdout",
     "output_type": "stream",
     "text": [
      "Compressing block 185 with 61 frames\n",
      "Compressing block 186 with 72 frames\n",
      "Compressing block 187 with 72 frames\n",
      "Compressing block 188 with 72 frames\n"
     ]
    },
    {
     "name": "stderr",
     "output_type": "stream",
     "text": [
      "Compressing Time-Based Blocks: 13593it [00:08, 1396.03it/s]"
     ]
    },
    {
     "name": "stdout",
     "output_type": "stream",
     "text": [
      "Compressing block 189 with 72 frames\n",
      "Compressing block 190 with 72 frames\n",
      "Compressing block 191 with 70 frames\n"
     ]
    },
    {
     "name": "stderr",
     "output_type": "stream",
     "text": [
      "Compressing Time-Based Blocks: 13807it [00:08, 1465.78it/s]"
     ]
    },
    {
     "name": "stdout",
     "output_type": "stream",
     "text": [
      "Compressing block 192 with 72 frames\n",
      "Compressing block 193 with 72 frames\n"
     ]
    },
    {
     "name": "stderr",
     "output_type": "stream",
     "text": [
      "Compressing Time-Based Blocks: 14023it [00:08, 1507.79it/s]"
     ]
    },
    {
     "name": "stdout",
     "output_type": "stream",
     "text": [
      "Compressing block 194 with 72 frames\n",
      "Compressing block 195 with 72 frames\n",
      "Compressing block 196 with 72 frames\n"
     ]
    },
    {
     "name": "stderr",
     "output_type": "stream",
     "text": [
      "Compressing Time-Based Blocks: 14239it [00:09, 1548.53it/s]"
     ]
    },
    {
     "name": "stdout",
     "output_type": "stream",
     "text": [
      "Compressing block 197 with 72 frames\n",
      "Compressing block 198 with 72 frames\n"
     ]
    },
    {
     "name": "stderr",
     "output_type": "stream",
     "text": [
      "Compressing Time-Based Blocks: 14311it [00:09, 1572.22it/s]\n"
     ]
    },
    {
     "name": "stdout",
     "output_type": "stream",
     "text": [
      "Saved 199 blocks for la2, band 01\n",
      "RAM usage: 722.52 MB\n",
      "Starting compression for ./time_series_cleaned_la2/C02_time_series.nc\n",
      "Loaded 14324 frames\n",
      "First time: 2024-09-01 00:00:20, Last time: 2024-12-09 23:50:20\n",
      "Largest time gap: 4:10:00\n",
      "Smallest time gap: 0:00:00\n",
      "⚠️ Large gap at index 4556: 4:10:00 between 2024-10-02 11:50:20 and 2024-10-02 16:00:20\n",
      "⚠️ Large gap at index 10891: 2:50:00 between 2024-11-15 17:40:19 and 2024-11-15 20:30:19\n",
      "⚠️ Large gap at index 13385: 2:50:00 between 2024-12-03 07:20:20 and 2024-12-03 10:10:20\n",
      "→ Interpolated to 14313 frames\n",
      "Got 14313 frames after interpolation\n"
     ]
    },
    {
     "name": "stderr",
     "output_type": "stream",
     "text": [
      "Compressing Time-Based Blocks: 72it [00:00, 383.48it/s]"
     ]
    },
    {
     "name": "stdout",
     "output_type": "stream",
     "text": [
      "Compressing block 0 with 72 frames\n",
      "Compressing block 1 with 72 frames\n"
     ]
    },
    {
     "name": "stderr",
     "output_type": "stream",
     "text": [
      "Compressing Time-Based Blocks: 216it [00:00, 401.86it/s]"
     ]
    },
    {
     "name": "stdout",
     "output_type": "stream",
     "text": [
      "Compressing block 2 with 72 frames\n",
      "Compressing block 3 with 72 frames\n"
     ]
    },
    {
     "name": "stderr",
     "output_type": "stream",
     "text": [
      "Compressing Time-Based Blocks: 360it [00:00, 411.66it/s]"
     ]
    },
    {
     "name": "stdout",
     "output_type": "stream",
     "text": [
      "Compressing block 4 with 72 frames\n",
      "Compressing block 5 with 72 frames\n"
     ]
    },
    {
     "name": "stderr",
     "output_type": "stream",
     "text": [
      "Compressing Time-Based Blocks: 504it [00:01, 419.69it/s]"
     ]
    },
    {
     "name": "stdout",
     "output_type": "stream",
     "text": [
      "Compressing block 6 with 72 frames\n",
      "Compressing block 7 with 72 frames\n"
     ]
    },
    {
     "name": "stderr",
     "output_type": "stream",
     "text": [
      "Compressing Time-Based Blocks: 648it [00:01, 420.69it/s]"
     ]
    },
    {
     "name": "stdout",
     "output_type": "stream",
     "text": [
      "Compressing block 8 with 72 frames\n",
      "Compressing block 9 with 72 frames\n"
     ]
    },
    {
     "name": "stderr",
     "output_type": "stream",
     "text": [
      "Compressing Time-Based Blocks: 792it [00:01, 430.14it/s]"
     ]
    },
    {
     "name": "stdout",
     "output_type": "stream",
     "text": [
      "Compressing block 10 with 72 frames\n",
      "Compressing block 11 with 72 frames\n"
     ]
    },
    {
     "name": "stderr",
     "output_type": "stream",
     "text": [
      "Compressing Time-Based Blocks: 936it [00:02, 438.45it/s]"
     ]
    },
    {
     "name": "stdout",
     "output_type": "stream",
     "text": [
      "Compressing block 12 with 72 frames\n",
      "Compressing block 13 with 72 frames\n"
     ]
    },
    {
     "name": "stderr",
     "output_type": "stream",
     "text": [
      "Compressing Time-Based Blocks: 1080it [00:02, 430.98it/s]"
     ]
    },
    {
     "name": "stdout",
     "output_type": "stream",
     "text": [
      "Compressing block 14 with 72 frames\n",
      "Compressing block 15 with 72 frames\n"
     ]
    },
    {
     "name": "stderr",
     "output_type": "stream",
     "text": [
      "Compressing Time-Based Blocks: 1224it [00:02, 436.50it/s]"
     ]
    },
    {
     "name": "stdout",
     "output_type": "stream",
     "text": [
      "Compressing block 16 with 72 frames\n",
      "Compressing block 17 with 72 frames\n"
     ]
    },
    {
     "name": "stderr",
     "output_type": "stream",
     "text": [
      "Compressing Time-Based Blocks: 1368it [00:03, 443.04it/s]"
     ]
    },
    {
     "name": "stdout",
     "output_type": "stream",
     "text": [
      "Compressing block 18 with 72 frames\n",
      "Compressing block 19 with 72 frames\n"
     ]
    },
    {
     "name": "stderr",
     "output_type": "stream",
     "text": [
      "Compressing Time-Based Blocks: 1512it [00:03, 443.39it/s]"
     ]
    },
    {
     "name": "stdout",
     "output_type": "stream",
     "text": [
      "Compressing block 20 with 72 frames\n",
      "Compressing block 21 with 72 frames\n"
     ]
    },
    {
     "name": "stderr",
     "output_type": "stream",
     "text": [
      "Compressing Time-Based Blocks: 1656it [00:03, 440.75it/s]"
     ]
    },
    {
     "name": "stdout",
     "output_type": "stream",
     "text": [
      "Compressing block 22 with 72 frames\n",
      "Compressing block 23 with 72 frames\n"
     ]
    },
    {
     "name": "stderr",
     "output_type": "stream",
     "text": [
      "Compressing Time-Based Blocks: 1800it [00:04, 440.41it/s]"
     ]
    },
    {
     "name": "stdout",
     "output_type": "stream",
     "text": [
      "Compressing block 24 with 72 frames\n",
      "Compressing block 25 with 72 frames\n"
     ]
    },
    {
     "name": "stderr",
     "output_type": "stream",
     "text": [
      "Compressing Time-Based Blocks: 1944it [00:04, 439.66it/s]"
     ]
    },
    {
     "name": "stdout",
     "output_type": "stream",
     "text": [
      "Compressing block 26 with 72 frames\n",
      "Compressing block 27 with 72 frames\n"
     ]
    },
    {
     "name": "stderr",
     "output_type": "stream",
     "text": [
      "Compressing Time-Based Blocks: 2088it [00:04, 432.57it/s]"
     ]
    },
    {
     "name": "stdout",
     "output_type": "stream",
     "text": [
      "Compressing block 28 with 72 frames\n",
      "Compressing block 29 with 72 frames\n"
     ]
    },
    {
     "name": "stderr",
     "output_type": "stream",
     "text": [
      "Compressing Time-Based Blocks: 2232it [00:05, 428.24it/s]"
     ]
    },
    {
     "name": "stdout",
     "output_type": "stream",
     "text": [
      "Compressing block 30 with 72 frames\n",
      "Compressing block 31 with 72 frames\n"
     ]
    },
    {
     "name": "stderr",
     "output_type": "stream",
     "text": [
      "Compressing Time-Based Blocks: 2376it [00:05, 427.74it/s]"
     ]
    },
    {
     "name": "stdout",
     "output_type": "stream",
     "text": [
      "Compressing block 32 with 72 frames\n",
      "Compressing block 33 with 72 frames\n"
     ]
    },
    {
     "name": "stderr",
     "output_type": "stream",
     "text": [
      "Compressing Time-Based Blocks: 2520it [00:05, 431.85it/s]"
     ]
    },
    {
     "name": "stdout",
     "output_type": "stream",
     "text": [
      "Compressing block 34 with 72 frames\n",
      "Compressing block 35 with 72 frames\n"
     ]
    },
    {
     "name": "stderr",
     "output_type": "stream",
     "text": [
      "Compressing Time-Based Blocks: 2664it [00:06, 425.07it/s]"
     ]
    },
    {
     "name": "stdout",
     "output_type": "stream",
     "text": [
      "Compressing block 36 with 72 frames\n",
      "Compressing block 37 with 72 frames\n"
     ]
    },
    {
     "name": "stderr",
     "output_type": "stream",
     "text": [
      "Compressing Time-Based Blocks: 2808it [00:06, 422.28it/s]"
     ]
    },
    {
     "name": "stdout",
     "output_type": "stream",
     "text": [
      "Compressing block 38 with 72 frames\n",
      "Compressing block 39 with 72 frames\n"
     ]
    },
    {
     "name": "stderr",
     "output_type": "stream",
     "text": [
      "Compressing Time-Based Blocks: 2952it [00:06, 421.15it/s]"
     ]
    },
    {
     "name": "stdout",
     "output_type": "stream",
     "text": [
      "Compressing block 40 with 72 frames\n",
      "Compressing block 41 with 72 frames\n"
     ]
    },
    {
     "name": "stderr",
     "output_type": "stream",
     "text": [
      "Compressing Time-Based Blocks: 3096it [00:07, 412.15it/s]"
     ]
    },
    {
     "name": "stdout",
     "output_type": "stream",
     "text": [
      "Compressing block 42 with 72 frames\n",
      "Compressing block 43 with 72 frames\n"
     ]
    },
    {
     "name": "stderr",
     "output_type": "stream",
     "text": [
      "Compressing Time-Based Blocks: 3240it [00:07, 418.38it/s]"
     ]
    },
    {
     "name": "stdout",
     "output_type": "stream",
     "text": [
      "Compressing block 44 with 72 frames\n",
      "Compressing block 45 with 72 frames\n"
     ]
    },
    {
     "name": "stderr",
     "output_type": "stream",
     "text": [
      "Compressing Time-Based Blocks: 3384it [00:07, 416.26it/s]"
     ]
    },
    {
     "name": "stdout",
     "output_type": "stream",
     "text": [
      "Compressing block 46 with 72 frames\n",
      "Compressing block 47 with 72 frames\n"
     ]
    },
    {
     "name": "stderr",
     "output_type": "stream",
     "text": [
      "Compressing Time-Based Blocks: 3528it [00:08, 416.23it/s]"
     ]
    },
    {
     "name": "stdout",
     "output_type": "stream",
     "text": [
      "Compressing block 48 with 72 frames\n",
      "Compressing block 49 with 72 frames\n"
     ]
    },
    {
     "name": "stderr",
     "output_type": "stream",
     "text": [
      "Compressing Time-Based Blocks: 3672it [00:08, 403.86it/s]"
     ]
    },
    {
     "name": "stdout",
     "output_type": "stream",
     "text": [
      "Compressing block 50 with 72 frames\n",
      "Compressing block 51 with 72 frames\n"
     ]
    },
    {
     "name": "stderr",
     "output_type": "stream",
     "text": [
      "Compressing Time-Based Blocks: 3816it [00:08, 406.31it/s]"
     ]
    },
    {
     "name": "stdout",
     "output_type": "stream",
     "text": [
      "Compressing block 52 with 72 frames\n",
      "Compressing block 53 with 72 frames\n"
     ]
    },
    {
     "name": "stderr",
     "output_type": "stream",
     "text": [
      "Compressing Time-Based Blocks: 3960it [00:09, 405.62it/s]"
     ]
    },
    {
     "name": "stdout",
     "output_type": "stream",
     "text": [
      "Compressing block 54 with 72 frames\n",
      "Compressing block 55 with 72 frames\n"
     ]
    },
    {
     "name": "stderr",
     "output_type": "stream",
     "text": [
      "Compressing Time-Based Blocks: 4104it [00:09, 414.65it/s]"
     ]
    },
    {
     "name": "stdout",
     "output_type": "stream",
     "text": [
      "Compressing block 56 with 72 frames\n",
      "Compressing block 57 with 72 frames\n"
     ]
    },
    {
     "name": "stderr",
     "output_type": "stream",
     "text": [
      "Compressing Time-Based Blocks: 4176it [00:09, 416.55it/s]"
     ]
    },
    {
     "name": "stdout",
     "output_type": "stream",
     "text": [
      "Compressing block 58 with 72 frames\n"
     ]
    },
    {
     "name": "stderr",
     "output_type": "stream",
     "text": [
      "Compressing Time-Based Blocks: 4320it [00:10, 359.26it/s]"
     ]
    },
    {
     "name": "stdout",
     "output_type": "stream",
     "text": [
      "Compressing block 59 with 72 frames\n",
      "Compressing block 60 with 72 frames\n"
     ]
    },
    {
     "name": "stderr",
     "output_type": "stream",
     "text": [
      "Compressing Time-Based Blocks: 4464it [00:10, 385.25it/s]"
     ]
    },
    {
     "name": "stdout",
     "output_type": "stream",
     "text": [
      "Compressing block 61 with 72 frames\n",
      "Compressing block 62 with 70 frames\n"
     ]
    },
    {
     "name": "stderr",
     "output_type": "stream",
     "text": [
      "Compressing Time-Based Blocks: 4606it [00:11, 396.30it/s]"
     ]
    },
    {
     "name": "stdout",
     "output_type": "stream",
     "text": [
      "Compressing block 63 with 72 frames\n",
      "Compressing block 64 with 72 frames\n"
     ]
    },
    {
     "name": "stderr",
     "output_type": "stream",
     "text": [
      "Compressing Time-Based Blocks: 4750it [00:11, 392.42it/s]"
     ]
    },
    {
     "name": "stdout",
     "output_type": "stream",
     "text": [
      "Compressing block 65 with 72 frames\n",
      "Compressing block 66 with 71 frames\n"
     ]
    },
    {
     "name": "stderr",
     "output_type": "stream",
     "text": [
      "Compressing Time-Based Blocks: 4893it [00:11, 406.75it/s]"
     ]
    },
    {
     "name": "stdout",
     "output_type": "stream",
     "text": [
      "Compressing block 67 with 72 frames\n",
      "Compressing block 68 with 72 frames\n"
     ]
    },
    {
     "name": "stderr",
     "output_type": "stream",
     "text": [
      "Compressing Time-Based Blocks: 5037it [00:12, 422.05it/s]"
     ]
    },
    {
     "name": "stdout",
     "output_type": "stream",
     "text": [
      "Compressing block 69 with 72 frames\n",
      "Compressing block 70 with 72 frames\n"
     ]
    },
    {
     "name": "stderr",
     "output_type": "stream",
     "text": [
      "Compressing Time-Based Blocks: 5181it [00:12, 422.05it/s]"
     ]
    },
    {
     "name": "stdout",
     "output_type": "stream",
     "text": [
      "Compressing block 71 with 72 frames\n",
      "Compressing block 72 with 72 frames\n"
     ]
    },
    {
     "name": "stderr",
     "output_type": "stream",
     "text": [
      "Compressing Time-Based Blocks: 5325it [00:12, 423.55it/s]"
     ]
    },
    {
     "name": "stdout",
     "output_type": "stream",
     "text": [
      "Compressing block 73 with 72 frames\n",
      "Compressing block 74 with 72 frames\n"
     ]
    },
    {
     "name": "stderr",
     "output_type": "stream",
     "text": [
      "Compressing Time-Based Blocks: 5469it [00:13, 417.47it/s]"
     ]
    },
    {
     "name": "stdout",
     "output_type": "stream",
     "text": [
      "Compressing block 75 with 72 frames\n",
      "Compressing block 76 with 72 frames\n"
     ]
    },
    {
     "name": "stderr",
     "output_type": "stream",
     "text": [
      "Compressing Time-Based Blocks: 5541it [00:13, 387.11it/s]"
     ]
    },
    {
     "name": "stdout",
     "output_type": "stream",
     "text": [
      "Compressing block 77 with 72 frames\n"
     ]
    },
    {
     "name": "stderr",
     "output_type": "stream",
     "text": [
      "Compressing Time-Based Blocks: 5613it [00:13, 308.40it/s]"
     ]
    },
    {
     "name": "stdout",
     "output_type": "stream",
     "text": [
      "Compressing block 78 with 72 frames\n"
     ]
    },
    {
     "name": "stderr",
     "output_type": "stream",
     "text": [
      "Compressing Time-Based Blocks: 5685it [00:13, 268.41it/s]"
     ]
    },
    {
     "name": "stdout",
     "output_type": "stream",
     "text": [
      "Compressing block 79 with 72 frames\n"
     ]
    },
    {
     "name": "stderr",
     "output_type": "stream",
     "text": [
      "Compressing Time-Based Blocks: 5757it [00:14, 278.51it/s]"
     ]
    },
    {
     "name": "stdout",
     "output_type": "stream",
     "text": [
      "Compressing block 80 with 72 frames\n"
     ]
    },
    {
     "name": "stderr",
     "output_type": "stream",
     "text": [
      "Compressing Time-Based Blocks: 5829it [00:14, 286.46it/s]"
     ]
    },
    {
     "name": "stdout",
     "output_type": "stream",
     "text": [
      "Compressing block 81 with 72 frames\n"
     ]
    },
    {
     "name": "stderr",
     "output_type": "stream",
     "text": [
      "Compressing Time-Based Blocks: 5901it [00:14, 275.02it/s]"
     ]
    },
    {
     "name": "stdout",
     "output_type": "stream",
     "text": [
      "Compressing block 82 with 72 frames\n"
     ]
    },
    {
     "name": "stderr",
     "output_type": "stream",
     "text": [
      "Compressing Time-Based Blocks: 5973it [00:15, 277.60it/s]"
     ]
    },
    {
     "name": "stdout",
     "output_type": "stream",
     "text": [
      "Compressing block 83 with 72 frames\n"
     ]
    },
    {
     "name": "stderr",
     "output_type": "stream",
     "text": [
      "Compressing Time-Based Blocks: 6117it [00:15, 316.50it/s]"
     ]
    },
    {
     "name": "stdout",
     "output_type": "stream",
     "text": [
      "Compressing block 84 with 72 frames\n",
      "Compressing block 85 with 72 frames\n"
     ]
    },
    {
     "name": "stderr",
     "output_type": "stream",
     "text": [
      "Compressing Time-Based Blocks: 6261it [00:15, 356.37it/s]"
     ]
    },
    {
     "name": "stdout",
     "output_type": "stream",
     "text": [
      "Compressing block 86 with 72 frames\n",
      "Compressing block 87 with 72 frames\n"
     ]
    },
    {
     "name": "stderr",
     "output_type": "stream",
     "text": [
      "Compressing Time-Based Blocks: 6405it [00:16, 372.02it/s]"
     ]
    },
    {
     "name": "stdout",
     "output_type": "stream",
     "text": [
      "Compressing block 88 with 72 frames\n",
      "Compressing block 89 with 72 frames\n"
     ]
    },
    {
     "name": "stderr",
     "output_type": "stream",
     "text": [
      "Compressing Time-Based Blocks: 6549it [00:16, 377.79it/s]"
     ]
    },
    {
     "name": "stdout",
     "output_type": "stream",
     "text": [
      "Compressing block 90 with 72 frames\n",
      "Compressing block 91 with 72 frames\n"
     ]
    },
    {
     "name": "stderr",
     "output_type": "stream",
     "text": [
      "Compressing Time-Based Blocks: 6621it [00:16, 302.18it/s]"
     ]
    },
    {
     "name": "stdout",
     "output_type": "stream",
     "text": [
      "Compressing block 92 with 72 frames\n"
     ]
    },
    {
     "name": "stderr",
     "output_type": "stream",
     "text": [
      "Compressing Time-Based Blocks: 6693it [00:17, 263.26it/s]"
     ]
    },
    {
     "name": "stdout",
     "output_type": "stream",
     "text": [
      "Compressing block 93 with 72 frames\n"
     ]
    },
    {
     "name": "stderr",
     "output_type": "stream",
     "text": [
      "Compressing Time-Based Blocks: 6765it [00:17, 268.61it/s]"
     ]
    },
    {
     "name": "stdout",
     "output_type": "stream",
     "text": [
      "Compressing block 94 with 72 frames\n"
     ]
    },
    {
     "name": "stderr",
     "output_type": "stream",
     "text": [
      "Compressing Time-Based Blocks: 6837it [00:17, 256.02it/s]"
     ]
    },
    {
     "name": "stdout",
     "output_type": "stream",
     "text": [
      "Compressing block 95 with 72 frames\n"
     ]
    },
    {
     "name": "stderr",
     "output_type": "stream",
     "text": [
      "Compressing Time-Based Blocks: 6909it [00:17, 278.53it/s]"
     ]
    },
    {
     "name": "stdout",
     "output_type": "stream",
     "text": [
      "Compressing block 96 with 72 frames\n"
     ]
    },
    {
     "name": "stderr",
     "output_type": "stream",
     "text": [
      "Compressing Time-Based Blocks: 7053it [00:18, 316.26it/s]"
     ]
    },
    {
     "name": "stdout",
     "output_type": "stream",
     "text": [
      "Compressing block 97 with 72 frames\n",
      "Compressing block 98 with 72 frames\n"
     ]
    },
    {
     "name": "stderr",
     "output_type": "stream",
     "text": [
      "Compressing Time-Based Blocks: 7197it [00:18, 362.63it/s]"
     ]
    },
    {
     "name": "stdout",
     "output_type": "stream",
     "text": [
      "Compressing block 99 with 72 frames\n",
      "Compressing block 100 with 72 frames\n"
     ]
    },
    {
     "name": "stderr",
     "output_type": "stream",
     "text": [
      "Compressing Time-Based Blocks: 7341it [00:19, 372.23it/s]"
     ]
    },
    {
     "name": "stdout",
     "output_type": "stream",
     "text": [
      "Compressing block 101 with 72 frames\n",
      "Compressing block 102 with 72 frames\n"
     ]
    },
    {
     "name": "stderr",
     "output_type": "stream",
     "text": [
      "Compressing Time-Based Blocks: 7485it [00:19, 390.52it/s]"
     ]
    },
    {
     "name": "stdout",
     "output_type": "stream",
     "text": [
      "Compressing block 103 with 72 frames\n",
      "Compressing block 104 with 72 frames\n"
     ]
    },
    {
     "name": "stderr",
     "output_type": "stream",
     "text": [
      "Compressing Time-Based Blocks: 7629it [00:19, 400.45it/s]"
     ]
    },
    {
     "name": "stdout",
     "output_type": "stream",
     "text": [
      "Compressing block 105 with 72 frames\n",
      "Compressing block 106 with 72 frames\n"
     ]
    },
    {
     "name": "stderr",
     "output_type": "stream",
     "text": [
      "Compressing Time-Based Blocks: 7773it [00:20, 401.79it/s]"
     ]
    },
    {
     "name": "stdout",
     "output_type": "stream",
     "text": [
      "Compressing block 107 with 72 frames\n",
      "Compressing block 108 with 72 frames\n"
     ]
    },
    {
     "name": "stderr",
     "output_type": "stream",
     "text": [
      "Compressing Time-Based Blocks: 7917it [00:20, 403.44it/s]"
     ]
    },
    {
     "name": "stdout",
     "output_type": "stream",
     "text": [
      "Compressing block 109 with 72 frames\n",
      "Compressing block 110 with 72 frames\n"
     ]
    },
    {
     "name": "stderr",
     "output_type": "stream",
     "text": [
      "Compressing Time-Based Blocks: 8061it [00:20, 410.51it/s]"
     ]
    },
    {
     "name": "stdout",
     "output_type": "stream",
     "text": [
      "Compressing block 111 with 72 frames\n",
      "Compressing block 112 with 72 frames\n"
     ]
    },
    {
     "name": "stderr",
     "output_type": "stream",
     "text": [
      "Compressing Time-Based Blocks: 8205it [00:21, 413.05it/s]"
     ]
    },
    {
     "name": "stdout",
     "output_type": "stream",
     "text": [
      "Compressing block 113 with 72 frames\n",
      "Compressing block 114 with 72 frames\n"
     ]
    },
    {
     "name": "stderr",
     "output_type": "stream",
     "text": [
      "Compressing Time-Based Blocks: 8349it [00:21, 412.68it/s]"
     ]
    },
    {
     "name": "stdout",
     "output_type": "stream",
     "text": [
      "Compressing block 115 with 72 frames\n",
      "Compressing block 116 with 72 frames\n"
     ]
    },
    {
     "name": "stderr",
     "output_type": "stream",
     "text": [
      "Compressing Time-Based Blocks: 8493it [00:21, 418.75it/s]"
     ]
    },
    {
     "name": "stdout",
     "output_type": "stream",
     "text": [
      "Compressing block 117 with 72 frames\n",
      "Compressing block 118 with 72 frames\n"
     ]
    },
    {
     "name": "stderr",
     "output_type": "stream",
     "text": [
      "Compressing Time-Based Blocks: 8637it [00:22, 429.15it/s]"
     ]
    },
    {
     "name": "stdout",
     "output_type": "stream",
     "text": [
      "Compressing block 119 with 72 frames\n",
      "Compressing block 120 with 72 frames\n"
     ]
    },
    {
     "name": "stderr",
     "output_type": "stream",
     "text": [
      "Compressing Time-Based Blocks: 8781it [00:22, 427.27it/s]"
     ]
    },
    {
     "name": "stdout",
     "output_type": "stream",
     "text": [
      "Compressing block 121 with 72 frames\n",
      "Compressing block 122 with 72 frames\n"
     ]
    },
    {
     "name": "stderr",
     "output_type": "stream",
     "text": [
      "Compressing Time-Based Blocks: 8925it [00:22, 427.97it/s]"
     ]
    },
    {
     "name": "stdout",
     "output_type": "stream",
     "text": [
      "Compressing block 123 with 72 frames\n",
      "Compressing block 124 with 72 frames\n"
     ]
    },
    {
     "name": "stderr",
     "output_type": "stream",
     "text": [
      "Compressing Time-Based Blocks: 9069it [00:23, 428.81it/s]"
     ]
    },
    {
     "name": "stdout",
     "output_type": "stream",
     "text": [
      "Compressing block 125 with 72 frames\n",
      "Compressing block 126 with 72 frames\n"
     ]
    },
    {
     "name": "stderr",
     "output_type": "stream",
     "text": [
      "Compressing Time-Based Blocks: 9213it [00:23, 425.51it/s]"
     ]
    },
    {
     "name": "stdout",
     "output_type": "stream",
     "text": [
      "Compressing block 127 with 72 frames\n",
      "Compressing block 128 with 72 frames\n"
     ]
    },
    {
     "name": "stderr",
     "output_type": "stream",
     "text": [
      "Compressing Time-Based Blocks: 9357it [00:23, 415.87it/s]"
     ]
    },
    {
     "name": "stdout",
     "output_type": "stream",
     "text": [
      "Compressing block 129 with 72 frames\n",
      "Compressing block 130 with 72 frames\n"
     ]
    },
    {
     "name": "stderr",
     "output_type": "stream",
     "text": [
      "Compressing Time-Based Blocks: 9501it [00:24, 418.37it/s]"
     ]
    },
    {
     "name": "stdout",
     "output_type": "stream",
     "text": [
      "Compressing block 131 with 72 frames\n",
      "Compressing block 132 with 72 frames\n"
     ]
    },
    {
     "name": "stderr",
     "output_type": "stream",
     "text": [
      "Compressing Time-Based Blocks: 9645it [00:24, 412.83it/s]"
     ]
    },
    {
     "name": "stdout",
     "output_type": "stream",
     "text": [
      "Compressing block 133 with 72 frames\n",
      "Compressing block 134 with 72 frames\n"
     ]
    },
    {
     "name": "stderr",
     "output_type": "stream",
     "text": [
      "Compressing Time-Based Blocks: 9789it [00:24, 417.30it/s]"
     ]
    },
    {
     "name": "stdout",
     "output_type": "stream",
     "text": [
      "Compressing block 135 with 72 frames\n",
      "Compressing block 136 with 72 frames\n"
     ]
    },
    {
     "name": "stderr",
     "output_type": "stream",
     "text": [
      "Compressing Time-Based Blocks: 9933it [00:25, 417.27it/s]"
     ]
    },
    {
     "name": "stdout",
     "output_type": "stream",
     "text": [
      "Compressing block 137 with 72 frames\n",
      "Compressing block 138 with 72 frames\n"
     ]
    },
    {
     "name": "stderr",
     "output_type": "stream",
     "text": [
      "Compressing Time-Based Blocks: 10077it [00:25, 408.02it/s]"
     ]
    },
    {
     "name": "stdout",
     "output_type": "stream",
     "text": [
      "Compressing block 139 with 72 frames\n",
      "Compressing block 140 with 72 frames\n"
     ]
    },
    {
     "name": "stderr",
     "output_type": "stream",
     "text": [
      "Compressing Time-Based Blocks: 10221it [00:26, 417.23it/s]"
     ]
    },
    {
     "name": "stdout",
     "output_type": "stream",
     "text": [
      "Compressing block 141 with 72 frames\n",
      "Compressing block 142 with 72 frames\n"
     ]
    },
    {
     "name": "stderr",
     "output_type": "stream",
     "text": [
      "Compressing Time-Based Blocks: 10365it [00:26, 409.97it/s]"
     ]
    },
    {
     "name": "stdout",
     "output_type": "stream",
     "text": [
      "Compressing block 143 with 72 frames\n",
      "Compressing block 144 with 72 frames\n"
     ]
    },
    {
     "name": "stderr",
     "output_type": "stream",
     "text": [
      "Compressing Time-Based Blocks: 10509it [00:26, 398.07it/s]"
     ]
    },
    {
     "name": "stdout",
     "output_type": "stream",
     "text": [
      "Compressing block 145 with 72 frames\n",
      "Compressing block 146 with 72 frames\n"
     ]
    },
    {
     "name": "stderr",
     "output_type": "stream",
     "text": [
      "Compressing Time-Based Blocks: 10653it [00:27, 402.82it/s]"
     ]
    },
    {
     "name": "stdout",
     "output_type": "stream",
     "text": [
      "Compressing block 147 with 72 frames\n",
      "Compressing block 148 with 72 frames\n"
     ]
    },
    {
     "name": "stderr",
     "output_type": "stream",
     "text": [
      "Compressing Time-Based Blocks: 10797it [00:27, 407.40it/s]"
     ]
    },
    {
     "name": "stdout",
     "output_type": "stream",
     "text": [
      "Compressing block 149 with 72 frames\n",
      "Compressing block 150 with 71 frames\n"
     ]
    },
    {
     "name": "stderr",
     "output_type": "stream",
     "text": [
      "Compressing Time-Based Blocks: 10940it [00:27, 407.02it/s]"
     ]
    },
    {
     "name": "stdout",
     "output_type": "stream",
     "text": [
      "Compressing block 151 with 72 frames\n",
      "Compressing block 152 with 72 frames\n"
     ]
    },
    {
     "name": "stderr",
     "output_type": "stream",
     "text": [
      "Compressing Time-Based Blocks: 11084it [00:28, 413.82it/s]"
     ]
    },
    {
     "name": "stdout",
     "output_type": "stream",
     "text": [
      "Compressing block 153 with 72 frames\n",
      "Compressing block 154 with 72 frames\n"
     ]
    },
    {
     "name": "stderr",
     "output_type": "stream",
     "text": [
      "Compressing Time-Based Blocks: 11228it [00:28, 412.36it/s]"
     ]
    },
    {
     "name": "stdout",
     "output_type": "stream",
     "text": [
      "Compressing block 155 with 72 frames\n",
      "Compressing block 156 with 72 frames\n"
     ]
    },
    {
     "name": "stderr",
     "output_type": "stream",
     "text": [
      "Compressing Time-Based Blocks: 11300it [00:28, 394.53it/s]"
     ]
    },
    {
     "name": "stdout",
     "output_type": "stream",
     "text": [
      "Compressing block 157 with 72 frames\n"
     ]
    },
    {
     "name": "stderr",
     "output_type": "stream",
     "text": [
      "Compressing Time-Based Blocks: 11444it [00:29, 379.91it/s]"
     ]
    },
    {
     "name": "stdout",
     "output_type": "stream",
     "text": [
      "Compressing block 158 with 72 frames\n",
      "Compressing block 159 with 72 frames\n"
     ]
    },
    {
     "name": "stderr",
     "output_type": "stream",
     "text": [
      "Compressing Time-Based Blocks: 11516it [00:29, 388.88it/s]"
     ]
    },
    {
     "name": "stdout",
     "output_type": "stream",
     "text": [
      "Compressing block 160 with 72 frames\n"
     ]
    },
    {
     "name": "stderr",
     "output_type": "stream",
     "text": [
      "Compressing Time-Based Blocks: 11660it [00:29, 384.20it/s]"
     ]
    },
    {
     "name": "stdout",
     "output_type": "stream",
     "text": [
      "Compressing block 161 with 72 frames\n",
      "Compressing block 162 with 72 frames\n"
     ]
    },
    {
     "name": "stderr",
     "output_type": "stream",
     "text": [
      "Compressing Time-Based Blocks: 11804it [00:30, 401.71it/s]"
     ]
    },
    {
     "name": "stdout",
     "output_type": "stream",
     "text": [
      "Compressing block 163 with 72 frames\n",
      "Compressing block 164 with 72 frames\n"
     ]
    },
    {
     "name": "stderr",
     "output_type": "stream",
     "text": [
      "Compressing Time-Based Blocks: 11948it [00:30, 403.96it/s]"
     ]
    },
    {
     "name": "stdout",
     "output_type": "stream",
     "text": [
      "Compressing block 165 with 72 frames\n",
      "Compressing block 166 with 72 frames\n"
     ]
    },
    {
     "name": "stderr",
     "output_type": "stream",
     "text": [
      "Compressing Time-Based Blocks: 12092it [00:30, 408.86it/s]"
     ]
    },
    {
     "name": "stdout",
     "output_type": "stream",
     "text": [
      "Compressing block 167 with 72 frames\n",
      "Compressing block 168 with 72 frames\n"
     ]
    },
    {
     "name": "stderr",
     "output_type": "stream",
     "text": [
      "Compressing Time-Based Blocks: 12236it [00:31, 404.23it/s]"
     ]
    },
    {
     "name": "stdout",
     "output_type": "stream",
     "text": [
      "Compressing block 169 with 72 frames\n",
      "Compressing block 170 with 72 frames\n"
     ]
    },
    {
     "name": "stderr",
     "output_type": "stream",
     "text": [
      "Compressing Time-Based Blocks: 12380it [00:31, 410.43it/s]"
     ]
    },
    {
     "name": "stdout",
     "output_type": "stream",
     "text": [
      "Compressing block 171 with 72 frames\n",
      "Compressing block 172 with 72 frames\n"
     ]
    },
    {
     "name": "stderr",
     "output_type": "stream",
     "text": [
      "Compressing Time-Based Blocks: 12524it [00:31, 414.49it/s]"
     ]
    },
    {
     "name": "stdout",
     "output_type": "stream",
     "text": [
      "Compressing block 173 with 72 frames\n",
      "Compressing block 174 with 72 frames\n"
     ]
    },
    {
     "name": "stderr",
     "output_type": "stream",
     "text": [
      "Compressing Time-Based Blocks: 12668it [00:32, 416.05it/s]"
     ]
    },
    {
     "name": "stdout",
     "output_type": "stream",
     "text": [
      "Compressing block 175 with 72 frames\n",
      "Compressing block 176 with 72 frames\n"
     ]
    },
    {
     "name": "stderr",
     "output_type": "stream",
     "text": [
      "Compressing Time-Based Blocks: 12812it [00:32, 416.30it/s]"
     ]
    },
    {
     "name": "stdout",
     "output_type": "stream",
     "text": [
      "Compressing block 177 with 72 frames\n",
      "Compressing block 178 with 72 frames\n"
     ]
    },
    {
     "name": "stderr",
     "output_type": "stream",
     "text": [
      "Compressing Time-Based Blocks: 12956it [00:32, 414.15it/s]"
     ]
    },
    {
     "name": "stdout",
     "output_type": "stream",
     "text": [
      "Compressing block 179 with 72 frames\n",
      "Compressing block 180 with 72 frames\n"
     ]
    },
    {
     "name": "stderr",
     "output_type": "stream",
     "text": [
      "Compressing Time-Based Blocks: 13100it [00:33, 393.20it/s]"
     ]
    },
    {
     "name": "stdout",
     "output_type": "stream",
     "text": [
      "Compressing block 181 with 72 frames\n",
      "Compressing block 182 with 72 frames\n"
     ]
    },
    {
     "name": "stderr",
     "output_type": "stream",
     "text": [
      "Compressing Time-Based Blocks: 13244it [00:33, 386.51it/s]"
     ]
    },
    {
     "name": "stdout",
     "output_type": "stream",
     "text": [
      "Compressing block 183 with 72 frames\n",
      "Compressing block 184 with 72 frames\n"
     ]
    },
    {
     "name": "stderr",
     "output_type": "stream",
     "text": [
      "Compressing Time-Based Blocks: 13379it [00:33, 393.62it/s]"
     ]
    },
    {
     "name": "stdout",
     "output_type": "stream",
     "text": [
      "Compressing block 185 with 63 frames\n",
      "Compressing block 186 with 72 frames\n"
     ]
    },
    {
     "name": "stderr",
     "output_type": "stream",
     "text": [
      "Compressing Time-Based Blocks: 13523it [00:34, 387.08it/s]"
     ]
    },
    {
     "name": "stdout",
     "output_type": "stream",
     "text": [
      "Compressing block 187 with 72 frames\n",
      "Compressing block 188 with 72 frames\n"
     ]
    },
    {
     "name": "stderr",
     "output_type": "stream",
     "text": [
      "Compressing Time-Based Blocks: 13667it [00:34, 392.09it/s]"
     ]
    },
    {
     "name": "stdout",
     "output_type": "stream",
     "text": [
      "Compressing block 189 with 72 frames\n",
      "Compressing block 190 with 72 frames\n"
     ]
    },
    {
     "name": "stderr",
     "output_type": "stream",
     "text": [
      "Compressing Time-Based Blocks: 13809it [00:34, 403.39it/s]"
     ]
    },
    {
     "name": "stdout",
     "output_type": "stream",
     "text": [
      "Compressing block 191 with 70 frames\n",
      "Compressing block 192 with 72 frames\n"
     ]
    },
    {
     "name": "stderr",
     "output_type": "stream",
     "text": [
      "Compressing Time-Based Blocks: 13953it [00:35, 410.58it/s]"
     ]
    },
    {
     "name": "stdout",
     "output_type": "stream",
     "text": [
      "Compressing block 193 with 72 frames\n",
      "Compressing block 194 with 72 frames\n"
     ]
    },
    {
     "name": "stderr",
     "output_type": "stream",
     "text": [
      "Compressing Time-Based Blocks: 14097it [00:35, 418.83it/s]"
     ]
    },
    {
     "name": "stdout",
     "output_type": "stream",
     "text": [
      "Compressing block 195 with 72 frames\n",
      "Compressing block 196 with 72 frames\n"
     ]
    },
    {
     "name": "stderr",
     "output_type": "stream",
     "text": [
      "Compressing Time-Based Blocks: 14241it [00:36, 400.35it/s]"
     ]
    },
    {
     "name": "stdout",
     "output_type": "stream",
     "text": [
      "Compressing block 197 with 72 frames\n",
      "Compressing block 198 with 72 frames\n"
     ]
    },
    {
     "name": "stderr",
     "output_type": "stream",
     "text": [
      "Compressing Time-Based Blocks: 14313it [00:36, 395.03it/s]\n"
     ]
    },
    {
     "name": "stdout",
     "output_type": "stream",
     "text": [
      "Saved 199 blocks for la2, band 02\n",
      "RAM usage: 197.00 MB\n",
      "Starting compression for ./time_series_cleaned_la2/C03_time_series.nc\n",
      "Loaded 14325 frames\n",
      "First time: 2024-09-01 00:00:20, Last time: 2024-12-09 23:50:20\n",
      "Largest time gap: 4:20:00\n",
      "Smallest time gap: 0:00:00\n",
      "⚠️ Large gap at index 4556: 4:20:00 between 2024-10-02 11:40:20 and 2024-10-02 16:00:20\n",
      "⚠️ Large gap at index 10891: 2:50:00 between 2024-11-15 17:40:19 and 2024-11-15 20:30:19\n",
      "⚠️ Large gap at index 11132: 2:30:00 between 2024-11-17 12:40:20 and 2024-11-17 15:10:20\n",
      "⚠️ Large gap at index 13387: 3:00:00 between 2024-12-03 07:10:20 and 2024-12-03 10:10:20\n",
      "⚠️ Large time gap: 2:30:00 at index 24\n",
      "→ Interpolated to 14311 frames\n",
      "Got 14311 frames after interpolation\n"
     ]
    },
    {
     "name": "stderr",
     "output_type": "stream",
     "text": [
      "Compressing Time-Based Blocks: 0it [00:00, ?it/s]"
     ]
    },
    {
     "name": "stdout",
     "output_type": "stream",
     "text": [
      "Compressing block 0 with 72 frames\n",
      "Compressing block 1 with 72 frames\n"
     ]
    },
    {
     "name": "stderr",
     "output_type": "stream",
     "text": [
      "Compressing Time-Based Blocks: 144it [00:00, 755.97it/s]"
     ]
    },
    {
     "name": "stdout",
     "output_type": "stream",
     "text": [
      "Compressing block 2 with 72 frames\n"
     ]
    },
    {
     "name": "stderr",
     "output_type": "stream",
     "text": [
      "Compressing Time-Based Blocks: 288it [00:00, 960.25it/s]"
     ]
    },
    {
     "name": "stdout",
     "output_type": "stream",
     "text": [
      "Compressing block 3 with 72 frames\n",
      "Compressing block 4 with 72 frames\n",
      "Compressing block 5 with 72 frames\n"
     ]
    },
    {
     "name": "stderr",
     "output_type": "stream",
     "text": [
      "Compressing Time-Based Blocks: 504it [00:00, 1182.85it/s]"
     ]
    },
    {
     "name": "stdout",
     "output_type": "stream",
     "text": [
      "Compressing block 6 with 72 frames\n",
      "Compressing block 7 with 72 frames\n"
     ]
    },
    {
     "name": "stderr",
     "output_type": "stream",
     "text": [
      "Compressing Time-Based Blocks: 648it [00:00, 1248.29it/s]"
     ]
    },
    {
     "name": "stdout",
     "output_type": "stream",
     "text": [
      "Compressing block 8 with 72 frames\n",
      "Compressing block 9 with 72 frames\n"
     ]
    },
    {
     "name": "stderr",
     "output_type": "stream",
     "text": [
      "Compressing Time-Based Blocks: 864it [00:00, 1320.54it/s]"
     ]
    },
    {
     "name": "stdout",
     "output_type": "stream",
     "text": [
      "Compressing block 10 with 72 frames\n",
      "Compressing block 11 with 72 frames\n",
      "Compressing block 12 with 72 frames\n",
      "Compressing block 13 with 72 frames\n",
      "Compressing block 14 with 72 frames\n"
     ]
    },
    {
     "name": "stderr",
     "output_type": "stream",
     "text": [
      "Compressing Time-Based Blocks: 1080it [00:00, 1397.55it/s]"
     ]
    },
    {
     "name": "stdout",
     "output_type": "stream",
     "text": [
      "Compressing block 15 with 72 frames\n",
      "Compressing block 16 with 72 frames\n"
     ]
    },
    {
     "name": "stderr",
     "output_type": "stream",
     "text": [
      "Compressing Time-Based Blocks: 1296it [00:00, 1437.13it/s]"
     ]
    },
    {
     "name": "stdout",
     "output_type": "stream",
     "text": [
      "Compressing block 17 with 72 frames\n",
      "Compressing block 18 with 72 frames\n",
      "Compressing block 19 with 72 frames\n"
     ]
    },
    {
     "name": "stderr",
     "output_type": "stream",
     "text": [
      "Compressing Time-Based Blocks: 1512it [00:01, 1473.14it/s]"
     ]
    },
    {
     "name": "stdout",
     "output_type": "stream",
     "text": [
      "Compressing block 20 with 72 frames\n",
      "Compressing block 21 with 72 frames\n"
     ]
    },
    {
     "name": "stderr",
     "output_type": "stream",
     "text": [
      "Compressing Time-Based Blocks: 1728it [00:01, 1499.48it/s]"
     ]
    },
    {
     "name": "stdout",
     "output_type": "stream",
     "text": [
      "Compressing block 22 with 72 frames\n",
      "Compressing block 23 with 72 frames\n",
      "Compressing block 24 with 72 frames\n",
      "Compressing block 25 with 72 frames\n"
     ]
    },
    {
     "name": "stderr",
     "output_type": "stream",
     "text": [
      "Compressing Time-Based Blocks: 1944it [00:01, 1412.41it/s]"
     ]
    },
    {
     "name": "stdout",
     "output_type": "stream",
     "text": [
      "Compressing block 26 with 72 frames\n",
      "Compressing block 27 with 72 frames\n",
      "Compressing block 28 with 72 frames\n",
      "Compressing block 29 with 72 frames\n"
     ]
    },
    {
     "name": "stderr",
     "output_type": "stream",
     "text": [
      "Compressing Time-Based Blocks: 2160it [00:01, 1458.33it/s]"
     ]
    },
    {
     "name": "stdout",
     "output_type": "stream",
     "text": [
      "Compressing block 30 with 72 frames\n"
     ]
    },
    {
     "name": "stderr",
     "output_type": "stream",
     "text": [
      "Compressing Time-Based Blocks: 2376it [00:01, 1491.83it/s]"
     ]
    },
    {
     "name": "stdout",
     "output_type": "stream",
     "text": [
      "Compressing block 31 with 72 frames\n",
      "Compressing block 32 with 72 frames\n",
      "Compressing block 33 with 72 frames\n",
      "Compressing block 34 with 72 frames\n",
      "Compressing block 35 with 72 frames\n"
     ]
    },
    {
     "name": "stderr",
     "output_type": "stream",
     "text": [
      "Compressing Time-Based Blocks: 2808it [00:02, 1513.60it/s]"
     ]
    },
    {
     "name": "stdout",
     "output_type": "stream",
     "text": [
      "Compressing block 36 with 72 frames\n",
      "Compressing block 37 with 72 frames\n",
      "Compressing block 38 with 72 frames\n",
      "Compressing block 39 with 72 frames\n",
      "Compressing block 40 with 72 frames\n"
     ]
    },
    {
     "name": "stderr",
     "output_type": "stream",
     "text": [
      "Compressing Time-Based Blocks: 3024it [00:02, 1520.91it/s]"
     ]
    },
    {
     "name": "stdout",
     "output_type": "stream",
     "text": [
      "Compressing block 41 with 72 frames\n",
      "Compressing block 42 with 72 frames\n",
      "Compressing block 43 with 72 frames\n",
      "Compressing block 44 with 72 frames\n"
     ]
    },
    {
     "name": "stderr",
     "output_type": "stream",
     "text": [
      "Compressing Time-Based Blocks: 3240it [00:02, 1547.01it/s]"
     ]
    },
    {
     "name": "stdout",
     "output_type": "stream",
     "text": [
      "Compressing block 45 with 72 frames\n"
     ]
    },
    {
     "name": "stderr",
     "output_type": "stream",
     "text": [
      "Compressing Time-Based Blocks: 3456it [00:02, 1552.53it/s]"
     ]
    },
    {
     "name": "stdout",
     "output_type": "stream",
     "text": [
      "Compressing block 46 with 72 frames\n",
      "Compressing block 47 with 72 frames\n",
      "Compressing block 48 with 72 frames\n",
      "Compressing block 49 with 72 frames\n",
      "Compressing block 50 with 72 frames\n"
     ]
    },
    {
     "name": "stderr",
     "output_type": "stream",
     "text": [
      "Compressing Time-Based Blocks: 3888it [00:02, 1574.18it/s]"
     ]
    },
    {
     "name": "stdout",
     "output_type": "stream",
     "text": [
      "Compressing block 51 with 72 frames\n",
      "Compressing block 52 with 72 frames\n",
      "Compressing block 53 with 72 frames\n",
      "Compressing block 54 with 72 frames\n",
      "Compressing block 55 with 72 frames\n"
     ]
    },
    {
     "name": "stderr",
     "output_type": "stream",
     "text": [
      "Compressing Time-Based Blocks: 4104it [00:02, 1579.00it/s]"
     ]
    },
    {
     "name": "stdout",
     "output_type": "stream",
     "text": [
      "Compressing block 56 with 72 frames\n",
      "Compressing block 57 with 72 frames\n",
      "Compressing block 58 with 72 frames\n",
      "Compressing block 59 with 72 frames\n"
     ]
    },
    {
     "name": "stderr",
     "output_type": "stream",
     "text": [
      "Compressing Time-Based Blocks: 4320it [00:02, 1596.58it/s]"
     ]
    },
    {
     "name": "stdout",
     "output_type": "stream",
     "text": [
      "Compressing block 60 with 72 frames\n"
     ]
    },
    {
     "name": "stderr",
     "output_type": "stream",
     "text": [
      "Compressing Time-Based Blocks: 4533it [00:03, 1530.47it/s]"
     ]
    },
    {
     "name": "stdout",
     "output_type": "stream",
     "text": [
      "Compressing block 61 with 72 frames\n",
      "Compressing block 62 with 69 frames\n",
      "Compressing block 63 with 72 frames\n",
      "Compressing block 64 with 72 frames\n",
      "Compressing block 65 with 72 frames\n"
     ]
    },
    {
     "name": "stderr",
     "output_type": "stream",
     "text": [
      "Compressing Time-Based Blocks: 4749it [00:03, 1512.79it/s]"
     ]
    },
    {
     "name": "stdout",
     "output_type": "stream",
     "text": [
      "Compressing block 66 with 71 frames\n",
      "Compressing block 67 with 72 frames\n",
      "Compressing block 68 with 72 frames\n"
     ]
    },
    {
     "name": "stderr",
     "output_type": "stream",
     "text": [
      "Compressing Time-Based Blocks: 4964it [00:03, 1454.90it/s]"
     ]
    },
    {
     "name": "stdout",
     "output_type": "stream",
     "text": [
      "Compressing block 69 with 72 frames\n"
     ]
    },
    {
     "name": "stderr",
     "output_type": "stream",
     "text": [
      "Compressing Time-Based Blocks: 5180it [00:03, 1440.21it/s]"
     ]
    },
    {
     "name": "stdout",
     "output_type": "stream",
     "text": [
      "Compressing block 70 with 72 frames\n",
      "Compressing block 71 with 72 frames\n",
      "Compressing block 72 with 72 frames\n",
      "Compressing block 73 with 72 frames\n"
     ]
    },
    {
     "name": "stderr",
     "output_type": "stream",
     "text": [
      "Compressing Time-Based Blocks: 5396it [00:03, 1452.51it/s]"
     ]
    },
    {
     "name": "stdout",
     "output_type": "stream",
     "text": [
      "Compressing block 74 with 72 frames\n",
      "Compressing block 75 with 72 frames\n",
      "Compressing block 76 with 72 frames\n",
      "Compressing block 77 with 72 frames\n"
     ]
    },
    {
     "name": "stderr",
     "output_type": "stream",
     "text": [
      "Compressing Time-Based Blocks: 5612it [00:03, 1465.36it/s]"
     ]
    },
    {
     "name": "stdout",
     "output_type": "stream",
     "text": [
      "Compressing block 78 with 72 frames\n"
     ]
    },
    {
     "name": "stderr",
     "output_type": "stream",
     "text": [
      "Compressing Time-Based Blocks: 5828it [00:04, 1475.46it/s]"
     ]
    },
    {
     "name": "stdout",
     "output_type": "stream",
     "text": [
      "Compressing block 79 with 72 frames\n",
      "Compressing block 80 with 72 frames\n",
      "Compressing block 81 with 72 frames\n",
      "Compressing block 82 with 72 frames\n",
      "Compressing block 83 with 72 frames\n"
     ]
    },
    {
     "name": "stderr",
     "output_type": "stream",
     "text": [
      "Compressing Time-Based Blocks: 6188it [00:04, 1411.30it/s]"
     ]
    },
    {
     "name": "stdout",
     "output_type": "stream",
     "text": [
      "Compressing block 84 with 72 frames\n",
      "Compressing block 85 with 72 frames\n",
      "Compressing block 86 with 72 frames\n",
      "Compressing block 87 with 72 frames\n"
     ]
    },
    {
     "name": "stderr",
     "output_type": "stream",
     "text": [
      "Compressing Time-Based Blocks: 6548it [00:04, 1415.05it/s]"
     ]
    },
    {
     "name": "stdout",
     "output_type": "stream",
     "text": [
      "Compressing block 88 with 72 frames\n",
      "Compressing block 89 with 72 frames\n",
      "Compressing block 90 with 72 frames\n",
      "Compressing block 91 with 72 frames\n",
      "Compressing block 92 with 72 frames\n"
     ]
    },
    {
     "name": "stderr",
     "output_type": "stream",
     "text": [
      "Compressing Time-Based Blocks: 6764it [00:04, 1470.29it/s]"
     ]
    },
    {
     "name": "stdout",
     "output_type": "stream",
     "text": [
      "Compressing block 93 with 72 frames\n",
      "Compressing block 94 with 72 frames\n",
      "Compressing block 95 with 72 frames\n",
      "Compressing block 96 with 72 frames\n"
     ]
    },
    {
     "name": "stderr",
     "output_type": "stream",
     "text": [
      "Compressing Time-Based Blocks: 6980it [00:04, 1502.23it/s]"
     ]
    },
    {
     "name": "stdout",
     "output_type": "stream",
     "text": [
      "Compressing block 97 with 72 frames\n"
     ]
    },
    {
     "name": "stderr",
     "output_type": "stream",
     "text": [
      "Compressing Time-Based Blocks: 7196it [00:04, 1525.23it/s]"
     ]
    },
    {
     "name": "stdout",
     "output_type": "stream",
     "text": [
      "Compressing block 98 with 72 frames\n",
      "Compressing block 99 with 72 frames\n",
      "Compressing block 100 with 72 frames\n",
      "Compressing block 101 with 72 frames\n",
      "Compressing block 102 with 72 frames\n"
     ]
    },
    {
     "name": "stderr",
     "output_type": "stream",
     "text": [
      "Compressing Time-Based Blocks: 7628it [00:05, 1583.57it/s]"
     ]
    },
    {
     "name": "stdout",
     "output_type": "stream",
     "text": [
      "Compressing block 103 with 72 frames\n",
      "Compressing block 104 with 72 frames\n",
      "Compressing block 105 with 72 frames\n",
      "Compressing block 106 with 72 frames\n",
      "Compressing block 107 with 72 frames\n"
     ]
    },
    {
     "name": "stderr",
     "output_type": "stream",
     "text": [
      "Compressing Time-Based Blocks: 7844it [00:05, 1595.79it/s]"
     ]
    },
    {
     "name": "stdout",
     "output_type": "stream",
     "text": [
      "Compressing block 108 with 72 frames\n",
      "Compressing block 109 with 72 frames\n",
      "Compressing block 110 with 72 frames\n",
      "Compressing block 111 with 72 frames\n"
     ]
    },
    {
     "name": "stderr",
     "output_type": "stream",
     "text": [
      "Compressing Time-Based Blocks: 8060it [00:05, 1597.89it/s]"
     ]
    },
    {
     "name": "stdout",
     "output_type": "stream",
     "text": [
      "Compressing block 112 with 72 frames\n"
     ]
    },
    {
     "name": "stderr",
     "output_type": "stream",
     "text": [
      "Compressing Time-Based Blocks: 8276it [00:05, 1578.45it/s]"
     ]
    },
    {
     "name": "stdout",
     "output_type": "stream",
     "text": [
      "Compressing block 113 with 72 frames\n",
      "Compressing block 114 with 72 frames\n",
      "Compressing block 115 with 72 frames\n",
      "Compressing block 116 with 72 frames\n",
      "Compressing block 117 with 72 frames\n"
     ]
    },
    {
     "name": "stderr",
     "output_type": "stream",
     "text": [
      "Compressing Time-Based Blocks: 8708it [00:05, 1597.66it/s]"
     ]
    },
    {
     "name": "stdout",
     "output_type": "stream",
     "text": [
      "Compressing block 118 with 72 frames\n",
      "Compressing block 119 with 72 frames\n",
      "Compressing block 120 with 72 frames\n",
      "Compressing block 121 with 72 frames\n",
      "Compressing block 122 with 72 frames\n"
     ]
    },
    {
     "name": "stderr",
     "output_type": "stream",
     "text": [
      "Compressing Time-Based Blocks: 8924it [00:06, 1612.07it/s]"
     ]
    },
    {
     "name": "stdout",
     "output_type": "stream",
     "text": [
      "Compressing block 123 with 72 frames\n",
      "Compressing block 124 with 72 frames\n",
      "Compressing block 125 with 72 frames\n",
      "Compressing block 126 with 72 frames\n"
     ]
    },
    {
     "name": "stderr",
     "output_type": "stream",
     "text": [
      "Compressing Time-Based Blocks: 9140it [00:06, 1635.38it/s]"
     ]
    },
    {
     "name": "stdout",
     "output_type": "stream",
     "text": [
      "Compressing block 127 with 72 frames\n"
     ]
    },
    {
     "name": "stderr",
     "output_type": "stream",
     "text": [
      "Compressing Time-Based Blocks: 9356it [00:06, 1647.53it/s]"
     ]
    },
    {
     "name": "stdout",
     "output_type": "stream",
     "text": [
      "Compressing block 128 with 72 frames\n",
      "Compressing block 129 with 72 frames\n",
      "Compressing block 130 with 72 frames\n",
      "Compressing block 131 with 72 frames\n",
      "Compressing block 132 with 72 frames\n"
     ]
    },
    {
     "name": "stderr",
     "output_type": "stream",
     "text": [
      "Compressing Time-Based Blocks: 9788it [00:06, 1654.77it/s]"
     ]
    },
    {
     "name": "stdout",
     "output_type": "stream",
     "text": [
      "Compressing block 133 with 72 frames\n",
      "Compressing block 134 with 72 frames\n",
      "Compressing block 135 with 72 frames\n",
      "Compressing block 136 with 72 frames\n",
      "Compressing block 137 with 72 frames\n"
     ]
    },
    {
     "name": "stderr",
     "output_type": "stream",
     "text": [
      "Compressing Time-Based Blocks: 10004it [00:06, 1654.89it/s]"
     ]
    },
    {
     "name": "stdout",
     "output_type": "stream",
     "text": [
      "Compressing block 138 with 72 frames\n",
      "Compressing block 139 with 72 frames\n",
      "Compressing block 140 with 72 frames\n",
      "Compressing block 141 with 72 frames\n"
     ]
    },
    {
     "name": "stderr",
     "output_type": "stream",
     "text": [
      "Compressing Time-Based Blocks: 10436it [00:06, 1570.31it/s]"
     ]
    },
    {
     "name": "stdout",
     "output_type": "stream",
     "text": [
      "Compressing block 142 with 72 frames\n",
      "Compressing block 143 with 72 frames\n",
      "Compressing block 144 with 72 frames\n",
      "Compressing block 145 with 72 frames\n",
      "Compressing block 146 with 72 frames\n"
     ]
    },
    {
     "name": "stderr",
     "output_type": "stream",
     "text": [
      "Compressing Time-Based Blocks: 10867it [00:07, 1621.77it/s]"
     ]
    },
    {
     "name": "stdout",
     "output_type": "stream",
     "text": [
      "Compressing block 147 with 72 frames\n",
      "Compressing block 148 with 72 frames\n",
      "Compressing block 149 with 72 frames\n",
      "Compressing block 150 with 71 frames\n",
      "Compressing block 151 with 72 frames\n"
     ]
    },
    {
     "name": "stderr",
     "output_type": "stream",
     "text": [
      "Compressing Time-Based Blocks: 11083it [00:07, 1648.14it/s]"
     ]
    },
    {
     "name": "stdout",
     "output_type": "stream",
     "text": [
      "Compressing block 152 with 72 frames\n",
      "Compressing block 153 with 72 frames\n",
      "Compressing block 154 with 72 frames\n",
      "Compressing block 155 with 72 frames\n",
      "Compressing block 156 with 72 frames\n"
     ]
    },
    {
     "name": "stderr",
     "output_type": "stream",
     "text": [
      "Compressing Time-Based Blocks: 11515it [00:07, 1664.99it/s]"
     ]
    },
    {
     "name": "stdout",
     "output_type": "stream",
     "text": [
      "Compressing block 157 with 72 frames\n",
      "Compressing block 158 with 72 frames\n",
      "Compressing block 159 with 72 frames\n",
      "Compressing block 160 with 72 frames\n",
      "Compressing block 161 with 72 frames\n"
     ]
    },
    {
     "name": "stderr",
     "output_type": "stream",
     "text": [
      "Compressing Time-Based Blocks: 11947it [00:07, 1670.21it/s]"
     ]
    },
    {
     "name": "stdout",
     "output_type": "stream",
     "text": [
      "Compressing block 162 with 72 frames\n",
      "Compressing block 163 with 72 frames\n",
      "Compressing block 164 with 72 frames\n",
      "Compressing block 165 with 72 frames\n",
      "Compressing block 166 with 72 frames\n"
     ]
    },
    {
     "name": "stderr",
     "output_type": "stream",
     "text": [
      "Compressing Time-Based Blocks: 12163it [00:08, 1582.29it/s]"
     ]
    },
    {
     "name": "stdout",
     "output_type": "stream",
     "text": [
      "Compressing block 167 with 72 frames\n",
      "Compressing block 168 with 72 frames\n",
      "Compressing block 169 with 72 frames\n",
      "Compressing block 170 with 72 frames\n",
      "Compressing block 171 with 72 frames\n"
     ]
    },
    {
     "name": "stderr",
     "output_type": "stream",
     "text": [
      "Compressing Time-Based Blocks: 12595it [00:08, 1603.60it/s]"
     ]
    },
    {
     "name": "stdout",
     "output_type": "stream",
     "text": [
      "Compressing block 172 with 72 frames\n",
      "Compressing block 173 with 72 frames\n",
      "Compressing block 174 with 72 frames\n",
      "Compressing block 175 with 72 frames\n",
      "Compressing block 176 with 72 frames\n"
     ]
    },
    {
     "name": "stderr",
     "output_type": "stream",
     "text": [
      "Compressing Time-Based Blocks: 13027it [00:08, 1647.72it/s]"
     ]
    },
    {
     "name": "stdout",
     "output_type": "stream",
     "text": [
      "Compressing block 177 with 72 frames\n",
      "Compressing block 178 with 72 frames\n",
      "Compressing block 179 with 72 frames\n",
      "Compressing block 180 with 72 frames\n",
      "Compressing block 181 with 72 frames\n"
     ]
    },
    {
     "name": "stderr",
     "output_type": "stream",
     "text": [
      "Compressing Time-Based Blocks: 13243it [00:08, 1651.78it/s]"
     ]
    },
    {
     "name": "stdout",
     "output_type": "stream",
     "text": [
      "Compressing block 182 with 72 frames\n",
      "Compressing block 183 with 72 frames\n",
      "Compressing block 184 with 72 frames\n",
      "Compressing block 185 with 62 frames\n",
      "Compressing block 186 with 72 frames\n"
     ]
    },
    {
     "name": "stderr",
     "output_type": "stream",
     "text": [
      "Compressing Time-Based Blocks: 13665it [00:08, 1652.96it/s]"
     ]
    },
    {
     "name": "stdout",
     "output_type": "stream",
     "text": [
      "Compressing block 187 with 72 frames\n",
      "Compressing block 188 with 72 frames\n",
      "Compressing block 189 with 72 frames\n",
      "Compressing block 190 with 72 frames\n",
      "Compressing block 191 with 70 frames\n"
     ]
    },
    {
     "name": "stderr",
     "output_type": "stream",
     "text": [
      "Compressing Time-Based Blocks: 14095it [00:09, 1583.23it/s]"
     ]
    },
    {
     "name": "stdout",
     "output_type": "stream",
     "text": [
      "Compressing block 192 with 72 frames\n",
      "Compressing block 193 with 72 frames\n",
      "Compressing block 194 with 72 frames\n",
      "Compressing block 195 with 72 frames\n",
      "Compressing block 196 with 72 frames\n"
     ]
    },
    {
     "name": "stderr",
     "output_type": "stream",
     "text": [
      "Compressing Time-Based Blocks: 14311it [00:09, 1533.70it/s]\n"
     ]
    },
    {
     "name": "stdout",
     "output_type": "stream",
     "text": [
      "Compressing block 197 with 72 frames\n",
      "Compressing block 198 with 72 frames\n",
      "Saved 199 blocks for la2, band 03\n",
      "RAM usage: 1530.59 MB\n",
      "Starting compression for ./time_series_cleaned_la2/C04_time_series.nc\n",
      "Loaded 14300 frames\n",
      "First time: 2024-09-01 00:00:20, Last time: 2024-12-09 23:50:20\n",
      "Largest time gap: 4:50:00\n",
      "Smallest time gap: 0:00:00\n",
      "⚠️ Large gap at index 4554: 4:30:00 between 2024-10-02 11:30:20 and 2024-10-02 16:00:20\n",
      "⚠️ Large gap at index 10877: 2:50:00 between 2024-11-15 17:40:19 and 2024-11-15 20:30:19\n",
      "⚠️ Large gap at index 13363: 4:50:00 between 2024-12-03 05:20:20 and 2024-12-03 10:10:20\n",
      "→ Interpolated to 14299 frames\n",
      "Got 14299 frames after interpolation\n"
     ]
    },
    {
     "name": "stderr",
     "output_type": "stream",
     "text": [
      "Compressing Time-Based Blocks: 432it [00:00, 4037.26it/s]"
     ]
    },
    {
     "name": "stdout",
     "output_type": "stream",
     "text": [
      "Compressing block 0 with 72 frames\n",
      "Compressing block 1 with 72 frames\n",
      "Compressing block 2 with 72 frames\n",
      "Compressing block 3 with 72 frames\n",
      "Compressing block 4 with 72 frames\n",
      "Compressing block 5 with 72 frames\n",
      "Compressing block 6 with 72 frames\n",
      "Compressing block 7 with 72 frames\n",
      "Compressing block 8 with 72 frames\n",
      "Compressing block 9 with 72 frames\n",
      "Compressing block 10 with 72 frames\n",
      "Compressing block 11 with 72 frames\n"
     ]
    },
    {
     "name": "stderr",
     "output_type": "stream",
     "text": [
      "Compressing Time-Based Blocks: 1296it [00:00, 4011.27it/s]"
     ]
    },
    {
     "name": "stdout",
     "output_type": "stream",
     "text": [
      "Compressing block 12 with 72 frames\n",
      "Compressing block 13 with 72 frames\n",
      "Compressing block 14 with 72 frames\n",
      "Compressing block 15 with 72 frames\n",
      "Compressing block 16 with 72 frames\n",
      "Compressing block 17 with 72 frames\n",
      "Compressing block 18 with 72 frames\n",
      "Compressing block 19 with 72 frames\n",
      "Compressing block 20 with 72 frames\n",
      "Compressing block 21 with 72 frames\n",
      "Compressing block 22 with 72 frames\n"
     ]
    },
    {
     "name": "stderr",
     "output_type": "stream",
     "text": [
      "Compressing Time-Based Blocks: 2160it [00:00, 4056.76it/s]"
     ]
    },
    {
     "name": "stdout",
     "output_type": "stream",
     "text": [
      "Compressing block 23 with 72 frames\n",
      "Compressing block 24 with 72 frames\n",
      "Compressing block 25 with 72 frames\n",
      "Compressing block 26 with 72 frames\n",
      "Compressing block 27 with 72 frames\n",
      "Compressing block 28 with 72 frames\n",
      "Compressing block 29 with 72 frames\n",
      "Compressing block 30 with 72 frames\n",
      "Compressing block 31 with 72 frames\n",
      "Compressing block 32 with 72 frames\n",
      "Compressing block 33 with 72 frames\n",
      "Compressing block 34 with 72 frames\n"
     ]
    },
    {
     "name": "stderr",
     "output_type": "stream",
     "text": [
      "Compressing Time-Based Blocks: 3024it [00:00, 4031.29it/s]"
     ]
    },
    {
     "name": "stdout",
     "output_type": "stream",
     "text": [
      "Compressing block 35 with 72 frames\n",
      "Compressing block 36 with 72 frames\n",
      "Compressing block 37 with 72 frames\n",
      "Compressing block 38 with 72 frames\n",
      "Compressing block 39 with 72 frames\n",
      "Compressing block 40 with 72 frames\n",
      "Compressing block 41 with 72 frames\n",
      "Compressing block 42 with 72 frames\n",
      "Compressing block 43 with 72 frames\n",
      "Compressing block 44 with 72 frames\n",
      "Compressing block 45 with 72 frames\n"
     ]
    },
    {
     "name": "stderr",
     "output_type": "stream",
     "text": [
      "Compressing Time-Based Blocks: 3888it [00:00, 3971.40it/s]"
     ]
    },
    {
     "name": "stdout",
     "output_type": "stream",
     "text": [
      "Compressing block 46 with 72 frames\n",
      "Compressing block 47 with 72 frames\n",
      "Compressing block 48 with 72 frames\n",
      "Compressing block 49 with 72 frames\n",
      "Compressing block 50 with 72 frames\n",
      "Compressing block 51 with 72 frames\n",
      "Compressing block 52 with 72 frames\n",
      "Compressing block 53 with 72 frames\n",
      "Compressing block 54 with 72 frames\n",
      "Compressing block 55 with 72 frames\n",
      "Compressing block 56 with 72 frames\n"
     ]
    },
    {
     "name": "stderr",
     "output_type": "stream",
     "text": [
      "Compressing Time-Based Blocks: 4748it [00:01, 3968.90it/s]"
     ]
    },
    {
     "name": "stdout",
     "output_type": "stream",
     "text": [
      "Compressing block 57 with 72 frames\n",
      "Compressing block 58 with 72 frames\n",
      "Compressing block 59 with 72 frames\n",
      "Compressing block 60 with 72 frames\n",
      "Compressing block 61 with 72 frames\n",
      "Compressing block 62 with 68 frames\n",
      "Compressing block 63 with 72 frames\n",
      "Compressing block 64 with 72 frames\n",
      "Compressing block 65 with 72 frames\n",
      "Compressing block 66 with 71 frames\n",
      "Compressing block 67 with 72 frames\n",
      "Compressing block 68 with 72 frames\n"
     ]
    },
    {
     "name": "stderr",
     "output_type": "stream",
     "text": [
      "Compressing Time-Based Blocks: 5611it [00:01, 4038.95it/s]"
     ]
    },
    {
     "name": "stdout",
     "output_type": "stream",
     "text": [
      "Compressing block 69 with 72 frames\n",
      "Compressing block 70 with 72 frames\n",
      "Compressing block 71 with 72 frames\n",
      "Compressing block 72 with 72 frames\n",
      "Compressing block 73 with 72 frames\n",
      "Compressing block 74 with 72 frames\n",
      "Compressing block 75 with 72 frames\n",
      "Compressing block 76 with 72 frames\n",
      "Compressing block 77 with 72 frames\n",
      "Compressing block 78 with 72 frames\n",
      "Compressing block 79 with 72 frames\n",
      "Compressing block 80 with 72 frames\n"
     ]
    },
    {
     "name": "stderr",
     "output_type": "stream",
     "text": [
      "Compressing Time-Based Blocks: 6475it [00:01, 4020.99it/s]"
     ]
    },
    {
     "name": "stdout",
     "output_type": "stream",
     "text": [
      "Compressing block 81 with 72 frames\n",
      "Compressing block 82 with 72 frames\n",
      "Compressing block 83 with 72 frames\n",
      "Compressing block 84 with 72 frames\n",
      "Compressing block 85 with 72 frames\n",
      "Compressing block 86 with 72 frames\n",
      "Compressing block 87 with 72 frames\n",
      "Compressing block 88 with 72 frames\n",
      "Compressing block 89 with 72 frames\n",
      "Compressing block 90 with 72 frames\n",
      "Compressing block 91 with 72 frames\n",
      "Compressing block 92 with 72 frames\n"
     ]
    },
    {
     "name": "stderr",
     "output_type": "stream",
     "text": [
      "Compressing Time-Based Blocks: 7339it [00:01, 4043.17it/s]"
     ]
    },
    {
     "name": "stdout",
     "output_type": "stream",
     "text": [
      "Compressing block 93 with 72 frames\n",
      "Compressing block 94 with 72 frames\n",
      "Compressing block 95 with 72 frames\n",
      "Compressing block 96 with 72 frames\n",
      "Compressing block 97 with 72 frames\n",
      "Compressing block 98 with 72 frames\n",
      "Compressing block 99 with 72 frames\n",
      "Compressing block 100 with 72 frames\n",
      "Compressing block 101 with 72 frames\n",
      "Compressing block 102 with 72 frames\n",
      "Compressing block 103 with 72 frames\n",
      "Compressing block 104 with 72 frames\n"
     ]
    },
    {
     "name": "stderr",
     "output_type": "stream",
     "text": [
      "Compressing Time-Based Blocks: 8275it [00:02, 4236.69it/s]"
     ]
    },
    {
     "name": "stdout",
     "output_type": "stream",
     "text": [
      "Compressing block 105 with 72 frames\n",
      "Compressing block 106 with 72 frames\n",
      "Compressing block 107 with 72 frames\n",
      "Compressing block 108 with 72 frames\n",
      "Compressing block 109 with 72 frames\n",
      "Compressing block 110 with 72 frames\n",
      "Compressing block 111 with 72 frames\n",
      "Compressing block 112 with 72 frames\n",
      "Compressing block 113 with 72 frames\n",
      "Compressing block 114 with 72 frames\n",
      "Compressing block 115 with 72 frames\n",
      "Compressing block 116 with 72 frames\n",
      "Compressing block 117 with 72 frames\n"
     ]
    },
    {
     "name": "stderr",
     "output_type": "stream",
     "text": [
      "Compressing Time-Based Blocks: 9139it [00:02, 4211.06it/s]"
     ]
    },
    {
     "name": "stdout",
     "output_type": "stream",
     "text": [
      "Compressing block 118 with 72 frames\n",
      "Compressing block 119 with 72 frames\n",
      "Compressing block 120 with 72 frames\n",
      "Compressing block 121 with 72 frames\n",
      "Compressing block 122 with 72 frames\n",
      "Compressing block 123 with 72 frames\n",
      "Compressing block 124 with 72 frames\n",
      "Compressing block 125 with 72 frames\n",
      "Compressing block 126 with 72 frames\n",
      "Compressing block 127 with 72 frames\n",
      "Compressing block 128 with 72 frames\n",
      "Compressing block 129 with 72 frames\n"
     ]
    },
    {
     "name": "stderr",
     "output_type": "stream",
     "text": [
      "Compressing Time-Based Blocks: 10003it [00:02, 4224.28it/s]"
     ]
    },
    {
     "name": "stdout",
     "output_type": "stream",
     "text": [
      "Compressing block 130 with 72 frames\n",
      "Compressing block 131 with 72 frames\n",
      "Compressing block 132 with 72 frames\n",
      "Compressing block 133 with 72 frames\n",
      "Compressing block 134 with 72 frames\n",
      "Compressing block 135 with 72 frames\n",
      "Compressing block 136 with 72 frames\n",
      "Compressing block 137 with 72 frames\n",
      "Compressing block 138 with 72 frames\n",
      "Compressing block 139 with 72 frames\n",
      "Compressing block 140 with 72 frames\n",
      "Compressing block 141 with 72 frames\n"
     ]
    },
    {
     "name": "stderr",
     "output_type": "stream",
     "text": [
      "Compressing Time-Based Blocks: 10866it [00:02, 4219.25it/s]"
     ]
    },
    {
     "name": "stdout",
     "output_type": "stream",
     "text": [
      "Compressing block 142 with 72 frames\n",
      "Compressing block 143 with 72 frames\n",
      "Compressing block 144 with 72 frames\n",
      "Compressing block 145 with 72 frames\n",
      "Compressing block 146 with 72 frames\n",
      "Compressing block 147 with 72 frames\n",
      "Compressing block 148 with 72 frames\n",
      "Compressing block 149 with 72 frames\n",
      "Compressing block 150 with 71 frames\n",
      "Compressing block 151 with 72 frames\n",
      "Compressing block 152 with 72 frames\n",
      "Compressing block 153 with 72 frames\n"
     ]
    },
    {
     "name": "stderr",
     "output_type": "stream",
     "text": [
      "Compressing Time-Based Blocks: 11730it [00:02, 4223.18it/s]"
     ]
    },
    {
     "name": "stdout",
     "output_type": "stream",
     "text": [
      "Compressing block 154 with 72 frames\n",
      "Compressing block 155 with 72 frames\n",
      "Compressing block 156 with 72 frames\n",
      "Compressing block 157 with 72 frames\n",
      "Compressing block 158 with 72 frames\n",
      "Compressing block 159 with 72 frames\n",
      "Compressing block 160 with 72 frames\n",
      "Compressing block 161 with 72 frames\n",
      "Compressing block 162 with 72 frames\n",
      "Compressing block 163 with 72 frames\n",
      "Compressing block 164 with 72 frames\n",
      "Compressing block 165 with 72 frames\n"
     ]
    },
    {
     "name": "stderr",
     "output_type": "stream",
     "text": [
      "Compressing Time-Based Blocks: 12594it [00:03, 4212.51it/s]"
     ]
    },
    {
     "name": "stdout",
     "output_type": "stream",
     "text": [
      "Compressing block 166 with 72 frames\n",
      "Compressing block 167 with 72 frames\n",
      "Compressing block 168 with 72 frames\n",
      "Compressing block 169 with 72 frames\n",
      "Compressing block 170 with 72 frames\n",
      "Compressing block 171 with 72 frames\n",
      "Compressing block 172 with 72 frames\n",
      "Compressing block 173 with 72 frames\n",
      "Compressing block 174 with 72 frames\n",
      "Compressing block 175 with 72 frames\n",
      "Compressing block 176 with 72 frames\n",
      "Compressing block 177 with 72 frames\n"
     ]
    },
    {
     "name": "stderr",
     "output_type": "stream",
     "text": [
      "Compressing Time-Based Blocks: 13509it [00:03, 4230.01it/s]"
     ]
    },
    {
     "name": "stdout",
     "output_type": "stream",
     "text": [
      "Compressing block 178 with 72 frames\n",
      "Compressing block 179 with 72 frames\n",
      "Compressing block 180 with 72 frames\n",
      "Compressing block 181 with 72 frames\n",
      "Compressing block 182 with 72 frames\n",
      "Compressing block 183 with 72 frames\n",
      "Compressing block 184 with 72 frames\n",
      "Compressing block 185 with 51 frames\n",
      "Compressing block 186 with 72 frames\n",
      "Compressing block 187 with 72 frames\n",
      "Compressing block 188 with 72 frames\n",
      "Compressing block 189 with 72 frames\n",
      "Compressing block 190 with 72 frames\n"
     ]
    },
    {
     "name": "stderr",
     "output_type": "stream",
     "text": [
      "Compressing Time-Based Blocks: 14299it [00:03, 4125.87it/s]\n"
     ]
    },
    {
     "name": "stdout",
     "output_type": "stream",
     "text": [
      "Compressing block 191 with 70 frames\n",
      "Compressing block 192 with 72 frames\n",
      "Compressing block 193 with 72 frames\n",
      "Compressing block 194 with 72 frames\n",
      "Compressing block 195 with 72 frames\n",
      "Compressing block 196 with 72 frames\n",
      "Compressing block 197 with 72 frames\n",
      "Compressing block 198 with 72 frames\n",
      "Saved 199 blocks for la2, band 04\n",
      "RAM usage: 1922.02 MB\n",
      "Starting compression for ./time_series_cleaned_la2/C05_time_series.nc\n",
      "Loaded 14322 frames\n",
      "First time: 2024-09-01 00:00:20, Last time: 2024-12-09 23:50:20\n",
      "Largest time gap: 4:30:00\n",
      "Smallest time gap: 0:00:00\n",
      "⚠️ Large gap at index 4553: 4:30:00 between 2024-10-02 11:30:20 and 2024-10-02 16:00:20\n",
      "⚠️ Large gap at index 10888: 2:50:00 between 2024-11-15 17:40:19 and 2024-11-15 20:30:19\n",
      "⚠️ Large gap at index 13384: 3:30:00 between 2024-12-03 06:40:20 and 2024-12-03 10:10:20\n",
      "→ Interpolated to 14307 frames\n",
      "Got 14307 frames after interpolation\n"
     ]
    },
    {
     "name": "stderr",
     "output_type": "stream",
     "text": [
      "Compressing Time-Based Blocks: 144it [00:00, 1283.46it/s]"
     ]
    },
    {
     "name": "stdout",
     "output_type": "stream",
     "text": [
      "Compressing block 0 with 72 frames\n",
      "Compressing block 1 with 72 frames\n",
      "Compressing block 2 with 72 frames\n",
      "Compressing block 3 with 72 frames\n"
     ]
    },
    {
     "name": "stderr",
     "output_type": "stream",
     "text": [
      "Compressing Time-Based Blocks: 432it [00:00, 1264.88it/s]"
     ]
    },
    {
     "name": "stdout",
     "output_type": "stream",
     "text": [
      "Compressing block 4 with 72 frames\n",
      "Compressing block 5 with 72 frames\n",
      "Compressing block 6 with 72 frames\n",
      "Compressing block 7 with 72 frames\n"
     ]
    },
    {
     "name": "stderr",
     "output_type": "stream",
     "text": [
      "Compressing Time-Based Blocks: 648it [00:00, 1360.30it/s]"
     ]
    },
    {
     "name": "stdout",
     "output_type": "stream",
     "text": [
      "Compressing block 8 with 72 frames\n",
      "Compressing block 9 with 72 frames\n",
      "Compressing block 10 with 72 frames\n"
     ]
    },
    {
     "name": "stderr",
     "output_type": "stream",
     "text": [
      "Compressing Time-Based Blocks: 792it [00:00, 1354.47it/s]"
     ]
    },
    {
     "name": "stdout",
     "output_type": "stream",
     "text": [
      "Compressing block 11 with 72 frames\n"
     ]
    },
    {
     "name": "stderr",
     "output_type": "stream",
     "text": [
      "Compressing Time-Based Blocks: 936it [00:00, 1352.79it/s]"
     ]
    },
    {
     "name": "stdout",
     "output_type": "stream",
     "text": [
      "Compressing block 12 with 72 frames\n",
      "Compressing block 13 with 72 frames\n",
      "Compressing block 14 with 72 frames\n",
      "Compressing block 15 with 72 frames\n"
     ]
    },
    {
     "name": "stderr",
     "output_type": "stream",
     "text": [
      "Compressing Time-Based Blocks: 1152it [00:00, 1421.03it/s]"
     ]
    },
    {
     "name": "stdout",
     "output_type": "stream",
     "text": [
      "Compressing block 16 with 72 frames\n"
     ]
    },
    {
     "name": "stderr",
     "output_type": "stream",
     "text": [
      "Compressing Time-Based Blocks: 1368it [00:00, 1443.88it/s]"
     ]
    },
    {
     "name": "stdout",
     "output_type": "stream",
     "text": [
      "Compressing block 17 with 72 frames\n",
      "Compressing block 18 with 72 frames\n",
      "Compressing block 19 with 72 frames\n",
      "Compressing block 20 with 72 frames\n",
      "Compressing block 21 with 72 frames\n"
     ]
    },
    {
     "name": "stderr",
     "output_type": "stream",
     "text": [
      "Compressing Time-Based Blocks: 1800it [00:01, 1518.71it/s]"
     ]
    },
    {
     "name": "stdout",
     "output_type": "stream",
     "text": [
      "Compressing block 22 with 72 frames\n",
      "Compressing block 23 with 72 frames\n",
      "Compressing block 24 with 72 frames\n",
      "Compressing block 25 with 72 frames\n",
      "Compressing block 26 with 72 frames\n"
     ]
    },
    {
     "name": "stderr",
     "output_type": "stream",
     "text": [
      "Compressing Time-Based Blocks: 2016it [00:01, 1546.10it/s]"
     ]
    },
    {
     "name": "stdout",
     "output_type": "stream",
     "text": [
      "Compressing block 27 with 72 frames\n",
      "Compressing block 28 with 72 frames\n",
      "Compressing block 29 with 72 frames\n",
      "Compressing block 30 with 72 frames\n"
     ]
    },
    {
     "name": "stderr",
     "output_type": "stream",
     "text": [
      "Compressing Time-Based Blocks: 2232it [00:01, 1569.07it/s]"
     ]
    },
    {
     "name": "stdout",
     "output_type": "stream",
     "text": [
      "Compressing block 31 with 72 frames\n"
     ]
    },
    {
     "name": "stderr",
     "output_type": "stream",
     "text": [
      "Compressing Time-Based Blocks: 2448it [00:01, 1574.34it/s]"
     ]
    },
    {
     "name": "stdout",
     "output_type": "stream",
     "text": [
      "Compressing block 32 with 72 frames\n",
      "Compressing block 33 with 72 frames\n",
      "Compressing block 34 with 72 frames\n",
      "Compressing block 35 with 72 frames\n",
      "Compressing block 36 with 72 frames\n"
     ]
    },
    {
     "name": "stderr",
     "output_type": "stream",
     "text": [
      "Compressing Time-Based Blocks: 2664it [00:01, 1583.33it/s]"
     ]
    },
    {
     "name": "stdout",
     "output_type": "stream",
     "text": [
      "Compressing block 37 with 72 frames\n",
      "Compressing block 38 with 72 frames\n",
      "Compressing block 39 with 72 frames\n"
     ]
    },
    {
     "name": "stderr",
     "output_type": "stream",
     "text": [
      "Compressing Time-Based Blocks: 2880it [00:01, 1432.23it/s]"
     ]
    },
    {
     "name": "stdout",
     "output_type": "stream",
     "text": [
      "Compressing block 40 with 72 frames\n"
     ]
    },
    {
     "name": "stderr",
     "output_type": "stream",
     "text": [
      "Compressing Time-Based Blocks: 3096it [00:02, 1449.65it/s]"
     ]
    },
    {
     "name": "stdout",
     "output_type": "stream",
     "text": [
      "Compressing block 41 with 72 frames\n",
      "Compressing block 42 with 72 frames\n",
      "Compressing block 43 with 72 frames\n",
      "Compressing block 44 with 72 frames\n",
      "Compressing block 45 with 72 frames\n"
     ]
    },
    {
     "name": "stderr",
     "output_type": "stream",
     "text": [
      "Compressing Time-Based Blocks: 3528it [00:02, 1535.82it/s]"
     ]
    },
    {
     "name": "stdout",
     "output_type": "stream",
     "text": [
      "Compressing block 46 with 72 frames\n",
      "Compressing block 47 with 72 frames\n",
      "Compressing block 48 with 72 frames\n",
      "Compressing block 49 with 72 frames\n",
      "Compressing block 50 with 72 frames\n"
     ]
    },
    {
     "name": "stderr",
     "output_type": "stream",
     "text": [
      "Compressing Time-Based Blocks: 3744it [00:02, 1562.40it/s]"
     ]
    },
    {
     "name": "stdout",
     "output_type": "stream",
     "text": [
      "Compressing block 51 with 72 frames\n",
      "Compressing block 52 with 72 frames\n",
      "Compressing block 53 with 72 frames\n",
      "Compressing block 54 with 72 frames\n"
     ]
    },
    {
     "name": "stderr",
     "output_type": "stream",
     "text": [
      "Compressing Time-Based Blocks: 3960it [00:02, 1598.11it/s]"
     ]
    },
    {
     "name": "stdout",
     "output_type": "stream",
     "text": [
      "Compressing block 55 with 72 frames\n"
     ]
    },
    {
     "name": "stderr",
     "output_type": "stream",
     "text": [
      "Compressing Time-Based Blocks: 4176it [00:02, 1632.48it/s]"
     ]
    },
    {
     "name": "stdout",
     "output_type": "stream",
     "text": [
      "Compressing block 56 with 72 frames\n",
      "Compressing block 57 with 72 frames\n",
      "Compressing block 58 with 72 frames\n",
      "Compressing block 59 with 72 frames\n",
      "Compressing block 60 with 72 frames\n"
     ]
    },
    {
     "name": "stderr",
     "output_type": "stream",
     "text": [
      "Compressing Time-Based Blocks: 4604it [00:03, 1645.98it/s]"
     ]
    },
    {
     "name": "stdout",
     "output_type": "stream",
     "text": [
      "Compressing block 61 with 72 frames\n",
      "Compressing block 62 with 68 frames\n",
      "Compressing block 63 with 72 frames\n",
      "Compressing block 64 with 72 frames\n",
      "Compressing block 65 with 72 frames\n"
     ]
    },
    {
     "name": "stderr",
     "output_type": "stream",
     "text": [
      "Compressing Time-Based Blocks: 4819it [00:03, 1646.75it/s]"
     ]
    },
    {
     "name": "stdout",
     "output_type": "stream",
     "text": [
      "Compressing block 66 with 71 frames\n",
      "Compressing block 67 with 72 frames\n",
      "Compressing block 68 with 72 frames\n",
      "Compressing block 69 with 72 frames\n"
     ]
    },
    {
     "name": "stderr",
     "output_type": "stream",
     "text": [
      "Compressing Time-Based Blocks: 5035it [00:03, 1639.98it/s]"
     ]
    },
    {
     "name": "stdout",
     "output_type": "stream",
     "text": [
      "Compressing block 70 with 72 frames\n"
     ]
    },
    {
     "name": "stderr",
     "output_type": "stream",
     "text": [
      "Compressing Time-Based Blocks: 5251it [00:03, 1658.63it/s]"
     ]
    },
    {
     "name": "stdout",
     "output_type": "stream",
     "text": [
      "Compressing block 71 with 72 frames\n",
      "Compressing block 72 with 72 frames\n",
      "Compressing block 73 with 72 frames\n",
      "Compressing block 74 with 72 frames\n",
      "Compressing block 75 with 72 frames\n"
     ]
    },
    {
     "name": "stderr",
     "output_type": "stream",
     "text": [
      "Compressing Time-Based Blocks: 5683it [00:03, 1649.80it/s]"
     ]
    },
    {
     "name": "stdout",
     "output_type": "stream",
     "text": [
      "Compressing block 76 with 72 frames\n",
      "Compressing block 77 with 72 frames\n",
      "Compressing block 78 with 72 frames\n",
      "Compressing block 79 with 72 frames\n",
      "Compressing block 80 with 72 frames\n"
     ]
    },
    {
     "name": "stderr",
     "output_type": "stream",
     "text": [
      "Compressing Time-Based Blocks: 5899it [00:03, 1653.57it/s]"
     ]
    },
    {
     "name": "stdout",
     "output_type": "stream",
     "text": [
      "Compressing block 81 with 72 frames\n",
      "Compressing block 82 with 72 frames\n",
      "Compressing block 83 with 72 frames\n",
      "Compressing block 84 with 72 frames\n"
     ]
    },
    {
     "name": "stderr",
     "output_type": "stream",
     "text": [
      "Compressing Time-Based Blocks: 6115it [00:03, 1678.63it/s]"
     ]
    },
    {
     "name": "stdout",
     "output_type": "stream",
     "text": [
      "Compressing block 85 with 72 frames\n"
     ]
    },
    {
     "name": "stderr",
     "output_type": "stream",
     "text": [
      "Compressing Time-Based Blocks: 6331it [00:04, 1509.53it/s]"
     ]
    },
    {
     "name": "stdout",
     "output_type": "stream",
     "text": [
      "Compressing block 86 with 72 frames\n",
      "Compressing block 87 with 72 frames\n",
      "Compressing block 88 with 72 frames\n",
      "Compressing block 89 with 72 frames\n"
     ]
    },
    {
     "name": "stderr",
     "output_type": "stream",
     "text": [
      "Compressing Time-Based Blocks: 6547it [00:04, 1515.14it/s]"
     ]
    },
    {
     "name": "stdout",
     "output_type": "stream",
     "text": [
      "Compressing block 90 with 72 frames\n",
      "Compressing block 91 with 72 frames\n",
      "Compressing block 92 with 72 frames\n",
      "Compressing block 93 with 72 frames\n"
     ]
    },
    {
     "name": "stderr",
     "output_type": "stream",
     "text": [
      "Compressing Time-Based Blocks: 6763it [00:04, 1526.35it/s]"
     ]
    },
    {
     "name": "stdout",
     "output_type": "stream",
     "text": [
      "Compressing block 94 with 72 frames\n"
     ]
    },
    {
     "name": "stderr",
     "output_type": "stream",
     "text": [
      "Compressing Time-Based Blocks: 6979it [00:04, 1560.92it/s]"
     ]
    },
    {
     "name": "stdout",
     "output_type": "stream",
     "text": [
      "Compressing block 95 with 72 frames\n",
      "Compressing block 96 with 72 frames\n",
      "Compressing block 97 with 72 frames\n",
      "Compressing block 98 with 72 frames\n",
      "Compressing block 99 with 72 frames\n"
     ]
    },
    {
     "name": "stderr",
     "output_type": "stream",
     "text": [
      "Compressing Time-Based Blocks: 7411it [00:04, 1608.30it/s]"
     ]
    },
    {
     "name": "stdout",
     "output_type": "stream",
     "text": [
      "Compressing block 100 with 72 frames\n",
      "Compressing block 101 with 72 frames\n",
      "Compressing block 102 with 72 frames\n",
      "Compressing block 103 with 72 frames\n",
      "Compressing block 104 with 72 frames\n"
     ]
    },
    {
     "name": "stderr",
     "output_type": "stream",
     "text": [
      "Compressing Time-Based Blocks: 7627it [00:04, 1621.75it/s]"
     ]
    },
    {
     "name": "stdout",
     "output_type": "stream",
     "text": [
      "Compressing block 105 with 72 frames\n",
      "Compressing block 106 with 72 frames\n",
      "Compressing block 107 with 72 frames\n",
      "Compressing block 108 with 72 frames\n"
     ]
    },
    {
     "name": "stderr",
     "output_type": "stream",
     "text": [
      "Compressing Time-Based Blocks: 7843it [00:05, 1612.54it/s]"
     ]
    },
    {
     "name": "stdout",
     "output_type": "stream",
     "text": [
      "Compressing block 109 with 72 frames\n"
     ]
    },
    {
     "name": "stderr",
     "output_type": "stream",
     "text": [
      "Compressing Time-Based Blocks: 8059it [00:05, 1635.67it/s]"
     ]
    },
    {
     "name": "stdout",
     "output_type": "stream",
     "text": [
      "Compressing block 110 with 72 frames\n",
      "Compressing block 111 with 72 frames\n",
      "Compressing block 112 with 72 frames\n",
      "Compressing block 113 with 72 frames\n",
      "Compressing block 114 with 72 frames\n"
     ]
    },
    {
     "name": "stderr",
     "output_type": "stream",
     "text": [
      "Compressing Time-Based Blocks: 8491it [00:05, 1652.34it/s]"
     ]
    },
    {
     "name": "stdout",
     "output_type": "stream",
     "text": [
      "Compressing block 115 with 72 frames\n",
      "Compressing block 116 with 72 frames\n",
      "Compressing block 117 with 72 frames\n",
      "Compressing block 118 with 72 frames\n",
      "Compressing block 119 with 72 frames\n"
     ]
    },
    {
     "name": "stderr",
     "output_type": "stream",
     "text": [
      "Compressing Time-Based Blocks: 8707it [00:05, 1657.12it/s]"
     ]
    },
    {
     "name": "stdout",
     "output_type": "stream",
     "text": [
      "Compressing block 120 with 72 frames\n",
      "Compressing block 121 with 72 frames\n",
      "Compressing block 122 with 72 frames\n",
      "Compressing block 123 with 72 frames\n"
     ]
    },
    {
     "name": "stderr",
     "output_type": "stream",
     "text": [
      "Compressing Time-Based Blocks: 8923it [00:05, 1674.59it/s]"
     ]
    },
    {
     "name": "stdout",
     "output_type": "stream",
     "text": [
      "Compressing block 124 with 72 frames\n"
     ]
    },
    {
     "name": "stderr",
     "output_type": "stream",
     "text": [
      "Compressing Time-Based Blocks: 9139it [00:05, 1674.76it/s]"
     ]
    },
    {
     "name": "stdout",
     "output_type": "stream",
     "text": [
      "Compressing block 125 with 72 frames\n",
      "Compressing block 126 with 72 frames\n",
      "Compressing block 127 with 72 frames\n",
      "Compressing block 128 with 72 frames\n",
      "Compressing block 129 with 72 frames\n"
     ]
    },
    {
     "name": "stderr",
     "output_type": "stream",
     "text": [
      "Compressing Time-Based Blocks: 9571it [00:06, 1681.30it/s]"
     ]
    },
    {
     "name": "stdout",
     "output_type": "stream",
     "text": [
      "Compressing block 130 with 72 frames\n",
      "Compressing block 131 with 72 frames\n",
      "Compressing block 132 with 72 frames\n",
      "Compressing block 133 with 72 frames\n",
      "Compressing block 134 with 72 frames\n"
     ]
    },
    {
     "name": "stderr",
     "output_type": "stream",
     "text": [
      "Compressing Time-Based Blocks: 9787it [00:06, 1694.79it/s]"
     ]
    },
    {
     "name": "stdout",
     "output_type": "stream",
     "text": [
      "Compressing block 135 with 72 frames\n",
      "Compressing block 136 with 72 frames\n",
      "Compressing block 137 with 72 frames\n",
      "Compressing block 138 with 72 frames\n"
     ]
    },
    {
     "name": "stderr",
     "output_type": "stream",
     "text": [
      "Compressing Time-Based Blocks: 10003it [00:06, 1701.69it/s]"
     ]
    },
    {
     "name": "stdout",
     "output_type": "stream",
     "text": [
      "Compressing block 139 with 72 frames\n"
     ]
    },
    {
     "name": "stderr",
     "output_type": "stream",
     "text": [
      "Compressing Time-Based Blocks: 10219it [00:06, 1715.79it/s]"
     ]
    },
    {
     "name": "stdout",
     "output_type": "stream",
     "text": [
      "Compressing block 140 with 72 frames\n",
      "Compressing block 141 with 72 frames\n",
      "Compressing block 142 with 72 frames\n",
      "Compressing block 143 with 72 frames\n",
      "Compressing block 144 with 72 frames\n"
     ]
    },
    {
     "name": "stderr",
     "output_type": "stream",
     "text": [
      "Compressing Time-Based Blocks: 10651it [00:06, 1670.14it/s]"
     ]
    },
    {
     "name": "stdout",
     "output_type": "stream",
     "text": [
      "Compressing block 145 with 72 frames\n",
      "Compressing block 146 with 72 frames\n",
      "Compressing block 147 with 72 frames\n",
      "Compressing block 148 with 72 frames\n",
      "Compressing block 149 with 72 frames\n"
     ]
    },
    {
     "name": "stderr",
     "output_type": "stream",
     "text": [
      "Compressing Time-Based Blocks: 10866it [00:06, 1658.15it/s]"
     ]
    },
    {
     "name": "stdout",
     "output_type": "stream",
     "text": [
      "Compressing block 150 with 71 frames\n",
      "Compressing block 151 with 72 frames\n",
      "Compressing block 152 with 72 frames\n",
      "Compressing block 153 with 72 frames\n"
     ]
    },
    {
     "name": "stderr",
     "output_type": "stream",
     "text": [
      "Compressing Time-Based Blocks: 11082it [00:06, 1649.86it/s]"
     ]
    },
    {
     "name": "stdout",
     "output_type": "stream",
     "text": [
      "Compressing block 154 with 72 frames\n"
     ]
    },
    {
     "name": "stderr",
     "output_type": "stream",
     "text": [
      "Compressing Time-Based Blocks: 11298it [00:07, 1641.37it/s]"
     ]
    },
    {
     "name": "stdout",
     "output_type": "stream",
     "text": [
      "Compressing block 155 with 72 frames\n",
      "Compressing block 156 with 72 frames\n",
      "Compressing block 157 with 72 frames\n",
      "Compressing block 158 with 72 frames\n",
      "Compressing block 159 with 72 frames\n"
     ]
    },
    {
     "name": "stderr",
     "output_type": "stream",
     "text": [
      "Compressing Time-Based Blocks: 11730it [00:07, 1640.93it/s]"
     ]
    },
    {
     "name": "stdout",
     "output_type": "stream",
     "text": [
      "Compressing block 160 with 72 frames\n",
      "Compressing block 161 with 72 frames\n",
      "Compressing block 162 with 72 frames\n",
      "Compressing block 163 with 72 frames\n",
      "Compressing block 164 with 72 frames\n"
     ]
    },
    {
     "name": "stderr",
     "output_type": "stream",
     "text": [
      "Compressing Time-Based Blocks: 11946it [00:07, 1638.37it/s]"
     ]
    },
    {
     "name": "stdout",
     "output_type": "stream",
     "text": [
      "Compressing block 165 with 72 frames\n",
      "Compressing block 166 with 72 frames\n",
      "Compressing block 167 with 72 frames\n",
      "Compressing block 168 with 72 frames\n"
     ]
    },
    {
     "name": "stderr",
     "output_type": "stream",
     "text": [
      "Compressing Time-Based Blocks: 12162it [00:07, 1631.74it/s]"
     ]
    },
    {
     "name": "stdout",
     "output_type": "stream",
     "text": [
      "Compressing block 169 with 72 frames\n"
     ]
    },
    {
     "name": "stderr",
     "output_type": "stream",
     "text": [
      "Compressing Time-Based Blocks: 12378it [00:07, 1636.66it/s]"
     ]
    },
    {
     "name": "stdout",
     "output_type": "stream",
     "text": [
      "Compressing block 170 with 72 frames\n",
      "Compressing block 171 with 72 frames\n",
      "Compressing block 172 with 72 frames\n",
      "Compressing block 173 with 72 frames\n",
      "Compressing block 174 with 72 frames\n"
     ]
    },
    {
     "name": "stderr",
     "output_type": "stream",
     "text": [
      "Compressing Time-Based Blocks: 12810it [00:08, 1643.66it/s]"
     ]
    },
    {
     "name": "stdout",
     "output_type": "stream",
     "text": [
      "Compressing block 175 with 72 frames\n",
      "Compressing block 176 with 72 frames\n",
      "Compressing block 177 with 72 frames\n",
      "Compressing block 178 with 72 frames\n",
      "Compressing block 179 with 72 frames\n"
     ]
    },
    {
     "name": "stderr",
     "output_type": "stream",
     "text": [
      "Compressing Time-Based Blocks: 13026it [00:08, 1663.61it/s]"
     ]
    },
    {
     "name": "stdout",
     "output_type": "stream",
     "text": [
      "Compressing block 180 with 72 frames\n",
      "Compressing block 181 with 72 frames\n",
      "Compressing block 182 with 72 frames\n",
      "Compressing block 183 with 72 frames\n"
     ]
    },
    {
     "name": "stderr",
     "output_type": "stream",
     "text": [
      "Compressing Time-Based Blocks: 13242it [00:08, 1630.72it/s]"
     ]
    },
    {
     "name": "stdout",
     "output_type": "stream",
     "text": [
      "Compressing block 184 with 72 frames\n"
     ]
    },
    {
     "name": "stderr",
     "output_type": "stream",
     "text": [
      "Compressing Time-Based Blocks: 13445it [00:08, 1593.32it/s]"
     ]
    },
    {
     "name": "stdout",
     "output_type": "stream",
     "text": [
      "Compressing block 185 with 59 frames\n",
      "Compressing block 186 with 72 frames\n",
      "Compressing block 187 with 72 frames\n",
      "Compressing block 188 with 72 frames\n",
      "Compressing block 189 with 72 frames\n"
     ]
    },
    {
     "name": "stderr",
     "output_type": "stream",
     "text": [
      "Compressing Time-Based Blocks: 13875it [00:08, 1574.60it/s]"
     ]
    },
    {
     "name": "stdout",
     "output_type": "stream",
     "text": [
      "Compressing block 190 with 72 frames\n",
      "Compressing block 191 with 70 frames\n",
      "Compressing block 192 with 72 frames\n",
      "Compressing block 193 with 72 frames\n",
      "Compressing block 194 with 72 frames\n"
     ]
    },
    {
     "name": "stderr",
     "output_type": "stream",
     "text": [
      "Compressing Time-Based Blocks: 14091it [00:08, 1600.68it/s]"
     ]
    },
    {
     "name": "stdout",
     "output_type": "stream",
     "text": [
      "Compressing block 195 with 72 frames\n",
      "Compressing block 196 with 72 frames\n",
      "Compressing block 197 with 72 frames\n",
      "Compressing block 198 with 72 frames\n"
     ]
    },
    {
     "name": "stderr",
     "output_type": "stream",
     "text": [
      "Compressing Time-Based Blocks: 14307it [00:08, 1591.25it/s]\n"
     ]
    },
    {
     "name": "stdout",
     "output_type": "stream",
     "text": [
      "Saved 199 blocks for la2, band 05\n",
      "RAM usage: 1088.62 MB\n",
      "Starting compression for ./time_series_cleaned_la2/C06_time_series.nc\n",
      "Loaded 14299 frames\n",
      "First time: 2024-09-01 00:00:20, Last time: 2024-12-09 23:50:20\n",
      "Largest time gap: 4:30:00\n",
      "Smallest time gap: 0:00:00\n",
      "⚠️ Large gap at index 4555: 4:30:00 between 2024-10-02 11:30:20 and 2024-10-02 16:00:20\n",
      "⚠️ Large gap at index 10878: 2:50:00 between 2024-11-15 17:40:19 and 2024-11-15 20:30:19\n",
      "⚠️ Large gap at index 13362: 3:10:00 between 2024-12-03 07:00:20 and 2024-12-03 10:10:20\n",
      "→ Interpolated to 14309 frames\n",
      "Got 14309 frames after interpolation\n"
     ]
    },
    {
     "name": "stderr",
     "output_type": "stream",
     "text": [
      "Compressing Time-Based Blocks: 504it [00:00, 4570.81it/s]"
     ]
    },
    {
     "name": "stdout",
     "output_type": "stream",
     "text": [
      "Compressing block 0 with 72 frames\n",
      "Compressing block 1 with 72 frames\n",
      "Compressing block 2 with 72 frames\n",
      "Compressing block 3 with 72 frames\n",
      "Compressing block 4 with 72 frames\n",
      "Compressing block 5 with 72 frames\n",
      "Compressing block 6 with 72 frames\n",
      "Compressing block 7 with 72 frames\n",
      "Compressing block 8 with 72 frames\n",
      "Compressing block 9 with 72 frames\n",
      "Compressing block 10 with 72 frames\n",
      "Compressing block 11 with 72 frames\n",
      "Compressing block 12 with 72 frames\n",
      "Compressing block 13 with 72 frames\n"
     ]
    },
    {
     "name": "stderr",
     "output_type": "stream",
     "text": [
      "Compressing Time-Based Blocks: 1512it [00:00, 4711.17it/s]"
     ]
    },
    {
     "name": "stdout",
     "output_type": "stream",
     "text": [
      "Compressing block 14 with 72 frames\n",
      "Compressing block 15 with 72 frames\n",
      "Compressing block 16 with 72 frames\n",
      "Compressing block 17 with 72 frames\n",
      "Compressing block 18 with 72 frames\n",
      "Compressing block 19 with 72 frames\n",
      "Compressing block 20 with 72 frames\n",
      "Compressing block 21 with 72 frames\n",
      "Compressing block 22 with 72 frames\n",
      "Compressing block 23 with 72 frames\n",
      "Compressing block 24 with 72 frames\n",
      "Compressing block 25 with 72 frames\n",
      "Compressing block 26 with 72 frames\n",
      "Compressing block 27 with 72 frames\n"
     ]
    },
    {
     "name": "stderr",
     "output_type": "stream",
     "text": [
      "Compressing Time-Based Blocks: 2520it [00:00, 4672.85it/s]"
     ]
    },
    {
     "name": "stdout",
     "output_type": "stream",
     "text": [
      "Compressing block 28 with 72 frames\n",
      "Compressing block 29 with 72 frames\n",
      "Compressing block 30 with 72 frames\n",
      "Compressing block 31 with 72 frames\n",
      "Compressing block 32 with 72 frames\n",
      "Compressing block 33 with 72 frames\n",
      "Compressing block 34 with 72 frames\n",
      "Compressing block 35 with 72 frames\n",
      "Compressing block 36 with 72 frames\n",
      "Compressing block 37 with 72 frames\n",
      "Compressing block 38 with 72 frames\n",
      "Compressing block 39 with 72 frames\n",
      "Compressing block 40 with 72 frames\n",
      "Compressing block 41 with 72 frames\n"
     ]
    },
    {
     "name": "stderr",
     "output_type": "stream",
     "text": [
      "Compressing Time-Based Blocks: 3528it [00:00, 4684.51it/s]"
     ]
    },
    {
     "name": "stdout",
     "output_type": "stream",
     "text": [
      "Compressing block 42 with 72 frames\n",
      "Compressing block 43 with 72 frames\n",
      "Compressing block 44 with 72 frames\n",
      "Compressing block 45 with 72 frames\n",
      "Compressing block 46 with 72 frames\n",
      "Compressing block 47 with 72 frames\n",
      "Compressing block 48 with 72 frames\n",
      "Compressing block 49 with 72 frames\n",
      "Compressing block 50 with 72 frames\n",
      "Compressing block 51 with 72 frames\n",
      "Compressing block 52 with 72 frames\n",
      "Compressing block 53 with 72 frames\n",
      "Compressing block 54 with 72 frames\n",
      "Compressing block 55 with 72 frames\n"
     ]
    },
    {
     "name": "stderr",
     "output_type": "stream",
     "text": [
      "Compressing Time-Based Blocks: 4532it [00:00, 4753.09it/s]"
     ]
    },
    {
     "name": "stdout",
     "output_type": "stream",
     "text": [
      "Compressing block 56 with 72 frames\n",
      "Compressing block 57 with 72 frames\n",
      "Compressing block 58 with 72 frames\n",
      "Compressing block 59 with 72 frames\n",
      "Compressing block 60 with 72 frames\n",
      "Compressing block 61 with 72 frames\n",
      "Compressing block 62 with 68 frames\n",
      "Compressing block 63 with 72 frames\n",
      "Compressing block 64 with 72 frames\n",
      "Compressing block 65 with 72 frames\n",
      "Compressing block 66 with 71 frames\n",
      "Compressing block 67 with 72 frames\n",
      "Compressing block 68 with 72 frames\n",
      "Compressing block 69 with 72 frames\n"
     ]
    },
    {
     "name": "stderr",
     "output_type": "stream",
     "text": [
      "Compressing Time-Based Blocks: 5539it [00:01, 4706.78it/s]"
     ]
    },
    {
     "name": "stdout",
     "output_type": "stream",
     "text": [
      "Compressing block 70 with 72 frames\n",
      "Compressing block 71 with 72 frames\n",
      "Compressing block 72 with 72 frames\n",
      "Compressing block 73 with 72 frames\n",
      "Compressing block 74 with 72 frames\n",
      "Compressing block 75 with 72 frames\n",
      "Compressing block 76 with 72 frames\n",
      "Compressing block 77 with 72 frames\n",
      "Compressing block 78 with 72 frames\n",
      "Compressing block 79 with 72 frames\n",
      "Compressing block 80 with 72 frames\n",
      "Compressing block 81 with 72 frames\n",
      "Compressing block 82 with 72 frames\n"
     ]
    },
    {
     "name": "stderr",
     "output_type": "stream",
     "text": [
      "Compressing Time-Based Blocks: 6547it [00:01, 4662.71it/s]"
     ]
    },
    {
     "name": "stdout",
     "output_type": "stream",
     "text": [
      "Compressing block 83 with 72 frames\n",
      "Compressing block 84 with 72 frames\n",
      "Compressing block 85 with 72 frames\n",
      "Compressing block 86 with 72 frames\n",
      "Compressing block 87 with 72 frames\n",
      "Compressing block 88 with 72 frames\n",
      "Compressing block 89 with 72 frames\n",
      "Compressing block 90 with 72 frames\n",
      "Compressing block 91 with 72 frames\n",
      "Compressing block 92 with 72 frames\n",
      "Compressing block 93 with 72 frames\n",
      "Compressing block 94 with 72 frames\n",
      "Compressing block 95 with 72 frames\n"
     ]
    },
    {
     "name": "stderr",
     "output_type": "stream",
     "text": [
      "Compressing Time-Based Blocks: 7051it [00:01, 4643.80it/s]"
     ]
    },
    {
     "name": "stdout",
     "output_type": "stream",
     "text": [
      "Compressing block 96 with 72 frames\n",
      "Compressing block 97 with 72 frames\n",
      "Compressing block 98 with 72 frames\n",
      "Compressing block 99 with 72 frames\n",
      "Compressing block 100 with 72 frames\n",
      "Compressing block 101 with 72 frames\n",
      "Compressing block 102 with 72 frames\n",
      "Compressing block 103 with 72 frames\n",
      "Compressing block 104 with 72 frames\n"
     ]
    },
    {
     "name": "stderr",
     "output_type": "stream",
     "text": [
      "Compressing Time-Based Blocks: 7555it [00:01, 4645.60it/s]"
     ]
    },
    {
     "name": "stdout",
     "output_type": "stream",
     "text": [
      "Compressing block 105 with 72 frames\n",
      "Compressing block 106 with 72 frames\n",
      "Compressing block 107 with 72 frames\n",
      "Compressing block 108 with 72 frames\n",
      "Compressing block 109 with 72 frames\n"
     ]
    },
    {
     "name": "stderr",
     "output_type": "stream",
     "text": [
      "Compressing Time-Based Blocks: 8059it [00:01, 4652.15it/s]"
     ]
    },
    {
     "name": "stdout",
     "output_type": "stream",
     "text": [
      "Compressing block 110 with 72 frames\n",
      "Compressing block 111 with 72 frames\n",
      "Compressing block 112 with 72 frames\n",
      "Compressing block 113 with 72 frames\n",
      "Compressing block 114 with 72 frames\n",
      "Compressing block 115 with 72 frames\n",
      "Compressing block 116 with 72 frames\n",
      "Compressing block 117 with 72 frames\n",
      "Compressing block 118 with 72 frames\n"
     ]
    },
    {
     "name": "stderr",
     "output_type": "stream",
     "text": [
      "Compressing Time-Based Blocks: 8563it [00:01, 4675.85it/s]"
     ]
    },
    {
     "name": "stdout",
     "output_type": "stream",
     "text": [
      "Compressing block 119 with 72 frames\n",
      "Compressing block 120 with 72 frames\n",
      "Compressing block 121 with 72 frames\n",
      "Compressing block 122 with 72 frames\n",
      "Compressing block 123 with 72 frames\n"
     ]
    },
    {
     "name": "stderr",
     "output_type": "stream",
     "text": [
      "Compressing Time-Based Blocks: 9067it [00:01, 4692.99it/s]"
     ]
    },
    {
     "name": "stdout",
     "output_type": "stream",
     "text": [
      "Compressing block 124 with 72 frames\n",
      "Compressing block 125 with 72 frames\n",
      "Compressing block 126 with 72 frames\n",
      "Compressing block 127 with 72 frames\n",
      "Compressing block 128 with 72 frames\n",
      "Compressing block 129 with 72 frames\n",
      "Compressing block 130 with 72 frames\n",
      "Compressing block 131 with 72 frames\n",
      "Compressing block 132 with 72 frames\n"
     ]
    },
    {
     "name": "stderr",
     "output_type": "stream",
     "text": [
      "Compressing Time-Based Blocks: 9571it [00:02, 4752.91it/s]"
     ]
    },
    {
     "name": "stdout",
     "output_type": "stream",
     "text": [
      "Compressing block 133 with 72 frames\n",
      "Compressing block 134 with 72 frames\n",
      "Compressing block 135 with 72 frames\n",
      "Compressing block 136 with 72 frames\n",
      "Compressing block 137 with 72 frames\n"
     ]
    },
    {
     "name": "stderr",
     "output_type": "stream",
     "text": [
      "Compressing Time-Based Blocks: 10075it [00:02, 4746.86it/s]"
     ]
    },
    {
     "name": "stdout",
     "output_type": "stream",
     "text": [
      "Compressing block 138 with 72 frames\n",
      "Compressing block 139 with 72 frames\n",
      "Compressing block 140 with 72 frames\n",
      "Compressing block 141 with 72 frames\n",
      "Compressing block 142 with 72 frames\n",
      "Compressing block 143 with 72 frames\n",
      "Compressing block 144 with 72 frames\n",
      "Compressing block 145 with 72 frames\n",
      "Compressing block 146 with 72 frames\n"
     ]
    },
    {
     "name": "stderr",
     "output_type": "stream",
     "text": [
      "Compressing Time-Based Blocks: 10579it [00:02, 4753.60it/s]"
     ]
    },
    {
     "name": "stdout",
     "output_type": "stream",
     "text": [
      "Compressing block 147 with 72 frames\n",
      "Compressing block 148 with 72 frames\n",
      "Compressing block 149 with 72 frames\n",
      "Compressing block 150 with 71 frames\n",
      "Compressing block 151 with 72 frames\n"
     ]
    },
    {
     "name": "stderr",
     "output_type": "stream",
     "text": [
      "Compressing Time-Based Blocks: 11082it [00:02, 4746.12it/s]"
     ]
    },
    {
     "name": "stdout",
     "output_type": "stream",
     "text": [
      "Compressing block 152 with 72 frames\n",
      "Compressing block 153 with 72 frames\n",
      "Compressing block 154 with 72 frames\n",
      "Compressing block 155 with 72 frames\n",
      "Compressing block 156 with 72 frames\n",
      "Compressing block 157 with 72 frames\n",
      "Compressing block 158 with 72 frames\n",
      "Compressing block 159 with 72 frames\n",
      "Compressing block 160 with 72 frames\n"
     ]
    },
    {
     "name": "stderr",
     "output_type": "stream",
     "text": [
      "Compressing Time-Based Blocks: 11586it [00:02, 4754.85it/s]"
     ]
    },
    {
     "name": "stdout",
     "output_type": "stream",
     "text": [
      "Compressing block 161 with 72 frames\n",
      "Compressing block 162 with 72 frames\n",
      "Compressing block 163 with 72 frames\n",
      "Compressing block 164 with 72 frames\n",
      "Compressing block 165 with 72 frames\n"
     ]
    },
    {
     "name": "stderr",
     "output_type": "stream",
     "text": [
      "Compressing Time-Based Blocks: 12090it [00:02, 4778.58it/s]"
     ]
    },
    {
     "name": "stdout",
     "output_type": "stream",
     "text": [
      "Compressing block 166 with 72 frames\n",
      "Compressing block 167 with 72 frames\n",
      "Compressing block 168 with 72 frames\n",
      "Compressing block 169 with 72 frames\n",
      "Compressing block 170 with 72 frames\n",
      "Compressing block 171 with 72 frames\n",
      "Compressing block 172 with 72 frames\n",
      "Compressing block 173 with 72 frames\n",
      "Compressing block 174 with 72 frames\n"
     ]
    },
    {
     "name": "stderr",
     "output_type": "stream",
     "text": [
      "Compressing Time-Based Blocks: 12666it [00:02, 4884.46it/s]"
     ]
    },
    {
     "name": "stdout",
     "output_type": "stream",
     "text": [
      "Compressing block 175 with 72 frames\n",
      "Compressing block 176 with 72 frames\n",
      "Compressing block 177 with 72 frames\n",
      "Compressing block 178 with 72 frames\n",
      "Compressing block 179 with 72 frames\n",
      "Compressing block 180 with 72 frames\n"
     ]
    },
    {
     "name": "stderr",
     "output_type": "stream",
     "text": [
      "Compressing Time-Based Blocks: 13242it [00:02, 4931.19it/s]"
     ]
    },
    {
     "name": "stdout",
     "output_type": "stream",
     "text": [
      "Compressing block 181 with 72 frames\n",
      "Compressing block 182 with 72 frames\n",
      "Compressing block 183 with 72 frames\n",
      "Compressing block 184 with 72 frames\n",
      "Compressing block 185 with 61 frames\n",
      "Compressing block 186 with 72 frames\n",
      "Compressing block 187 with 72 frames\n",
      "Compressing block 188 with 72 frames\n"
     ]
    },
    {
     "name": "stderr",
     "output_type": "stream",
     "text": [
      "Compressing Time-Based Blocks: 13735it [00:02, 4889.48it/s]"
     ]
    },
    {
     "name": "stdout",
     "output_type": "stream",
     "text": [
      "Compressing block 189 with 72 frames\n",
      "Compressing block 190 with 72 frames\n",
      "Compressing block 191 with 70 frames\n",
      "Compressing block 192 with 72 frames\n",
      "Compressing block 193 with 72 frames\n",
      "Compressing block 194 with 72 frames\n"
     ]
    },
    {
     "name": "stderr",
     "output_type": "stream",
     "text": [
      "Compressing Time-Based Blocks: 14309it [00:03, 4744.02it/s]"
     ]
    },
    {
     "name": "stdout",
     "output_type": "stream",
     "text": [
      "Compressing block 195 with 72 frames\n",
      "Compressing block 196 with 72 frames\n",
      "Compressing block 197 with 72 frames\n",
      "Compressing block 198 with 72 frames\n"
     ]
    },
    {
     "name": "stderr",
     "output_type": "stream",
     "text": [
      "\n"
     ]
    },
    {
     "name": "stdout",
     "output_type": "stream",
     "text": [
      "Saved 199 blocks for la2, band 06\n",
      "RAM usage: 1811.69 MB\n",
      "Starting compression for ./time_series_cleaned_la2/C07_time_series.nc\n",
      "Loaded 14301 frames\n",
      "First time: 2024-09-01 00:00:20, Last time: 2024-12-09 23:50:20\n",
      "Largest time gap: 4:20:00\n",
      "Smallest time gap: 0:00:00\n",
      "⚠️ Large gap at index 4554: 4:20:00 between 2024-10-02 11:40:20 and 2024-10-02 16:00:20\n",
      "⚠️ Large gap at index 10876: 3:00:00 between 2024-11-15 17:30:19 and 2024-11-15 20:30:19\n",
      "⚠️ Large gap at index 13364: 2:50:00 between 2024-12-03 07:20:20 and 2024-12-03 10:10:20\n",
      "→ Interpolated to 14311 frames\n",
      "Got 14311 frames after interpolation\n"
     ]
    },
    {
     "name": "stderr",
     "output_type": "stream",
     "text": [
      "Compressing Time-Based Blocks: 504it [00:00, 4512.37it/s]"
     ]
    },
    {
     "name": "stdout",
     "output_type": "stream",
     "text": [
      "Compressing block 0 with 72 frames\n",
      "Compressing block 1 with 72 frames\n",
      "Compressing block 2 with 72 frames\n",
      "Compressing block 3 with 72 frames\n",
      "Compressing block 4 with 72 frames\n",
      "Compressing block 5 with 72 frames\n",
      "Compressing block 6 with 72 frames\n",
      "Compressing block 7 with 72 frames\n",
      "Compressing block 8 with 72 frames\n",
      "Compressing block 9 with 72 frames\n",
      "Compressing block 10 with 72 frames\n",
      "Compressing block 11 with 72 frames\n",
      "Compressing block 12 with 72 frames\n"
     ]
    },
    {
     "name": "stderr",
     "output_type": "stream",
     "text": [
      "Compressing Time-Based Blocks: 1512it [00:00, 4600.10it/s]"
     ]
    },
    {
     "name": "stdout",
     "output_type": "stream",
     "text": [
      "Compressing block 13 with 72 frames\n",
      "Compressing block 14 with 72 frames\n",
      "Compressing block 15 with 72 frames\n",
      "Compressing block 16 with 72 frames\n",
      "Compressing block 17 with 72 frames\n",
      "Compressing block 18 with 72 frames\n",
      "Compressing block 19 with 72 frames\n",
      "Compressing block 20 with 72 frames\n",
      "Compressing block 21 with 72 frames\n",
      "Compressing block 22 with 72 frames\n",
      "Compressing block 23 with 72 frames\n",
      "Compressing block 24 with 72 frames\n",
      "Compressing block 25 with 72 frames\n",
      "Compressing block 26 with 72 frames\n"
     ]
    },
    {
     "name": "stderr",
     "output_type": "stream",
     "text": [
      "Compressing Time-Based Blocks: 2520it [00:00, 4562.87it/s]"
     ]
    },
    {
     "name": "stdout",
     "output_type": "stream",
     "text": [
      "Compressing block 27 with 72 frames\n",
      "Compressing block 28 with 72 frames\n",
      "Compressing block 29 with 72 frames\n",
      "Compressing block 30 with 72 frames\n",
      "Compressing block 31 with 72 frames\n",
      "Compressing block 32 with 72 frames\n",
      "Compressing block 33 with 72 frames\n",
      "Compressing block 34 with 72 frames\n",
      "Compressing block 35 with 72 frames\n",
      "Compressing block 36 with 72 frames\n",
      "Compressing block 37 with 72 frames\n",
      "Compressing block 38 with 72 frames\n",
      "Compressing block 39 with 72 frames\n"
     ]
    },
    {
     "name": "stderr",
     "output_type": "stream",
     "text": [
      "Compressing Time-Based Blocks: 3024it [00:00, 4608.99it/s]"
     ]
    },
    {
     "name": "stdout",
     "output_type": "stream",
     "text": [
      "Compressing block 40 with 72 frames\n",
      "Compressing block 41 with 72 frames\n",
      "Compressing block 42 with 72 frames\n",
      "Compressing block 43 with 72 frames\n",
      "Compressing block 44 with 72 frames\n",
      "Compressing block 45 with 72 frames\n"
     ]
    },
    {
     "name": "stderr",
     "output_type": "stream",
     "text": [
      "Compressing Time-Based Blocks: 3960it [00:00, 3556.10it/s]"
     ]
    },
    {
     "name": "stdout",
     "output_type": "stream",
     "text": [
      "Compressing block 46 with 72 frames\n",
      "Compressing block 47 with 72 frames\n",
      "Compressing block 48 with 72 frames\n",
      "Compressing block 49 with 72 frames\n",
      "Compressing block 50 with 72 frames\n",
      "Compressing block 51 with 72 frames\n",
      "Compressing block 52 with 72 frames\n",
      "Compressing block 53 with 72 frames\n",
      "Compressing block 54 with 72 frames\n",
      "Compressing block 55 with 72 frames\n",
      "Compressing block 56 with 72 frames\n",
      "Compressing block 57 with 72 frames\n"
     ]
    },
    {
     "name": "stderr",
     "output_type": "stream",
     "text": [
      "Compressing Time-Based Blocks: 4964it [00:01, 3975.18it/s]"
     ]
    },
    {
     "name": "stdout",
     "output_type": "stream",
     "text": [
      "Compressing block 58 with 72 frames\n",
      "Compressing block 59 with 72 frames\n",
      "Compressing block 60 with 72 frames\n",
      "Compressing block 61 with 72 frames\n",
      "Compressing block 62 with 69 frames\n",
      "Compressing block 63 with 72 frames\n",
      "Compressing block 64 with 72 frames\n",
      "Compressing block 65 with 72 frames\n",
      "Compressing block 66 with 71 frames\n",
      "Compressing block 67 with 72 frames\n",
      "Compressing block 68 with 72 frames\n",
      "Compressing block 69 with 72 frames\n",
      "Compressing block 70 with 72 frames\n"
     ]
    },
    {
     "name": "stderr",
     "output_type": "stream",
     "text": [
      "Compressing Time-Based Blocks: 5468it [00:01, 4153.04it/s]"
     ]
    },
    {
     "name": "stdout",
     "output_type": "stream",
     "text": [
      "Compressing block 71 with 72 frames\n",
      "Compressing block 72 with 72 frames\n",
      "Compressing block 73 with 72 frames\n",
      "Compressing block 74 with 72 frames\n",
      "Compressing block 75 with 72 frames\n",
      "Compressing block 76 with 72 frames\n",
      "Compressing block 77 with 72 frames\n",
      "Compressing block 78 with 72 frames\n",
      "Compressing block 79 with 72 frames\n",
      "Compressing block 80 with 72 frames\n",
      "Compressing block 81 with 72 frames\n",
      "Compressing block 82 with 72 frames\n"
     ]
    },
    {
     "name": "stderr",
     "output_type": "stream",
     "text": [
      "Compressing Time-Based Blocks: 5972it [00:01, 4285.79it/s]"
     ]
    },
    {
     "name": "stdout",
     "output_type": "stream",
     "text": [
      "Compressing block 83 with 72 frames\n"
     ]
    },
    {
     "name": "stderr",
     "output_type": "stream",
     "text": [
      "Compressing Time-Based Blocks: 6476it [00:01, 4369.51it/s]"
     ]
    },
    {
     "name": "stdout",
     "output_type": "stream",
     "text": [
      "Compressing block 84 with 72 frames\n",
      "Compressing block 85 with 72 frames\n",
      "Compressing block 86 with 72 frames\n",
      "Compressing block 87 with 72 frames\n",
      "Compressing block 88 with 72 frames\n",
      "Compressing block 89 with 72 frames\n",
      "Compressing block 90 with 72 frames\n",
      "Compressing block 91 with 72 frames\n",
      "Compressing block 92 with 72 frames\n",
      "Compressing block 93 with 72 frames\n",
      "Compressing block 94 with 72 frames\n",
      "Compressing block 95 with 72 frames\n",
      "Compressing block 96 with 72 frames\n"
     ]
    },
    {
     "name": "stderr",
     "output_type": "stream",
     "text": [
      "Compressing Time-Based Blocks: 7484it [00:01, 4463.38it/s]"
     ]
    },
    {
     "name": "stdout",
     "output_type": "stream",
     "text": [
      "Compressing block 97 with 72 frames\n",
      "Compressing block 98 with 72 frames\n",
      "Compressing block 99 with 72 frames\n",
      "Compressing block 100 with 72 frames\n",
      "Compressing block 101 with 72 frames\n",
      "Compressing block 102 with 72 frames\n",
      "Compressing block 103 with 72 frames\n",
      "Compressing block 104 with 72 frames\n",
      "Compressing block 105 with 72 frames\n",
      "Compressing block 106 with 72 frames\n",
      "Compressing block 107 with 72 frames\n",
      "Compressing block 108 with 72 frames\n",
      "Compressing block 109 with 72 frames\n"
     ]
    },
    {
     "name": "stderr",
     "output_type": "stream",
     "text": [
      "Compressing Time-Based Blocks: 8492it [00:02, 4429.64it/s]"
     ]
    },
    {
     "name": "stdout",
     "output_type": "stream",
     "text": [
      "Compressing block 110 with 72 frames\n",
      "Compressing block 111 with 72 frames\n",
      "Compressing block 112 with 72 frames\n",
      "Compressing block 113 with 72 frames\n",
      "Compressing block 114 with 72 frames\n",
      "Compressing block 115 with 72 frames\n",
      "Compressing block 116 with 72 frames\n",
      "Compressing block 117 with 72 frames\n",
      "Compressing block 118 with 72 frames\n",
      "Compressing block 119 with 72 frames\n",
      "Compressing block 120 with 72 frames\n",
      "Compressing block 121 with 72 frames\n",
      "Compressing block 122 with 72 frames\n"
     ]
    },
    {
     "name": "stderr",
     "output_type": "stream",
     "text": [
      "Compressing Time-Based Blocks: 9500it [00:02, 4544.23it/s]"
     ]
    },
    {
     "name": "stdout",
     "output_type": "stream",
     "text": [
      "Compressing block 123 with 72 frames\n",
      "Compressing block 124 with 72 frames\n",
      "Compressing block 125 with 72 frames\n",
      "Compressing block 126 with 72 frames\n",
      "Compressing block 127 with 72 frames\n",
      "Compressing block 128 with 72 frames\n",
      "Compressing block 129 with 72 frames\n",
      "Compressing block 130 with 72 frames\n",
      "Compressing block 131 with 72 frames\n",
      "Compressing block 132 with 72 frames\n",
      "Compressing block 133 with 72 frames\n",
      "Compressing block 134 with 72 frames\n",
      "Compressing block 135 with 72 frames\n"
     ]
    },
    {
     "name": "stderr",
     "output_type": "stream",
     "text": [
      "Compressing Time-Based Blocks: 10508it [00:02, 4557.51it/s]"
     ]
    },
    {
     "name": "stdout",
     "output_type": "stream",
     "text": [
      "Compressing block 136 with 72 frames\n",
      "Compressing block 137 with 72 frames\n",
      "Compressing block 138 with 72 frames\n",
      "Compressing block 139 with 72 frames\n",
      "Compressing block 140 with 72 frames\n",
      "Compressing block 141 with 72 frames\n",
      "Compressing block 142 with 72 frames\n",
      "Compressing block 143 with 72 frames\n",
      "Compressing block 144 with 72 frames\n",
      "Compressing block 145 with 72 frames\n",
      "Compressing block 146 with 72 frames\n",
      "Compressing block 147 with 72 frames\n",
      "Compressing block 148 with 72 frames\n",
      "Compressing block 149 with 72 frames\n"
     ]
    },
    {
     "name": "stderr",
     "output_type": "stream",
     "text": [
      "Compressing Time-Based Blocks: 11514it [00:02, 4584.47it/s]"
     ]
    },
    {
     "name": "stdout",
     "output_type": "stream",
     "text": [
      "Compressing block 150 with 70 frames\n",
      "Compressing block 151 with 72 frames\n",
      "Compressing block 152 with 72 frames\n",
      "Compressing block 153 with 72 frames\n",
      "Compressing block 154 with 72 frames\n",
      "Compressing block 155 with 72 frames\n",
      "Compressing block 156 with 72 frames\n",
      "Compressing block 157 with 72 frames\n",
      "Compressing block 158 with 72 frames\n",
      "Compressing block 159 with 72 frames\n",
      "Compressing block 160 with 72 frames\n",
      "Compressing block 161 with 72 frames\n",
      "Compressing block 162 with 72 frames\n"
     ]
    },
    {
     "name": "stderr",
     "output_type": "stream",
     "text": [
      "Compressing Time-Based Blocks: 12522it [00:02, 4574.67it/s]"
     ]
    },
    {
     "name": "stdout",
     "output_type": "stream",
     "text": [
      "Compressing block 163 with 72 frames\n",
      "Compressing block 164 with 72 frames\n",
      "Compressing block 165 with 72 frames\n",
      "Compressing block 166 with 72 frames\n",
      "Compressing block 167 with 72 frames\n",
      "Compressing block 168 with 72 frames\n",
      "Compressing block 169 with 72 frames\n",
      "Compressing block 170 with 72 frames\n",
      "Compressing block 171 with 72 frames\n",
      "Compressing block 172 with 72 frames\n",
      "Compressing block 173 with 72 frames\n",
      "Compressing block 174 with 72 frames\n",
      "Compressing block 175 with 72 frames\n"
     ]
    },
    {
     "name": "stderr",
     "output_type": "stream",
     "text": [
      "Compressing Time-Based Blocks: 13521it [00:03, 4615.40it/s]"
     ]
    },
    {
     "name": "stdout",
     "output_type": "stream",
     "text": [
      "Compressing block 176 with 72 frames\n",
      "Compressing block 177 with 72 frames\n",
      "Compressing block 178 with 72 frames\n",
      "Compressing block 179 with 72 frames\n",
      "Compressing block 180 with 72 frames\n",
      "Compressing block 181 with 72 frames\n",
      "Compressing block 182 with 72 frames\n",
      "Compressing block 183 with 72 frames\n",
      "Compressing block 184 with 72 frames\n",
      "Compressing block 185 with 63 frames\n",
      "Compressing block 186 with 72 frames\n",
      "Compressing block 187 with 72 frames\n",
      "Compressing block 188 with 72 frames\n",
      "Compressing block 189 with 72 frames\n"
     ]
    },
    {
     "name": "stderr",
     "output_type": "stream",
     "text": [
      "Compressing Time-Based Blocks: 14311it [00:03, 4379.48it/s]\n"
     ]
    },
    {
     "name": "stdout",
     "output_type": "stream",
     "text": [
      "Compressing block 190 with 72 frames\n",
      "Compressing block 191 with 70 frames\n",
      "Compressing block 192 with 72 frames\n",
      "Compressing block 193 with 72 frames\n",
      "Compressing block 194 with 72 frames\n",
      "Compressing block 195 with 72 frames\n",
      "Compressing block 196 with 72 frames\n",
      "Compressing block 197 with 72 frames\n",
      "Compressing block 198 with 72 frames\n",
      "Saved 199 blocks for la2, band 07\n",
      "RAM usage: 2260.81 MB\n",
      "Starting compression for ./time_series_cleaned_la2/C08_time_series.nc\n",
      "Loaded 14297 frames\n",
      "First time: 2024-09-01 00:00:20, Last time: 2024-12-09 23:50:20\n",
      "Largest time gap: 4:20:00\n",
      "Smallest time gap: 0:00:00\n",
      "⚠️ Large gap at index 4554: 4:20:00 between 2024-10-02 11:40:20 and 2024-10-02 16:00:20\n",
      "⚠️ Large gap at index 10875: 2:50:00 between 2024-11-15 17:40:19 and 2024-11-15 20:30:19\n",
      "⚠️ Large gap at index 11114: 2:20:00 between 2024-11-17 12:50:20 and 2024-11-17 15:10:20\n",
      "⚠️ Large gap at index 13360: 3:10:00 between 2024-12-03 07:00:20 and 2024-12-03 10:10:20\n",
      "⚠️ Large time gap: 2:20:00 at index 25\n",
      "→ Interpolated to 14310 frames\n",
      "Got 14310 frames after interpolation\n"
     ]
    },
    {
     "name": "stderr",
     "output_type": "stream",
     "text": [
      "Compressing Time-Based Blocks: 504it [00:00, 4401.85it/s]"
     ]
    },
    {
     "name": "stdout",
     "output_type": "stream",
     "text": [
      "Compressing block 0 with 72 frames\n",
      "Compressing block 1 with 72 frames\n",
      "Compressing block 2 with 72 frames\n",
      "Compressing block 3 with 72 frames\n",
      "Compressing block 4 with 72 frames\n",
      "Compressing block 5 with 72 frames\n",
      "Compressing block 6 with 72 frames\n",
      "Compressing block 7 with 72 frames\n",
      "Compressing block 8 with 72 frames\n",
      "Compressing block 9 with 72 frames\n",
      "Compressing block 10 with 72 frames\n",
      "Compressing block 11 with 72 frames\n"
     ]
    },
    {
     "name": "stderr",
     "output_type": "stream",
     "text": [
      "Compressing Time-Based Blocks: 1440it [00:00, 4034.89it/s]"
     ]
    },
    {
     "name": "stdout",
     "output_type": "stream",
     "text": [
      "Compressing block 12 with 72 frames\n",
      "Compressing block 13 with 72 frames\n",
      "Compressing block 14 with 72 frames\n",
      "Compressing block 15 with 72 frames\n",
      "Compressing block 16 with 72 frames\n",
      "Compressing block 17 with 72 frames\n",
      "Compressing block 18 with 72 frames\n",
      "Compressing block 19 with 72 frames\n",
      "Compressing block 20 with 72 frames\n",
      "Compressing block 21 with 72 frames\n",
      "Compressing block 22 with 72 frames\n",
      "Compressing block 23 with 72 frames\n"
     ]
    },
    {
     "name": "stderr",
     "output_type": "stream",
     "text": [
      "Compressing Time-Based Blocks: 2376it [00:00, 4185.06it/s]"
     ]
    },
    {
     "name": "stdout",
     "output_type": "stream",
     "text": [
      "Compressing block 24 with 72 frames\n",
      "Compressing block 25 with 72 frames\n",
      "Compressing block 26 with 72 frames\n",
      "Compressing block 27 with 72 frames\n",
      "Compressing block 28 with 72 frames\n",
      "Compressing block 29 with 72 frames\n",
      "Compressing block 30 with 72 frames\n",
      "Compressing block 31 with 72 frames\n",
      "Compressing block 32 with 72 frames\n",
      "Compressing block 33 with 72 frames\n",
      "Compressing block 34 with 72 frames\n",
      "Compressing block 35 with 72 frames\n"
     ]
    },
    {
     "name": "stderr",
     "output_type": "stream",
     "text": [
      "Compressing Time-Based Blocks: 2808it [00:00, 4215.95it/s]"
     ]
    },
    {
     "name": "stdout",
     "output_type": "stream",
     "text": [
      "Compressing block 36 with 72 frames\n",
      "Compressing block 37 with 72 frames\n",
      "Compressing block 38 with 72 frames\n",
      "Compressing block 39 with 72 frames\n",
      "Compressing block 40 with 72 frames\n",
      "Compressing block 41 with 72 frames\n",
      "Compressing block 42 with 72 frames\n",
      "Compressing block 43 with 72 frames\n",
      "Compressing block 44 with 72 frames\n",
      "Compressing block 45 with 72 frames\n"
     ]
    },
    {
     "name": "stderr",
     "output_type": "stream",
     "text": [
      "Compressing Time-Based Blocks: 3312it [00:00, 3994.55it/s]"
     ]
    },
    {
     "name": "stdout",
     "output_type": "stream",
     "text": [
      "Compressing block 46 with 72 frames\n"
     ]
    },
    {
     "name": "stderr",
     "output_type": "stream",
     "text": [
      "Compressing Time-Based Blocks: 3744it [00:00, 3958.47it/s]"
     ]
    },
    {
     "name": "stdout",
     "output_type": "stream",
     "text": [
      "Compressing block 47 with 72 frames\n",
      "Compressing block 48 with 72 frames\n",
      "Compressing block 49 with 72 frames\n",
      "Compressing block 50 with 72 frames\n",
      "Compressing block 51 with 72 frames\n",
      "Compressing block 52 with 72 frames\n",
      "Compressing block 53 with 72 frames\n",
      "Compressing block 54 with 72 frames\n",
      "Compressing block 55 with 72 frames\n",
      "Compressing block 56 with 72 frames\n"
     ]
    },
    {
     "name": "stderr",
     "output_type": "stream",
     "text": [
      "Compressing Time-Based Blocks: 4677it [00:01, 3932.60it/s]"
     ]
    },
    {
     "name": "stdout",
     "output_type": "stream",
     "text": [
      "Compressing block 57 with 72 frames\n",
      "Compressing block 58 with 72 frames\n",
      "Compressing block 59 with 72 frames\n",
      "Compressing block 60 with 72 frames\n",
      "Compressing block 61 with 72 frames\n",
      "Compressing block 62 with 69 frames\n",
      "Compressing block 63 with 72 frames\n",
      "Compressing block 64 with 72 frames\n",
      "Compressing block 65 with 72 frames\n",
      "Compressing block 66 with 71 frames\n",
      "Compressing block 67 with 72 frames\n",
      "Compressing block 68 with 72 frames\n",
      "Compressing block 69 with 72 frames\n"
     ]
    },
    {
     "name": "stderr",
     "output_type": "stream",
     "text": [
      "Compressing Time-Based Blocks: 5612it [00:01, 4175.92it/s]"
     ]
    },
    {
     "name": "stdout",
     "output_type": "stream",
     "text": [
      "Compressing block 70 with 72 frames\n",
      "Compressing block 71 with 72 frames\n",
      "Compressing block 72 with 72 frames\n",
      "Compressing block 73 with 72 frames\n",
      "Compressing block 74 with 72 frames\n",
      "Compressing block 75 with 72 frames\n",
      "Compressing block 76 with 72 frames\n",
      "Compressing block 77 with 72 frames\n",
      "Compressing block 78 with 72 frames\n",
      "Compressing block 79 with 72 frames\n",
      "Compressing block 80 with 72 frames\n",
      "Compressing block 81 with 72 frames\n",
      "Compressing block 82 with 72 frames\n"
     ]
    },
    {
     "name": "stderr",
     "output_type": "stream",
     "text": [
      "Compressing Time-Based Blocks: 6476it [00:01, 4175.89it/s]"
     ]
    },
    {
     "name": "stdout",
     "output_type": "stream",
     "text": [
      "Compressing block 83 with 72 frames\n",
      "Compressing block 84 with 72 frames\n",
      "Compressing block 85 with 72 frames\n",
      "Compressing block 86 with 72 frames\n",
      "Compressing block 87 with 72 frames\n",
      "Compressing block 88 with 72 frames\n",
      "Compressing block 89 with 72 frames\n",
      "Compressing block 90 with 72 frames\n",
      "Compressing block 91 with 72 frames\n",
      "Compressing block 92 with 72 frames\n",
      "Compressing block 93 with 72 frames\n",
      "Compressing block 94 with 72 frames\n",
      "Compressing block 95 with 72 frames\n"
     ]
    },
    {
     "name": "stderr",
     "output_type": "stream",
     "text": [
      "Compressing Time-Based Blocks: 7484it [00:01, 4410.53it/s]"
     ]
    },
    {
     "name": "stdout",
     "output_type": "stream",
     "text": [
      "Compressing block 96 with 72 frames\n",
      "Compressing block 97 with 72 frames\n",
      "Compressing block 98 with 72 frames\n",
      "Compressing block 99 with 72 frames\n",
      "Compressing block 100 with 72 frames\n",
      "Compressing block 101 with 72 frames\n",
      "Compressing block 102 with 72 frames\n",
      "Compressing block 103 with 72 frames\n",
      "Compressing block 104 with 72 frames\n",
      "Compressing block 105 with 72 frames\n",
      "Compressing block 106 with 72 frames\n",
      "Compressing block 107 with 72 frames\n",
      "Compressing block 108 with 72 frames\n"
     ]
    },
    {
     "name": "stderr",
     "output_type": "stream",
     "text": [
      "Compressing Time-Based Blocks: 8420it [00:02, 4281.64it/s]"
     ]
    },
    {
     "name": "stdout",
     "output_type": "stream",
     "text": [
      "Compressing block 109 with 72 frames\n",
      "Compressing block 110 with 72 frames\n",
      "Compressing block 111 with 72 frames\n",
      "Compressing block 112 with 72 frames\n",
      "Compressing block 113 with 72 frames\n",
      "Compressing block 114 with 72 frames\n",
      "Compressing block 115 with 72 frames\n",
      "Compressing block 116 with 72 frames\n",
      "Compressing block 117 with 72 frames\n",
      "Compressing block 118 with 72 frames\n",
      "Compressing block 119 with 72 frames\n",
      "Compressing block 120 with 72 frames\n",
      "Compressing block 121 with 72 frames\n"
     ]
    },
    {
     "name": "stderr",
     "output_type": "stream",
     "text": [
      "Compressing Time-Based Blocks: 9428it [00:02, 4500.74it/s]"
     ]
    },
    {
     "name": "stdout",
     "output_type": "stream",
     "text": [
      "Compressing block 122 with 72 frames\n",
      "Compressing block 123 with 72 frames\n",
      "Compressing block 124 with 72 frames\n",
      "Compressing block 125 with 72 frames\n",
      "Compressing block 126 with 72 frames\n",
      "Compressing block 127 with 72 frames\n",
      "Compressing block 128 with 72 frames\n",
      "Compressing block 129 with 72 frames\n",
      "Compressing block 130 with 72 frames\n",
      "Compressing block 131 with 72 frames\n",
      "Compressing block 132 with 72 frames\n",
      "Compressing block 133 with 72 frames\n",
      "Compressing block 134 with 72 frames\n",
      "Compressing block 135 with 72 frames\n"
     ]
    },
    {
     "name": "stderr",
     "output_type": "stream",
     "text": [
      "Compressing Time-Based Blocks: 10436it [00:02, 4650.40it/s]"
     ]
    },
    {
     "name": "stdout",
     "output_type": "stream",
     "text": [
      "Compressing block 136 with 72 frames\n",
      "Compressing block 137 with 72 frames\n",
      "Compressing block 138 with 72 frames\n",
      "Compressing block 139 with 72 frames\n",
      "Compressing block 140 with 72 frames\n",
      "Compressing block 141 with 72 frames\n",
      "Compressing block 142 with 72 frames\n",
      "Compressing block 143 with 72 frames\n",
      "Compressing block 144 with 72 frames\n",
      "Compressing block 145 with 72 frames\n",
      "Compressing block 146 with 72 frames\n",
      "Compressing block 147 with 72 frames\n",
      "Compressing block 148 with 72 frames\n",
      "Compressing block 149 with 72 frames\n"
     ]
    },
    {
     "name": "stderr",
     "output_type": "stream",
     "text": [
      "Compressing Time-Based Blocks: 11443it [00:02, 4734.30it/s]"
     ]
    },
    {
     "name": "stdout",
     "output_type": "stream",
     "text": [
      "Compressing block 150 with 71 frames\n",
      "Compressing block 151 with 72 frames\n",
      "Compressing block 152 with 72 frames\n",
      "Compressing block 153 with 72 frames\n",
      "Compressing block 154 with 72 frames\n",
      "Compressing block 155 with 72 frames\n",
      "Compressing block 156 with 72 frames\n",
      "Compressing block 157 with 72 frames\n",
      "Compressing block 158 with 72 frames\n",
      "Compressing block 159 with 72 frames\n",
      "Compressing block 160 with 72 frames\n",
      "Compressing block 161 with 72 frames\n",
      "Compressing block 162 with 72 frames\n",
      "Compressing block 163 with 72 frames\n"
     ]
    },
    {
     "name": "stderr",
     "output_type": "stream",
     "text": [
      "Compressing Time-Based Blocks: 12451it [00:02, 4682.36it/s]"
     ]
    },
    {
     "name": "stdout",
     "output_type": "stream",
     "text": [
      "Compressing block 164 with 72 frames\n",
      "Compressing block 165 with 72 frames\n",
      "Compressing block 166 with 72 frames\n",
      "Compressing block 167 with 72 frames\n",
      "Compressing block 168 with 72 frames\n",
      "Compressing block 169 with 72 frames\n",
      "Compressing block 170 with 72 frames\n",
      "Compressing block 171 with 72 frames\n",
      "Compressing block 172 with 72 frames\n",
      "Compressing block 173 with 72 frames\n",
      "Compressing block 174 with 72 frames\n",
      "Compressing block 175 with 72 frames\n",
      "Compressing block 176 with 72 frames\n"
     ]
    },
    {
     "name": "stderr",
     "output_type": "stream",
     "text": [
      "Compressing Time-Based Blocks: 13448it [00:03, 4666.52it/s]"
     ]
    },
    {
     "name": "stdout",
     "output_type": "stream",
     "text": [
      "Compressing block 177 with 72 frames\n",
      "Compressing block 178 with 72 frames\n",
      "Compressing block 179 with 72 frames\n",
      "Compressing block 180 with 72 frames\n",
      "Compressing block 181 with 72 frames\n",
      "Compressing block 182 with 72 frames\n",
      "Compressing block 183 with 72 frames\n",
      "Compressing block 184 with 72 frames\n",
      "Compressing block 185 with 61 frames\n",
      "Compressing block 186 with 72 frames\n",
      "Compressing block 187 with 72 frames\n",
      "Compressing block 188 with 72 frames\n",
      "Compressing block 189 with 72 frames\n",
      "Compressing block 190 with 72 frames\n"
     ]
    },
    {
     "name": "stderr",
     "output_type": "stream",
     "text": [
      "Compressing Time-Based Blocks: 14310it [00:03, 4345.65it/s]\n"
     ]
    },
    {
     "name": "stdout",
     "output_type": "stream",
     "text": [
      "Compressing block 191 with 70 frames\n",
      "Compressing block 192 with 72 frames\n",
      "Compressing block 193 with 72 frames\n",
      "Compressing block 194 with 72 frames\n",
      "Compressing block 195 with 72 frames\n",
      "Compressing block 196 with 72 frames\n",
      "Compressing block 197 with 72 frames\n",
      "Compressing block 198 with 72 frames\n",
      "Saved 199 blocks for la2, band 08\n",
      "RAM usage: 2217.02 MB\n",
      "Starting compression for ./time_series_cleaned_la2/C09_time_series.nc\n",
      "Loaded 14304 frames\n",
      "First time: 2024-09-01 00:00:20, Last time: 2024-12-09 23:50:20\n",
      "Largest time gap: 4:20:00\n",
      "Smallest time gap: 0:00:00\n",
      "⚠️ Large gap at index 4556: 4:20:00 between 2024-10-02 11:40:20 and 2024-10-02 16:00:20\n",
      "⚠️ Large gap at index 10878: 3:00:00 between 2024-11-15 17:30:19 and 2024-11-15 20:30:19\n",
      "⚠️ Large gap at index 13367: 2:50:00 between 2024-12-03 07:20:20 and 2024-12-03 10:10:20\n",
      "→ Interpolated to 14311 frames\n",
      "Got 14311 frames after interpolation\n"
     ]
    },
    {
     "name": "stderr",
     "output_type": "stream",
     "text": [
      "Compressing Time-Based Blocks: 504it [00:00, 4568.69it/s]"
     ]
    },
    {
     "name": "stdout",
     "output_type": "stream",
     "text": [
      "Compressing block 0 with 72 frames\n",
      "Compressing block 1 with 72 frames\n",
      "Compressing block 2 with 72 frames\n",
      "Compressing block 3 with 72 frames\n",
      "Compressing block 4 with 72 frames\n",
      "Compressing block 5 with 72 frames\n",
      "Compressing block 6 with 72 frames\n",
      "Compressing block 7 with 72 frames\n",
      "Compressing block 8 with 72 frames\n",
      "Compressing block 9 with 72 frames\n",
      "Compressing block 10 with 72 frames\n",
      "Compressing block 11 with 72 frames\n",
      "Compressing block 12 with 72 frames\n"
     ]
    },
    {
     "name": "stderr",
     "output_type": "stream",
     "text": [
      "Compressing Time-Based Blocks: 1512it [00:00, 4507.56it/s]"
     ]
    },
    {
     "name": "stdout",
     "output_type": "stream",
     "text": [
      "Compressing block 13 with 72 frames\n",
      "Compressing block 14 with 72 frames\n",
      "Compressing block 15 with 72 frames\n",
      "Compressing block 16 with 72 frames\n",
      "Compressing block 17 with 72 frames\n",
      "Compressing block 18 with 72 frames\n",
      "Compressing block 19 with 72 frames\n",
      "Compressing block 20 with 72 frames\n",
      "Compressing block 21 with 72 frames\n",
      "Compressing block 22 with 72 frames\n",
      "Compressing block 23 with 72 frames\n",
      "Compressing block 24 with 72 frames\n",
      "Compressing block 25 with 72 frames\n"
     ]
    },
    {
     "name": "stderr",
     "output_type": "stream",
     "text": [
      "Compressing Time-Based Blocks: 2520it [00:00, 4497.00it/s]"
     ]
    },
    {
     "name": "stdout",
     "output_type": "stream",
     "text": [
      "Compressing block 26 with 72 frames\n",
      "Compressing block 27 with 72 frames\n",
      "Compressing block 28 with 72 frames\n",
      "Compressing block 29 with 72 frames\n",
      "Compressing block 30 with 72 frames\n",
      "Compressing block 31 with 72 frames\n",
      "Compressing block 32 with 72 frames\n",
      "Compressing block 33 with 72 frames\n",
      "Compressing block 34 with 72 frames\n",
      "Compressing block 35 with 72 frames\n",
      "Compressing block 36 with 72 frames\n",
      "Compressing block 37 with 72 frames\n",
      "Compressing block 38 with 72 frames\n"
     ]
    },
    {
     "name": "stderr",
     "output_type": "stream",
     "text": [
      "Compressing Time-Based Blocks: 3528it [00:00, 4447.12it/s]"
     ]
    },
    {
     "name": "stdout",
     "output_type": "stream",
     "text": [
      "Compressing block 39 with 72 frames\n",
      "Compressing block 40 with 72 frames\n",
      "Compressing block 41 with 72 frames\n",
      "Compressing block 42 with 72 frames\n",
      "Compressing block 43 with 72 frames\n",
      "Compressing block 44 with 72 frames\n",
      "Compressing block 45 with 72 frames\n",
      "Compressing block 46 with 72 frames\n",
      "Compressing block 47 with 72 frames\n",
      "Compressing block 48 with 72 frames\n",
      "Compressing block 49 with 72 frames\n",
      "Compressing block 50 with 72 frames\n",
      "Compressing block 51 with 72 frames\n"
     ]
    },
    {
     "name": "stderr",
     "output_type": "stream",
     "text": [
      "Compressing Time-Based Blocks: 4032it [00:00, 4491.45it/s]"
     ]
    },
    {
     "name": "stdout",
     "output_type": "stream",
     "text": [
      "Compressing block 52 with 72 frames\n",
      "Compressing block 53 with 72 frames\n",
      "Compressing block 54 with 72 frames\n",
      "Compressing block 55 with 72 frames\n",
      "Compressing block 56 with 72 frames\n",
      "Compressing block 57 with 72 frames\n",
      "Compressing block 58 with 72 frames\n",
      "Compressing block 59 with 72 frames\n",
      "Compressing block 60 with 72 frames\n",
      "Compressing block 61 with 72 frames\n",
      "Compressing block 62 with 69 frames\n"
     ]
    },
    {
     "name": "stderr",
     "output_type": "stream",
     "text": [
      "Compressing Time-Based Blocks: 4533it [00:01, 4493.82it/s]"
     ]
    },
    {
     "name": "stdout",
     "output_type": "stream",
     "text": [
      "Compressing block 63 with 72 frames\n",
      "Compressing block 64 with 72 frames\n"
     ]
    },
    {
     "name": "stderr",
     "output_type": "stream",
     "text": [
      "Compressing Time-Based Blocks: 5036it [00:01, 4519.15it/s]"
     ]
    },
    {
     "name": "stdout",
     "output_type": "stream",
     "text": [
      "Compressing block 65 with 72 frames\n",
      "Compressing block 66 with 71 frames\n",
      "Compressing block 67 with 72 frames\n",
      "Compressing block 68 with 72 frames\n",
      "Compressing block 69 with 72 frames\n",
      "Compressing block 70 with 72 frames\n",
      "Compressing block 71 with 72 frames\n",
      "Compressing block 72 with 72 frames\n",
      "Compressing block 73 with 72 frames\n",
      "Compressing block 74 with 72 frames\n",
      "Compressing block 75 with 72 frames\n"
     ]
    },
    {
     "name": "stderr",
     "output_type": "stream",
     "text": [
      "Compressing Time-Based Blocks: 5540it [00:01, 4555.50it/s]"
     ]
    },
    {
     "name": "stdout",
     "output_type": "stream",
     "text": [
      "Compressing block 76 with 72 frames\n",
      "Compressing block 77 with 72 frames\n"
     ]
    },
    {
     "name": "stderr",
     "output_type": "stream",
     "text": [
      "Compressing Time-Based Blocks: 6044it [00:01, 4537.00it/s]"
     ]
    },
    {
     "name": "stdout",
     "output_type": "stream",
     "text": [
      "Compressing block 78 with 72 frames\n",
      "Compressing block 79 with 72 frames\n",
      "Compressing block 80 with 72 frames\n",
      "Compressing block 81 with 72 frames\n",
      "Compressing block 82 with 72 frames\n",
      "Compressing block 83 with 72 frames\n",
      "Compressing block 84 with 72 frames\n",
      "Compressing block 85 with 72 frames\n",
      "Compressing block 86 with 72 frames\n",
      "Compressing block 87 with 72 frames\n",
      "Compressing block 88 with 72 frames\n",
      "Compressing block 89 with 72 frames\n",
      "Compressing block 90 with 72 frames\n"
     ]
    },
    {
     "name": "stderr",
     "output_type": "stream",
     "text": [
      "Compressing Time-Based Blocks: 7052it [00:01, 4582.08it/s]"
     ]
    },
    {
     "name": "stdout",
     "output_type": "stream",
     "text": [
      "Compressing block 91 with 72 frames\n",
      "Compressing block 92 with 72 frames\n",
      "Compressing block 93 with 72 frames\n",
      "Compressing block 94 with 72 frames\n",
      "Compressing block 95 with 72 frames\n",
      "Compressing block 96 with 72 frames\n",
      "Compressing block 97 with 72 frames\n",
      "Compressing block 98 with 72 frames\n",
      "Compressing block 99 with 72 frames\n",
      "Compressing block 100 with 72 frames\n",
      "Compressing block 101 with 72 frames\n",
      "Compressing block 102 with 72 frames\n",
      "Compressing block 103 with 72 frames\n",
      "Compressing block 104 with 72 frames\n"
     ]
    },
    {
     "name": "stderr",
     "output_type": "stream",
     "text": [
      "Compressing Time-Based Blocks: 8060it [00:01, 4610.85it/s]"
     ]
    },
    {
     "name": "stdout",
     "output_type": "stream",
     "text": [
      "Compressing block 105 with 72 frames\n",
      "Compressing block 106 with 72 frames\n",
      "Compressing block 107 with 72 frames\n",
      "Compressing block 108 with 72 frames\n",
      "Compressing block 109 with 72 frames\n",
      "Compressing block 110 with 72 frames\n",
      "Compressing block 111 with 72 frames\n",
      "Compressing block 112 with 72 frames\n",
      "Compressing block 113 with 72 frames\n",
      "Compressing block 114 with 72 frames\n",
      "Compressing block 115 with 72 frames\n",
      "Compressing block 116 with 72 frames\n",
      "Compressing block 117 with 72 frames\n"
     ]
    },
    {
     "name": "stderr",
     "output_type": "stream",
     "text": [
      "Compressing Time-Based Blocks: 9068it [00:01, 4606.63it/s]"
     ]
    },
    {
     "name": "stdout",
     "output_type": "stream",
     "text": [
      "Compressing block 118 with 72 frames\n",
      "Compressing block 119 with 72 frames\n",
      "Compressing block 120 with 72 frames\n",
      "Compressing block 121 with 72 frames\n",
      "Compressing block 122 with 72 frames\n",
      "Compressing block 123 with 72 frames\n",
      "Compressing block 124 with 72 frames\n",
      "Compressing block 125 with 72 frames\n",
      "Compressing block 126 with 72 frames\n",
      "Compressing block 127 with 72 frames\n",
      "Compressing block 128 with 72 frames\n",
      "Compressing block 129 with 72 frames\n",
      "Compressing block 130 with 72 frames\n",
      "Compressing block 131 with 72 frames\n"
     ]
    },
    {
     "name": "stderr",
     "output_type": "stream",
     "text": [
      "Compressing Time-Based Blocks: 10076it [00:02, 4654.94it/s]"
     ]
    },
    {
     "name": "stdout",
     "output_type": "stream",
     "text": [
      "Compressing block 132 with 72 frames\n",
      "Compressing block 133 with 72 frames\n",
      "Compressing block 134 with 72 frames\n",
      "Compressing block 135 with 72 frames\n",
      "Compressing block 136 with 72 frames\n",
      "Compressing block 137 with 72 frames\n",
      "Compressing block 138 with 72 frames\n",
      "Compressing block 139 with 72 frames\n",
      "Compressing block 140 with 72 frames\n",
      "Compressing block 141 with 72 frames\n",
      "Compressing block 142 with 72 frames\n",
      "Compressing block 143 with 72 frames\n",
      "Compressing block 144 with 72 frames\n",
      "Compressing block 145 with 72 frames\n"
     ]
    },
    {
     "name": "stderr",
     "output_type": "stream",
     "text": [
      "Compressing Time-Based Blocks: 10580it [00:02, 4644.90it/s]"
     ]
    },
    {
     "name": "stdout",
     "output_type": "stream",
     "text": [
      "Compressing block 146 with 72 frames\n",
      "Compressing block 147 with 72 frames\n",
      "Compressing block 148 with 72 frames\n",
      "Compressing block 149 with 72 frames\n",
      "Compressing block 150 with 70 frames\n",
      "Compressing block 151 with 72 frames\n",
      "Compressing block 152 with 72 frames\n",
      "Compressing block 153 with 72 frames\n"
     ]
    },
    {
     "name": "stderr",
     "output_type": "stream",
     "text": [
      "Compressing Time-Based Blocks: 11082it [00:02, 4633.45it/s]"
     ]
    },
    {
     "name": "stdout",
     "output_type": "stream",
     "text": [
      "Compressing block 154 with 72 frames\n",
      "Compressing block 155 with 72 frames\n",
      "Compressing block 156 with 72 frames\n",
      "Compressing block 157 with 72 frames\n",
      "Compressing block 158 with 72 frames\n"
     ]
    },
    {
     "name": "stderr",
     "output_type": "stream",
     "text": [
      "Compressing Time-Based Blocks: 11586it [00:02, 4637.64it/s]"
     ]
    },
    {
     "name": "stdout",
     "output_type": "stream",
     "text": [
      "Compressing block 159 with 72 frames\n",
      "Compressing block 160 with 72 frames\n",
      "Compressing block 161 with 72 frames\n",
      "Compressing block 162 with 72 frames\n",
      "Compressing block 163 with 72 frames\n",
      "Compressing block 164 with 72 frames\n",
      "Compressing block 165 with 72 frames\n",
      "Compressing block 166 with 72 frames\n",
      "Compressing block 167 with 72 frames\n"
     ]
    },
    {
     "name": "stderr",
     "output_type": "stream",
     "text": [
      "Compressing Time-Based Blocks: 12090it [00:02, 4661.59it/s]"
     ]
    },
    {
     "name": "stdout",
     "output_type": "stream",
     "text": [
      "Compressing block 168 with 72 frames\n",
      "Compressing block 169 with 72 frames\n",
      "Compressing block 170 with 72 frames\n",
      "Compressing block 171 with 72 frames\n",
      "Compressing block 172 with 72 frames\n"
     ]
    },
    {
     "name": "stderr",
     "output_type": "stream",
     "text": [
      "Compressing Time-Based Blocks: 12594it [00:02, 4665.73it/s]"
     ]
    },
    {
     "name": "stdout",
     "output_type": "stream",
     "text": [
      "Compressing block 173 with 72 frames\n",
      "Compressing block 174 with 72 frames\n",
      "Compressing block 175 with 72 frames\n",
      "Compressing block 176 with 72 frames\n",
      "Compressing block 177 with 72 frames\n",
      "Compressing block 178 with 72 frames\n",
      "Compressing block 179 with 72 frames\n",
      "Compressing block 180 with 72 frames\n",
      "Compressing block 181 with 72 frames\n"
     ]
    },
    {
     "name": "stderr",
     "output_type": "stream",
     "text": [
      "Compressing Time-Based Blocks: 13098it [00:02, 4661.62it/s]"
     ]
    },
    {
     "name": "stdout",
     "output_type": "stream",
     "text": [
      "Compressing block 182 with 72 frames\n",
      "Compressing block 183 with 72 frames\n",
      "Compressing block 184 with 72 frames\n",
      "Compressing block 185 with 63 frames\n",
      "Compressing block 186 with 72 frames\n"
     ]
    },
    {
     "name": "stderr",
     "output_type": "stream",
     "text": [
      "Compressing Time-Based Blocks: 13593it [00:02, 4620.28it/s]"
     ]
    },
    {
     "name": "stdout",
     "output_type": "stream",
     "text": [
      "Compressing block 187 with 72 frames\n",
      "Compressing block 188 with 72 frames\n",
      "Compressing block 189 with 72 frames\n",
      "Compressing block 190 with 72 frames\n",
      "Compressing block 191 with 70 frames\n",
      "Compressing block 192 with 72 frames\n",
      "Compressing block 193 with 72 frames\n",
      "Compressing block 194 with 72 frames\n"
     ]
    },
    {
     "name": "stderr",
     "output_type": "stream",
     "text": [
      "Compressing Time-Based Blocks: 14311it [00:03, 4581.92it/s]"
     ]
    },
    {
     "name": "stdout",
     "output_type": "stream",
     "text": [
      "Compressing block 195 with 72 frames\n",
      "Compressing block 196 with 72 frames\n",
      "Compressing block 197 with 72 frames\n",
      "Compressing block 198 with 72 frames\n"
     ]
    },
    {
     "name": "stderr",
     "output_type": "stream",
     "text": [
      "\n"
     ]
    },
    {
     "name": "stdout",
     "output_type": "stream",
     "text": [
      "Saved 199 blocks for la2, band 09\n",
      "RAM usage: 2370.27 MB\n",
      "Starting compression for ./time_series_cleaned_la2/C10_time_series.nc\n",
      "Loaded 14299 frames\n",
      "First time: 2024-09-01 00:00:20, Last time: 2024-12-09 23:50:20\n",
      "Largest time gap: 4:20:00\n",
      "Smallest time gap: 0:00:00\n",
      "⚠️ Large gap at index 4555: 4:20:00 between 2024-10-02 11:40:20 and 2024-10-02 16:00:20\n",
      "⚠️ Large gap at index 10877: 2:50:00 between 2024-11-15 17:40:19 and 2024-11-15 20:30:19\n",
      "⚠️ Large gap at index 11116: 2:10:00 between 2024-11-17 13:00:20 and 2024-11-17 15:10:20\n",
      "⚠️ Large gap at index 13362: 2:50:00 between 2024-12-03 07:20:20 and 2024-12-03 10:10:20\n",
      "⚠️ Large time gap: 2:10:00 at index 26\n",
      "→ Interpolated to 14312 frames\n",
      "Got 14312 frames after interpolation\n"
     ]
    },
    {
     "name": "stderr",
     "output_type": "stream",
     "text": [
      "Compressing Time-Based Blocks: 504it [00:00, 4358.66it/s]"
     ]
    },
    {
     "name": "stdout",
     "output_type": "stream",
     "text": [
      "Compressing block 0 with 72 frames\n",
      "Compressing block 1 with 72 frames\n",
      "Compressing block 2 with 72 frames\n",
      "Compressing block 3 with 72 frames\n",
      "Compressing block 4 with 72 frames\n",
      "Compressing block 5 with 72 frames\n",
      "Compressing block 6 with 72 frames\n",
      "Compressing block 7 with 72 frames\n",
      "Compressing block 8 with 72 frames\n",
      "Compressing block 9 with 72 frames\n",
      "Compressing block 10 with 72 frames\n",
      "Compressing block 11 with 72 frames\n",
      "Compressing block 12 with 72 frames\n"
     ]
    },
    {
     "name": "stderr",
     "output_type": "stream",
     "text": [
      "Compressing Time-Based Blocks: 1512it [00:00, 4351.44it/s]"
     ]
    },
    {
     "name": "stdout",
     "output_type": "stream",
     "text": [
      "Compressing block 13 with 72 frames\n",
      "Compressing block 14 with 72 frames\n",
      "Compressing block 15 with 72 frames\n",
      "Compressing block 16 with 72 frames\n",
      "Compressing block 17 with 72 frames\n",
      "Compressing block 18 with 72 frames\n",
      "Compressing block 19 with 72 frames\n",
      "Compressing block 20 with 72 frames\n",
      "Compressing block 21 with 72 frames\n",
      "Compressing block 22 with 72 frames\n",
      "Compressing block 23 with 72 frames\n",
      "Compressing block 24 with 72 frames\n",
      "Compressing block 25 with 72 frames\n"
     ]
    },
    {
     "name": "stderr",
     "output_type": "stream",
     "text": [
      "Compressing Time-Based Blocks: 2016it [00:00, 4388.98it/s]"
     ]
    },
    {
     "name": "stdout",
     "output_type": "stream",
     "text": [
      "Compressing block 26 with 72 frames\n",
      "Compressing block 27 with 72 frames\n",
      "Compressing block 28 with 72 frames\n",
      "Compressing block 29 with 72 frames\n",
      "Compressing block 30 with 72 frames\n",
      "Compressing block 31 with 72 frames\n",
      "Compressing block 32 with 72 frames\n",
      "Compressing block 33 with 72 frames\n",
      "Compressing block 34 with 72 frames\n"
     ]
    },
    {
     "name": "stderr",
     "output_type": "stream",
     "text": [
      "Compressing Time-Based Blocks: 2520it [00:00, 4428.38it/s]"
     ]
    },
    {
     "name": "stdout",
     "output_type": "stream",
     "text": [
      "Compressing block 35 with 72 frames\n",
      "Compressing block 36 with 72 frames\n",
      "Compressing block 37 with 72 frames\n",
      "Compressing block 38 with 72 frames\n"
     ]
    },
    {
     "name": "stderr",
     "output_type": "stream",
     "text": [
      "Compressing Time-Based Blocks: 3024it [00:00, 4479.95it/s]"
     ]
    },
    {
     "name": "stdout",
     "output_type": "stream",
     "text": [
      "Compressing block 39 with 72 frames\n",
      "Compressing block 40 with 72 frames\n",
      "Compressing block 41 with 72 frames\n",
      "Compressing block 42 with 72 frames\n",
      "Compressing block 43 with 72 frames\n",
      "Compressing block 44 with 72 frames\n",
      "Compressing block 45 with 72 frames\n",
      "Compressing block 46 with 72 frames\n",
      "Compressing block 47 with 72 frames\n"
     ]
    },
    {
     "name": "stderr",
     "output_type": "stream",
     "text": [
      "Compressing Time-Based Blocks: 3528it [00:00, 4515.49it/s]"
     ]
    },
    {
     "name": "stdout",
     "output_type": "stream",
     "text": [
      "Compressing block 48 with 72 frames\n",
      "Compressing block 49 with 72 frames\n",
      "Compressing block 50 with 72 frames\n",
      "Compressing block 51 with 72 frames\n"
     ]
    },
    {
     "name": "stderr",
     "output_type": "stream",
     "text": [
      "Compressing Time-Based Blocks: 4032it [00:00, 4531.16it/s]"
     ]
    },
    {
     "name": "stdout",
     "output_type": "stream",
     "text": [
      "Compressing block 52 with 72 frames\n",
      "Compressing block 53 with 72 frames\n",
      "Compressing block 54 with 72 frames\n",
      "Compressing block 55 with 72 frames\n",
      "Compressing block 56 with 72 frames\n",
      "Compressing block 57 with 72 frames\n",
      "Compressing block 58 with 72 frames\n",
      "Compressing block 59 with 72 frames\n",
      "Compressing block 60 with 72 frames\n"
     ]
    },
    {
     "name": "stderr",
     "output_type": "stream",
     "text": [
      "Compressing Time-Based Blocks: 4533it [00:01, 4599.03it/s]"
     ]
    },
    {
     "name": "stdout",
     "output_type": "stream",
     "text": [
      "Compressing block 61 with 72 frames\n",
      "Compressing block 62 with 69 frames\n",
      "Compressing block 63 with 72 frames\n",
      "Compressing block 64 with 72 frames\n",
      "Compressing block 65 with 72 frames\n"
     ]
    },
    {
     "name": "stderr",
     "output_type": "stream",
     "text": [
      "Compressing Time-Based Blocks: 5036it [00:01, 4651.55it/s]"
     ]
    },
    {
     "name": "stdout",
     "output_type": "stream",
     "text": [
      "Compressing block 66 with 71 frames\n",
      "Compressing block 67 with 72 frames\n",
      "Compressing block 68 with 72 frames\n",
      "Compressing block 69 with 72 frames\n",
      "Compressing block 70 with 72 frames\n",
      "Compressing block 71 with 72 frames\n",
      "Compressing block 72 with 72 frames\n",
      "Compressing block 73 with 72 frames\n",
      "Compressing block 74 with 72 frames\n"
     ]
    },
    {
     "name": "stderr",
     "output_type": "stream",
     "text": [
      "Compressing Time-Based Blocks: 5540it [00:01, 4657.37it/s]"
     ]
    },
    {
     "name": "stdout",
     "output_type": "stream",
     "text": [
      "Compressing block 75 with 72 frames\n",
      "Compressing block 76 with 72 frames\n",
      "Compressing block 77 with 72 frames\n",
      "Compressing block 78 with 72 frames\n",
      "Compressing block 79 with 72 frames\n"
     ]
    },
    {
     "name": "stderr",
     "output_type": "stream",
     "text": [
      "Compressing Time-Based Blocks: 6044it [00:01, 4584.21it/s]"
     ]
    },
    {
     "name": "stdout",
     "output_type": "stream",
     "text": [
      "Compressing block 80 with 72 frames\n",
      "Compressing block 81 with 72 frames\n",
      "Compressing block 82 with 72 frames\n",
      "Compressing block 83 with 72 frames\n",
      "Compressing block 84 with 72 frames\n",
      "Compressing block 85 with 72 frames\n",
      "Compressing block 86 with 72 frames\n",
      "Compressing block 87 with 72 frames\n"
     ]
    },
    {
     "name": "stderr",
     "output_type": "stream",
     "text": [
      "Compressing Time-Based Blocks: 6548it [00:01, 4555.83it/s]"
     ]
    },
    {
     "name": "stdout",
     "output_type": "stream",
     "text": [
      "Compressing block 88 with 72 frames\n",
      "Compressing block 89 with 72 frames\n",
      "Compressing block 90 with 72 frames\n",
      "Compressing block 91 with 72 frames\n",
      "Compressing block 92 with 72 frames\n"
     ]
    },
    {
     "name": "stderr",
     "output_type": "stream",
     "text": [
      "Compressing Time-Based Blocks: 7052it [00:01, 4533.92it/s]"
     ]
    },
    {
     "name": "stdout",
     "output_type": "stream",
     "text": [
      "Compressing block 93 with 72 frames\n",
      "Compressing block 94 with 72 frames\n",
      "Compressing block 95 with 72 frames\n",
      "Compressing block 96 with 72 frames\n",
      "Compressing block 97 with 72 frames\n",
      "Compressing block 98 with 72 frames\n",
      "Compressing block 99 with 72 frames\n",
      "Compressing block 100 with 72 frames\n"
     ]
    },
    {
     "name": "stderr",
     "output_type": "stream",
     "text": [
      "Compressing Time-Based Blocks: 7556it [00:01, 4552.03it/s]"
     ]
    },
    {
     "name": "stdout",
     "output_type": "stream",
     "text": [
      "Compressing block 101 with 72 frames\n",
      "Compressing block 102 with 72 frames\n",
      "Compressing block 103 with 72 frames\n",
      "Compressing block 104 with 72 frames\n",
      "Compressing block 105 with 72 frames\n"
     ]
    },
    {
     "name": "stderr",
     "output_type": "stream",
     "text": [
      "Compressing Time-Based Blocks: 8060it [00:01, 4593.76it/s]"
     ]
    },
    {
     "name": "stdout",
     "output_type": "stream",
     "text": [
      "Compressing block 106 with 72 frames\n",
      "Compressing block 107 with 72 frames\n",
      "Compressing block 108 with 72 frames\n",
      "Compressing block 109 with 72 frames\n",
      "Compressing block 110 with 72 frames\n",
      "Compressing block 111 with 72 frames\n",
      "Compressing block 112 with 72 frames\n",
      "Compressing block 113 with 72 frames\n"
     ]
    },
    {
     "name": "stderr",
     "output_type": "stream",
     "text": [
      "Compressing Time-Based Blocks: 8564it [00:01, 4617.26it/s]"
     ]
    },
    {
     "name": "stdout",
     "output_type": "stream",
     "text": [
      "Compressing block 114 with 72 frames\n",
      "Compressing block 115 with 72 frames\n",
      "Compressing block 116 with 72 frames\n",
      "Compressing block 117 with 72 frames\n",
      "Compressing block 118 with 72 frames\n"
     ]
    },
    {
     "name": "stderr",
     "output_type": "stream",
     "text": [
      "Compressing Time-Based Blocks: 9068it [00:01, 4622.59it/s]"
     ]
    },
    {
     "name": "stdout",
     "output_type": "stream",
     "text": [
      "Compressing block 119 with 72 frames\n",
      "Compressing block 120 with 72 frames\n",
      "Compressing block 121 with 72 frames\n",
      "Compressing block 122 with 72 frames\n",
      "Compressing block 123 with 72 frames\n",
      "Compressing block 124 with 72 frames\n",
      "Compressing block 125 with 72 frames\n",
      "Compressing block 126 with 72 frames\n",
      "Compressing block 127 with 72 frames\n",
      "Compressing block 128 with 72 frames\n",
      "Compressing block 129 with 72 frames\n",
      "Compressing block 130 with 72 frames\n",
      "Compressing block 131 with 72 frames\n",
      "Compressing block 132 with 72 frames\n"
     ]
    },
    {
     "name": "stderr",
     "output_type": "stream",
     "text": [
      "Compressing Time-Based Blocks: 10076it [00:02, 4635.04it/s]"
     ]
    },
    {
     "name": "stdout",
     "output_type": "stream",
     "text": [
      "Compressing block 133 with 72 frames\n",
      "Compressing block 134 with 72 frames\n",
      "Compressing block 135 with 72 frames\n",
      "Compressing block 136 with 72 frames\n",
      "Compressing block 137 with 72 frames\n",
      "Compressing block 138 with 72 frames\n",
      "Compressing block 139 with 72 frames\n",
      "Compressing block 140 with 72 frames\n",
      "Compressing block 141 with 72 frames\n",
      "Compressing block 142 with 72 frames\n",
      "Compressing block 143 with 72 frames\n",
      "Compressing block 144 with 72 frames\n",
      "Compressing block 145 with 72 frames\n",
      "Compressing block 146 with 72 frames\n"
     ]
    },
    {
     "name": "stderr",
     "output_type": "stream",
     "text": [
      "Compressing Time-Based Blocks: 11083it [00:02, 4680.17it/s]"
     ]
    },
    {
     "name": "stdout",
     "output_type": "stream",
     "text": [
      "Compressing block 147 with 72 frames\n",
      "Compressing block 148 with 72 frames\n",
      "Compressing block 149 with 72 frames\n",
      "Compressing block 150 with 71 frames\n",
      "Compressing block 151 with 72 frames\n",
      "Compressing block 152 with 72 frames\n",
      "Compressing block 153 with 72 frames\n",
      "Compressing block 154 with 72 frames\n",
      "Compressing block 155 with 72 frames\n",
      "Compressing block 156 with 72 frames\n",
      "Compressing block 157 with 72 frames\n",
      "Compressing block 158 with 72 frames\n",
      "Compressing block 159 with 72 frames\n",
      "Compressing block 160 with 72 frames\n"
     ]
    },
    {
     "name": "stderr",
     "output_type": "stream",
     "text": [
      "Compressing Time-Based Blocks: 12091it [00:02, 4730.05it/s]"
     ]
    },
    {
     "name": "stdout",
     "output_type": "stream",
     "text": [
      "Compressing block 161 with 72 frames\n",
      "Compressing block 162 with 72 frames\n",
      "Compressing block 163 with 72 frames\n",
      "Compressing block 164 with 72 frames\n",
      "Compressing block 165 with 72 frames\n",
      "Compressing block 166 with 72 frames\n",
      "Compressing block 167 with 72 frames\n",
      "Compressing block 168 with 72 frames\n",
      "Compressing block 169 with 72 frames\n",
      "Compressing block 170 with 72 frames\n"
     ]
    },
    {
     "name": "stderr",
     "output_type": "stream",
     "text": [
      "Compressing Time-Based Blocks: 12595it [00:02, 4034.99it/s]"
     ]
    },
    {
     "name": "stdout",
     "output_type": "stream",
     "text": [
      "Compressing block 171 with 72 frames\n",
      "Compressing block 172 with 72 frames\n",
      "Compressing block 173 with 72 frames\n",
      "Compressing block 174 with 72 frames\n",
      "Compressing block 175 with 72 frames\n",
      "Compressing block 176 with 72 frames\n",
      "Compressing block 177 with 72 frames\n",
      "Compressing block 178 with 72 frames\n",
      "Compressing block 179 with 72 frames\n"
     ]
    },
    {
     "name": "stderr",
     "output_type": "stream",
     "text": [
      "Compressing Time-Based Blocks: 13099it [00:02, 4187.86it/s]"
     ]
    },
    {
     "name": "stdout",
     "output_type": "stream",
     "text": [
      "Compressing block 180 with 72 frames\n",
      "Compressing block 181 with 72 frames\n",
      "Compressing block 182 with 72 frames\n",
      "Compressing block 183 with 72 frames\n"
     ]
    },
    {
     "name": "stderr",
     "output_type": "stream",
     "text": [
      "Compressing Time-Based Blocks: 13594it [00:03, 4199.69it/s]"
     ]
    },
    {
     "name": "stdout",
     "output_type": "stream",
     "text": [
      "Compressing block 184 with 72 frames\n",
      "Compressing block 185 with 63 frames\n",
      "Compressing block 186 with 72 frames\n",
      "Compressing block 187 with 72 frames\n",
      "Compressing block 188 with 72 frames\n",
      "Compressing block 189 with 72 frames\n",
      "Compressing block 190 with 72 frames\n",
      "Compressing block 191 with 70 frames\n",
      "Compressing block 192 with 72 frames\n"
     ]
    },
    {
     "name": "stderr",
     "output_type": "stream",
     "text": [
      "Compressing Time-Based Blocks: 14096it [00:03, 4320.36it/s]"
     ]
    },
    {
     "name": "stdout",
     "output_type": "stream",
     "text": [
      "Compressing block 193 with 72 frames\n",
      "Compressing block 194 with 72 frames\n",
      "Compressing block 195 with 72 frames\n",
      "Compressing block 196 with 72 frames\n"
     ]
    },
    {
     "name": "stderr",
     "output_type": "stream",
     "text": [
      "Compressing Time-Based Blocks: 14312it [00:03, 4493.44it/s]\n"
     ]
    },
    {
     "name": "stdout",
     "output_type": "stream",
     "text": [
      "Compressing block 197 with 72 frames\n",
      "Compressing block 198 with 72 frames\n",
      "Saved 199 blocks for la2, band 10\n",
      "RAM usage: 1890.64 MB\n",
      "Starting compression for ./time_series_cleaned_la2/C11_time_series.nc\n",
      "Loaded 14305 frames\n",
      "First time: 2024-09-01 00:00:20, Last time: 2024-12-09 23:50:20\n",
      "Largest time gap: 4:20:00\n",
      "Smallest time gap: 0:00:00\n",
      "⚠️ Large gap at index 4555: 4:20:00 between 2024-10-02 11:40:20 and 2024-10-02 16:00:20\n",
      "⚠️ Large gap at index 10878: 2:50:00 between 2024-11-15 17:40:19 and 2024-11-15 20:30:19\n",
      "⚠️ Large gap at index 13368: 2:50:00 between 2024-12-03 07:20:20 and 2024-12-03 10:10:20\n",
      "→ Interpolated to 14312 frames\n",
      "Got 14312 frames after interpolation\n"
     ]
    },
    {
     "name": "stderr",
     "output_type": "stream",
     "text": [
      "Compressing Time-Based Blocks: 432it [00:00, 4117.50it/s]"
     ]
    },
    {
     "name": "stdout",
     "output_type": "stream",
     "text": [
      "Compressing block 0 with 72 frames\n",
      "Compressing block 1 with 72 frames\n",
      "Compressing block 2 with 72 frames\n",
      "Compressing block 3 with 72 frames\n",
      "Compressing block 4 with 72 frames\n",
      "Compressing block 5 with 72 frames\n",
      "Compressing block 6 with 72 frames\n",
      "Compressing block 7 with 72 frames\n",
      "Compressing block 8 with 72 frames\n",
      "Compressing block 9 with 72 frames\n",
      "Compressing block 10 with 72 frames\n",
      "Compressing block 11 with 72 frames\n"
     ]
    },
    {
     "name": "stderr",
     "output_type": "stream",
     "text": [
      "Compressing Time-Based Blocks: 1296it [00:00, 4256.18it/s]"
     ]
    },
    {
     "name": "stdout",
     "output_type": "stream",
     "text": [
      "Compressing block 12 with 72 frames\n",
      "Compressing block 13 with 72 frames\n",
      "Compressing block 14 with 72 frames\n",
      "Compressing block 15 with 72 frames\n",
      "Compressing block 16 with 72 frames\n",
      "Compressing block 17 with 72 frames\n",
      "Compressing block 18 with 72 frames\n",
      "Compressing block 19 with 72 frames\n",
      "Compressing block 20 with 72 frames\n",
      "Compressing block 21 with 72 frames\n",
      "Compressing block 22 with 72 frames\n",
      "Compressing block 23 with 72 frames\n"
     ]
    },
    {
     "name": "stderr",
     "output_type": "stream",
     "text": [
      "Compressing Time-Based Blocks: 2160it [00:00, 4241.38it/s]"
     ]
    },
    {
     "name": "stdout",
     "output_type": "stream",
     "text": [
      "Compressing block 24 with 72 frames\n",
      "Compressing block 25 with 72 frames\n",
      "Compressing block 26 with 72 frames\n",
      "Compressing block 27 with 72 frames\n",
      "Compressing block 28 with 72 frames\n",
      "Compressing block 29 with 72 frames\n",
      "Compressing block 30 with 72 frames\n",
      "Compressing block 31 with 72 frames\n",
      "Compressing block 32 with 72 frames\n",
      "Compressing block 33 with 72 frames\n",
      "Compressing block 34 with 72 frames\n",
      "Compressing block 35 with 72 frames\n"
     ]
    },
    {
     "name": "stderr",
     "output_type": "stream",
     "text": [
      "Compressing Time-Based Blocks: 3096it [00:00, 4280.18it/s]"
     ]
    },
    {
     "name": "stdout",
     "output_type": "stream",
     "text": [
      "Compressing block 36 with 72 frames\n",
      "Compressing block 37 with 72 frames\n",
      "Compressing block 38 with 72 frames\n",
      "Compressing block 39 with 72 frames\n",
      "Compressing block 40 with 72 frames\n",
      "Compressing block 41 with 72 frames\n",
      "Compressing block 42 with 72 frames\n",
      "Compressing block 43 with 72 frames\n",
      "Compressing block 44 with 72 frames\n",
      "Compressing block 45 with 72 frames\n",
      "Compressing block 46 with 72 frames\n",
      "Compressing block 47 with 72 frames\n",
      "Compressing block 48 with 72 frames\n"
     ]
    },
    {
     "name": "stderr",
     "output_type": "stream",
     "text": [
      "Compressing Time-Based Blocks: 4104it [00:00, 4316.86it/s]"
     ]
    },
    {
     "name": "stdout",
     "output_type": "stream",
     "text": [
      "Compressing block 49 with 72 frames\n",
      "Compressing block 50 with 72 frames\n",
      "Compressing block 51 with 72 frames\n",
      "Compressing block 52 with 72 frames\n",
      "Compressing block 53 with 72 frames\n",
      "Compressing block 54 with 72 frames\n",
      "Compressing block 55 with 72 frames\n",
      "Compressing block 56 with 72 frames\n",
      "Compressing block 57 with 72 frames\n",
      "Compressing block 58 with 72 frames\n",
      "Compressing block 59 with 72 frames\n",
      "Compressing block 60 with 72 frames\n",
      "Compressing block 61 with 72 frames\n"
     ]
    },
    {
     "name": "stderr",
     "output_type": "stream",
     "text": [
      "Compressing Time-Based Blocks: 5180it [00:01, 4587.35it/s]"
     ]
    },
    {
     "name": "stdout",
     "output_type": "stream",
     "text": [
      "Compressing block 62 with 69 frames\n",
      "Compressing block 63 with 72 frames\n",
      "Compressing block 64 with 72 frames\n",
      "Compressing block 65 with 72 frames\n",
      "Compressing block 66 with 71 frames\n",
      "Compressing block 67 with 72 frames\n",
      "Compressing block 68 with 72 frames\n",
      "Compressing block 69 with 72 frames\n",
      "Compressing block 70 with 72 frames\n",
      "Compressing block 71 with 72 frames\n",
      "Compressing block 72 with 72 frames\n",
      "Compressing block 73 with 72 frames\n",
      "Compressing block 74 with 72 frames\n",
      "Compressing block 75 with 72 frames\n"
     ]
    },
    {
     "name": "stderr",
     "output_type": "stream",
     "text": [
      "Compressing Time-Based Blocks: 5756it [00:01, 4736.47it/s]"
     ]
    },
    {
     "name": "stdout",
     "output_type": "stream",
     "text": [
      "Compressing block 76 with 72 frames\n",
      "Compressing block 77 with 72 frames\n",
      "Compressing block 78 with 72 frames\n",
      "Compressing block 79 with 72 frames\n",
      "Compressing block 80 with 72 frames\n",
      "Compressing block 81 with 72 frames\n",
      "Compressing block 82 with 72 frames\n",
      "Compressing block 83 with 72 frames\n",
      "Compressing block 84 with 72 frames\n",
      "Compressing block 85 with 72 frames\n",
      "Compressing block 86 with 72 frames\n",
      "Compressing block 87 with 72 frames\n"
     ]
    },
    {
     "name": "stderr",
     "output_type": "stream",
     "text": [
      "Compressing Time-Based Blocks: 6332it [00:01, 4817.82it/s]"
     ]
    },
    {
     "name": "stdout",
     "output_type": "stream",
     "text": [
      "Compressing block 88 with 72 frames\n",
      "Compressing block 89 with 72 frames\n"
     ]
    },
    {
     "name": "stderr",
     "output_type": "stream",
     "text": [
      "Compressing Time-Based Blocks: 6836it [00:01, 4638.67it/s]"
     ]
    },
    {
     "name": "stdout",
     "output_type": "stream",
     "text": [
      "Compressing block 90 with 72 frames\n",
      "Compressing block 91 with 72 frames\n",
      "Compressing block 92 with 72 frames\n",
      "Compressing block 93 with 72 frames\n",
      "Compressing block 94 with 72 frames\n",
      "Compressing block 95 with 72 frames\n",
      "Compressing block 96 with 72 frames\n",
      "Compressing block 97 with 72 frames\n",
      "Compressing block 98 with 72 frames\n",
      "Compressing block 99 with 72 frames\n",
      "Compressing block 100 with 72 frames\n"
     ]
    },
    {
     "name": "stderr",
     "output_type": "stream",
     "text": [
      "Compressing Time-Based Blocks: 7340it [00:01, 4564.51it/s]"
     ]
    },
    {
     "name": "stdout",
     "output_type": "stream",
     "text": [
      "Compressing block 101 with 72 frames\n",
      "Compressing block 102 with 72 frames\n"
     ]
    },
    {
     "name": "stderr",
     "output_type": "stream",
     "text": [
      "Compressing Time-Based Blocks: 7844it [00:01, 4490.97it/s]"
     ]
    },
    {
     "name": "stdout",
     "output_type": "stream",
     "text": [
      "Compressing block 103 with 72 frames\n",
      "Compressing block 104 with 72 frames\n",
      "Compressing block 105 with 72 frames\n",
      "Compressing block 106 with 72 frames\n",
      "Compressing block 107 with 72 frames\n",
      "Compressing block 108 with 72 frames\n",
      "Compressing block 109 with 72 frames\n",
      "Compressing block 110 with 72 frames\n",
      "Compressing block 111 with 72 frames\n",
      "Compressing block 112 with 72 frames\n",
      "Compressing block 113 with 72 frames\n",
      "Compressing block 114 with 72 frames\n",
      "Compressing block 115 with 72 frames\n"
     ]
    },
    {
     "name": "stderr",
     "output_type": "stream",
     "text": [
      "Compressing Time-Based Blocks: 8852it [00:01, 4459.80it/s]"
     ]
    },
    {
     "name": "stdout",
     "output_type": "stream",
     "text": [
      "Compressing block 116 with 72 frames\n",
      "Compressing block 117 with 72 frames\n",
      "Compressing block 118 with 72 frames\n",
      "Compressing block 119 with 72 frames\n",
      "Compressing block 120 with 72 frames\n",
      "Compressing block 121 with 72 frames\n",
      "Compressing block 122 with 72 frames\n",
      "Compressing block 123 with 72 frames\n",
      "Compressing block 124 with 72 frames\n",
      "Compressing block 125 with 72 frames\n",
      "Compressing block 126 with 72 frames\n",
      "Compressing block 127 with 72 frames\n",
      "Compressing block 128 with 72 frames\n"
     ]
    },
    {
     "name": "stderr",
     "output_type": "stream",
     "text": [
      "Compressing Time-Based Blocks: 9860it [00:02, 4086.09it/s]"
     ]
    },
    {
     "name": "stdout",
     "output_type": "stream",
     "text": [
      "Compressing block 129 with 72 frames\n",
      "Compressing block 130 with 72 frames\n",
      "Compressing block 131 with 72 frames\n",
      "Compressing block 132 with 72 frames\n",
      "Compressing block 133 with 72 frames\n",
      "Compressing block 134 with 72 frames\n",
      "Compressing block 135 with 72 frames\n",
      "Compressing block 136 with 72 frames\n",
      "Compressing block 137 with 72 frames\n",
      "Compressing block 138 with 72 frames\n",
      "Compressing block 139 with 72 frames\n"
     ]
    },
    {
     "name": "stderr",
     "output_type": "stream",
     "text": [
      "Compressing Time-Based Blocks: 10796it [00:02, 4238.87it/s]"
     ]
    },
    {
     "name": "stdout",
     "output_type": "stream",
     "text": [
      "Compressing block 140 with 72 frames\n",
      "Compressing block 141 with 72 frames\n",
      "Compressing block 142 with 72 frames\n",
      "Compressing block 143 with 72 frames\n",
      "Compressing block 144 with 72 frames\n",
      "Compressing block 145 with 72 frames\n",
      "Compressing block 146 with 72 frames\n",
      "Compressing block 147 with 72 frames\n",
      "Compressing block 148 with 72 frames\n",
      "Compressing block 149 with 72 frames\n",
      "Compressing block 150 with 71 frames\n",
      "Compressing block 151 with 72 frames\n",
      "Compressing block 152 with 72 frames\n"
     ]
    },
    {
     "name": "stderr",
     "output_type": "stream",
     "text": [
      "Compressing Time-Based Blocks: 11803it [00:02, 4523.17it/s]"
     ]
    },
    {
     "name": "stdout",
     "output_type": "stream",
     "text": [
      "Compressing block 153 with 72 frames\n",
      "Compressing block 154 with 72 frames\n",
      "Compressing block 155 with 72 frames\n",
      "Compressing block 156 with 72 frames\n",
      "Compressing block 157 with 72 frames\n",
      "Compressing block 158 with 72 frames\n",
      "Compressing block 159 with 72 frames\n",
      "Compressing block 160 with 72 frames\n",
      "Compressing block 161 with 72 frames\n",
      "Compressing block 162 with 72 frames\n",
      "Compressing block 163 with 72 frames\n",
      "Compressing block 164 with 72 frames\n",
      "Compressing block 165 with 72 frames\n",
      "Compressing block 166 with 72 frames\n"
     ]
    },
    {
     "name": "stderr",
     "output_type": "stream",
     "text": [
      "Compressing Time-Based Blocks: 12307it [00:02, 4549.07it/s]"
     ]
    },
    {
     "name": "stdout",
     "output_type": "stream",
     "text": [
      "Compressing block 167 with 72 frames\n",
      "Compressing block 168 with 72 frames\n",
      "Compressing block 169 with 72 frames\n",
      "Compressing block 170 with 72 frames\n",
      "Compressing block 171 with 72 frames\n",
      "Compressing block 172 with 72 frames\n",
      "Compressing block 173 with 72 frames\n",
      "Compressing block 174 with 72 frames\n",
      "Compressing block 175 with 72 frames\n",
      "Compressing block 176 with 72 frames\n",
      "Compressing block 177 with 72 frames\n"
     ]
    },
    {
     "name": "stderr",
     "output_type": "stream",
     "text": [
      "Compressing Time-Based Blocks: 13315it [00:03, 4263.52it/s]"
     ]
    },
    {
     "name": "stdout",
     "output_type": "stream",
     "text": [
      "Compressing block 178 with 72 frames\n",
      "Compressing block 179 with 72 frames\n",
      "Compressing block 180 with 72 frames\n",
      "Compressing block 181 with 72 frames\n",
      "Compressing block 182 with 72 frames\n",
      "Compressing block 183 with 72 frames\n",
      "Compressing block 184 with 72 frames\n",
      "Compressing block 185 with 63 frames\n",
      "Compressing block 186 with 72 frames\n",
      "Compressing block 187 with 72 frames\n",
      "Compressing block 188 with 72 frames\n",
      "Compressing block 189 with 72 frames\n",
      "Compressing block 190 with 72 frames\n",
      "Compressing block 191 with 70 frames\n"
     ]
    },
    {
     "name": "stderr",
     "output_type": "stream",
     "text": [
      "Compressing Time-Based Blocks: 14312it [00:03, 4405.87it/s]"
     ]
    },
    {
     "name": "stdout",
     "output_type": "stream",
     "text": [
      "Compressing block 192 with 72 frames\n",
      "Compressing block 193 with 72 frames\n",
      "Compressing block 194 with 72 frames\n",
      "Compressing block 195 with 72 frames\n",
      "Compressing block 196 with 72 frames\n",
      "Compressing block 197 with 72 frames\n",
      "Compressing block 198 with 72 frames\n"
     ]
    },
    {
     "name": "stderr",
     "output_type": "stream",
     "text": [
      "\n"
     ]
    },
    {
     "name": "stdout",
     "output_type": "stream",
     "text": [
      "Saved 199 blocks for la2, band 11\n",
      "RAM usage: 2009.22 MB\n",
      "Starting compression for ./time_series_cleaned_la2/C12_time_series.nc\n",
      "Loaded 14304 frames\n",
      "First time: 2024-09-01 00:00:20, Last time: 2024-12-09 23:50:20\n",
      "Largest time gap: 4:50:00\n",
      "Smallest time gap: 0:00:00\n",
      "⚠️ Large gap at index 4556: 4:30:00 between 2024-10-02 11:30:20 and 2024-10-02 16:00:20\n",
      "⚠️ Large gap at index 10879: 2:50:00 between 2024-11-15 17:40:19 and 2024-11-15 20:30:19\n",
      "⚠️ Large gap at index 13367: 4:50:00 between 2024-12-03 05:20:20 and 2024-12-03 10:10:20\n",
      "→ Interpolated to 14299 frames\n",
      "Got 14299 frames after interpolation\n"
     ]
    },
    {
     "name": "stderr",
     "output_type": "stream",
     "text": [
      "Compressing Time-Based Blocks: 504it [00:00, 4448.80it/s]"
     ]
    },
    {
     "name": "stdout",
     "output_type": "stream",
     "text": [
      "Compressing block 0 with 72 frames\n",
      "Compressing block 1 with 72 frames\n",
      "Compressing block 2 with 72 frames\n",
      "Compressing block 3 with 72 frames\n",
      "Compressing block 4 with 72 frames\n",
      "Compressing block 5 with 72 frames\n",
      "Compressing block 6 with 72 frames\n",
      "Compressing block 7 with 72 frames\n",
      "Compressing block 8 with 72 frames\n",
      "Compressing block 9 with 72 frames\n",
      "Compressing block 10 with 72 frames\n",
      "Compressing block 11 with 72 frames\n",
      "Compressing block 12 with 72 frames\n"
     ]
    },
    {
     "name": "stderr",
     "output_type": "stream",
     "text": [
      "Compressing Time-Based Blocks: 1512it [00:00, 4295.83it/s]"
     ]
    },
    {
     "name": "stdout",
     "output_type": "stream",
     "text": [
      "Compressing block 13 with 72 frames\n",
      "Compressing block 14 with 72 frames\n",
      "Compressing block 15 with 72 frames\n",
      "Compressing block 16 with 72 frames\n",
      "Compressing block 17 with 72 frames\n",
      "Compressing block 18 with 72 frames\n",
      "Compressing block 19 with 72 frames\n",
      "Compressing block 20 with 72 frames\n",
      "Compressing block 21 with 72 frames\n",
      "Compressing block 22 with 72 frames\n",
      "Compressing block 23 with 72 frames\n",
      "Compressing block 24 with 72 frames\n"
     ]
    },
    {
     "name": "stderr",
     "output_type": "stream",
     "text": [
      "Compressing Time-Based Blocks: 2376it [00:00, 4104.54it/s]"
     ]
    },
    {
     "name": "stdout",
     "output_type": "stream",
     "text": [
      "Compressing block 25 with 72 frames\n",
      "Compressing block 26 with 72 frames\n",
      "Compressing block 27 with 72 frames\n",
      "Compressing block 28 with 72 frames\n",
      "Compressing block 29 with 72 frames\n",
      "Compressing block 30 with 72 frames\n",
      "Compressing block 31 with 72 frames\n",
      "Compressing block 32 with 72 frames\n",
      "Compressing block 33 with 72 frames\n",
      "Compressing block 34 with 72 frames\n",
      "Compressing block 35 with 72 frames\n",
      "Compressing block 36 with 72 frames\n"
     ]
    },
    {
     "name": "stderr",
     "output_type": "stream",
     "text": [
      "Compressing Time-Based Blocks: 3240it [00:00, 4172.63it/s]"
     ]
    },
    {
     "name": "stdout",
     "output_type": "stream",
     "text": [
      "Compressing block 37 with 72 frames\n",
      "Compressing block 38 with 72 frames\n",
      "Compressing block 39 with 72 frames\n",
      "Compressing block 40 with 72 frames\n",
      "Compressing block 41 with 72 frames\n",
      "Compressing block 42 with 72 frames\n",
      "Compressing block 43 with 72 frames\n",
      "Compressing block 44 with 72 frames\n",
      "Compressing block 45 with 72 frames\n",
      "Compressing block 46 with 72 frames\n",
      "Compressing block 47 with 72 frames\n",
      "Compressing block 48 with 72 frames\n"
     ]
    },
    {
     "name": "stderr",
     "output_type": "stream",
     "text": [
      "Compressing Time-Based Blocks: 3744it [00:00, 4243.34it/s]"
     ]
    },
    {
     "name": "stdout",
     "output_type": "stream",
     "text": [
      "Compressing block 49 with 72 frames\n",
      "Compressing block 50 with 72 frames\n",
      "Compressing block 51 with 72 frames\n",
      "Compressing block 52 with 72 frames\n",
      "Compressing block 53 with 72 frames\n",
      "Compressing block 54 with 72 frames\n",
      "Compressing block 55 with 72 frames\n",
      "Compressing block 56 with 72 frames\n",
      "Compressing block 57 with 72 frames\n"
     ]
    },
    {
     "name": "stderr",
     "output_type": "stream",
     "text": [
      "Compressing Time-Based Blocks: 4176it [00:00, 4195.32it/s]"
     ]
    },
    {
     "name": "stdout",
     "output_type": "stream",
     "text": [
      "Compressing block 58 with 72 frames\n",
      "Compressing block 59 with 72 frames\n",
      "Compressing block 60 with 72 frames\n"
     ]
    },
    {
     "name": "stderr",
     "output_type": "stream",
     "text": [
      "Compressing Time-Based Blocks: 4676it [00:01, 4237.16it/s]"
     ]
    },
    {
     "name": "stdout",
     "output_type": "stream",
     "text": [
      "Compressing block 61 with 72 frames\n",
      "Compressing block 62 with 68 frames\n",
      "Compressing block 63 with 72 frames\n",
      "Compressing block 64 with 72 frames\n",
      "Compressing block 65 with 72 frames\n",
      "Compressing block 66 with 71 frames\n",
      "Compressing block 67 with 72 frames\n",
      "Compressing block 68 with 72 frames\n",
      "Compressing block 69 with 72 frames\n",
      "Compressing block 70 with 72 frames\n"
     ]
    },
    {
     "name": "stderr",
     "output_type": "stream",
     "text": [
      "Compressing Time-Based Blocks: 5539it [00:01, 3979.39it/s]"
     ]
    },
    {
     "name": "stdout",
     "output_type": "stream",
     "text": [
      "Compressing block 71 with 72 frames\n",
      "Compressing block 72 with 72 frames\n",
      "Compressing block 73 with 72 frames\n",
      "Compressing block 74 with 72 frames\n",
      "Compressing block 75 with 72 frames\n",
      "Compressing block 76 with 72 frames\n",
      "Compressing block 77 with 72 frames\n",
      "Compressing block 78 with 72 frames\n",
      "Compressing block 79 with 72 frames\n",
      "Compressing block 80 with 72 frames\n",
      "Compressing block 81 with 72 frames\n",
      "Compressing block 82 with 72 frames\n",
      "Compressing block 83 with 72 frames\n"
     ]
    },
    {
     "name": "stderr",
     "output_type": "stream",
     "text": [
      "Compressing Time-Based Blocks: 6547it [00:01, 4220.25it/s]"
     ]
    },
    {
     "name": "stdout",
     "output_type": "stream",
     "text": [
      "Compressing block 84 with 72 frames\n",
      "Compressing block 85 with 72 frames\n",
      "Compressing block 86 with 72 frames\n",
      "Compressing block 87 with 72 frames\n",
      "Compressing block 88 with 72 frames\n",
      "Compressing block 89 with 72 frames\n",
      "Compressing block 90 with 72 frames\n",
      "Compressing block 91 with 72 frames\n",
      "Compressing block 92 with 72 frames\n",
      "Compressing block 93 with 72 frames\n",
      "Compressing block 94 with 72 frames\n",
      "Compressing block 95 with 72 frames\n",
      "Compressing block 96 with 72 frames\n"
     ]
    },
    {
     "name": "stderr",
     "output_type": "stream",
     "text": [
      "Compressing Time-Based Blocks: 7555it [00:01, 4335.50it/s]"
     ]
    },
    {
     "name": "stdout",
     "output_type": "stream",
     "text": [
      "Compressing block 97 with 72 frames\n",
      "Compressing block 98 with 72 frames\n",
      "Compressing block 99 with 72 frames\n",
      "Compressing block 100 with 72 frames\n",
      "Compressing block 101 with 72 frames\n",
      "Compressing block 102 with 72 frames\n",
      "Compressing block 103 with 72 frames\n",
      "Compressing block 104 with 72 frames\n",
      "Compressing block 105 with 72 frames\n",
      "Compressing block 106 with 72 frames\n",
      "Compressing block 107 with 72 frames\n",
      "Compressing block 108 with 72 frames\n",
      "Compressing block 109 with 72 frames\n"
     ]
    },
    {
     "name": "stderr",
     "output_type": "stream",
     "text": [
      "Compressing Time-Based Blocks: 8563it [00:02, 4410.19it/s]"
     ]
    },
    {
     "name": "stdout",
     "output_type": "stream",
     "text": [
      "Compressing block 110 with 72 frames\n",
      "Compressing block 111 with 72 frames\n",
      "Compressing block 112 with 72 frames\n",
      "Compressing block 113 with 72 frames\n",
      "Compressing block 114 with 72 frames\n",
      "Compressing block 115 with 72 frames\n",
      "Compressing block 116 with 72 frames\n",
      "Compressing block 117 with 72 frames\n",
      "Compressing block 118 with 72 frames\n",
      "Compressing block 119 with 72 frames\n",
      "Compressing block 120 with 72 frames\n",
      "Compressing block 121 with 72 frames\n",
      "Compressing block 122 with 72 frames\n"
     ]
    },
    {
     "name": "stderr",
     "output_type": "stream",
     "text": [
      "Compressing Time-Based Blocks: 9571it [00:02, 4597.36it/s]"
     ]
    },
    {
     "name": "stdout",
     "output_type": "stream",
     "text": [
      "Compressing block 123 with 72 frames\n",
      "Compressing block 124 with 72 frames\n",
      "Compressing block 125 with 72 frames\n",
      "Compressing block 126 with 72 frames\n",
      "Compressing block 127 with 72 frames\n",
      "Compressing block 128 with 72 frames\n",
      "Compressing block 129 with 72 frames\n",
      "Compressing block 130 with 72 frames\n",
      "Compressing block 131 with 72 frames\n",
      "Compressing block 132 with 72 frames\n",
      "Compressing block 133 with 72 frames\n",
      "Compressing block 134 with 72 frames\n",
      "Compressing block 135 with 72 frames\n",
      "Compressing block 136 with 72 frames\n"
     ]
    },
    {
     "name": "stderr",
     "output_type": "stream",
     "text": [
      "Compressing Time-Based Blocks: 10579it [00:02, 4708.42it/s]"
     ]
    },
    {
     "name": "stdout",
     "output_type": "stream",
     "text": [
      "Compressing block 137 with 72 frames\n",
      "Compressing block 138 with 72 frames\n",
      "Compressing block 139 with 72 frames\n",
      "Compressing block 140 with 72 frames\n",
      "Compressing block 141 with 72 frames\n",
      "Compressing block 142 with 72 frames\n",
      "Compressing block 143 with 72 frames\n",
      "Compressing block 144 with 72 frames\n",
      "Compressing block 145 with 72 frames\n",
      "Compressing block 146 with 72 frames\n",
      "Compressing block 147 with 72 frames\n",
      "Compressing block 148 with 72 frames\n",
      "Compressing block 149 with 72 frames\n",
      "Compressing block 150 with 71 frames\n"
     ]
    },
    {
     "name": "stderr",
     "output_type": "stream",
     "text": [
      "Compressing Time-Based Blocks: 11586it [00:02, 4709.96it/s]"
     ]
    },
    {
     "name": "stdout",
     "output_type": "stream",
     "text": [
      "Compressing block 151 with 72 frames\n",
      "Compressing block 152 with 72 frames\n",
      "Compressing block 153 with 72 frames\n",
      "Compressing block 154 with 72 frames\n",
      "Compressing block 155 with 72 frames\n",
      "Compressing block 156 with 72 frames\n",
      "Compressing block 157 with 72 frames\n",
      "Compressing block 158 with 72 frames\n",
      "Compressing block 159 with 72 frames\n",
      "Compressing block 160 with 72 frames\n",
      "Compressing block 161 with 72 frames\n",
      "Compressing block 162 with 72 frames\n",
      "Compressing block 163 with 72 frames\n"
     ]
    },
    {
     "name": "stderr",
     "output_type": "stream",
     "text": [
      "Compressing Time-Based Blocks: 12090it [00:02, 4612.08it/s]"
     ]
    },
    {
     "name": "stdout",
     "output_type": "stream",
     "text": [
      "Compressing block 164 with 72 frames\n",
      "Compressing block 165 with 72 frames\n",
      "Compressing block 166 with 72 frames\n",
      "Compressing block 167 with 72 frames\n",
      "Compressing block 168 with 72 frames\n",
      "Compressing block 169 with 72 frames\n",
      "Compressing block 170 with 72 frames\n",
      "Compressing block 171 with 72 frames\n",
      "Compressing block 172 with 72 frames\n",
      "Compressing block 173 with 72 frames\n",
      "Compressing block 174 with 72 frames\n"
     ]
    },
    {
     "name": "stderr",
     "output_type": "stream",
     "text": [
      "Compressing Time-Based Blocks: 12594it [00:02, 4592.22it/s]"
     ]
    },
    {
     "name": "stdout",
     "output_type": "stream",
     "text": [
      "Compressing block 175 with 72 frames\n",
      "Compressing block 176 with 72 frames\n"
     ]
    },
    {
     "name": "stderr",
     "output_type": "stream",
     "text": [
      "Compressing Time-Based Blocks: 13098it [00:02, 4547.72it/s]"
     ]
    },
    {
     "name": "stdout",
     "output_type": "stream",
     "text": [
      "Compressing block 177 with 72 frames\n",
      "Compressing block 178 with 72 frames\n",
      "Compressing block 179 with 72 frames\n",
      "Compressing block 180 with 72 frames\n",
      "Compressing block 181 with 72 frames\n",
      "Compressing block 182 with 72 frames\n",
      "Compressing block 183 with 72 frames\n",
      "Compressing block 184 with 72 frames\n",
      "Compressing block 185 with 51 frames\n",
      "Compressing block 186 with 72 frames\n",
      "Compressing block 187 with 72 frames\n"
     ]
    },
    {
     "name": "stderr",
     "output_type": "stream",
     "text": [
      "Compressing Time-Based Blocks: 13581it [00:03, 4489.98it/s]"
     ]
    },
    {
     "name": "stdout",
     "output_type": "stream",
     "text": [
      "Compressing block 188 with 72 frames\n",
      "Compressing block 189 with 72 frames\n"
     ]
    },
    {
     "name": "stderr",
     "output_type": "stream",
     "text": [
      "Compressing Time-Based Blocks: 14299it [00:03, 4367.56it/s]"
     ]
    },
    {
     "name": "stdout",
     "output_type": "stream",
     "text": [
      "Compressing block 190 with 72 frames\n",
      "Compressing block 191 with 70 frames\n",
      "Compressing block 192 with 72 frames\n",
      "Compressing block 193 with 72 frames\n",
      "Compressing block 194 with 72 frames\n",
      "Compressing block 195 with 72 frames\n",
      "Compressing block 196 with 72 frames\n",
      "Compressing block 197 with 72 frames\n",
      "Compressing block 198 with 72 frames\n"
     ]
    },
    {
     "name": "stderr",
     "output_type": "stream",
     "text": [
      "\n"
     ]
    },
    {
     "name": "stdout",
     "output_type": "stream",
     "text": [
      "Saved 199 blocks for la2, band 12\n",
      "RAM usage: 2030.94 MB\n",
      "Starting compression for ./time_series_cleaned_la2/C13_time_series.nc\n",
      "Loaded 14295 frames\n",
      "First time: 2024-09-01 00:00:20, Last time: 2024-12-09 23:50:20\n",
      "Largest time gap: 4:20:00\n",
      "Smallest time gap: 0:00:00\n",
      "⚠️ Large gap at index 4556: 4:20:00 between 2024-10-02 11:40:20 and 2024-10-02 16:00:20\n",
      "⚠️ Large gap at index 10879: 2:50:00 between 2024-11-15 17:40:19 and 2024-11-15 20:30:19\n",
      "⚠️ Large gap at index 11112: 4:00:00 between 2024-11-17 11:10:20 and 2024-11-17 15:10:20\n",
      "⚠️ Large gap at index 13358: 3:00:00 between 2024-12-03 07:10:20 and 2024-12-03 10:10:20\n",
      "⚠️ Large time gap: 4:00:00 at index 15\n",
      "→ Interpolated to 14311 frames\n",
      "Got 14311 frames after interpolation\n"
     ]
    },
    {
     "name": "stderr",
     "output_type": "stream",
     "text": [
      "Compressing Time-Based Blocks: 360it [00:00, 3485.10it/s]"
     ]
    },
    {
     "name": "stdout",
     "output_type": "stream",
     "text": [
      "Compressing block 0 with 72 frames\n",
      "Compressing block 1 with 72 frames\n",
      "Compressing block 2 with 72 frames\n",
      "Compressing block 3 with 72 frames\n",
      "Compressing block 4 with 72 frames\n",
      "Compressing block 5 with 72 frames\n",
      "Compressing block 6 with 72 frames\n",
      "Compressing block 7 with 72 frames\n",
      "Compressing block 8 with 72 frames\n",
      "Compressing block 9 with 72 frames\n"
     ]
    },
    {
     "name": "stderr",
     "output_type": "stream",
     "text": [
      "Compressing Time-Based Blocks: 1224it [00:00, 3773.50it/s]"
     ]
    },
    {
     "name": "stdout",
     "output_type": "stream",
     "text": [
      "Compressing block 10 with 72 frames\n",
      "Compressing block 11 with 72 frames\n",
      "Compressing block 12 with 72 frames\n",
      "Compressing block 13 with 72 frames\n",
      "Compressing block 14 with 72 frames\n",
      "Compressing block 15 with 72 frames\n",
      "Compressing block 16 with 72 frames\n",
      "Compressing block 17 with 72 frames\n",
      "Compressing block 18 with 72 frames\n",
      "Compressing block 19 with 72 frames\n",
      "Compressing block 20 with 72 frames\n",
      "Compressing block 21 with 72 frames\n"
     ]
    },
    {
     "name": "stderr",
     "output_type": "stream",
     "text": [
      "Compressing Time-Based Blocks: 2088it [00:00, 3869.70it/s]"
     ]
    },
    {
     "name": "stdout",
     "output_type": "stream",
     "text": [
      "Compressing block 22 with 72 frames\n",
      "Compressing block 23 with 72 frames\n",
      "Compressing block 24 with 72 frames\n",
      "Compressing block 25 with 72 frames\n",
      "Compressing block 26 with 72 frames\n",
      "Compressing block 27 with 72 frames\n",
      "Compressing block 28 with 72 frames\n",
      "Compressing block 29 with 72 frames\n",
      "Compressing block 30 with 72 frames\n",
      "Compressing block 31 with 72 frames\n",
      "Compressing block 32 with 72 frames\n"
     ]
    },
    {
     "name": "stderr",
     "output_type": "stream",
     "text": [
      "Compressing Time-Based Blocks: 2520it [00:00, 3709.80it/s]"
     ]
    },
    {
     "name": "stdout",
     "output_type": "stream",
     "text": [
      "Compressing block 33 with 72 frames\n",
      "Compressing block 34 with 72 frames\n",
      "Compressing block 35 with 72 frames\n",
      "Compressing block 36 with 72 frames\n",
      "Compressing block 37 with 72 frames\n",
      "Compressing block 38 with 72 frames\n",
      "Compressing block 39 with 72 frames\n",
      "Compressing block 40 with 72 frames\n"
     ]
    },
    {
     "name": "stderr",
     "output_type": "stream",
     "text": [
      "Compressing Time-Based Blocks: 2952it [00:00, 3614.91it/s]"
     ]
    },
    {
     "name": "stdout",
     "output_type": "stream",
     "text": [
      "Compressing block 41 with 72 frames\n",
      "Compressing block 42 with 72 frames\n"
     ]
    },
    {
     "name": "stderr",
     "output_type": "stream",
     "text": [
      "Compressing Time-Based Blocks: 3384it [00:00, 3483.03it/s]"
     ]
    },
    {
     "name": "stdout",
     "output_type": "stream",
     "text": [
      "Compressing block 43 with 72 frames\n",
      "Compressing block 44 with 72 frames\n",
      "Compressing block 45 with 72 frames\n",
      "Compressing block 46 with 72 frames\n",
      "Compressing block 47 with 72 frames\n",
      "Compressing block 48 with 72 frames\n",
      "Compressing block 49 with 72 frames\n",
      "Compressing block 50 with 72 frames\n"
     ]
    },
    {
     "name": "stderr",
     "output_type": "stream",
     "text": [
      "Compressing Time-Based Blocks: 3816it [00:01, 3601.43it/s]"
     ]
    },
    {
     "name": "stdout",
     "output_type": "stream",
     "text": [
      "Compressing block 51 with 72 frames\n",
      "Compressing block 52 with 72 frames\n",
      "Compressing block 53 with 72 frames\n"
     ]
    },
    {
     "name": "stderr",
     "output_type": "stream",
     "text": [
      "Compressing Time-Based Blocks: 4248it [00:01, 3676.50it/s]"
     ]
    },
    {
     "name": "stdout",
     "output_type": "stream",
     "text": [
      "Compressing block 54 with 72 frames\n",
      "Compressing block 55 with 72 frames\n",
      "Compressing block 56 with 72 frames\n",
      "Compressing block 57 with 72 frames\n",
      "Compressing block 58 with 72 frames\n",
      "Compressing block 59 with 72 frames\n",
      "Compressing block 60 with 72 frames\n",
      "Compressing block 61 with 72 frames\n"
     ]
    },
    {
     "name": "stderr",
     "output_type": "stream",
     "text": [
      "Compressing Time-Based Blocks: 4677it [00:01, 3839.11it/s]"
     ]
    },
    {
     "name": "stdout",
     "output_type": "stream",
     "text": [
      "Compressing block 62 with 69 frames\n",
      "Compressing block 63 with 72 frames\n",
      "Compressing block 64 with 72 frames\n",
      "Compressing block 65 with 72 frames\n"
     ]
    },
    {
     "name": "stderr",
     "output_type": "stream",
     "text": [
      "Compressing Time-Based Blocks: 5180it [00:01, 4053.57it/s]"
     ]
    },
    {
     "name": "stdout",
     "output_type": "stream",
     "text": [
      "Compressing block 66 with 71 frames\n",
      "Compressing block 67 with 72 frames\n",
      "Compressing block 68 with 72 frames\n",
      "Compressing block 69 with 72 frames\n",
      "Compressing block 70 with 72 frames\n",
      "Compressing block 71 with 72 frames\n",
      "Compressing block 72 with 72 frames\n",
      "Compressing block 73 with 72 frames\n",
      "Compressing block 74 with 72 frames\n"
     ]
    },
    {
     "name": "stderr",
     "output_type": "stream",
     "text": [
      "Compressing Time-Based Blocks: 5684it [00:01, 4290.75it/s]"
     ]
    },
    {
     "name": "stdout",
     "output_type": "stream",
     "text": [
      "Compressing block 75 with 72 frames\n",
      "Compressing block 76 with 72 frames\n",
      "Compressing block 77 with 72 frames\n",
      "Compressing block 78 with 72 frames\n",
      "Compressing block 79 with 72 frames\n"
     ]
    },
    {
     "name": "stderr",
     "output_type": "stream",
     "text": [
      "Compressing Time-Based Blocks: 6188it [00:01, 4263.03it/s]"
     ]
    },
    {
     "name": "stdout",
     "output_type": "stream",
     "text": [
      "Compressing block 80 with 72 frames\n",
      "Compressing block 81 with 72 frames\n",
      "Compressing block 82 with 72 frames\n",
      "Compressing block 83 with 72 frames\n",
      "Compressing block 84 with 72 frames\n",
      "Compressing block 85 with 72 frames\n",
      "Compressing block 86 with 72 frames\n",
      "Compressing block 87 with 72 frames\n",
      "Compressing block 88 with 72 frames\n",
      "Compressing block 89 with 72 frames\n",
      "Compressing block 90 with 72 frames\n",
      "Compressing block 91 with 72 frames\n"
     ]
    },
    {
     "name": "stderr",
     "output_type": "stream",
     "text": [
      "Compressing Time-Based Blocks: 6620it [00:01, 4120.47it/s]"
     ]
    },
    {
     "name": "stdout",
     "output_type": "stream",
     "text": [
      "Compressing block 92 with 72 frames\n",
      "Compressing block 93 with 72 frames\n",
      "Compressing block 94 with 72 frames\n",
      "Compressing block 95 with 72 frames\n",
      "Compressing block 96 with 72 frames\n",
      "Compressing block 97 with 72 frames\n",
      "Compressing block 98 with 72 frames\n"
     ]
    },
    {
     "name": "stderr",
     "output_type": "stream",
     "text": [
      "Compressing Time-Based Blocks: 7124it [00:01, 4202.79it/s]"
     ]
    },
    {
     "name": "stdout",
     "output_type": "stream",
     "text": [
      "Compressing block 99 with 72 frames\n",
      "Compressing block 100 with 72 frames\n",
      "Compressing block 101 with 72 frames\n",
      "Compressing block 102 with 72 frames\n",
      "Compressing block 103 with 72 frames\n",
      "Compressing block 104 with 72 frames\n"
     ]
    },
    {
     "name": "stderr",
     "output_type": "stream",
     "text": [
      "Compressing Time-Based Blocks: 7628it [00:01, 4294.36it/s]"
     ]
    },
    {
     "name": "stdout",
     "output_type": "stream",
     "text": [
      "Compressing block 105 with 72 frames\n",
      "Compressing block 106 with 72 frames\n",
      "Compressing block 107 with 72 frames\n",
      "Compressing block 108 with 72 frames\n",
      "Compressing block 109 with 72 frames\n",
      "Compressing block 110 with 72 frames\n",
      "Compressing block 111 with 72 frames\n"
     ]
    },
    {
     "name": "stderr",
     "output_type": "stream",
     "text": [
      "Compressing Time-Based Blocks: 8132it [00:02, 4389.20it/s]"
     ]
    },
    {
     "name": "stdout",
     "output_type": "stream",
     "text": [
      "Compressing block 112 with 72 frames\n",
      "Compressing block 113 with 72 frames\n",
      "Compressing block 114 with 72 frames\n",
      "Compressing block 115 with 72 frames\n",
      "Compressing block 116 with 72 frames\n",
      "Compressing block 117 with 72 frames\n"
     ]
    },
    {
     "name": "stderr",
     "output_type": "stream",
     "text": [
      "Compressing Time-Based Blocks: 8636it [00:02, 4409.07it/s]"
     ]
    },
    {
     "name": "stdout",
     "output_type": "stream",
     "text": [
      "Compressing block 118 with 72 frames\n",
      "Compressing block 119 with 72 frames\n",
      "Compressing block 120 with 72 frames\n",
      "Compressing block 121 with 72 frames\n",
      "Compressing block 122 with 72 frames\n",
      "Compressing block 123 with 72 frames\n",
      "Compressing block 124 with 72 frames\n"
     ]
    },
    {
     "name": "stderr",
     "output_type": "stream",
     "text": [
      "Compressing Time-Based Blocks: 9140it [00:02, 4445.16it/s]"
     ]
    },
    {
     "name": "stdout",
     "output_type": "stream",
     "text": [
      "Compressing block 125 with 72 frames\n",
      "Compressing block 126 with 72 frames\n",
      "Compressing block 127 with 72 frames\n",
      "Compressing block 128 with 72 frames\n",
      "Compressing block 129 with 72 frames\n",
      "Compressing block 130 with 72 frames\n"
     ]
    },
    {
     "name": "stderr",
     "output_type": "stream",
     "text": [
      "Compressing Time-Based Blocks: 9644it [00:02, 4484.63it/s]"
     ]
    },
    {
     "name": "stdout",
     "output_type": "stream",
     "text": [
      "Compressing block 131 with 72 frames\n",
      "Compressing block 132 with 72 frames\n",
      "Compressing block 133 with 72 frames\n",
      "Compressing block 134 with 72 frames\n",
      "Compressing block 135 with 72 frames\n",
      "Compressing block 136 with 72 frames\n",
      "Compressing block 137 with 72 frames\n"
     ]
    },
    {
     "name": "stderr",
     "output_type": "stream",
     "text": [
      "Compressing Time-Based Blocks: 10148it [00:02, 4550.56it/s]"
     ]
    },
    {
     "name": "stdout",
     "output_type": "stream",
     "text": [
      "Compressing block 138 with 72 frames\n",
      "Compressing block 139 with 72 frames\n",
      "Compressing block 140 with 72 frames\n",
      "Compressing block 141 with 72 frames\n",
      "Compressing block 142 with 72 frames\n",
      "Compressing block 143 with 72 frames\n",
      "Compressing block 144 with 72 frames\n"
     ]
    },
    {
     "name": "stderr",
     "output_type": "stream",
     "text": [
      "Compressing Time-Based Blocks: 10652it [00:02, 4577.51it/s]"
     ]
    },
    {
     "name": "stdout",
     "output_type": "stream",
     "text": [
      "Compressing block 145 with 72 frames\n",
      "Compressing block 146 with 72 frames\n",
      "Compressing block 147 with 72 frames\n",
      "Compressing block 148 with 72 frames\n",
      "Compressing block 149 with 72 frames\n",
      "Compressing block 150 with 71 frames\n",
      "Compressing block 151 with 72 frames\n"
     ]
    },
    {
     "name": "stderr",
     "output_type": "stream",
     "text": [
      "Compressing Time-Based Blocks: 11155it [00:02, 4586.27it/s]"
     ]
    },
    {
     "name": "stdout",
     "output_type": "stream",
     "text": [
      "Compressing block 152 with 72 frames\n",
      "Compressing block 153 with 72 frames\n",
      "Compressing block 154 with 72 frames\n",
      "Compressing block 155 with 72 frames\n",
      "Compressing block 156 with 72 frames\n",
      "Compressing block 157 with 72 frames\n"
     ]
    },
    {
     "name": "stderr",
     "output_type": "stream",
     "text": [
      "Compressing Time-Based Blocks: 11659it [00:02, 4534.74it/s]"
     ]
    },
    {
     "name": "stdout",
     "output_type": "stream",
     "text": [
      "Compressing block 158 with 72 frames\n",
      "Compressing block 159 with 72 frames\n",
      "Compressing block 160 with 72 frames\n",
      "Compressing block 161 with 72 frames\n",
      "Compressing block 162 with 72 frames\n",
      "Compressing block 163 with 72 frames\n",
      "Compressing block 164 with 72 frames\n"
     ]
    },
    {
     "name": "stderr",
     "output_type": "stream",
     "text": [
      "Compressing Time-Based Blocks: 12163it [00:02, 4586.90it/s]"
     ]
    },
    {
     "name": "stdout",
     "output_type": "stream",
     "text": [
      "Compressing block 165 with 72 frames\n",
      "Compressing block 166 with 72 frames\n",
      "Compressing block 167 with 72 frames\n",
      "Compressing block 168 with 72 frames\n",
      "Compressing block 169 with 72 frames\n",
      "Compressing block 170 with 72 frames\n",
      "Compressing block 171 with 72 frames\n"
     ]
    },
    {
     "name": "stderr",
     "output_type": "stream",
     "text": [
      "Compressing Time-Based Blocks: 12667it [00:03, 4645.52it/s]"
     ]
    },
    {
     "name": "stdout",
     "output_type": "stream",
     "text": [
      "Compressing block 172 with 72 frames\n",
      "Compressing block 173 with 72 frames\n",
      "Compressing block 174 with 72 frames\n",
      "Compressing block 175 with 72 frames\n",
      "Compressing block 176 with 72 frames\n",
      "Compressing block 177 with 72 frames\n",
      "Compressing block 178 with 72 frames\n"
     ]
    },
    {
     "name": "stderr",
     "output_type": "stream",
     "text": [
      "Compressing Time-Based Blocks: 13171it [00:03, 4691.15it/s]"
     ]
    },
    {
     "name": "stdout",
     "output_type": "stream",
     "text": [
      "Compressing block 179 with 72 frames\n",
      "Compressing block 180 with 72 frames\n",
      "Compressing block 181 with 72 frames\n",
      "Compressing block 182 with 72 frames\n",
      "Compressing block 183 with 72 frames\n",
      "Compressing block 184 with 72 frames\n",
      "Compressing block 185 with 62 frames\n"
     ]
    },
    {
     "name": "stderr",
     "output_type": "stream",
     "text": [
      "Compressing Time-Based Blocks: 13665it [00:03, 4752.19it/s]"
     ]
    },
    {
     "name": "stdout",
     "output_type": "stream",
     "text": [
      "Compressing block 186 with 72 frames\n",
      "Compressing block 187 with 72 frames\n",
      "Compressing block 188 with 72 frames\n",
      "Compressing block 189 with 72 frames\n",
      "Compressing block 190 with 72 frames\n",
      "Compressing block 191 with 70 frames\n",
      "Compressing block 192 with 72 frames\n"
     ]
    },
    {
     "name": "stderr",
     "output_type": "stream",
     "text": [
      "Compressing Time-Based Blocks: 14311it [00:03, 4261.72it/s]"
     ]
    },
    {
     "name": "stdout",
     "output_type": "stream",
     "text": [
      "Compressing block 193 with 72 frames\n",
      "Compressing block 194 with 72 frames\n",
      "Compressing block 195 with 72 frames\n",
      "Compressing block 196 with 72 frames\n",
      "Compressing block 197 with 72 frames\n",
      "Compressing block 198 with 72 frames\n"
     ]
    },
    {
     "name": "stderr",
     "output_type": "stream",
     "text": [
      "\n"
     ]
    },
    {
     "name": "stdout",
     "output_type": "stream",
     "text": [
      "Saved 199 blocks for la2, band 13\n",
      "RAM usage: 1872.98 MB\n",
      "Starting compression for ./time_series_cleaned_la2/C14_time_series.nc\n",
      "Loaded 14304 frames\n",
      "First time: 2024-09-01 00:00:20, Last time: 2024-12-09 23:50:20\n",
      "Largest time gap: 4:20:00\n",
      "Smallest time gap: 0:00:00\n",
      "⚠️ Large gap at index 4556: 4:20:00 between 2024-10-02 11:40:20 and 2024-10-02 16:00:20\n",
      "⚠️ Large gap at index 10878: 3:00:00 between 2024-11-15 17:30:19 and 2024-11-15 20:30:19\n",
      "⚠️ Large gap at index 11120: 2:10:00 between 2024-11-17 13:00:20 and 2024-11-17 15:10:20\n",
      "⚠️ Large gap at index 13367: 3:00:00 between 2024-12-03 07:10:20 and 2024-12-03 10:10:20\n",
      "⚠️ Large time gap: 2:10:00 at index 26\n",
      "→ Interpolated to 14310 frames\n",
      "Got 14310 frames after interpolation\n"
     ]
    },
    {
     "name": "stderr",
     "output_type": "stream",
     "text": [
      "Compressing Time-Based Blocks: 432it [00:00, 4266.25it/s]"
     ]
    },
    {
     "name": "stdout",
     "output_type": "stream",
     "text": [
      "Compressing block 0 with 72 frames\n",
      "Compressing block 1 with 72 frames\n",
      "Compressing block 2 with 72 frames\n",
      "Compressing block 3 with 72 frames\n",
      "Compressing block 4 with 72 frames\n",
      "Compressing block 5 with 72 frames\n",
      "Compressing block 6 with 72 frames\n",
      "Compressing block 7 with 72 frames\n",
      "Compressing block 8 with 72 frames\n",
      "Compressing block 9 with 72 frames\n",
      "Compressing block 10 with 72 frames\n",
      "Compressing block 11 with 72 frames\n",
      "Compressing block 12 with 72 frames\n"
     ]
    },
    {
     "name": "stderr",
     "output_type": "stream",
     "text": [
      "Compressing Time-Based Blocks: 936it [00:00, 4275.06it/s]"
     ]
    },
    {
     "name": "stdout",
     "output_type": "stream",
     "text": [
      "Compressing block 13 with 72 frames\n",
      "Compressing block 14 with 72 frames\n",
      "Compressing block 15 with 72 frames\n",
      "Compressing block 16 with 72 frames\n",
      "Compressing block 17 with 72 frames\n",
      "Compressing block 18 with 72 frames\n"
     ]
    },
    {
     "name": "stderr",
     "output_type": "stream",
     "text": [
      "Compressing Time-Based Blocks: 1800it [00:00, 3198.58it/s]"
     ]
    },
    {
     "name": "stdout",
     "output_type": "stream",
     "text": [
      "Compressing block 19 with 72 frames\n",
      "Compressing block 20 with 72 frames\n",
      "Compressing block 21 with 72 frames\n",
      "Compressing block 22 with 72 frames\n",
      "Compressing block 23 with 72 frames\n",
      "Compressing block 24 with 72 frames\n",
      "Compressing block 25 with 72 frames\n",
      "Compressing block 26 with 72 frames\n",
      "Compressing block 27 with 72 frames\n",
      "Compressing block 28 with 72 frames\n",
      "Compressing block 29 with 72 frames\n",
      "Compressing block 30 with 72 frames\n"
     ]
    },
    {
     "name": "stderr",
     "output_type": "stream",
     "text": [
      "Compressing Time-Based Blocks: 2736it [00:00, 3548.50it/s]"
     ]
    },
    {
     "name": "stdout",
     "output_type": "stream",
     "text": [
      "Compressing block 31 with 72 frames\n",
      "Compressing block 32 with 72 frames\n",
      "Compressing block 33 with 72 frames\n",
      "Compressing block 34 with 72 frames\n",
      "Compressing block 35 with 72 frames\n",
      "Compressing block 36 with 72 frames\n",
      "Compressing block 37 with 72 frames\n",
      "Compressing block 38 with 72 frames\n",
      "Compressing block 39 with 72 frames\n",
      "Compressing block 40 with 72 frames\n",
      "Compressing block 41 with 72 frames\n"
     ]
    },
    {
     "name": "stderr",
     "output_type": "stream",
     "text": [
      "Compressing Time-Based Blocks: 3240it [00:00, 3778.47it/s]"
     ]
    },
    {
     "name": "stdout",
     "output_type": "stream",
     "text": [
      "Compressing block 42 with 72 frames\n",
      "Compressing block 43 with 72 frames\n",
      "Compressing block 44 with 72 frames\n",
      "Compressing block 45 with 72 frames\n",
      "Compressing block 46 with 72 frames\n",
      "Compressing block 47 with 72 frames\n",
      "Compressing block 48 with 72 frames\n",
      "Compressing block 49 with 72 frames\n",
      "Compressing block 50 with 72 frames\n",
      "Compressing block 51 with 72 frames\n"
     ]
    },
    {
     "name": "stderr",
     "output_type": "stream",
     "text": [
      "Compressing Time-Based Blocks: 3744it [00:01, 4012.92it/s]"
     ]
    },
    {
     "name": "stdout",
     "output_type": "stream",
     "text": [
      "Compressing block 52 with 72 frames\n",
      "Compressing block 53 with 72 frames\n",
      "Compressing block 54 with 72 frames\n"
     ]
    },
    {
     "name": "stderr",
     "output_type": "stream",
     "text": [
      "Compressing Time-Based Blocks: 4176it [00:01, 3859.00it/s]"
     ]
    },
    {
     "name": "stdout",
     "output_type": "stream",
     "text": [
      "Compressing block 55 with 72 frames\n",
      "Compressing block 56 with 72 frames\n",
      "Compressing block 57 with 72 frames\n",
      "Compressing block 58 with 72 frames\n",
      "Compressing block 59 with 72 frames\n",
      "Compressing block 60 with 72 frames\n",
      "Compressing block 61 with 72 frames\n",
      "Compressing block 62 with 69 frames\n"
     ]
    },
    {
     "name": "stderr",
     "output_type": "stream",
     "text": [
      "Compressing Time-Based Blocks: 4605it [00:01, 3965.13it/s]"
     ]
    },
    {
     "name": "stdout",
     "output_type": "stream",
     "text": [
      "Compressing block 63 with 72 frames\n",
      "Compressing block 64 with 72 frames\n",
      "Compressing block 65 with 72 frames\n"
     ]
    },
    {
     "name": "stderr",
     "output_type": "stream",
     "text": [
      "Compressing Time-Based Blocks: 5036it [00:01, 3996.93it/s]"
     ]
    },
    {
     "name": "stdout",
     "output_type": "stream",
     "text": [
      "Compressing block 66 with 71 frames\n",
      "Compressing block 67 with 72 frames\n",
      "Compressing block 68 with 72 frames\n",
      "Compressing block 69 with 72 frames\n",
      "Compressing block 70 with 72 frames\n",
      "Compressing block 71 with 72 frames\n",
      "Compressing block 72 with 72 frames\n",
      "Compressing block 73 with 72 frames\n",
      "Compressing block 74 with 72 frames\n"
     ]
    },
    {
     "name": "stderr",
     "output_type": "stream",
     "text": [
      "Compressing Time-Based Blocks: 5468it [00:01, 4071.69it/s]"
     ]
    },
    {
     "name": "stdout",
     "output_type": "stream",
     "text": [
      "Compressing block 75 with 72 frames\n",
      "Compressing block 76 with 72 frames\n",
      "Compressing block 77 with 72 frames\n"
     ]
    },
    {
     "name": "stderr",
     "output_type": "stream",
     "text": [
      "Compressing Time-Based Blocks: 5972it [00:01, 4227.37it/s]"
     ]
    },
    {
     "name": "stdout",
     "output_type": "stream",
     "text": [
      "Compressing block 78 with 72 frames\n",
      "Compressing block 79 with 72 frames\n",
      "Compressing block 80 with 72 frames\n",
      "Compressing block 81 with 72 frames\n",
      "Compressing block 82 with 72 frames\n",
      "Compressing block 83 with 72 frames\n",
      "Compressing block 84 with 72 frames\n",
      "Compressing block 85 with 72 frames\n",
      "Compressing block 86 with 72 frames\n",
      "Compressing block 87 with 72 frames\n"
     ]
    },
    {
     "name": "stderr",
     "output_type": "stream",
     "text": [
      "Compressing Time-Based Blocks: 6476it [00:01, 4288.07it/s]"
     ]
    },
    {
     "name": "stdout",
     "output_type": "stream",
     "text": [
      "Compressing block 88 with 72 frames\n",
      "Compressing block 89 with 72 frames\n",
      "Compressing block 90 with 72 frames\n"
     ]
    },
    {
     "name": "stderr",
     "output_type": "stream",
     "text": [
      "Compressing Time-Based Blocks: 6980it [00:01, 4380.45it/s]"
     ]
    },
    {
     "name": "stdout",
     "output_type": "stream",
     "text": [
      "Compressing block 91 with 72 frames\n",
      "Compressing block 92 with 72 frames\n",
      "Compressing block 93 with 72 frames\n",
      "Compressing block 94 with 72 frames\n",
      "Compressing block 95 with 72 frames\n",
      "Compressing block 96 with 72 frames\n",
      "Compressing block 97 with 72 frames\n",
      "Compressing block 98 with 72 frames\n",
      "Compressing block 99 with 72 frames\n",
      "Compressing block 100 with 72 frames\n",
      "Compressing block 101 with 72 frames\n",
      "Compressing block 102 with 72 frames\n",
      "Compressing block 103 with 72 frames\n"
     ]
    },
    {
     "name": "stderr",
     "output_type": "stream",
     "text": [
      "Compressing Time-Based Blocks: 7988it [00:02, 4102.15it/s]"
     ]
    },
    {
     "name": "stdout",
     "output_type": "stream",
     "text": [
      "Compressing block 104 with 72 frames\n",
      "Compressing block 105 with 72 frames\n",
      "Compressing block 106 with 72 frames\n",
      "Compressing block 107 with 72 frames\n",
      "Compressing block 108 with 72 frames\n",
      "Compressing block 109 with 72 frames\n",
      "Compressing block 110 with 72 frames\n",
      "Compressing block 111 with 72 frames\n",
      "Compressing block 112 with 72 frames\n",
      "Compressing block 113 with 72 frames\n",
      "Compressing block 114 with 72 frames\n"
     ]
    },
    {
     "name": "stderr",
     "output_type": "stream",
     "text": [
      "Compressing Time-Based Blocks: 8420it [00:02, 4125.05it/s]"
     ]
    },
    {
     "name": "stdout",
     "output_type": "stream",
     "text": [
      "Compressing block 115 with 72 frames\n",
      "Compressing block 116 with 72 frames\n",
      "Compressing block 117 with 72 frames\n",
      "Compressing block 118 with 72 frames\n",
      "Compressing block 119 with 72 frames\n",
      "Compressing block 120 with 72 frames\n",
      "Compressing block 121 with 72 frames\n",
      "Compressing block 122 with 72 frames\n"
     ]
    },
    {
     "name": "stderr",
     "output_type": "stream",
     "text": [
      "Compressing Time-Based Blocks: 8852it [00:02, 3686.15it/s]"
     ]
    },
    {
     "name": "stdout",
     "output_type": "stream",
     "text": [
      "Compressing block 123 with 72 frames\n",
      "Compressing block 124 with 72 frames\n",
      "Compressing block 125 with 72 frames\n",
      "Compressing block 126 with 72 frames\n",
      "Compressing block 127 with 72 frames\n",
      "Compressing block 128 with 72 frames\n"
     ]
    },
    {
     "name": "stderr",
     "output_type": "stream",
     "text": [
      "Compressing Time-Based Blocks: 9284it [00:02, 2979.05it/s]"
     ]
    },
    {
     "name": "stdout",
     "output_type": "stream",
     "text": [
      "Compressing block 129 with 72 frames\n",
      "Compressing block 130 with 72 frames\n"
     ]
    },
    {
     "name": "stderr",
     "output_type": "stream",
     "text": [
      "Compressing Time-Based Blocks: 9716it [00:02, 3262.71it/s]"
     ]
    },
    {
     "name": "stdout",
     "output_type": "stream",
     "text": [
      "Compressing block 131 with 72 frames\n",
      "Compressing block 132 with 72 frames\n",
      "Compressing block 133 with 72 frames\n",
      "Compressing block 134 with 72 frames\n",
      "Compressing block 135 with 72 frames\n",
      "Compressing block 136 with 72 frames\n",
      "Compressing block 137 with 72 frames\n",
      "Compressing block 138 with 72 frames\n",
      "Compressing block 139 with 72 frames\n",
      "Compressing block 140 with 72 frames\n"
     ]
    },
    {
     "name": "stderr",
     "output_type": "stream",
     "text": [
      "Compressing Time-Based Blocks: 10148it [00:02, 3467.46it/s]"
     ]
    },
    {
     "name": "stdout",
     "output_type": "stream",
     "text": [
      "Compressing block 141 with 72 frames\n",
      "Compressing block 142 with 72 frames\n"
     ]
    },
    {
     "name": "stderr",
     "output_type": "stream",
     "text": [
      "Compressing Time-Based Blocks: 10652it [00:02, 3749.18it/s]"
     ]
    },
    {
     "name": "stdout",
     "output_type": "stream",
     "text": [
      "Compressing block 143 with 72 frames\n",
      "Compressing block 144 with 72 frames\n",
      "Compressing block 145 with 72 frames\n",
      "Compressing block 146 with 72 frames\n",
      "Compressing block 147 with 72 frames\n",
      "Compressing block 148 with 72 frames\n",
      "Compressing block 149 with 72 frames\n",
      "Compressing block 150 with 70 frames\n",
      "Compressing block 151 with 72 frames\n",
      "Compressing block 152 with 72 frames\n",
      "Compressing block 153 with 72 frames\n"
     ]
    },
    {
     "name": "stderr",
     "output_type": "stream",
     "text": [
      "Compressing Time-Based Blocks: 11154it [00:02, 3928.01it/s]"
     ]
    },
    {
     "name": "stdout",
     "output_type": "stream",
     "text": [
      "Compressing block 154 with 72 frames\n",
      "Compressing block 155 with 72 frames\n"
     ]
    },
    {
     "name": "stderr",
     "output_type": "stream",
     "text": [
      "Compressing Time-Based Blocks: 11658it [00:03, 4112.27it/s]"
     ]
    },
    {
     "name": "stdout",
     "output_type": "stream",
     "text": [
      "Compressing block 156 with 72 frames\n",
      "Compressing block 157 with 72 frames\n",
      "Compressing block 158 with 72 frames\n",
      "Compressing block 159 with 72 frames\n",
      "Compressing block 160 with 72 frames\n",
      "Compressing block 161 with 72 frames\n",
      "Compressing block 162 with 72 frames\n",
      "Compressing block 163 with 72 frames\n",
      "Compressing block 164 with 72 frames\n",
      "Compressing block 165 with 72 frames\n",
      "Compressing block 166 with 72 frames\n",
      "Compressing block 167 with 72 frames\n"
     ]
    },
    {
     "name": "stderr",
     "output_type": "stream",
     "text": [
      "Compressing Time-Based Blocks: 12162it [00:03, 4288.83it/s]"
     ]
    },
    {
     "name": "stdout",
     "output_type": "stream",
     "text": [
      "Compressing block 168 with 72 frames\n"
     ]
    },
    {
     "name": "stderr",
     "output_type": "stream",
     "text": [
      "Compressing Time-Based Blocks: 12666it [00:03, 4237.42it/s]"
     ]
    },
    {
     "name": "stdout",
     "output_type": "stream",
     "text": [
      "Compressing block 169 with 72 frames\n",
      "Compressing block 170 with 72 frames\n",
      "Compressing block 171 with 72 frames\n",
      "Compressing block 172 with 72 frames\n",
      "Compressing block 173 with 72 frames\n",
      "Compressing block 174 with 72 frames\n",
      "Compressing block 175 with 72 frames\n",
      "Compressing block 176 with 72 frames\n",
      "Compressing block 177 with 72 frames\n",
      "Compressing block 178 with 72 frames\n",
      "Compressing block 179 with 72 frames\n"
     ]
    },
    {
     "name": "stderr",
     "output_type": "stream",
     "text": [
      "Compressing Time-Based Blocks: 13520it [00:03, 3809.29it/s]"
     ]
    },
    {
     "name": "stdout",
     "output_type": "stream",
     "text": [
      "Compressing block 180 with 72 frames\n",
      "Compressing block 181 with 72 frames\n",
      "Compressing block 182 with 72 frames\n",
      "Compressing block 183 with 72 frames\n",
      "Compressing block 184 with 72 frames\n",
      "Compressing block 185 with 62 frames\n",
      "Compressing block 186 with 72 frames\n",
      "Compressing block 187 with 72 frames\n",
      "Compressing block 188 with 72 frames\n",
      "Compressing block 189 with 72 frames\n",
      "Compressing block 190 with 72 frames\n"
     ]
    },
    {
     "name": "stderr",
     "output_type": "stream",
     "text": [
      "Compressing Time-Based Blocks: 14310it [00:03, 3852.35it/s]\n"
     ]
    },
    {
     "name": "stdout",
     "output_type": "stream",
     "text": [
      "Compressing block 191 with 70 frames\n",
      "Compressing block 192 with 72 frames\n",
      "Compressing block 193 with 72 frames\n",
      "Compressing block 194 with 72 frames\n",
      "Compressing block 195 with 72 frames\n",
      "Compressing block 196 with 72 frames\n",
      "Compressing block 197 with 72 frames\n",
      "Compressing block 198 with 72 frames\n",
      "Saved 199 blocks for la2, band 14\n",
      "RAM usage: 2133.98 MB\n",
      "Starting compression for ./time_series_cleaned_la2/C15_time_series.nc\n",
      "Loaded 14304 frames\n",
      "First time: 2024-09-01 00:00:20, Last time: 2024-12-09 23:50:20\n",
      "Largest time gap: 4:20:00\n",
      "Smallest time gap: 0:00:00\n",
      "⚠️ Large gap at index 4555: 4:20:00 between 2024-10-02 11:40:20 and 2024-10-02 16:00:20\n",
      "⚠️ Large gap at index 10878: 2:50:00 between 2024-11-15 17:40:19 and 2024-11-15 20:30:19\n",
      "⚠️ Large gap at index 13367: 2:50:00 between 2024-12-03 07:20:20 and 2024-12-03 10:10:20\n",
      "→ Interpolated to 14312 frames\n",
      "Got 14312 frames after interpolation\n"
     ]
    },
    {
     "name": "stderr",
     "output_type": "stream",
     "text": [
      "Compressing Time-Based Blocks: 432it [00:00, 4267.00it/s]"
     ]
    },
    {
     "name": "stdout",
     "output_type": "stream",
     "text": [
      "Compressing block 0 with 72 frames\n",
      "Compressing block 1 with 72 frames\n",
      "Compressing block 2 with 72 frames\n",
      "Compressing block 3 with 72 frames\n",
      "Compressing block 4 with 72 frames\n",
      "Compressing block 5 with 72 frames\n",
      "Compressing block 6 with 72 frames\n",
      "Compressing block 7 with 72 frames\n",
      "Compressing block 8 with 72 frames\n",
      "Compressing block 9 with 72 frames\n",
      "Compressing block 10 with 72 frames\n",
      "Compressing block 11 with 72 frames\n",
      "Compressing block 12 with 72 frames\n"
     ]
    },
    {
     "name": "stderr",
     "output_type": "stream",
     "text": [
      "Compressing Time-Based Blocks: 1440it [00:00, 4286.20it/s]"
     ]
    },
    {
     "name": "stdout",
     "output_type": "stream",
     "text": [
      "Compressing block 13 with 72 frames\n",
      "Compressing block 14 with 72 frames\n",
      "Compressing block 15 with 72 frames\n",
      "Compressing block 16 with 72 frames\n",
      "Compressing block 17 with 72 frames\n",
      "Compressing block 18 with 72 frames\n",
      "Compressing block 19 with 72 frames\n",
      "Compressing block 20 with 72 frames\n",
      "Compressing block 21 with 72 frames\n",
      "Compressing block 22 with 72 frames\n",
      "Compressing block 23 with 72 frames\n",
      "Compressing block 24 with 72 frames\n"
     ]
    },
    {
     "name": "stderr",
     "output_type": "stream",
     "text": [
      "Compressing Time-Based Blocks: 2376it [00:00, 4221.76it/s]"
     ]
    },
    {
     "name": "stdout",
     "output_type": "stream",
     "text": [
      "Compressing block 25 with 72 frames\n",
      "Compressing block 26 with 72 frames\n",
      "Compressing block 27 with 72 frames\n",
      "Compressing block 28 with 72 frames\n",
      "Compressing block 29 with 72 frames\n",
      "Compressing block 30 with 72 frames\n",
      "Compressing block 31 with 72 frames\n",
      "Compressing block 32 with 72 frames\n",
      "Compressing block 33 with 72 frames\n",
      "Compressing block 34 with 72 frames\n",
      "Compressing block 35 with 72 frames\n",
      "Compressing block 36 with 72 frames\n"
     ]
    },
    {
     "name": "stderr",
     "output_type": "stream",
     "text": [
      "Compressing Time-Based Blocks: 3240it [00:00, 4194.59it/s]"
     ]
    },
    {
     "name": "stdout",
     "output_type": "stream",
     "text": [
      "Compressing block 37 with 72 frames\n",
      "Compressing block 38 with 72 frames\n",
      "Compressing block 39 with 72 frames\n",
      "Compressing block 40 with 72 frames\n",
      "Compressing block 41 with 72 frames\n",
      "Compressing block 42 with 72 frames\n",
      "Compressing block 43 with 72 frames\n",
      "Compressing block 44 with 72 frames\n",
      "Compressing block 45 with 72 frames\n",
      "Compressing block 46 with 72 frames\n",
      "Compressing block 47 with 72 frames\n",
      "Compressing block 48 with 72 frames\n"
     ]
    },
    {
     "name": "stderr",
     "output_type": "stream",
     "text": [
      "Compressing Time-Based Blocks: 3744it [00:00, 4276.30it/s]"
     ]
    },
    {
     "name": "stdout",
     "output_type": "stream",
     "text": [
      "Compressing block 49 with 72 frames\n",
      "Compressing block 50 with 72 frames\n",
      "Compressing block 51 with 72 frames\n",
      "Compressing block 52 with 72 frames\n",
      "Compressing block 53 with 72 frames\n",
      "Compressing block 54 with 72 frames\n",
      "Compressing block 55 with 72 frames\n",
      "Compressing block 56 with 72 frames\n",
      "Compressing block 57 with 72 frames\n",
      "Compressing block 58 with 72 frames\n"
     ]
    },
    {
     "name": "stderr",
     "output_type": "stream",
     "text": [
      "Compressing Time-Based Blocks: 4248it [00:00, 4322.33it/s]"
     ]
    },
    {
     "name": "stdout",
     "output_type": "stream",
     "text": [
      "Compressing block 59 with 72 frames\n",
      "Compressing block 60 with 72 frames\n",
      "Compressing block 61 with 72 frames\n"
     ]
    },
    {
     "name": "stderr",
     "output_type": "stream",
     "text": [
      "Compressing Time-Based Blocks: 4749it [00:01, 4129.00it/s]"
     ]
    },
    {
     "name": "stdout",
     "output_type": "stream",
     "text": [
      "Compressing block 62 with 69 frames\n",
      "Compressing block 63 with 72 frames\n",
      "Compressing block 64 with 72 frames\n",
      "Compressing block 65 with 72 frames\n",
      "Compressing block 66 with 71 frames\n",
      "Compressing block 67 with 72 frames\n",
      "Compressing block 68 with 72 frames\n",
      "Compressing block 69 with 72 frames\n"
     ]
    },
    {
     "name": "stderr",
     "output_type": "stream",
     "text": [
      "Compressing Time-Based Blocks: 5180it [00:01, 4135.25it/s]"
     ]
    },
    {
     "name": "stdout",
     "output_type": "stream",
     "text": [
      "Compressing block 70 with 72 frames\n",
      "Compressing block 71 with 72 frames\n",
      "Compressing block 72 with 72 frames\n"
     ]
    },
    {
     "name": "stderr",
     "output_type": "stream",
     "text": [
      "Compressing Time-Based Blocks: 5684it [00:01, 4199.97it/s]"
     ]
    },
    {
     "name": "stdout",
     "output_type": "stream",
     "text": [
      "Compressing block 73 with 72 frames\n",
      "Compressing block 74 with 72 frames\n",
      "Compressing block 75 with 72 frames\n",
      "Compressing block 76 with 72 frames\n",
      "Compressing block 77 with 72 frames\n",
      "Compressing block 78 with 72 frames\n",
      "Compressing block 79 with 72 frames\n",
      "Compressing block 80 with 72 frames\n",
      "Compressing block 81 with 72 frames\n",
      "Compressing block 82 with 72 frames\n",
      "Compressing block 83 with 72 frames\n",
      "Compressing block 84 with 72 frames\n",
      "Compressing block 85 with 72 frames\n"
     ]
    },
    {
     "name": "stderr",
     "output_type": "stream",
     "text": [
      "Compressing Time-Based Blocks: 6692it [00:01, 4296.50it/s]"
     ]
    },
    {
     "name": "stdout",
     "output_type": "stream",
     "text": [
      "Compressing block 86 with 72 frames\n",
      "Compressing block 87 with 72 frames\n",
      "Compressing block 88 with 72 frames\n",
      "Compressing block 89 with 72 frames\n",
      "Compressing block 90 with 72 frames\n",
      "Compressing block 91 with 72 frames\n",
      "Compressing block 92 with 72 frames\n",
      "Compressing block 93 with 72 frames\n",
      "Compressing block 94 with 72 frames\n",
      "Compressing block 95 with 72 frames\n",
      "Compressing block 96 with 72 frames\n",
      "Compressing block 97 with 72 frames\n",
      "Compressing block 98 with 72 frames\n"
     ]
    },
    {
     "name": "stderr",
     "output_type": "stream",
     "text": [
      "Compressing Time-Based Blocks: 7628it [00:01, 4362.96it/s]"
     ]
    },
    {
     "name": "stdout",
     "output_type": "stream",
     "text": [
      "Compressing block 99 with 72 frames\n",
      "Compressing block 100 with 72 frames\n",
      "Compressing block 101 with 72 frames\n",
      "Compressing block 102 with 72 frames\n",
      "Compressing block 103 with 72 frames\n",
      "Compressing block 104 with 72 frames\n",
      "Compressing block 105 with 72 frames\n",
      "Compressing block 106 with 72 frames\n",
      "Compressing block 107 with 72 frames\n",
      "Compressing block 108 with 72 frames\n",
      "Compressing block 109 with 72 frames\n",
      "Compressing block 110 with 72 frames\n",
      "Compressing block 111 with 72 frames\n"
     ]
    },
    {
     "name": "stderr",
     "output_type": "stream",
     "text": [
      "Compressing Time-Based Blocks: 8636it [00:02, 4311.04it/s]"
     ]
    },
    {
     "name": "stdout",
     "output_type": "stream",
     "text": [
      "Compressing block 112 with 72 frames\n",
      "Compressing block 113 with 72 frames\n",
      "Compressing block 114 with 72 frames\n",
      "Compressing block 115 with 72 frames\n",
      "Compressing block 116 with 72 frames\n",
      "Compressing block 117 with 72 frames\n",
      "Compressing block 118 with 72 frames\n",
      "Compressing block 119 with 72 frames\n",
      "Compressing block 120 with 72 frames\n",
      "Compressing block 121 with 72 frames\n",
      "Compressing block 122 with 72 frames\n",
      "Compressing block 123 with 72 frames\n"
     ]
    },
    {
     "name": "stderr",
     "output_type": "stream",
     "text": [
      "Compressing Time-Based Blocks: 9140it [00:02, 4336.80it/s]"
     ]
    },
    {
     "name": "stdout",
     "output_type": "stream",
     "text": [
      "Compressing block 124 with 72 frames\n",
      "Compressing block 125 with 72 frames\n",
      "Compressing block 126 with 72 frames\n",
      "Compressing block 127 with 72 frames\n",
      "Compressing block 128 with 72 frames\n",
      "Compressing block 129 with 72 frames\n",
      "Compressing block 130 with 72 frames\n",
      "Compressing block 131 with 72 frames\n",
      "Compressing block 132 with 72 frames\n",
      "Compressing block 133 with 72 frames\n"
     ]
    },
    {
     "name": "stderr",
     "output_type": "stream",
     "text": [
      "Compressing Time-Based Blocks: 9644it [00:02, 4385.93it/s]"
     ]
    },
    {
     "name": "stdout",
     "output_type": "stream",
     "text": [
      "Compressing block 134 with 72 frames\n",
      "Compressing block 135 with 72 frames\n",
      "Compressing block 136 with 72 frames\n",
      "Compressing block 137 with 72 frames\n",
      "Compressing block 138 with 72 frames\n"
     ]
    },
    {
     "name": "stderr",
     "output_type": "stream",
     "text": [
      "Compressing Time-Based Blocks: 10148it [00:02, 3276.05it/s]"
     ]
    },
    {
     "name": "stdout",
     "output_type": "stream",
     "text": [
      "Compressing block 139 with 72 frames\n",
      "Compressing block 140 with 72 frames\n",
      "Compressing block 141 with 72 frames\n",
      "Compressing block 142 with 72 frames\n",
      "Compressing block 143 with 72 frames\n",
      "Compressing block 144 with 72 frames\n",
      "Compressing block 145 with 72 frames\n",
      "Compressing block 146 with 72 frames\n",
      "Compressing block 147 with 72 frames\n"
     ]
    },
    {
     "name": "stderr",
     "output_type": "stream",
     "text": [
      "Compressing Time-Based Blocks: 10652it [00:02, 3578.29it/s]"
     ]
    },
    {
     "name": "stdout",
     "output_type": "stream",
     "text": [
      "Compressing block 148 with 72 frames\n",
      "Compressing block 149 with 72 frames\n",
      "Compressing block 150 with 71 frames\n",
      "Compressing block 151 with 72 frames\n"
     ]
    },
    {
     "name": "stderr",
     "output_type": "stream",
     "text": [
      "Compressing Time-Based Blocks: 11155it [00:02, 3798.85it/s]"
     ]
    },
    {
     "name": "stdout",
     "output_type": "stream",
     "text": [
      "Compressing block 152 with 72 frames\n",
      "Compressing block 153 with 72 frames\n",
      "Compressing block 154 with 72 frames\n",
      "Compressing block 155 with 72 frames\n",
      "Compressing block 156 with 72 frames\n",
      "Compressing block 157 with 72 frames\n",
      "Compressing block 158 with 72 frames\n",
      "Compressing block 159 with 72 frames\n",
      "Compressing block 160 with 72 frames\n"
     ]
    },
    {
     "name": "stderr",
     "output_type": "stream",
     "text": [
      "Compressing Time-Based Blocks: 11659it [00:02, 3962.84it/s]"
     ]
    },
    {
     "name": "stdout",
     "output_type": "stream",
     "text": [
      "Compressing block 161 with 72 frames\n",
      "Compressing block 162 with 72 frames\n",
      "Compressing block 163 with 72 frames\n",
      "Compressing block 164 with 72 frames\n"
     ]
    },
    {
     "name": "stderr",
     "output_type": "stream",
     "text": [
      "Compressing Time-Based Blocks: 12163it [00:02, 4103.36it/s]"
     ]
    },
    {
     "name": "stdout",
     "output_type": "stream",
     "text": [
      "Compressing block 165 with 72 frames\n",
      "Compressing block 166 with 72 frames\n",
      "Compressing block 167 with 72 frames\n",
      "Compressing block 168 with 72 frames\n",
      "Compressing block 169 with 72 frames\n",
      "Compressing block 170 with 72 frames\n",
      "Compressing block 171 with 72 frames\n",
      "Compressing block 172 with 72 frames\n",
      "Compressing block 173 with 72 frames\n"
     ]
    },
    {
     "name": "stderr",
     "output_type": "stream",
     "text": [
      "Compressing Time-Based Blocks: 12667it [00:03, 4220.92it/s]"
     ]
    },
    {
     "name": "stdout",
     "output_type": "stream",
     "text": [
      "Compressing block 174 with 72 frames\n",
      "Compressing block 175 with 72 frames\n",
      "Compressing block 176 with 72 frames\n",
      "Compressing block 177 with 72 frames\n"
     ]
    },
    {
     "name": "stderr",
     "output_type": "stream",
     "text": [
      "Compressing Time-Based Blocks: 13171it [00:03, 4317.42it/s]"
     ]
    },
    {
     "name": "stdout",
     "output_type": "stream",
     "text": [
      "Compressing block 178 with 72 frames\n",
      "Compressing block 179 with 72 frames\n",
      "Compressing block 180 with 72 frames\n",
      "Compressing block 181 with 72 frames\n",
      "Compressing block 182 with 72 frames\n",
      "Compressing block 183 with 72 frames\n",
      "Compressing block 184 with 72 frames\n",
      "Compressing block 185 with 63 frames\n",
      "Compressing block 186 with 72 frames\n"
     ]
    },
    {
     "name": "stderr",
     "output_type": "stream",
     "text": [
      "Compressing Time-Based Blocks: 13666it [00:03, 4361.49it/s]"
     ]
    },
    {
     "name": "stdout",
     "output_type": "stream",
     "text": [
      "Compressing block 187 with 72 frames\n",
      "Compressing block 188 with 72 frames\n",
      "Compressing block 189 with 72 frames\n",
      "Compressing block 190 with 72 frames\n"
     ]
    },
    {
     "name": "stderr",
     "output_type": "stream",
     "text": [
      "Compressing Time-Based Blocks: 14312it [00:03, 4175.34it/s]"
     ]
    },
    {
     "name": "stdout",
     "output_type": "stream",
     "text": [
      "Compressing block 191 with 70 frames\n",
      "Compressing block 192 with 72 frames\n",
      "Compressing block 193 with 72 frames\n",
      "Compressing block 194 with 72 frames\n",
      "Compressing block 195 with 72 frames\n",
      "Compressing block 196 with 72 frames\n",
      "Compressing block 197 with 72 frames\n",
      "Compressing block 198 with 72 frames\n"
     ]
    },
    {
     "name": "stderr",
     "output_type": "stream",
     "text": [
      "\n"
     ]
    },
    {
     "name": "stdout",
     "output_type": "stream",
     "text": [
      "Saved 199 blocks for la2, band 15\n",
      "RAM usage: 1419.42 MB\n",
      "Starting compression for ./time_series_cleaned_la2/C16_time_series.nc\n",
      "Loaded 14297 frames\n",
      "First time: 2024-09-01 00:00:20, Last time: 2024-12-09 23:50:20\n",
      "Largest time gap: 4:20:00\n",
      "Smallest time gap: 0:00:00\n",
      "⚠️ Large gap at index 4555: 4:20:00 between 2024-10-02 11:40:20 and 2024-10-02 16:00:20\n",
      "⚠️ Large gap at index 10876: 3:00:00 between 2024-11-15 17:30:19 and 2024-11-15 20:30:19\n",
      "⚠️ Large gap at index 11114: 2:20:00 between 2024-11-17 12:50:20 and 2024-11-17 15:10:20\n",
      "⚠️ Large gap at index 13360: 3:00:00 between 2024-12-03 07:10:20 and 2024-12-03 10:10:20\n",
      "⚠️ Large time gap: 2:20:00 at index 25\n",
      "→ Interpolated to 14310 frames\n",
      "Got 14310 frames after interpolation\n"
     ]
    },
    {
     "name": "stderr",
     "output_type": "stream",
     "text": [
      "Compressing Time-Based Blocks: 432it [00:00, 3624.86it/s]"
     ]
    },
    {
     "name": "stdout",
     "output_type": "stream",
     "text": [
      "Compressing block 0 with 72 frames\n",
      "Compressing block 1 with 72 frames\n",
      "Compressing block 2 with 72 frames\n",
      "Compressing block 3 with 72 frames\n",
      "Compressing block 4 with 72 frames\n",
      "Compressing block 5 with 72 frames\n",
      "Compressing block 6 with 72 frames\n",
      "Compressing block 7 with 72 frames\n",
      "Compressing block 8 with 72 frames\n",
      "Compressing block 9 with 72 frames\n",
      "Compressing block 10 with 72 frames\n"
     ]
    },
    {
     "name": "stderr",
     "output_type": "stream",
     "text": [
      "Compressing Time-Based Blocks: 1296it [00:00, 3868.35it/s]"
     ]
    },
    {
     "name": "stdout",
     "output_type": "stream",
     "text": [
      "Compressing block 11 with 72 frames\n",
      "Compressing block 12 with 72 frames\n",
      "Compressing block 13 with 72 frames\n",
      "Compressing block 14 with 72 frames\n",
      "Compressing block 15 with 72 frames\n",
      "Compressing block 16 with 72 frames\n",
      "Compressing block 17 with 72 frames\n",
      "Compressing block 18 with 72 frames\n",
      "Compressing block 19 with 72 frames\n",
      "Compressing block 20 with 72 frames\n",
      "Compressing block 21 with 72 frames\n",
      "Compressing block 22 with 72 frames\n"
     ]
    },
    {
     "name": "stderr",
     "output_type": "stream",
     "text": [
      "Compressing Time-Based Blocks: 1728it [00:00, 3529.01it/s]"
     ]
    },
    {
     "name": "stdout",
     "output_type": "stream",
     "text": [
      "Compressing block 23 with 72 frames\n",
      "Compressing block 24 with 72 frames\n",
      "Compressing block 25 with 72 frames\n",
      "Compressing block 26 with 72 frames\n",
      "Compressing block 27 with 72 frames\n",
      "Compressing block 28 with 72 frames\n",
      "Compressing block 29 with 72 frames\n",
      "Compressing block 30 with 72 frames\n"
     ]
    },
    {
     "name": "stderr",
     "output_type": "stream",
     "text": [
      "Compressing Time-Based Blocks: 2232it [00:00, 3915.35it/s]"
     ]
    },
    {
     "name": "stdout",
     "output_type": "stream",
     "text": [
      "Compressing block 31 with 72 frames\n",
      "Compressing block 32 with 72 frames\n",
      "Compressing block 33 with 72 frames\n",
      "Compressing block 34 with 72 frames\n",
      "Compressing block 35 with 72 frames\n"
     ]
    },
    {
     "name": "stderr",
     "output_type": "stream",
     "text": [
      "Compressing Time-Based Blocks: 2736it [00:00, 4167.90it/s]"
     ]
    },
    {
     "name": "stdout",
     "output_type": "stream",
     "text": [
      "Compressing block 36 with 72 frames\n",
      "Compressing block 37 with 72 frames\n",
      "Compressing block 38 with 72 frames\n",
      "Compressing block 39 with 72 frames\n",
      "Compressing block 40 with 72 frames\n",
      "Compressing block 41 with 72 frames\n",
      "Compressing block 42 with 72 frames\n",
      "Compressing block 43 with 72 frames\n"
     ]
    },
    {
     "name": "stderr",
     "output_type": "stream",
     "text": [
      "Compressing Time-Based Blocks: 3240it [00:00, 4275.86it/s]"
     ]
    },
    {
     "name": "stdout",
     "output_type": "stream",
     "text": [
      "Compressing block 44 with 72 frames\n",
      "Compressing block 45 with 72 frames\n",
      "Compressing block 46 with 72 frames\n",
      "Compressing block 47 with 72 frames\n",
      "Compressing block 48 with 72 frames\n"
     ]
    },
    {
     "name": "stderr",
     "output_type": "stream",
     "text": [
      "Compressing Time-Based Blocks: 3744it [00:00, 4399.80it/s]"
     ]
    },
    {
     "name": "stdout",
     "output_type": "stream",
     "text": [
      "Compressing block 49 with 72 frames\n",
      "Compressing block 50 with 72 frames\n",
      "Compressing block 51 with 72 frames\n",
      "Compressing block 52 with 72 frames\n",
      "Compressing block 53 with 72 frames\n",
      "Compressing block 54 with 72 frames\n",
      "Compressing block 55 with 72 frames\n",
      "Compressing block 56 with 72 frames\n",
      "Compressing block 57 with 72 frames\n"
     ]
    },
    {
     "name": "stderr",
     "output_type": "stream",
     "text": [
      "Compressing Time-Based Blocks: 4248it [00:01, 4504.48it/s]"
     ]
    },
    {
     "name": "stdout",
     "output_type": "stream",
     "text": [
      "Compressing block 58 with 72 frames\n",
      "Compressing block 59 with 72 frames\n",
      "Compressing block 60 with 72 frames\n",
      "Compressing block 61 with 72 frames\n"
     ]
    },
    {
     "name": "stderr",
     "output_type": "stream",
     "text": [
      "Compressing Time-Based Blocks: 4749it [00:01, 4289.19it/s]"
     ]
    },
    {
     "name": "stdout",
     "output_type": "stream",
     "text": [
      "Compressing block 62 with 69 frames\n",
      "Compressing block 63 with 72 frames\n",
      "Compressing block 64 with 72 frames\n",
      "Compressing block 65 with 72 frames\n",
      "Compressing block 66 with 71 frames\n",
      "Compressing block 67 with 72 frames\n",
      "Compressing block 68 with 72 frames\n",
      "Compressing block 69 with 72 frames\n",
      "Compressing block 70 with 72 frames\n"
     ]
    },
    {
     "name": "stderr",
     "output_type": "stream",
     "text": [
      "Compressing Time-Based Blocks: 5252it [00:01, 3763.41it/s]"
     ]
    },
    {
     "name": "stdout",
     "output_type": "stream",
     "text": [
      "Compressing block 71 with 72 frames\n",
      "Compressing block 72 with 72 frames\n",
      "Compressing block 73 with 72 frames\n",
      "Compressing block 74 with 72 frames\n",
      "Compressing block 75 with 72 frames\n",
      "Compressing block 76 with 72 frames\n"
     ]
    },
    {
     "name": "stderr",
     "output_type": "stream",
     "text": [
      "Compressing Time-Based Blocks: 5684it [00:01, 3445.29it/s]"
     ]
    },
    {
     "name": "stdout",
     "output_type": "stream",
     "text": [
      "Compressing block 77 with 72 frames\n",
      "Compressing block 78 with 72 frames\n",
      "Compressing block 79 with 72 frames\n"
     ]
    },
    {
     "name": "stderr",
     "output_type": "stream",
     "text": [
      "Compressing Time-Based Blocks: 6116it [00:01, 3571.01it/s]"
     ]
    },
    {
     "name": "stdout",
     "output_type": "stream",
     "text": [
      "Compressing block 80 with 72 frames\n",
      "Compressing block 81 with 72 frames\n",
      "Compressing block 82 with 72 frames\n",
      "Compressing block 83 with 72 frames\n",
      "Compressing block 84 with 72 frames\n",
      "Compressing block 85 with 72 frames\n",
      "Compressing block 86 with 72 frames\n",
      "Compressing block 87 with 72 frames\n",
      "Compressing block 88 with 72 frames\n"
     ]
    },
    {
     "name": "stderr",
     "output_type": "stream",
     "text": [
      "Compressing Time-Based Blocks: 6548it [00:01, 3719.81it/s]"
     ]
    },
    {
     "name": "stdout",
     "output_type": "stream",
     "text": [
      "Compressing block 89 with 72 frames\n",
      "Compressing block 90 with 72 frames\n",
      "Compressing block 91 with 72 frames\n"
     ]
    },
    {
     "name": "stderr",
     "output_type": "stream",
     "text": [
      "Compressing Time-Based Blocks: 7052it [00:01, 3917.82it/s]"
     ]
    },
    {
     "name": "stdout",
     "output_type": "stream",
     "text": [
      "Compressing block 92 with 72 frames\n",
      "Compressing block 93 with 72 frames\n",
      "Compressing block 94 with 72 frames\n",
      "Compressing block 95 with 72 frames\n",
      "Compressing block 96 with 72 frames\n",
      "Compressing block 97 with 72 frames\n",
      "Compressing block 98 with 72 frames\n",
      "Compressing block 99 with 72 frames\n",
      "Compressing block 100 with 72 frames\n",
      "Compressing block 101 with 72 frames\n"
     ]
    },
    {
     "name": "stderr",
     "output_type": "stream",
     "text": [
      "Compressing Time-Based Blocks: 7556it [00:01, 4169.99it/s]"
     ]
    },
    {
     "name": "stdout",
     "output_type": "stream",
     "text": [
      "Compressing block 102 with 72 frames\n",
      "Compressing block 103 with 72 frames\n",
      "Compressing block 104 with 72 frames\n",
      "Compressing block 105 with 72 frames\n"
     ]
    },
    {
     "name": "stderr",
     "output_type": "stream",
     "text": [
      "Compressing Time-Based Blocks: 8060it [00:02, 4389.20it/s]"
     ]
    },
    {
     "name": "stdout",
     "output_type": "stream",
     "text": [
      "Compressing block 106 with 72 frames\n",
      "Compressing block 107 with 72 frames\n",
      "Compressing block 108 with 72 frames\n",
      "Compressing block 109 with 72 frames\n",
      "Compressing block 110 with 72 frames\n",
      "Compressing block 111 with 72 frames\n",
      "Compressing block 112 with 72 frames\n",
      "Compressing block 113 with 72 frames\n",
      "Compressing block 114 with 72 frames\n",
      "Compressing block 115 with 72 frames\n"
     ]
    },
    {
     "name": "stderr",
     "output_type": "stream",
     "text": [
      "Compressing Time-Based Blocks: 8564it [00:02, 4528.20it/s]"
     ]
    },
    {
     "name": "stdout",
     "output_type": "stream",
     "text": [
      "Compressing block 116 with 72 frames\n",
      "Compressing block 117 with 72 frames\n",
      "Compressing block 118 with 72 frames\n",
      "Compressing block 119 with 72 frames\n"
     ]
    },
    {
     "name": "stderr",
     "output_type": "stream",
     "text": [
      "Compressing Time-Based Blocks: 9068it [00:02, 4506.60it/s]"
     ]
    },
    {
     "name": "stdout",
     "output_type": "stream",
     "text": [
      "Compressing block 120 with 72 frames\n",
      "Compressing block 121 with 72 frames\n",
      "Compressing block 122 with 72 frames\n",
      "Compressing block 123 with 72 frames\n",
      "Compressing block 124 with 72 frames\n",
      "Compressing block 125 with 72 frames\n",
      "Compressing block 126 with 72 frames\n",
      "Compressing block 127 with 72 frames\n",
      "Compressing block 128 with 72 frames\n",
      "Compressing block 129 with 72 frames\n",
      "Compressing block 130 with 72 frames\n",
      "Compressing block 131 with 72 frames\n",
      "Compressing block 132 with 72 frames\n"
     ]
    },
    {
     "name": "stderr",
     "output_type": "stream",
     "text": [
      "Compressing Time-Based Blocks: 10076it [00:02, 4542.90it/s]"
     ]
    },
    {
     "name": "stdout",
     "output_type": "stream",
     "text": [
      "Compressing block 133 with 72 frames\n",
      "Compressing block 134 with 72 frames\n",
      "Compressing block 135 with 72 frames\n",
      "Compressing block 136 with 72 frames\n",
      "Compressing block 137 with 72 frames\n",
      "Compressing block 138 with 72 frames\n",
      "Compressing block 139 with 72 frames\n",
      "Compressing block 140 with 72 frames\n",
      "Compressing block 141 with 72 frames\n",
      "Compressing block 142 with 72 frames\n",
      "Compressing block 143 with 72 frames\n",
      "Compressing block 144 with 72 frames\n",
      "Compressing block 145 with 72 frames\n"
     ]
    },
    {
     "name": "stderr",
     "output_type": "stream",
     "text": [
      "Compressing Time-Based Blocks: 11082it [00:02, 4640.73it/s]"
     ]
    },
    {
     "name": "stdout",
     "output_type": "stream",
     "text": [
      "Compressing block 146 with 72 frames\n",
      "Compressing block 147 with 72 frames\n",
      "Compressing block 148 with 72 frames\n",
      "Compressing block 149 with 72 frames\n",
      "Compressing block 150 with 70 frames\n",
      "Compressing block 151 with 72 frames\n",
      "Compressing block 152 with 72 frames\n",
      "Compressing block 153 with 72 frames\n",
      "Compressing block 154 with 72 frames\n",
      "Compressing block 155 with 72 frames\n",
      "Compressing block 156 with 72 frames\n",
      "Compressing block 157 with 72 frames\n",
      "Compressing block 158 with 72 frames\n",
      "Compressing block 159 with 72 frames\n"
     ]
    },
    {
     "name": "stderr",
     "output_type": "stream",
     "text": [
      "Compressing Time-Based Blocks: 12090it [00:02, 4700.94it/s]"
     ]
    },
    {
     "name": "stdout",
     "output_type": "stream",
     "text": [
      "Compressing block 160 with 72 frames\n",
      "Compressing block 161 with 72 frames\n",
      "Compressing block 162 with 72 frames\n",
      "Compressing block 163 with 72 frames\n",
      "Compressing block 164 with 72 frames\n",
      "Compressing block 165 with 72 frames\n",
      "Compressing block 166 with 72 frames\n",
      "Compressing block 167 with 72 frames\n",
      "Compressing block 168 with 72 frames\n",
      "Compressing block 169 with 72 frames\n",
      "Compressing block 170 with 72 frames\n",
      "Compressing block 171 with 72 frames\n",
      "Compressing block 172 with 72 frames\n",
      "Compressing block 173 with 72 frames\n"
     ]
    },
    {
     "name": "stderr",
     "output_type": "stream",
     "text": [
      "Compressing Time-Based Blocks: 13098it [00:03, 4638.71it/s]"
     ]
    },
    {
     "name": "stdout",
     "output_type": "stream",
     "text": [
      "Compressing block 174 with 72 frames\n",
      "Compressing block 175 with 72 frames\n",
      "Compressing block 176 with 72 frames\n",
      "Compressing block 177 with 72 frames\n",
      "Compressing block 178 with 72 frames\n",
      "Compressing block 179 with 72 frames\n",
      "Compressing block 180 with 72 frames\n",
      "Compressing block 181 with 72 frames\n",
      "Compressing block 182 with 72 frames\n",
      "Compressing block 183 with 72 frames\n",
      "Compressing block 184 with 72 frames\n",
      "Compressing block 185 with 62 frames\n",
      "Compressing block 186 with 72 frames\n"
     ]
    },
    {
     "name": "stderr",
     "output_type": "stream",
     "text": [
      "Compressing Time-Based Blocks: 13592it [00:03, 4584.96it/s]"
     ]
    },
    {
     "name": "stdout",
     "output_type": "stream",
     "text": [
      "Compressing block 187 with 72 frames\n",
      "Compressing block 188 with 72 frames\n",
      "Compressing block 189 with 72 frames\n",
      "Compressing block 190 with 72 frames\n",
      "Compressing block 191 with 70 frames\n",
      "Compressing block 192 with 72 frames\n",
      "Compressing block 193 with 72 frames\n",
      "Compressing block 194 with 72 frames\n",
      "Compressing block 195 with 72 frames\n"
     ]
    },
    {
     "name": "stderr",
     "output_type": "stream",
     "text": [
      "Compressing Time-Based Blocks: 14310it [00:03, 4265.20it/s]"
     ]
    },
    {
     "name": "stdout",
     "output_type": "stream",
     "text": [
      "Compressing block 196 with 72 frames\n",
      "Compressing block 197 with 72 frames\n",
      "Compressing block 198 with 72 frames\n"
     ]
    },
    {
     "name": "stderr",
     "output_type": "stream",
     "text": [
      "\n"
     ]
    },
    {
     "name": "stdout",
     "output_type": "stream",
     "text": [
      "Saved 199 blocks for la2, band 16\n"
     ]
    }
   ],
   "source": [
    "#Run function here\n",
    "\n",
    "locations = [\"la2\"]\n",
    "bands = range(1, 17)\n",
    "base_path = \".\"\n",
    "save_root = \"data_blocks2_12hours\"\n",
    "\n",
    "summary = process_multiple_locations_and_bands(base_path, locations, bands, save_root)\n"
   ]
  }
 ],
 "metadata": {
  "kernelspec": {
   "display_name": "Python 3 (ipykernel)",
   "language": "python",
   "name": "python3"
  },
  "language_info": {
   "codemirror_mode": {
    "name": "ipython",
    "version": 3
   },
   "file_extension": ".py",
   "mimetype": "text/x-python",
   "name": "python",
   "nbconvert_exporter": "python",
   "pygments_lexer": "ipython3",
   "version": "3.13.3"
  }
 },
 "nbformat": 4,
 "nbformat_minor": 5
}
