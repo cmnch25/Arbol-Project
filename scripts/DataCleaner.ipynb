{
 "cells": [
  {
   "cell_type": "markdown",
   "id": "43fcb97b-8fda-4a7e-a568-31f51689aaf4",
   "metadata": {},
   "source": [
    "# Data Cleaner\n",
    "Clean data to remove any nan values or large anomalies. "
   ]
  },
  {
   "cell_type": "code",
   "execution_count": 1,
   "id": "3aad6117-cd18-42ca-9e85-68966015a90f",
   "metadata": {},
   "outputs": [],
   "source": [
    "import os\n",
    "import xarray as xr\n",
    "import numpy as np\n",
    "from tqdm import tqdm"
   ]
  },
  {
   "cell_type": "code",
   "execution_count": 2,
   "id": "571fa516-6593-4282-aa41-81ca256ce92c",
   "metadata": {},
   "outputs": [],
   "source": [
    "input_dir = 'time_series_losangeles'\n",
    "output_dir = 'time_series_cleaned_losangeles'\n",
    "spike_threshold = 2000 #Anything above this is likely an anomaly. \n",
    "os.makedirs(output_dir, exist_ok=True)\n",
    "\n"
   ]
  },
  {
   "cell_type": "code",
   "execution_count": 3,
   "id": "38860c4a-a67a-480c-9333-60fdecef4f32",
   "metadata": {},
   "outputs": [],
   "source": [
    "def DataCleaner(input_dir, output_dir, spike_threshold):\n",
    "    bands = [f\"C{b:02}\" for b in range(1, 17)]\n",
    "    \n",
    "    for band in bands:\n",
    "        path = os.path.join(input_dir, f\"{band}_time_series.nc\")\n",
    "        if not os.path.exists(path):\n",
    "            continue\n",
    "    \n",
    "        print(f\"Cleaning {band}\")\n",
    "        ds = xr.open_dataset(path)\n",
    "        if \"Rad\" not in ds:\n",
    "            print(f\"No 'Rad' in {band}, skipping.\")\n",
    "            continue\n",
    "    \n",
    "        rad = ds[\"Rad\"]\n",
    "        rad_data = rad.values.copy()  # shape: (T, Y, X)\n",
    "    \n",
    "        # Drop pixels that are always NaN \n",
    "        nan_mask = np.all(np.isnan(rad_data), axis=0) # (Y, X)\n",
    "        valid_y = ~np.all(nan_mask, axis=1)\n",
    "        valid_x = ~np.all(nan_mask, axis=0)\n",
    "    \n",
    "        # Subset spatially\n",
    "        rad_data = rad_data[:, valid_y, :][:, :, valid_x] #(T, new_Y, new_X)\n",
    "    \n",
    "\n",
    "        T, H, W = rad_data.shape #Remove any anomalous spikes \n",
    "        spike_mask = rad_data > spike_threshold\n",
    "        spike_count = 0\n",
    "    \n",
    "        for t in tqdm(range(1, T), desc=f'{band} - Despiking'):\n",
    "            spikes = spike_mask[t]\n",
    "            spike_count += np.sum(spikes)\n",
    "            rad_data[t][spikes] = rad_data[t - 1][spikes]  # replace with previous timestep\n",
    "    \n",
    "        # Replace into dataset\n",
    "        ds_clean = ds.isel(x=np.where(valid_x)[0], y=np.where(valid_y)[0])\n",
    "        ds_clean[\"Rad\"].values = rad_data  # overwrite cleaned data\n",
    "    \n",
    "        # Save\n",
    "        out_path = os.path.join(output_dir, f\"{band}_time_series.nc\")\n",
    "        ds_clean.to_netcdf(out_path)\n",
    "        print(f\"Saved cleaned {band} to {out_path}.{spike_count} spikes replaced.\")\n",
    "        print(f\"{spike_count} spikes replaced.\")\n",
    "\n",
    "    return"
   ]
  },
  {
   "cell_type": "code",
   "execution_count": 4,
   "id": "9069c1f4-6eda-4d7c-9aa4-ebcb18e2d105",
   "metadata": {},
   "outputs": [
    {
     "name": "stdout",
     "output_type": "stream",
     "text": [
      "Cleaning C01\n"
     ]
    },
    {
     "name": "stderr",
     "output_type": "stream",
     "text": [
      "C01 - Despiking: 100%|█████████████████| 14326/14326 [00:01<00:00, 11006.03it/s]\n"
     ]
    },
    {
     "name": "stdout",
     "output_type": "stream",
     "text": [
      "Saved cleaned C01 to time_series_cleaned_losangeles/C01_time_series.nc.0 spikes replaced.\n",
      "0 spikes replaced.\n",
      "Cleaning C02\n"
     ]
    },
    {
     "name": "stderr",
     "output_type": "stream",
     "text": [
      "C02 - Despiking: 100%|██████████████████| 14323/14323 [00:05<00:00, 2613.20it/s]\n"
     ]
    },
    {
     "name": "stdout",
     "output_type": "stream",
     "text": [
      "Saved cleaned C02 to time_series_cleaned_losangeles/C02_time_series.nc.0 spikes replaced.\n",
      "0 spikes replaced.\n",
      "Cleaning C03\n"
     ]
    },
    {
     "name": "stderr",
     "output_type": "stream",
     "text": [
      "C03 - Despiking: 100%|█████████████████| 14324/14324 [00:01<00:00, 11246.86it/s]\n"
     ]
    },
    {
     "name": "stdout",
     "output_type": "stream",
     "text": [
      "Saved cleaned C03 to time_series_cleaned_losangeles/C03_time_series.nc.0 spikes replaced.\n",
      "0 spikes replaced.\n",
      "Cleaning C04\n"
     ]
    },
    {
     "name": "stderr",
     "output_type": "stream",
     "text": [
      "C04 - Despiking: 100%|████████████████| 14299/14299 [00:00<00:00, 102578.30it/s]\n"
     ]
    },
    {
     "name": "stdout",
     "output_type": "stream",
     "text": [
      "Saved cleaned C04 to time_series_cleaned_losangeles/C04_time_series.nc.0 spikes replaced.\n",
      "0 spikes replaced.\n",
      "Cleaning C05\n"
     ]
    },
    {
     "name": "stderr",
     "output_type": "stream",
     "text": [
      "C05 - Despiking: 100%|█████████████████| 14321/14321 [00:01<00:00, 10808.60it/s]\n"
     ]
    },
    {
     "name": "stdout",
     "output_type": "stream",
     "text": [
      "Saved cleaned C05 to time_series_cleaned_losangeles/C05_time_series.nc.0 spikes replaced.\n",
      "0 spikes replaced.\n",
      "Cleaning C06\n"
     ]
    },
    {
     "name": "stderr",
     "output_type": "stream",
     "text": [
      "C06 - Despiking: 100%|█████████████████| 14298/14298 [00:00<00:00, 99830.30it/s]\n"
     ]
    },
    {
     "name": "stdout",
     "output_type": "stream",
     "text": [
      "Saved cleaned C06 to time_series_cleaned_losangeles/C06_time_series.nc.0 spikes replaced.\n",
      "0 spikes replaced.\n",
      "Cleaning C07\n"
     ]
    },
    {
     "name": "stderr",
     "output_type": "stream",
     "text": [
      "C07 - Despiking: 100%|█████████████████| 14300/14300 [00:00<00:00, 93921.93it/s]\n"
     ]
    },
    {
     "name": "stdout",
     "output_type": "stream",
     "text": [
      "Saved cleaned C07 to time_series_cleaned_losangeles/C07_time_series.nc.0 spikes replaced.\n",
      "0 spikes replaced.\n",
      "Cleaning C08\n"
     ]
    },
    {
     "name": "stderr",
     "output_type": "stream",
     "text": [
      "C08 - Despiking: 100%|█████████████████| 14296/14296 [00:00<00:00, 99099.55it/s]\n"
     ]
    },
    {
     "name": "stdout",
     "output_type": "stream",
     "text": [
      "Saved cleaned C08 to time_series_cleaned_losangeles/C08_time_series.nc.0 spikes replaced.\n",
      "0 spikes replaced.\n",
      "Cleaning C09\n"
     ]
    },
    {
     "name": "stderr",
     "output_type": "stream",
     "text": [
      "C09 - Despiking: 100%|████████████████| 14303/14303 [00:00<00:00, 114353.55it/s]\n"
     ]
    },
    {
     "name": "stdout",
     "output_type": "stream",
     "text": [
      "Saved cleaned C09 to time_series_cleaned_losangeles/C09_time_series.nc.0 spikes replaced.\n",
      "0 spikes replaced.\n",
      "Cleaning C10\n"
     ]
    },
    {
     "name": "stderr",
     "output_type": "stream",
     "text": [
      "C10 - Despiking: 100%|████████████████| 14298/14298 [00:00<00:00, 100824.92it/s]\n"
     ]
    },
    {
     "name": "stdout",
     "output_type": "stream",
     "text": [
      "Saved cleaned C10 to time_series_cleaned_losangeles/C10_time_series.nc.0 spikes replaced.\n",
      "0 spikes replaced.\n",
      "Cleaning C11\n"
     ]
    },
    {
     "name": "stderr",
     "output_type": "stream",
     "text": [
      "C11 - Despiking: 100%|█████████████████| 14304/14304 [00:00<00:00, 94180.93it/s]\n"
     ]
    },
    {
     "name": "stdout",
     "output_type": "stream",
     "text": [
      "Saved cleaned C11 to time_series_cleaned_losangeles/C11_time_series.nc.0 spikes replaced.\n",
      "0 spikes replaced.\n",
      "Cleaning C12\n"
     ]
    },
    {
     "name": "stderr",
     "output_type": "stream",
     "text": [
      "C12 - Despiking: 100%|████████████████| 14303/14303 [00:00<00:00, 105110.40it/s]\n"
     ]
    },
    {
     "name": "stdout",
     "output_type": "stream",
     "text": [
      "Saved cleaned C12 to time_series_cleaned_losangeles/C12_time_series.nc.0 spikes replaced.\n",
      "0 spikes replaced.\n",
      "Cleaning C13\n"
     ]
    },
    {
     "name": "stderr",
     "output_type": "stream",
     "text": [
      "C13 - Despiking: 100%|█████████████████| 14294/14294 [00:00<00:00, 87127.87it/s]\n"
     ]
    },
    {
     "name": "stdout",
     "output_type": "stream",
     "text": [
      "Saved cleaned C13 to time_series_cleaned_losangeles/C13_time_series.nc.0 spikes replaced.\n",
      "0 spikes replaced.\n",
      "Cleaning C14\n"
     ]
    },
    {
     "name": "stderr",
     "output_type": "stream",
     "text": [
      "C14 - Despiking: 100%|████████████████| 14303/14303 [00:00<00:00, 114082.38it/s]\n"
     ]
    },
    {
     "name": "stdout",
     "output_type": "stream",
     "text": [
      "Saved cleaned C14 to time_series_cleaned_losangeles/C14_time_series.nc.0 spikes replaced.\n",
      "0 spikes replaced.\n",
      "Cleaning C15\n"
     ]
    },
    {
     "name": "stderr",
     "output_type": "stream",
     "text": [
      "C15 - Despiking: 100%|████████████████| 14303/14303 [00:00<00:00, 113511.86it/s]\n"
     ]
    },
    {
     "name": "stdout",
     "output_type": "stream",
     "text": [
      "Saved cleaned C15 to time_series_cleaned_losangeles/C15_time_series.nc.0 spikes replaced.\n",
      "0 spikes replaced.\n",
      "Cleaning C16\n"
     ]
    },
    {
     "name": "stderr",
     "output_type": "stream",
     "text": [
      "C16 - Despiking: 100%|████████████████| 14296/14296 [00:00<00:00, 100734.94it/s]\n"
     ]
    },
    {
     "name": "stdout",
     "output_type": "stream",
     "text": [
      "Saved cleaned C16 to time_series_cleaned_losangeles/C16_time_series.nc.0 spikes replaced.\n",
      "0 spikes replaced.\n"
     ]
    }
   ],
   "source": [
    "DataCleaner(input_dir, output_dir, spike_threshold)"
   ]
  },
  {
   "cell_type": "code",
   "execution_count": null,
   "id": "8e64c351-8920-4d52-85e5-7e356b8651cc",
   "metadata": {},
   "outputs": [],
   "source": []
  }
 ],
 "metadata": {
  "kernelspec": {
   "display_name": "Python 3 (ipykernel)",
   "language": "python",
   "name": "python3"
  },
  "language_info": {
   "codemirror_mode": {
    "name": "ipython",
    "version": 3
   },
   "file_extension": ".py",
   "mimetype": "text/x-python",
   "name": "python",
   "nbconvert_exporter": "python",
   "pygments_lexer": "ipython3",
   "version": "3.13.3"
  }
 },
 "nbformat": 4,
 "nbformat_minor": 5
}
