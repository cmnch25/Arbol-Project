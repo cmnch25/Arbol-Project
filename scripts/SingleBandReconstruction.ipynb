{
  "cells": [
    {
      "cell_type": "code",
      "execution_count": null,
      "metadata": {
        "colab": {
          "base_uri": "https://localhost:8080/"
        },
        "id": "vKOPTnAsmH6i",
        "outputId": "d13b0bba-168f-4364-c359-2754ccdfc75a"
      },
      "outputs": [
        {
          "output_type": "stream",
          "name": "stdout",
          "text": [
            "Drive already mounted at /content/drive; to attempt to forcibly remount, call drive.mount(\"/content/drive\", force_remount=True).\n"
          ]
        }
      ],
      "source": [
        "from google.colab import drive\n",
        "drive.mount('/content/drive')"
      ]
    },
    {
      "cell_type": "code",
      "execution_count": null,
      "metadata": {
        "colab": {
          "base_uri": "https://localhost:8080/"
        },
        "id": "pFB-GSf0qsjZ",
        "outputId": "0e575463-efb4-4b5f-99a5-c1c5216e5c3e"
      },
      "outputs": [
        {
          "output_type": "stream",
          "name": "stdout",
          "text": [
            "Requirement already satisfied: torch in /usr/local/lib/python3.11/dist-packages (2.6.0+cu124)\n",
            "Requirement already satisfied: torchvision in /usr/local/lib/python3.11/dist-packages (0.21.0+cu124)\n",
            "Requirement already satisfied: einops in /usr/local/lib/python3.11/dist-packages (0.8.1)\n",
            "Requirement already satisfied: tqdm in /usr/local/lib/python3.11/dist-packages (4.67.1)\n",
            "Collecting pytorch-lightning\n",
            "  Downloading pytorch_lightning-2.5.2-py3-none-any.whl.metadata (21 kB)\n",
            "Requirement already satisfied: scikit-learn in /usr/local/lib/python3.11/dist-packages (1.6.1)\n",
            "Requirement already satisfied: filelock in /usr/local/lib/python3.11/dist-packages (from torch) (3.18.0)\n",
            "Requirement already satisfied: typing-extensions>=4.10.0 in /usr/local/lib/python3.11/dist-packages (from torch) (4.14.1)\n",
            "Requirement already satisfied: networkx in /usr/local/lib/python3.11/dist-packages (from torch) (3.5)\n",
            "Requirement already satisfied: jinja2 in /usr/local/lib/python3.11/dist-packages (from torch) (3.1.6)\n",
            "Requirement already satisfied: fsspec in /usr/local/lib/python3.11/dist-packages (from torch) (2025.3.0)\n",
            "Collecting nvidia-cuda-nvrtc-cu12==12.4.127 (from torch)\n",
            "  Downloading nvidia_cuda_nvrtc_cu12-12.4.127-py3-none-manylinux2014_x86_64.whl.metadata (1.5 kB)\n",
            "Collecting nvidia-cuda-runtime-cu12==12.4.127 (from torch)\n",
            "  Downloading nvidia_cuda_runtime_cu12-12.4.127-py3-none-manylinux2014_x86_64.whl.metadata (1.5 kB)\n",
            "Collecting nvidia-cuda-cupti-cu12==12.4.127 (from torch)\n",
            "  Downloading nvidia_cuda_cupti_cu12-12.4.127-py3-none-manylinux2014_x86_64.whl.metadata (1.6 kB)\n",
            "Collecting nvidia-cudnn-cu12==9.1.0.70 (from torch)\n",
            "  Downloading nvidia_cudnn_cu12-9.1.0.70-py3-none-manylinux2014_x86_64.whl.metadata (1.6 kB)\n",
            "Collecting nvidia-cublas-cu12==12.4.5.8 (from torch)\n",
            "  Downloading nvidia_cublas_cu12-12.4.5.8-py3-none-manylinux2014_x86_64.whl.metadata (1.5 kB)\n",
            "Collecting nvidia-cufft-cu12==11.2.1.3 (from torch)\n",
            "  Downloading nvidia_cufft_cu12-11.2.1.3-py3-none-manylinux2014_x86_64.whl.metadata (1.5 kB)\n",
            "Collecting nvidia-curand-cu12==10.3.5.147 (from torch)\n",
            "  Downloading nvidia_curand_cu12-10.3.5.147-py3-none-manylinux2014_x86_64.whl.metadata (1.5 kB)\n",
            "Collecting nvidia-cusolver-cu12==11.6.1.9 (from torch)\n",
            "  Downloading nvidia_cusolver_cu12-11.6.1.9-py3-none-manylinux2014_x86_64.whl.metadata (1.6 kB)\n",
            "Collecting nvidia-cusparse-cu12==12.3.1.170 (from torch)\n",
            "  Downloading nvidia_cusparse_cu12-12.3.1.170-py3-none-manylinux2014_x86_64.whl.metadata (1.6 kB)\n",
            "Requirement already satisfied: nvidia-cusparselt-cu12==0.6.2 in /usr/local/lib/python3.11/dist-packages (from torch) (0.6.2)\n",
            "Collecting nvidia-nccl-cu12==2.21.5 (from torch)\n",
            "  Downloading nvidia_nccl_cu12-2.21.5-py3-none-manylinux2014_x86_64.whl.metadata (1.8 kB)\n",
            "Requirement already satisfied: nvidia-nvtx-cu12==12.4.127 in /usr/local/lib/python3.11/dist-packages (from torch) (12.4.127)\n",
            "Collecting nvidia-nvjitlink-cu12==12.4.127 (from torch)\n",
            "  Downloading nvidia_nvjitlink_cu12-12.4.127-py3-none-manylinux2014_x86_64.whl.metadata (1.5 kB)\n",
            "Requirement already satisfied: triton==3.2.0 in /usr/local/lib/python3.11/dist-packages (from torch) (3.2.0)\n",
            "Requirement already satisfied: sympy==1.13.1 in /usr/local/lib/python3.11/dist-packages (from torch) (1.13.1)\n",
            "Requirement already satisfied: mpmath<1.4,>=1.1.0 in /usr/local/lib/python3.11/dist-packages (from sympy==1.13.1->torch) (1.3.0)\n",
            "Requirement already satisfied: numpy in /usr/local/lib/python3.11/dist-packages (from torchvision) (2.0.2)\n",
            "Requirement already satisfied: pillow!=8.3.*,>=5.3.0 in /usr/local/lib/python3.11/dist-packages (from torchvision) (11.3.0)\n",
            "Requirement already satisfied: PyYAML>=5.4 in /usr/local/lib/python3.11/dist-packages (from pytorch-lightning) (6.0.2)\n",
            "Collecting torchmetrics>=0.7.0 (from pytorch-lightning)\n",
            "  Downloading torchmetrics-1.8.1-py3-none-any.whl.metadata (22 kB)\n",
            "Requirement already satisfied: packaging>=20.0 in /usr/local/lib/python3.11/dist-packages (from pytorch-lightning) (25.0)\n",
            "Collecting lightning-utilities>=0.10.0 (from pytorch-lightning)\n",
            "  Downloading lightning_utilities-0.15.2-py3-none-any.whl.metadata (5.7 kB)\n",
            "Requirement already satisfied: scipy>=1.6.0 in /usr/local/lib/python3.11/dist-packages (from scikit-learn) (1.16.1)\n",
            "Requirement already satisfied: joblib>=1.2.0 in /usr/local/lib/python3.11/dist-packages (from scikit-learn) (1.5.1)\n",
            "Requirement already satisfied: threadpoolctl>=3.1.0 in /usr/local/lib/python3.11/dist-packages (from scikit-learn) (3.6.0)\n",
            "Requirement already satisfied: aiohttp!=4.0.0a0,!=4.0.0a1 in /usr/local/lib/python3.11/dist-packages (from fsspec[http]>=2022.5.0->pytorch-lightning) (3.12.15)\n",
            "Requirement already satisfied: setuptools in /usr/local/lib/python3.11/dist-packages (from lightning-utilities>=0.10.0->pytorch-lightning) (75.2.0)\n",
            "Requirement already satisfied: MarkupSafe>=2.0 in /usr/local/lib/python3.11/dist-packages (from jinja2->torch) (3.0.2)\n",
            "Requirement already satisfied: aiohappyeyeballs>=2.5.0 in /usr/local/lib/python3.11/dist-packages (from aiohttp!=4.0.0a0,!=4.0.0a1->fsspec[http]>=2022.5.0->pytorch-lightning) (2.6.1)\n",
            "Requirement already satisfied: aiosignal>=1.4.0 in /usr/local/lib/python3.11/dist-packages (from aiohttp!=4.0.0a0,!=4.0.0a1->fsspec[http]>=2022.5.0->pytorch-lightning) (1.4.0)\n",
            "Requirement already satisfied: attrs>=17.3.0 in /usr/local/lib/python3.11/dist-packages (from aiohttp!=4.0.0a0,!=4.0.0a1->fsspec[http]>=2022.5.0->pytorch-lightning) (25.3.0)\n",
            "Requirement already satisfied: frozenlist>=1.1.1 in /usr/local/lib/python3.11/dist-packages (from aiohttp!=4.0.0a0,!=4.0.0a1->fsspec[http]>=2022.5.0->pytorch-lightning) (1.7.0)\n",
            "Requirement already satisfied: multidict<7.0,>=4.5 in /usr/local/lib/python3.11/dist-packages (from aiohttp!=4.0.0a0,!=4.0.0a1->fsspec[http]>=2022.5.0->pytorch-lightning) (6.6.3)\n",
            "Requirement already satisfied: propcache>=0.2.0 in /usr/local/lib/python3.11/dist-packages (from aiohttp!=4.0.0a0,!=4.0.0a1->fsspec[http]>=2022.5.0->pytorch-lightning) (0.3.2)\n",
            "Requirement already satisfied: yarl<2.0,>=1.17.0 in /usr/local/lib/python3.11/dist-packages (from aiohttp!=4.0.0a0,!=4.0.0a1->fsspec[http]>=2022.5.0->pytorch-lightning) (1.20.1)\n",
            "Requirement already satisfied: idna>=2.0 in /usr/local/lib/python3.11/dist-packages (from yarl<2.0,>=1.17.0->aiohttp!=4.0.0a0,!=4.0.0a1->fsspec[http]>=2022.5.0->pytorch-lightning) (3.10)\n",
            "Downloading nvidia_cublas_cu12-12.4.5.8-py3-none-manylinux2014_x86_64.whl (363.4 MB)\n",
            "\u001b[2K   \u001b[90m━━━━━━━━━━━━━━━━━━━━━━━━━━━━━━━━━━━━━━━━\u001b[0m \u001b[32m363.4/363.4 MB\u001b[0m \u001b[31m3.1 MB/s\u001b[0m eta \u001b[36m0:00:00\u001b[0m\n",
            "\u001b[?25hDownloading nvidia_cuda_cupti_cu12-12.4.127-py3-none-manylinux2014_x86_64.whl (13.8 MB)\n",
            "\u001b[2K   \u001b[90m━━━━━━━━━━━━━━━━━━━━━━━━━━━━━━━━━━━━━━━━\u001b[0m \u001b[32m13.8/13.8 MB\u001b[0m \u001b[31m116.2 MB/s\u001b[0m eta \u001b[36m0:00:00\u001b[0m\n",
            "\u001b[?25hDownloading nvidia_cuda_nvrtc_cu12-12.4.127-py3-none-manylinux2014_x86_64.whl (24.6 MB)\n",
            "\u001b[2K   \u001b[90m━━━━━━━━━━━━━━━━━━━━━━━━━━━━━━━━━━━━━━━━\u001b[0m \u001b[32m24.6/24.6 MB\u001b[0m \u001b[31m98.3 MB/s\u001b[0m eta \u001b[36m0:00:00\u001b[0m\n",
            "\u001b[?25hDownloading nvidia_cuda_runtime_cu12-12.4.127-py3-none-manylinux2014_x86_64.whl (883 kB)\n",
            "\u001b[2K   \u001b[90m━━━━━━━━━━━━━━━━━━━━━━━━━━━━━━━━━━━━━━━━\u001b[0m \u001b[32m883.7/883.7 kB\u001b[0m \u001b[31m60.1 MB/s\u001b[0m eta \u001b[36m0:00:00\u001b[0m\n",
            "\u001b[?25hDownloading nvidia_cudnn_cu12-9.1.0.70-py3-none-manylinux2014_x86_64.whl (664.8 MB)\n",
            "\u001b[2K   \u001b[90m━━━━━━━━━━━━━━━━━━━━━━━━━━━━━━━━━━━━━━━━\u001b[0m \u001b[32m664.8/664.8 MB\u001b[0m \u001b[31m1.7 MB/s\u001b[0m eta \u001b[36m0:00:00\u001b[0m\n",
            "\u001b[?25hDownloading nvidia_cufft_cu12-11.2.1.3-py3-none-manylinux2014_x86_64.whl (211.5 MB)\n",
            "\u001b[2K   \u001b[90m━━━━━━━━━━━━━━━━━━━━━━━━━━━━━━━━━━━━━━━━\u001b[0m \u001b[32m211.5/211.5 MB\u001b[0m \u001b[31m11.5 MB/s\u001b[0m eta \u001b[36m0:00:00\u001b[0m\n",
            "\u001b[?25hDownloading nvidia_curand_cu12-10.3.5.147-py3-none-manylinux2014_x86_64.whl (56.3 MB)\n",
            "\u001b[2K   \u001b[90m━━━━━━━━━━━━━━━━━━━━━━━━━━━━━━━━━━━━━━━━\u001b[0m \u001b[32m56.3/56.3 MB\u001b[0m \u001b[31m41.5 MB/s\u001b[0m eta \u001b[36m0:00:00\u001b[0m\n",
            "\u001b[?25hDownloading nvidia_cusolver_cu12-11.6.1.9-py3-none-manylinux2014_x86_64.whl (127.9 MB)\n",
            "\u001b[2K   \u001b[90m━━━━━━━━━━━━━━━━━━━━━━━━━━━━━━━━━━━━━━━━\u001b[0m \u001b[32m127.9/127.9 MB\u001b[0m \u001b[31m10.9 MB/s\u001b[0m eta \u001b[36m0:00:00\u001b[0m\n",
            "\u001b[?25hDownloading nvidia_cusparse_cu12-12.3.1.170-py3-none-manylinux2014_x86_64.whl (207.5 MB)\n",
            "\u001b[2K   \u001b[90m━━━━━━━━━━━━━━━━━━━━━━━━━━━━━━━━━━━━━━━━\u001b[0m \u001b[32m207.5/207.5 MB\u001b[0m \u001b[31m12.8 MB/s\u001b[0m eta \u001b[36m0:00:00\u001b[0m\n",
            "\u001b[?25hDownloading nvidia_nccl_cu12-2.21.5-py3-none-manylinux2014_x86_64.whl (188.7 MB)\n",
            "\u001b[2K   \u001b[90m━━━━━━━━━━━━━━━━━━━━━━━━━━━━━━━━━━━━━━━━\u001b[0m \u001b[32m188.7/188.7 MB\u001b[0m \u001b[31m3.4 MB/s\u001b[0m eta \u001b[36m0:00:00\u001b[0m\n",
            "\u001b[?25hDownloading nvidia_nvjitlink_cu12-12.4.127-py3-none-manylinux2014_x86_64.whl (21.1 MB)\n",
            "\u001b[2K   \u001b[90m━━━━━━━━━━━━━━━━━━━━━━━━━━━━━━━━━━━━━━━━\u001b[0m \u001b[32m21.1/21.1 MB\u001b[0m \u001b[31m102.1 MB/s\u001b[0m eta \u001b[36m0:00:00\u001b[0m\n",
            "\u001b[?25hDownloading pytorch_lightning-2.5.2-py3-none-any.whl (825 kB)\n",
            "\u001b[2K   \u001b[90m━━━━━━━━━━━━━━━━━━━━━━━━━━━━━━━━━━━━━━━━\u001b[0m \u001b[32m825.4/825.4 kB\u001b[0m \u001b[31m61.5 MB/s\u001b[0m eta \u001b[36m0:00:00\u001b[0m\n",
            "\u001b[?25hDownloading lightning_utilities-0.15.2-py3-none-any.whl (29 kB)\n",
            "Downloading torchmetrics-1.8.1-py3-none-any.whl (982 kB)\n",
            "\u001b[2K   \u001b[90m━━━━━━━━━━━━━━━━━━━━━━━━━━━━━━━━━━━━━━━━\u001b[0m \u001b[32m983.0/983.0 kB\u001b[0m \u001b[31m67.8 MB/s\u001b[0m eta \u001b[36m0:00:00\u001b[0m\n",
            "\u001b[?25hInstalling collected packages: nvidia-nvjitlink-cu12, nvidia-nccl-cu12, nvidia-curand-cu12, nvidia-cufft-cu12, nvidia-cuda-runtime-cu12, nvidia-cuda-nvrtc-cu12, nvidia-cuda-cupti-cu12, nvidia-cublas-cu12, lightning-utilities, nvidia-cusparse-cu12, nvidia-cudnn-cu12, nvidia-cusolver-cu12, torchmetrics, pytorch-lightning\n",
            "  Attempting uninstall: nvidia-nvjitlink-cu12\n",
            "    Found existing installation: nvidia-nvjitlink-cu12 12.5.82\n",
            "    Uninstalling nvidia-nvjitlink-cu12-12.5.82:\n",
            "      Successfully uninstalled nvidia-nvjitlink-cu12-12.5.82\n",
            "  Attempting uninstall: nvidia-nccl-cu12\n",
            "    Found existing installation: nvidia-nccl-cu12 2.23.4\n",
            "    Uninstalling nvidia-nccl-cu12-2.23.4:\n",
            "      Successfully uninstalled nvidia-nccl-cu12-2.23.4\n",
            "  Attempting uninstall: nvidia-curand-cu12\n",
            "    Found existing installation: nvidia-curand-cu12 10.3.6.82\n",
            "    Uninstalling nvidia-curand-cu12-10.3.6.82:\n",
            "      Successfully uninstalled nvidia-curand-cu12-10.3.6.82\n",
            "  Attempting uninstall: nvidia-cufft-cu12\n",
            "    Found existing installation: nvidia-cufft-cu12 11.2.3.61\n",
            "    Uninstalling nvidia-cufft-cu12-11.2.3.61:\n",
            "      Successfully uninstalled nvidia-cufft-cu12-11.2.3.61\n",
            "  Attempting uninstall: nvidia-cuda-runtime-cu12\n",
            "    Found existing installation: nvidia-cuda-runtime-cu12 12.5.82\n",
            "    Uninstalling nvidia-cuda-runtime-cu12-12.5.82:\n",
            "      Successfully uninstalled nvidia-cuda-runtime-cu12-12.5.82\n",
            "  Attempting uninstall: nvidia-cuda-nvrtc-cu12\n",
            "    Found existing installation: nvidia-cuda-nvrtc-cu12 12.5.82\n",
            "    Uninstalling nvidia-cuda-nvrtc-cu12-12.5.82:\n",
            "      Successfully uninstalled nvidia-cuda-nvrtc-cu12-12.5.82\n",
            "  Attempting uninstall: nvidia-cuda-cupti-cu12\n",
            "    Found existing installation: nvidia-cuda-cupti-cu12 12.5.82\n",
            "    Uninstalling nvidia-cuda-cupti-cu12-12.5.82:\n",
            "      Successfully uninstalled nvidia-cuda-cupti-cu12-12.5.82\n",
            "  Attempting uninstall: nvidia-cublas-cu12\n",
            "    Found existing installation: nvidia-cublas-cu12 12.5.3.2\n",
            "    Uninstalling nvidia-cublas-cu12-12.5.3.2:\n",
            "      Successfully uninstalled nvidia-cublas-cu12-12.5.3.2\n",
            "  Attempting uninstall: nvidia-cusparse-cu12\n",
            "    Found existing installation: nvidia-cusparse-cu12 12.5.1.3\n",
            "    Uninstalling nvidia-cusparse-cu12-12.5.1.3:\n",
            "      Successfully uninstalled nvidia-cusparse-cu12-12.5.1.3\n",
            "  Attempting uninstall: nvidia-cudnn-cu12\n",
            "    Found existing installation: nvidia-cudnn-cu12 9.3.0.75\n",
            "    Uninstalling nvidia-cudnn-cu12-9.3.0.75:\n",
            "      Successfully uninstalled nvidia-cudnn-cu12-9.3.0.75\n",
            "  Attempting uninstall: nvidia-cusolver-cu12\n",
            "    Found existing installation: nvidia-cusolver-cu12 11.6.3.83\n",
            "    Uninstalling nvidia-cusolver-cu12-11.6.3.83:\n",
            "      Successfully uninstalled nvidia-cusolver-cu12-11.6.3.83\n",
            "Successfully installed lightning-utilities-0.15.2 nvidia-cublas-cu12-12.4.5.8 nvidia-cuda-cupti-cu12-12.4.127 nvidia-cuda-nvrtc-cu12-12.4.127 nvidia-cuda-runtime-cu12-12.4.127 nvidia-cudnn-cu12-9.1.0.70 nvidia-cufft-cu12-11.2.1.3 nvidia-curand-cu12-10.3.5.147 nvidia-cusolver-cu12-11.6.1.9 nvidia-cusparse-cu12-12.3.1.170 nvidia-nccl-cu12-2.21.5 nvidia-nvjitlink-cu12-12.4.127 pytorch-lightning-2.5.2 torchmetrics-1.8.1\n",
            "Cloning into 'EfficientSCI'...\n",
            "remote: Enumerating objects: 176, done.\u001b[K\n",
            "remote: Counting objects: 100% (23/23), done.\u001b[K\n",
            "remote: Compressing objects: 100% (11/11), done.\u001b[K\n",
            "remote: Total 176 (delta 14), reused 12 (delta 12), pack-reused 153 (from 1)\u001b[K\n",
            "Receiving objects: 100% (176/176), 154.68 MiB | 15.06 MiB/s, done.\n",
            "Resolving deltas: 100% (41/41), done.\n"
          ]
        }
      ],
      "source": [
        "!pip install torch torchvision einops tqdm pytorch-lightning scikit-learn\n",
        "!git clone https://github.com/ucaswangls/EfficientSCI.git\n",
        "\n",
        "import sys\n",
        "sys.path.append(\"/content/EfficientSCI\")"
      ]
    },
    {
      "cell_type": "code",
      "execution_count": null,
      "metadata": {
        "id": "orA7usW4n5cb"
      },
      "outputs": [],
      "source": [
        "import os\n",
        "os.environ[\"PYTORCH_CUDA_ALLOC_CONF\"] = \"max_split_size_mb:64,expandable_segments:True\"\n",
        "\n",
        "import re\n",
        "import glob\n",
        "import torch\n",
        "import torch.nn as nn\n",
        "import numpy as np\n",
        "from sklearn.model_selection import train_test_split\n",
        "from torch.optim.lr_scheduler import ReduceLROnPlateau\n",
        "from torch.utils.data import DataLoader, Dataset, Subset\n",
        "from tqdm import tqdm\n",
        "import matplotlib\n",
        "import matplotlib.pyplot as plt\n",
        "import gc\n",
        "import random\n",
        "\n",
        "from cacti.models.efficientsci import EfficientSCI"
      ]
    },
    {
      "cell_type": "code",
      "execution_count": null,
      "metadata": {
        "id": "RWiNUtc0n9OL"
      },
      "outputs": [],
      "source": [
        "# Configuration\n",
        "do_train = True\n",
        "do_eval = True\n",
        "retrain = True\n",
        "band = 1\n",
        "model_ckpt_path = f\"/content/drive/MyDrive/efficientSCI_finetuned_band{band}.pth\"\n",
        "\n",
        "train_locs = ['bos', 'bozeman', 'CarlinNev', 'la', 'dallas']\n",
        "test_loc = 'miami'\n",
        "patch_size = 44\n",
        "grid_size = 2\n",
        "batch_size = 1\n",
        "epochs = 15\n"
      ]
    },
    {
      "cell_type": "code",
      "execution_count": null,
      "metadata": {
        "id": "bSP4gAXesiJ7"
      },
      "outputs": [],
      "source": [
        "class SCIBlockDataset(Dataset):\n",
        "    def __init__(self, file_list, patch_size=100, grid_size=1):\n",
        "        self.file_list = file_list\n",
        "        self.patch_size = patch_size\n",
        "        self.grid_size = grid_size\n",
        "        self.patches_per_block = grid_size ** 2\n",
        "\n",
        "    def __len__(self):\n",
        "        return len(self.file_list) * self.patches_per_block\n",
        "\n",
        "    def __getitem__(self, idx):\n",
        "        block_idx = idx // self.patches_per_block\n",
        "        patch_idx = idx % self.patches_per_block\n",
        "\n",
        "        data = np.load(self.file_list[block_idx], mmap_mode = 'r')\n",
        "        y = data['y']\n",
        "        y = np.nan_to_num(y, nan=0.0)\n",
        "        if np.isnan(y).any():\n",
        "          print(\"NaN detected in y before conversion\")\n",
        "        phi = data['phi']\n",
        "        x = data['x']\n",
        "        x = np.nan_to_num(x, nan=0.0)\n",
        "        phi_s = np.sum(phi, axis=0, keepdims=True) #shape [1, H, W]\n",
        "\n",
        "        T, H, W = x.shape\n",
        "        ps = self.patch_size\n",
        "\n",
        "        row = (patch_idx // self.grid_size) * ps\n",
        "        col = (patch_idx % self.grid_size) * ps\n",
        "\n",
        "        y_patch = y[row:row+ps, col:col+ps]\n",
        "        x_patch = x[:, row:row+ps, col:col+ps]\n",
        "        phi_patch = phi[:, row:row+ps, col:col+ps].copy()\n",
        "\n",
        "\n",
        "        phi_s = np.sum(phi[:, row:row+ps, col:col+ps], axis=0, keepdims=True)\n",
        "        #Normalize the x and y patches\n",
        "\n",
        "        max_val = np.max(x_patch) + 1e-8 #all bands\n",
        "        x_patch = x_patch / max_val\n",
        "\n",
        "        x_patch = np.clip(x_patch, a_min=0, a_max=None) #NOT BAND 1\n",
        "        x_patch = np.log1p(x_patch) #NOT BAND 1\n",
        "\n",
        "        y_patch = y_patch / max_val\n",
        "        phi_patch = phi_patch/max_val\n",
        "\n",
        "        phi_s = phi_s/max_val\n",
        "\n",
        "        if np.sum(phi_patch) == 0:\n",
        "          phi_patch = 1\n",
        "\n",
        "        return (torch.tensor(y_patch).unsqueeze(0).float(), torch.tensor(phi_patch).float(), torch.tensor(phi_s).float(),torch.tensor(x_patch).float(), torch.tensor(max_val).float())"
      ]
    },
    {
      "cell_type": "code",
      "execution_count": null,
      "metadata": {
        "colab": {
          "base_uri": "https://localhost:8080/"
        },
        "id": "JGi_t3RsoFDR",
        "outputId": "eef31e3e-293a-4f4b-8d8f-d4631f596aa3"
      },
      "outputs": [
        {
          "output_type": "stream",
          "name": "stderr",
          "text": [
            "/usr/local/lib/python3.11/dist-packages/torch/utils/data/dataloader.py:624: UserWarning: This DataLoader will create 16 worker processes in total. Our suggested max number of worker in current system is 12, which is smaller than what this DataLoader is going to create. Please be aware that excessive worker creation might get DataLoader running slow or even freeze, lower the worker number to avoid potential slowness/freeze if necessary.\n",
            "  warnings.warn(\n"
          ]
        },
        {
          "output_type": "execute_result",
          "data": {
            "text/plain": [
              "EfficientSCI(\n",
              "  (fem): Sequential(\n",
              "    (0): Conv3d(1, 64, kernel_size=(3, 7, 7), stride=(1, 1, 1), padding=(1, 3, 3))\n",
              "    (1): LeakyReLU(negative_slope=0.01, inplace=True)\n",
              "    (2): Conv3d(64, 128, kernel_size=(3, 3, 3), stride=(1, 1, 1), padding=(1, 1, 1))\n",
              "    (3): LeakyReLU(negative_slope=0.01, inplace=True)\n",
              "    (4): Conv3d(128, 256, kernel_size=(3, 3, 3), stride=(1, 2, 2), padding=(1, 1, 1))\n",
              "    (5): LeakyReLU(negative_slope=0.01, inplace=True)\n",
              "  )\n",
              "  (up_conv): Conv3d(256, 512, kernel_size=(1, 1, 1), stride=(1, 1, 1))\n",
              "  (up): PixelShuffle(upscale_factor=2)\n",
              "  (vrm): Sequential(\n",
              "    (0): Conv3d(128, 128, kernel_size=(3, 3, 3), stride=(1, 1, 1), padding=(1, 1, 1))\n",
              "    (1): LeakyReLU(negative_slope=0.01, inplace=True)\n",
              "    (2): Conv3d(128, 64, kernel_size=(1, 1, 1), stride=(1, 1, 1))\n",
              "    (3): LeakyReLU(negative_slope=0.01, inplace=True)\n",
              "    (4): Conv3d(64, 1, kernel_size=(3, 3, 3), stride=(1, 1, 1), padding=(1, 1, 1))\n",
              "  )\n",
              "  (resdnet_list): ModuleList(\n",
              "    (0-7): 8 x ResDNetBlock(\n",
              "      (cformer_list): ModuleList(\n",
              "        (0-3): 4 x CFormerBlock(\n",
              "          (scb): Sequential(\n",
              "            (0): Conv3d(64, 64, kernel_size=(1, 3, 3), stride=(1, 1, 1), padding=(0, 1, 1))\n",
              "            (1): LeakyReLU(negative_slope=0.01, inplace=True)\n",
              "            (2): Conv3d(64, 64, kernel_size=(1, 3, 3), stride=(1, 1, 1), padding=(0, 1, 1))\n",
              "          )\n",
              "          (tsab): TimesAttention3D(\n",
              "            (qkv): Linear(in_features=64, out_features=96, bias=False)\n",
              "            (proj): Linear(in_features=32, out_features=64, bias=True)\n",
              "            (softmax): Softmax(dim=-1)\n",
              "          )\n",
              "          (ffn): Sequential(\n",
              "            (0): Conv3d(64, 64, kernel_size=(3, 3, 3), stride=(1, 1, 1), padding=(1, 1, 1))\n",
              "            (1): LeakyReLU(negative_slope=0.01, inplace=True)\n",
              "            (2): Conv3d(64, 64, kernel_size=(1, 1, 1), stride=(1, 1, 1))\n",
              "          )\n",
              "        )\n",
              "      )\n",
              "      (dense_conv): ModuleList(\n",
              "        (0): Sequential(\n",
              "          (0): Conv3d(128, 64, kernel_size=(1, 1, 1), stride=(1, 1, 1))\n",
              "          (1): LeakyReLU(negative_slope=0.01, inplace=True)\n",
              "        )\n",
              "        (1): Sequential(\n",
              "          (0): Conv3d(192, 64, kernel_size=(1, 1, 1), stride=(1, 1, 1))\n",
              "          (1): LeakyReLU(negative_slope=0.01, inplace=True)\n",
              "        )\n",
              "        (2): Sequential(\n",
              "          (0): Conv3d(256, 64, kernel_size=(1, 1, 1), stride=(1, 1, 1))\n",
              "          (1): LeakyReLU(negative_slope=0.01, inplace=True)\n",
              "        )\n",
              "      )\n",
              "      (last_conv): Conv3d(256, 256, kernel_size=(1, 1, 1), stride=(1, 1, 1))\n",
              "    )\n",
              "  )\n",
              ")"
            ]
          },
          "metadata": {},
          "execution_count": 6
        }
      ],
      "source": [
        "all_files = sorted(glob.glob(f\"/content/drive/MyDrive/Folder/data_blocks_2days/band_{band:02d}/*.npz\"))\n",
        "\n",
        "trainval_files = [f for f in all_files if test_loc not in os.path.basename(f)]\n",
        "test_files = [f for f in all_files if test_loc in os.path.basename(f)]\n",
        "\n",
        "train_files, val_files = train_test_split(trainval_files, test_size=0.2, random_state=42)\n",
        "\n",
        "train_dataset = SCIBlockDataset(train_files, patch_size, grid_size)\n",
        "val_dataset = SCIBlockDataset(val_files, patch_size, grid_size)\n",
        "test_dataset = SCIBlockDataset(test_files, patch_size=100, grid_size=1)  # full patch\n",
        "\n",
        "train_loader = DataLoader(train_dataset, batch_size=batch_size, num_workers=16,shuffle=True, pin_memory=True)\n",
        "val_loader = DataLoader(val_dataset, batch_size=batch_size, num_workers=16, shuffle=False, pin_memory=True)\n",
        "test_loader = DataLoader(test_dataset, batch_size=batch_size, num_workers=16,shuffle=False, pin_memory=True)\n",
        "\n",
        "device = torch.device(\"cuda\" if torch.cuda.is_available() else \"cpu\")\n",
        "model = EfficientSCI().to(device)\n",
        "model.eval()\n"
      ]
    },
    {
      "cell_type": "code",
      "execution_count": null,
      "metadata": {
        "colab": {
          "base_uri": "https://localhost:8080/"
        },
        "id": "-9g7Iwsyoan5",
        "outputId": "753b5229-4016-4713-bef1-8bcef3b6b29d"
      },
      "outputs": [
        {
          "output_type": "stream",
          "name": "stderr",
          "text": [
            "/tmp/ipython-input-2271545570.py:19: FutureWarning: `torch.cuda.amp.GradScaler(args...)` is deprecated. Please use `torch.amp.GradScaler('cuda', args...)` instead.\n",
            "  scaler = torch.cuda.amp.GradScaler()\n",
            "Train Epoch 1:   0%|          | 0/800 [00:00<?, ?it/s]/usr/local/lib/python3.11/dist-packages/torch/utils/data/dataloader.py:624: UserWarning: This DataLoader will create 16 worker processes in total. Our suggested max number of worker in current system is 12, which is smaller than what this DataLoader is going to create. Please be aware that excessive worker creation might get DataLoader running slow or even freeze, lower the worker number to avoid potential slowness/freeze if necessary.\n",
            "  warnings.warn(\n",
            "/tmp/ipython-input-2271545570.py:61: FutureWarning: `torch.cuda.amp.autocast(args...)` is deprecated. Please use `torch.amp.autocast('cuda', args...)` instead.\n",
            "  with torch.cuda.amp.autocast():\n",
            "Train Epoch 1: 100%|██████████| 800/800 [10:39<00:00,  1.25it/s]\n"
          ]
        },
        {
          "output_type": "stream",
          "name": "stdout",
          "text": [
            "New Best Model at Epoch 1\n",
            "[1] Train: 0.1008 | Val: 0.1718| Learning rate: 1.00e-05\n"
          ]
        },
        {
          "output_type": "stream",
          "name": "stderr",
          "text": [
            "Train Epoch 2: 100%|██████████| 800/800 [10:37<00:00,  1.25it/s]\n"
          ]
        },
        {
          "output_type": "stream",
          "name": "stdout",
          "text": [
            "No improvement for 1 epochs.\n",
            "[2] Train: 0.1052 | Val: 0.1762| Learning rate: 1.00e-05\n"
          ]
        },
        {
          "output_type": "stream",
          "name": "stderr",
          "text": [
            "Train Epoch 3: 100%|██████████| 800/800 [10:37<00:00,  1.25it/s]\n"
          ]
        },
        {
          "output_type": "stream",
          "name": "stdout",
          "text": [
            "No improvement for 2 epochs.\n",
            "[3] Train: 0.1063 | Val: 0.1784| Learning rate: 1.00e-05\n"
          ]
        },
        {
          "output_type": "stream",
          "name": "stderr",
          "text": [
            "Train Epoch 4: 100%|██████████| 800/800 [10:37<00:00,  1.25it/s]\n"
          ]
        },
        {
          "output_type": "stream",
          "name": "stdout",
          "text": [
            "New Best Model at Epoch 4\n",
            "[4] Train: 0.1013 | Val: 0.1702| Learning rate: 1.00e-05\n"
          ]
        },
        {
          "output_type": "stream",
          "name": "stderr",
          "text": [
            "Train Epoch 5: 100%|██████████| 800/800 [10:37<00:00,  1.25it/s]\n"
          ]
        },
        {
          "output_type": "stream",
          "name": "stdout",
          "text": [
            "No improvement for 1 epochs.\n",
            "[5] Train: 0.0990 | Val: 0.1733| Learning rate: 1.00e-05\n"
          ]
        },
        {
          "output_type": "stream",
          "name": "stderr",
          "text": [
            "Train Epoch 6: 100%|██████████| 800/800 [10:37<00:00,  1.25it/s]\n"
          ]
        },
        {
          "output_type": "stream",
          "name": "stdout",
          "text": [
            "No improvement for 2 epochs.\n",
            "[6] Train: 0.1027 | Val: 0.1806| Learning rate: 1.00e-05\n"
          ]
        },
        {
          "output_type": "stream",
          "name": "stderr",
          "text": [
            "Train Epoch 7: 100%|██████████| 800/800 [10:37<00:00,  1.25it/s]\n"
          ]
        },
        {
          "output_type": "stream",
          "name": "stdout",
          "text": [
            "No improvement for 3 epochs.\n",
            "[7] Train: 0.1048 | Val: 0.1822| Learning rate: 1.00e-05\n"
          ]
        },
        {
          "output_type": "stream",
          "name": "stderr",
          "text": [
            "Train Epoch 8: 100%|██████████| 800/800 [10:37<00:00,  1.25it/s]\n"
          ]
        },
        {
          "output_type": "stream",
          "name": "stdout",
          "text": [
            "No improvement for 4 epochs.\n",
            "[8] Train: 0.1021 | Val: 0.1727| Learning rate: 1.00e-05\n"
          ]
        },
        {
          "output_type": "stream",
          "name": "stderr",
          "text": [
            "Train Epoch 9: 100%|██████████| 800/800 [10:37<00:00,  1.25it/s]\n"
          ]
        },
        {
          "output_type": "stream",
          "name": "stdout",
          "text": [
            "New Best Model at Epoch 9\n",
            "[9] Train: 0.0978 | Val: 0.1681| Learning rate: 1.00e-05\n"
          ]
        },
        {
          "output_type": "stream",
          "name": "stderr",
          "text": [
            "Train Epoch 10: 100%|██████████| 800/800 [10:37<00:00,  1.25it/s]\n"
          ]
        },
        {
          "output_type": "stream",
          "name": "stdout",
          "text": [
            "No improvement for 1 epochs.\n",
            "[10] Train: 0.0992 | Val: 0.1948| Learning rate: 1.00e-05\n"
          ]
        },
        {
          "output_type": "stream",
          "name": "stderr",
          "text": [
            "Train Epoch 11: 100%|██████████| 800/800 [10:37<00:00,  1.25it/s]\n"
          ]
        },
        {
          "output_type": "stream",
          "name": "stdout",
          "text": [
            "No improvement for 2 epochs.\n",
            "[11] Train: 0.1021 | Val: 0.1741| Learning rate: 1.00e-05\n"
          ]
        },
        {
          "output_type": "stream",
          "name": "stderr",
          "text": [
            "Train Epoch 12: 100%|██████████| 800/800 [10:37<00:00,  1.25it/s]\n"
          ]
        },
        {
          "output_type": "stream",
          "name": "stdout",
          "text": [
            "No improvement for 3 epochs.\n",
            "[12] Train: 0.1024 | Val: 0.1892| Learning rate: 1.00e-05\n"
          ]
        },
        {
          "output_type": "stream",
          "name": "stderr",
          "text": [
            "Train Epoch 13: 100%|██████████| 800/800 [10:37<00:00,  1.25it/s]\n"
          ]
        },
        {
          "output_type": "stream",
          "name": "stdout",
          "text": [
            "No improvement for 4 epochs.\n",
            "[13] Train: 0.1000 | Val: 0.1686| Learning rate: 1.00e-05\n"
          ]
        },
        {
          "output_type": "stream",
          "name": "stderr",
          "text": [
            "Train Epoch 14: 100%|██████████| 800/800 [10:37<00:00,  1.25it/s]\n"
          ]
        },
        {
          "output_type": "stream",
          "name": "stdout",
          "text": [
            "No improvement for 5 epochs.\n",
            "[14] Train: 0.0983 | Val: 0.1812| Learning rate: 1.00e-05\n"
          ]
        },
        {
          "output_type": "stream",
          "name": "stderr",
          "text": [
            "Train Epoch 15: 100%|██████████| 800/800 [10:37<00:00,  1.25it/s]\n"
          ]
        },
        {
          "output_type": "stream",
          "name": "stdout",
          "text": [
            "No improvement for 6 epochs.\n",
            "[15] Train: 0.0974 | Val: 0.1729| Learning rate: 1.00e-05\n"
          ]
        },
        {
          "output_type": "stream",
          "name": "stderr",
          "text": [
            "Train Epoch 16: 100%|██████████| 800/800 [10:37<00:00,  1.25it/s]\n"
          ]
        },
        {
          "output_type": "stream",
          "name": "stdout",
          "text": [
            "No improvement for 7 epochs.\n",
            "[16] Train: 0.0979 | Val: 0.1718| Learning rate: 1.00e-05\n"
          ]
        },
        {
          "output_type": "stream",
          "name": "stderr",
          "text": [
            "Train Epoch 17: 100%|██████████| 800/800 [10:37<00:00,  1.25it/s]\n"
          ]
        },
        {
          "output_type": "stream",
          "name": "stdout",
          "text": [
            "No improvement for 8 epochs.\n",
            "[17] Train: 0.0986 | Val: 0.1776| Learning rate: 1.00e-05\n"
          ]
        },
        {
          "output_type": "stream",
          "name": "stderr",
          "text": [
            "Train Epoch 18: 100%|██████████| 800/800 [10:37<00:00,  1.25it/s]\n"
          ]
        },
        {
          "output_type": "stream",
          "name": "stdout",
          "text": [
            "No improvement for 9 epochs.\n",
            "[18] Train: 0.0962 | Val: 0.1719| Learning rate: 1.00e-05\n"
          ]
        },
        {
          "output_type": "stream",
          "name": "stderr",
          "text": [
            "Train Epoch 19: 100%|██████████| 800/800 [10:37<00:00,  1.25it/s]\n"
          ]
        },
        {
          "output_type": "stream",
          "name": "stdout",
          "text": [
            "No improvement for 10 epochs.\n",
            "[19] Train: 0.0932 | Val: 0.1750| Learning rate: 1.00e-05\n"
          ]
        },
        {
          "output_type": "stream",
          "name": "stderr",
          "text": [
            "Train Epoch 20: 100%|██████████| 800/800 [10:37<00:00,  1.25it/s]\n"
          ]
        },
        {
          "output_type": "stream",
          "name": "stdout",
          "text": [
            "No improvement for 11 epochs.\n",
            "[20] Train: 0.0992 | Val: 0.1759| Learning rate: 1.00e-05\n"
          ]
        },
        {
          "output_type": "stream",
          "name": "stderr",
          "text": [
            "Train Epoch 21: 100%|██████████| 800/800 [10:37<00:00,  1.25it/s]\n"
          ]
        },
        {
          "output_type": "stream",
          "name": "stdout",
          "text": [
            "No improvement for 12 epochs.\n",
            "[21] Train: 0.0979 | Val: 0.1758| Learning rate: 1.00e-05\n"
          ]
        },
        {
          "output_type": "stream",
          "name": "stderr",
          "text": [
            "Train Epoch 22: 100%|██████████| 800/800 [10:37<00:00,  1.25it/s]\n"
          ]
        },
        {
          "output_type": "stream",
          "name": "stdout",
          "text": [
            "No improvement for 13 epochs.\n",
            "[22] Train: 0.0979 | Val: 0.1783| Learning rate: 1.00e-05\n"
          ]
        },
        {
          "output_type": "stream",
          "name": "stderr",
          "text": [
            "Train Epoch 23: 100%|██████████| 800/800 [10:37<00:00,  1.25it/s]\n"
          ]
        },
        {
          "output_type": "stream",
          "name": "stdout",
          "text": [
            "No improvement for 14 epochs.\n",
            "[23] Train: 0.0989 | Val: 0.1789| Learning rate: 1.00e-05\n"
          ]
        },
        {
          "output_type": "stream",
          "name": "stderr",
          "text": [
            "Train Epoch 24: 100%|██████████| 800/800 [10:37<00:00,  1.25it/s]\n"
          ]
        },
        {
          "output_type": "stream",
          "name": "stdout",
          "text": [
            "No improvement for 15 epochs.\n",
            "[24] Train: 0.0985 | Val: 0.1696| Learning rate: 1.00e-05\n"
          ]
        },
        {
          "output_type": "stream",
          "name": "stderr",
          "text": [
            "Train Epoch 25: 100%|██████████| 800/800 [10:37<00:00,  1.26it/s]\n"
          ]
        },
        {
          "output_type": "stream",
          "name": "stdout",
          "text": [
            "No improvement for 16 epochs.\n",
            "[25] Train: 0.0946 | Val: 0.1864| Learning rate: 1.00e-05\n"
          ]
        },
        {
          "output_type": "stream",
          "name": "stderr",
          "text": [
            "Train Epoch 26: 100%|██████████| 800/800 [10:37<00:00,  1.25it/s]\n"
          ]
        },
        {
          "output_type": "stream",
          "name": "stdout",
          "text": [
            "No improvement for 17 epochs.\n",
            "[26] Train: 0.0951 | Val: 0.1841| Learning rate: 1.00e-05\n"
          ]
        },
        {
          "output_type": "stream",
          "name": "stderr",
          "text": [
            "Train Epoch 27: 100%|██████████| 800/800 [10:37<00:00,  1.25it/s]\n"
          ]
        },
        {
          "output_type": "stream",
          "name": "stdout",
          "text": [
            "No improvement for 18 epochs.\n",
            "[27] Train: 0.0981 | Val: 0.1807| Learning rate: 1.00e-05\n"
          ]
        },
        {
          "output_type": "stream",
          "name": "stderr",
          "text": [
            "Train Epoch 28: 100%|██████████| 800/800 [10:37<00:00,  1.25it/s]\n"
          ]
        },
        {
          "output_type": "stream",
          "name": "stdout",
          "text": [
            "New Best Model at Epoch 28\n",
            "[28] Train: 0.0964 | Val: 0.1672| Learning rate: 1.00e-05\n"
          ]
        },
        {
          "output_type": "stream",
          "name": "stderr",
          "text": [
            "Train Epoch 29: 100%|██████████| 800/800 [10:37<00:00,  1.25it/s]\n"
          ]
        },
        {
          "output_type": "stream",
          "name": "stdout",
          "text": [
            "New Best Model at Epoch 29\n",
            "[29] Train: 0.0954 | Val: 0.1668| Learning rate: 1.00e-05\n"
          ]
        },
        {
          "output_type": "stream",
          "name": "stderr",
          "text": [
            "Train Epoch 30: 100%|██████████| 800/800 [10:36<00:00,  1.26it/s]\n"
          ]
        },
        {
          "output_type": "stream",
          "name": "stdout",
          "text": [
            "No improvement for 1 epochs.\n",
            "[30] Train: 0.0952 | Val: 0.1766| Learning rate: 1.00e-05\n"
          ]
        },
        {
          "output_type": "stream",
          "name": "stderr",
          "text": [
            "Train Epoch 31: 100%|██████████| 800/800 [10:37<00:00,  1.25it/s]\n"
          ]
        },
        {
          "output_type": "stream",
          "name": "stdout",
          "text": [
            "No improvement for 2 epochs.\n",
            "[31] Train: 0.0933 | Val: 0.1809| Learning rate: 1.00e-05\n"
          ]
        },
        {
          "output_type": "stream",
          "name": "stderr",
          "text": [
            "Train Epoch 32: 100%|██████████| 800/800 [10:37<00:00,  1.25it/s]\n"
          ]
        },
        {
          "output_type": "stream",
          "name": "stdout",
          "text": [
            "New Best Model at Epoch 32\n",
            "[32] Train: 0.0903 | Val: 0.1646| Learning rate: 1.00e-05\n"
          ]
        },
        {
          "output_type": "stream",
          "name": "stderr",
          "text": [
            "Train Epoch 33: 100%|██████████| 800/800 [10:36<00:00,  1.26it/s]\n"
          ]
        },
        {
          "output_type": "stream",
          "name": "stdout",
          "text": [
            "No improvement for 1 epochs.\n",
            "[33] Train: 0.0952 | Val: 0.1691| Learning rate: 1.00e-05\n"
          ]
        },
        {
          "output_type": "stream",
          "name": "stderr",
          "text": [
            "Train Epoch 34: 100%|██████████| 800/800 [10:37<00:00,  1.25it/s]\n"
          ]
        },
        {
          "output_type": "stream",
          "name": "stdout",
          "text": [
            "No improvement for 2 epochs.\n",
            "[34] Train: 0.0960 | Val: 0.1842| Learning rate: 1.00e-05\n"
          ]
        },
        {
          "output_type": "stream",
          "name": "stderr",
          "text": [
            "Train Epoch 35: 100%|██████████| 800/800 [10:37<00:00,  1.25it/s]\n"
          ]
        },
        {
          "output_type": "stream",
          "name": "stdout",
          "text": [
            "No improvement for 3 epochs.\n",
            "[35] Train: 0.0966 | Val: 0.1917| Learning rate: 1.00e-05\n"
          ]
        },
        {
          "output_type": "stream",
          "name": "stderr",
          "text": [
            "Train Epoch 36: 100%|██████████| 800/800 [10:37<00:00,  1.25it/s]\n"
          ]
        },
        {
          "output_type": "stream",
          "name": "stdout",
          "text": [
            "No improvement for 4 epochs.\n",
            "[36] Train: 0.0968 | Val: 0.1681| Learning rate: 1.00e-05\n"
          ]
        },
        {
          "output_type": "stream",
          "name": "stderr",
          "text": [
            "Train Epoch 37: 100%|██████████| 800/800 [10:37<00:00,  1.25it/s]\n"
          ]
        },
        {
          "output_type": "stream",
          "name": "stdout",
          "text": [
            "No improvement for 5 epochs.\n",
            "[37] Train: 0.0941 | Val: 0.1673| Learning rate: 1.00e-05\n"
          ]
        },
        {
          "output_type": "stream",
          "name": "stderr",
          "text": [
            "Train Epoch 38: 100%|██████████| 800/800 [10:37<00:00,  1.25it/s]\n"
          ]
        },
        {
          "output_type": "stream",
          "name": "stdout",
          "text": [
            "No improvement for 6 epochs.\n",
            "[38] Train: 0.0896 | Val: 0.1696| Learning rate: 1.00e-05\n"
          ]
        },
        {
          "output_type": "stream",
          "name": "stderr",
          "text": [
            "Train Epoch 39: 100%|██████████| 800/800 [10:37<00:00,  1.25it/s]\n"
          ]
        },
        {
          "output_type": "stream",
          "name": "stdout",
          "text": [
            "No improvement for 7 epochs.\n",
            "[39] Train: 0.0899 | Val: 0.1799| Learning rate: 1.00e-05\n"
          ]
        },
        {
          "output_type": "stream",
          "name": "stderr",
          "text": [
            "Train Epoch 40: 100%|██████████| 800/800 [10:37<00:00,  1.25it/s]\n"
          ]
        },
        {
          "output_type": "stream",
          "name": "stdout",
          "text": [
            "No improvement for 8 epochs.\n",
            "[40] Train: 0.0897 | Val: 0.1659| Learning rate: 1.00e-05\n"
          ]
        },
        {
          "output_type": "stream",
          "name": "stderr",
          "text": [
            "Train Epoch 41: 100%|██████████| 800/800 [10:37<00:00,  1.25it/s]\n"
          ]
        },
        {
          "output_type": "stream",
          "name": "stdout",
          "text": [
            "No improvement for 9 epochs.\n",
            "[41] Train: 0.0928 | Val: 0.1710| Learning rate: 1.00e-05\n"
          ]
        },
        {
          "output_type": "stream",
          "name": "stderr",
          "text": [
            "Train Epoch 42: 100%|██████████| 800/800 [10:37<00:00,  1.25it/s]\n"
          ]
        },
        {
          "output_type": "stream",
          "name": "stdout",
          "text": [
            "No improvement for 10 epochs.\n",
            "[42] Train: 0.0944 | Val: 0.1649| Learning rate: 1.00e-05\n"
          ]
        },
        {
          "output_type": "stream",
          "name": "stderr",
          "text": [
            "Train Epoch 43: 100%|██████████| 800/800 [10:36<00:00,  1.26it/s]\n"
          ]
        },
        {
          "output_type": "stream",
          "name": "stdout",
          "text": [
            "No improvement for 11 epochs.\n",
            "[43] Train: 0.0935 | Val: 0.1669| Learning rate: 1.00e-05\n"
          ]
        },
        {
          "output_type": "stream",
          "name": "stderr",
          "text": [
            "Train Epoch 44: 100%|██████████| 800/800 [10:37<00:00,  1.26it/s]\n"
          ]
        },
        {
          "output_type": "stream",
          "name": "stdout",
          "text": [
            "No improvement for 12 epochs.\n",
            "[44] Train: 0.0891 | Val: 0.1730| Learning rate: 1.00e-05\n"
          ]
        },
        {
          "output_type": "stream",
          "name": "stderr",
          "text": [
            "Train Epoch 45: 100%|██████████| 800/800 [10:36<00:00,  1.26it/s]\n"
          ]
        },
        {
          "output_type": "stream",
          "name": "stdout",
          "text": [
            "No improvement for 13 epochs.\n",
            "[45] Train: 0.0889 | Val: 0.1694| Learning rate: 1.00e-05\n"
          ]
        },
        {
          "output_type": "stream",
          "name": "stderr",
          "text": [
            "Train Epoch 46: 100%|██████████| 800/800 [10:37<00:00,  1.25it/s]\n"
          ]
        },
        {
          "output_type": "stream",
          "name": "stdout",
          "text": [
            "No improvement for 14 epochs.\n",
            "[46] Train: 0.0914 | Val: 0.1658| Learning rate: 1.00e-05\n"
          ]
        },
        {
          "output_type": "stream",
          "name": "stderr",
          "text": [
            "Train Epoch 47: 100%|██████████| 800/800 [10:36<00:00,  1.26it/s]\n"
          ]
        },
        {
          "output_type": "stream",
          "name": "stdout",
          "text": [
            "No improvement for 15 epochs.\n",
            "[47] Train: 0.0935 | Val: 0.1737| Learning rate: 1.00e-05\n"
          ]
        },
        {
          "output_type": "stream",
          "name": "stderr",
          "text": [
            "Train Epoch 48: 100%|██████████| 800/800 [10:37<00:00,  1.26it/s]\n"
          ]
        },
        {
          "output_type": "stream",
          "name": "stdout",
          "text": [
            "No improvement for 16 epochs.\n",
            "[48] Train: 0.0920 | Val: 0.1781| Learning rate: 1.00e-05\n"
          ]
        },
        {
          "output_type": "stream",
          "name": "stderr",
          "text": [
            "Train Epoch 49: 100%|██████████| 800/800 [10:37<00:00,  1.25it/s]\n"
          ]
        },
        {
          "output_type": "stream",
          "name": "stdout",
          "text": [
            "No improvement for 17 epochs.\n",
            "[49] Train: 0.0888 | Val: 0.1675| Learning rate: 1.00e-05\n"
          ]
        },
        {
          "output_type": "stream",
          "name": "stderr",
          "text": [
            "Train Epoch 50: 100%|██████████| 800/800 [10:37<00:00,  1.26it/s]\n"
          ]
        },
        {
          "output_type": "stream",
          "name": "stdout",
          "text": [
            "No improvement for 18 epochs.\n",
            "[50] Train: 0.0880 | Val: 0.1753| Learning rate: 1.00e-05\n"
          ]
        },
        {
          "output_type": "stream",
          "name": "stderr",
          "text": [
            "Train Epoch 51: 100%|██████████| 800/800 [10:37<00:00,  1.26it/s]\n"
          ]
        },
        {
          "output_type": "stream",
          "name": "stdout",
          "text": [
            "No improvement for 19 epochs.\n",
            "[51] Train: 0.0873 | Val: 0.1692| Learning rate: 5.00e-06\n"
          ]
        },
        {
          "output_type": "stream",
          "name": "stderr",
          "text": [
            "Train Epoch 52: 100%|██████████| 800/800 [10:37<00:00,  1.25it/s]\n"
          ]
        },
        {
          "output_type": "stream",
          "name": "stdout",
          "text": [
            "No improvement for 20 epochs.\n",
            "[52] Train: 0.0856 | Val: 0.1756| Learning rate: 5.00e-06\n"
          ]
        },
        {
          "output_type": "stream",
          "name": "stderr",
          "text": [
            "Train Epoch 53: 100%|██████████| 800/800 [10:37<00:00,  1.25it/s]\n"
          ]
        },
        {
          "output_type": "stream",
          "name": "stdout",
          "text": [
            "New Best Model at Epoch 53\n",
            "[53] Train: 0.0860 | Val: 0.1632| Learning rate: 5.00e-06\n"
          ]
        },
        {
          "output_type": "stream",
          "name": "stderr",
          "text": [
            "Train Epoch 54: 100%|██████████| 800/800 [10:37<00:00,  1.25it/s]\n"
          ]
        },
        {
          "output_type": "stream",
          "name": "stdout",
          "text": [
            "No improvement for 1 epochs.\n",
            "[54] Train: 0.0849 | Val: 0.1689| Learning rate: 5.00e-06\n"
          ]
        },
        {
          "output_type": "stream",
          "name": "stderr",
          "text": [
            "Train Epoch 55: 100%|██████████| 800/800 [10:36<00:00,  1.26it/s]\n"
          ]
        },
        {
          "output_type": "stream",
          "name": "stdout",
          "text": [
            "No improvement for 2 epochs.\n",
            "[55] Train: 0.0823 | Val: 0.1767| Learning rate: 5.00e-06\n"
          ]
        },
        {
          "output_type": "stream",
          "name": "stderr",
          "text": [
            "Train Epoch 56: 100%|██████████| 800/800 [10:37<00:00,  1.25it/s]\n"
          ]
        },
        {
          "output_type": "stream",
          "name": "stdout",
          "text": [
            "No improvement for 3 epochs.\n",
            "[56] Train: 0.0812 | Val: 0.1729| Learning rate: 5.00e-06\n"
          ]
        },
        {
          "output_type": "stream",
          "name": "stderr",
          "text": [
            "Train Epoch 57: 100%|██████████| 800/800 [10:37<00:00,  1.25it/s]\n"
          ]
        },
        {
          "output_type": "stream",
          "name": "stdout",
          "text": [
            "No improvement for 4 epochs.\n",
            "[57] Train: 0.0819 | Val: 0.1737| Learning rate: 5.00e-06\n"
          ]
        },
        {
          "output_type": "stream",
          "name": "stderr",
          "text": [
            "Train Epoch 58: 100%|██████████| 800/800 [10:37<00:00,  1.25it/s]\n"
          ]
        },
        {
          "output_type": "stream",
          "name": "stdout",
          "text": [
            "No improvement for 5 epochs.\n",
            "[58] Train: 0.0825 | Val: 0.1706| Learning rate: 5.00e-06\n"
          ]
        },
        {
          "output_type": "stream",
          "name": "stderr",
          "text": [
            "Train Epoch 59: 100%|██████████| 800/800 [10:37<00:00,  1.25it/s]\n"
          ]
        },
        {
          "output_type": "stream",
          "name": "stdout",
          "text": [
            "No improvement for 6 epochs.\n",
            "[59] Train: 0.0825 | Val: 0.1696| Learning rate: 5.00e-06\n"
          ]
        },
        {
          "output_type": "stream",
          "name": "stderr",
          "text": [
            "Train Epoch 60: 100%|██████████| 800/800 [10:38<00:00,  1.25it/s]\n"
          ]
        },
        {
          "output_type": "stream",
          "name": "stdout",
          "text": [
            "No improvement for 7 epochs.\n",
            "[60] Train: 0.0810 | Val: 0.1721| Learning rate: 5.00e-06\n"
          ]
        },
        {
          "output_type": "stream",
          "name": "stderr",
          "text": [
            "Train Epoch 61: 100%|██████████| 800/800 [10:38<00:00,  1.25it/s]\n"
          ]
        },
        {
          "output_type": "stream",
          "name": "stdout",
          "text": [
            "No improvement for 8 epochs.\n",
            "[61] Train: 0.0813 | Val: 0.1725| Learning rate: 5.00e-06\n"
          ]
        },
        {
          "output_type": "stream",
          "name": "stderr",
          "text": [
            "Train Epoch 62: 100%|██████████| 800/800 [10:38<00:00,  1.25it/s]\n"
          ]
        },
        {
          "output_type": "stream",
          "name": "stdout",
          "text": [
            "No improvement for 9 epochs.\n",
            "[62] Train: 0.0817 | Val: 0.1778| Learning rate: 5.00e-06\n"
          ]
        },
        {
          "output_type": "stream",
          "name": "stderr",
          "text": [
            "Train Epoch 63: 100%|██████████| 800/800 [10:38<00:00,  1.25it/s]\n"
          ]
        },
        {
          "output_type": "stream",
          "name": "stdout",
          "text": [
            "No improvement for 10 epochs.\n",
            "[63] Train: 0.0813 | Val: 0.1673| Learning rate: 5.00e-06\n"
          ]
        },
        {
          "output_type": "stream",
          "name": "stderr",
          "text": [
            "Train Epoch 64: 100%|██████████| 800/800 [10:38<00:00,  1.25it/s]\n"
          ]
        },
        {
          "output_type": "stream",
          "name": "stdout",
          "text": [
            "No improvement for 11 epochs.\n",
            "[64] Train: 0.0793 | Val: 0.1706| Learning rate: 5.00e-06\n"
          ]
        },
        {
          "output_type": "stream",
          "name": "stderr",
          "text": [
            "Train Epoch 65: 100%|██████████| 800/800 [10:38<00:00,  1.25it/s]\n"
          ]
        },
        {
          "output_type": "stream",
          "name": "stdout",
          "text": [
            "No improvement for 12 epochs.\n",
            "[65] Train: 0.0809 | Val: 0.1792| Learning rate: 5.00e-06\n"
          ]
        },
        {
          "output_type": "stream",
          "name": "stderr",
          "text": [
            "Train Epoch 66: 100%|██████████| 800/800 [10:38<00:00,  1.25it/s]\n"
          ]
        },
        {
          "output_type": "stream",
          "name": "stdout",
          "text": [
            "No improvement for 13 epochs.\n",
            "[66] Train: 0.0821 | Val: 0.1730| Learning rate: 5.00e-06\n"
          ]
        },
        {
          "output_type": "stream",
          "name": "stderr",
          "text": [
            "Train Epoch 67: 100%|██████████| 800/800 [10:38<00:00,  1.25it/s]\n"
          ]
        },
        {
          "output_type": "stream",
          "name": "stdout",
          "text": [
            "No improvement for 14 epochs.\n",
            "[67] Train: 0.0805 | Val: 0.1654| Learning rate: 5.00e-06\n"
          ]
        },
        {
          "output_type": "stream",
          "name": "stderr",
          "text": [
            "Train Epoch 68: 100%|██████████| 800/800 [10:38<00:00,  1.25it/s]\n"
          ]
        },
        {
          "output_type": "stream",
          "name": "stdout",
          "text": [
            "No improvement for 15 epochs.\n",
            "[68] Train: 0.0786 | Val: 0.1707| Learning rate: 5.00e-06\n"
          ]
        },
        {
          "output_type": "stream",
          "name": "stderr",
          "text": [
            "Train Epoch 69: 100%|██████████| 800/800 [10:38<00:00,  1.25it/s]\n"
          ]
        },
        {
          "output_type": "stream",
          "name": "stdout",
          "text": [
            "No improvement for 16 epochs.\n",
            "[69] Train: 0.0794 | Val: 0.1750| Learning rate: 5.00e-06\n"
          ]
        },
        {
          "output_type": "stream",
          "name": "stderr",
          "text": [
            "Train Epoch 70: 100%|██████████| 800/800 [10:37<00:00,  1.25it/s]\n"
          ]
        },
        {
          "output_type": "stream",
          "name": "stdout",
          "text": [
            "No improvement for 17 epochs.\n",
            "[70] Train: 0.0806 | Val: 0.1752| Learning rate: 5.00e-06\n"
          ]
        },
        {
          "output_type": "stream",
          "name": "stderr",
          "text": [
            "Train Epoch 71: 100%|██████████| 800/800 [10:37<00:00,  1.25it/s]\n"
          ]
        },
        {
          "output_type": "stream",
          "name": "stdout",
          "text": [
            "No improvement for 18 epochs.\n",
            "[71] Train: 0.0823 | Val: 0.1858| Learning rate: 5.00e-06\n"
          ]
        },
        {
          "output_type": "stream",
          "name": "stderr",
          "text": [
            "Train Epoch 72: 100%|██████████| 800/800 [10:37<00:00,  1.26it/s]\n"
          ]
        },
        {
          "output_type": "stream",
          "name": "stdout",
          "text": [
            "No improvement for 19 epochs.\n",
            "[72] Train: 0.0810 | Val: 0.1726| Learning rate: 2.50e-06\n"
          ]
        },
        {
          "output_type": "stream",
          "name": "stderr",
          "text": [
            "Train Epoch 73: 100%|██████████| 800/800 [10:37<00:00,  1.26it/s]\n"
          ]
        },
        {
          "output_type": "stream",
          "name": "stdout",
          "text": [
            "No improvement for 20 epochs.\n",
            "[73] Train: 0.0777 | Val: 0.1665| Learning rate: 2.50e-06\n"
          ]
        },
        {
          "output_type": "stream",
          "name": "stderr",
          "text": [
            "Train Epoch 74: 100%|██████████| 800/800 [10:37<00:00,  1.25it/s]\n"
          ]
        },
        {
          "output_type": "stream",
          "name": "stdout",
          "text": [
            "No improvement for 21 epochs.\n",
            "[74] Train: 0.0762 | Val: 0.1735| Learning rate: 2.50e-06\n"
          ]
        },
        {
          "output_type": "stream",
          "name": "stderr",
          "text": [
            "Train Epoch 75: 100%|██████████| 800/800 [10:37<00:00,  1.25it/s]\n"
          ]
        },
        {
          "output_type": "stream",
          "name": "stdout",
          "text": [
            "No improvement for 22 epochs.\n",
            "[75] Train: 0.0757 | Val: 0.1727| Learning rate: 2.50e-06\n"
          ]
        },
        {
          "output_type": "stream",
          "name": "stderr",
          "text": [
            "Train Epoch 76: 100%|██████████| 800/800 [10:37<00:00,  1.25it/s]\n"
          ]
        },
        {
          "output_type": "stream",
          "name": "stdout",
          "text": [
            "No improvement for 23 epochs.\n",
            "[76] Train: 0.0750 | Val: 0.1727| Learning rate: 2.50e-06\n"
          ]
        },
        {
          "output_type": "stream",
          "name": "stderr",
          "text": [
            "Train Epoch 77: 100%|██████████| 800/800 [10:37<00:00,  1.25it/s]\n"
          ]
        },
        {
          "output_type": "stream",
          "name": "stdout",
          "text": [
            "No improvement for 24 epochs.\n",
            "[77] Train: 0.0752 | Val: 0.1741| Learning rate: 2.50e-06\n"
          ]
        },
        {
          "output_type": "stream",
          "name": "stderr",
          "text": [
            "Train Epoch 78: 100%|██████████| 800/800 [10:37<00:00,  1.25it/s]\n"
          ]
        },
        {
          "output_type": "stream",
          "name": "stdout",
          "text": [
            "No improvement for 25 epochs.\n",
            "[78] Train: 0.0753 | Val: 0.1785| Learning rate: 2.50e-06\n"
          ]
        },
        {
          "output_type": "stream",
          "name": "stderr",
          "text": [
            "Train Epoch 79: 100%|██████████| 800/800 [10:37<00:00,  1.25it/s]\n"
          ]
        },
        {
          "output_type": "stream",
          "name": "stdout",
          "text": [
            "No improvement for 26 epochs.\n",
            "[79] Train: 0.0762 | Val: 0.1741| Learning rate: 2.50e-06\n"
          ]
        },
        {
          "output_type": "stream",
          "name": "stderr",
          "text": [
            "Train Epoch 80: 100%|██████████| 800/800 [10:37<00:00,  1.25it/s]\n"
          ]
        },
        {
          "output_type": "stream",
          "name": "stdout",
          "text": [
            "No improvement for 27 epochs.\n",
            "[80] Train: 0.0752 | Val: 0.1727| Learning rate: 2.50e-06\n"
          ]
        },
        {
          "output_type": "stream",
          "name": "stderr",
          "text": [
            "Train Epoch 81: 100%|██████████| 800/800 [10:37<00:00,  1.25it/s]\n"
          ]
        },
        {
          "output_type": "stream",
          "name": "stdout",
          "text": [
            "No improvement for 28 epochs.\n",
            "[81] Train: 0.0754 | Val: 0.1692| Learning rate: 2.50e-06\n"
          ]
        },
        {
          "output_type": "stream",
          "name": "stderr",
          "text": [
            "Train Epoch 82: 100%|██████████| 800/800 [10:37<00:00,  1.25it/s]\n"
          ]
        },
        {
          "output_type": "stream",
          "name": "stdout",
          "text": [
            "No improvement for 29 epochs.\n",
            "[82] Train: 0.0741 | Val: 0.1728| Learning rate: 2.50e-06\n"
          ]
        },
        {
          "output_type": "stream",
          "name": "stderr",
          "text": [
            "Train Epoch 83: 100%|██████████| 800/800 [10:37<00:00,  1.25it/s]\n"
          ]
        },
        {
          "output_type": "stream",
          "name": "stdout",
          "text": [
            "No improvement for 30 epochs.\n",
            "Early stopping occurred\n"
          ]
        }
      ],
      "source": [
        "def normalized_mse(x_pred, x_true, phi_s):\n",
        "    return torch.sum((x_pred - x_true) ** 2) / (torch.sum(x_true ** 2) + 1e-8) #for all bands\n",
        "\n",
        "def mixed_loss(pred, target, phi_s):\n",
        "    nmse = normalized_mse(pred, target, phi_s)\n",
        "    peak_weight = (target > 0.6).float() * 5.0 + 1.0  # Boost high-radiance pixels\n",
        "    weighted_mse = torch.mean(peak_weight * (pred - target)**2)\n",
        "    return nmse + weighted_mse\n",
        "\n",
        "if do_train:\n",
        "\n",
        "  train_losses, val_losses = [], []\n",
        "  scaler = torch.cuda.amp.GradScaler()\n",
        "\n",
        "\n",
        "  def run_training(epochs, lr, start_epoch=0):\n",
        "\n",
        "      best_val = float('inf')\n",
        "      best_state = None\n",
        "      lr_decay_factor = 0.5\n",
        "\n",
        "      optimizer = torch.optim.Adam(model.parameters(), lr=lr)\n",
        "\n",
        "      early_stop_patience = 30\n",
        "      no_improve_epochs = 0\n",
        "\n",
        "\n",
        "      for epoch in range(start_epoch, start_epoch + epochs):\n",
        "\n",
        "          torch.cuda.empty_cache()\n",
        "          gc.collect()\n",
        "          model.train()\n",
        "          total_train_loss = 0\n",
        "\n",
        "          for y, phi, phi_s, x, max_val in tqdm(train_loader, desc=f\"Train Epoch {epoch+1}\"):\n",
        "            y, phi, phi_s, x = y.to(device), phi.to(device), phi_s.to(device), x.to(device)\n",
        "            optimizer.zero_grad()\n",
        "\n",
        "            with torch.cuda.amp.autocast():\n",
        "\n",
        "                output = model(y, phi, phi_s)[0]\n",
        "                output = torch.nan_to_num(output, nan=0.0)\n",
        "                loss = mixed_loss(output, x, phi_s)\n",
        "\n",
        "            scaler.scale(loss).backward()\n",
        "            torch.nn.utils.clip_grad_norm_(model.parameters(), max_norm=1.0)\n",
        "            scaler.step(optimizer)\n",
        "            scaler.update()\n",
        "\n",
        "            total_train_loss += loss.item()\n",
        "\n",
        "          train_losses.append(total_train_loss / len(train_loader))\n",
        "\n",
        "          # Validation\n",
        "          model.eval()\n",
        "          total_val_loss = 0\n",
        "          with torch.no_grad():\n",
        "              for y, phi, phi_s, x, max_val in val_loader:\n",
        "                  y, phi, phi_s, x = y.to(device), phi.to(device), phi_s.to(device), x.to(device)\n",
        "                  output = model(y, phi, phi_s)[0]\n",
        "                  output = torch.nan_to_num(output, nan=0.0)\n",
        "                  val_loss = mixed_loss(output, x, phi_s)\n",
        "                  total_val_loss += val_loss.item()\n",
        "                  if torch.isnan(output).any():\n",
        "                      print(\"NaNs in model output!\")\n",
        "\n",
        "                  if torch.isnan(x).any():\n",
        "                      print(\"NaNs in target x!\")\n",
        "\n",
        "          val_losses.append(total_val_loss / len(val_loader))\n",
        "          # Save losses\n",
        "          np.save(\"train_losses.npy\", np.array(train_losses))\n",
        "          np.save(\"val_losses.npy\", np.array(val_losses))\n",
        "          #scheduler.step(val_losses[-1])\n",
        "          if val_losses[-1] < best_val:\n",
        "            best_val = val_losses[-1]\n",
        "            best_state = model.state_dict().copy()\n",
        "            print(f'New Best Model at Epoch {epoch+1}')\n",
        "            torch.save(best_state, model_ckpt_path)\n",
        "            no_improve_epochs = 0\n",
        "\n",
        "          else:\n",
        "            no_improve_epochs += 1\n",
        "            print(f\"No improvement for {no_improve_epochs} epochs.\")\n",
        "\n",
        "          if (no_improve_epochs +1)% 20 ==0:\n",
        "            for param_goup in optimizer.param_groups:\n",
        "              param_group['lr'] *= lr_decay_factor\n",
        "\n",
        "          if no_improve_epochs >= early_stop_patience:\n",
        "            print('Early stopping occurred')\n",
        "            break\n",
        "\n",
        "          for param_group in optimizer.param_groups:\n",
        "            print(f\"[{epoch+1}] Train: {train_losses[-1]:.4f} | Val: {val_losses[-1]:.4f}| Learning rate: {param_group['lr']:.2e}\")\n",
        "\n",
        "          torch.cuda.empty_cache()\n",
        "          gc.collect()\n",
        "\n",
        "      return best_state, train_losses, val_losses\n",
        "\n",
        "  # Main training\n",
        "  if retrain:\n",
        "    model.load_state_dict(torch.load(model_ckpt_path))\n",
        "  best_model_state, train_losses, val_losses = run_training(epochs=200, lr=1e-5)\n",
        "\n",
        "  # Save best model\n",
        "  if best_model_state is not None:\n",
        "    torch.save(best_model_state, model_ckpt_path)\n",
        "    np.save(\"train_losses.npy\", np.array(train_losses))\n",
        "    np.save(\"val_losses.npy\", np.array(val_losses))\n",
        "\n",
        "\n"
      ]
    },
    {
      "cell_type": "code",
      "execution_count": null,
      "metadata": {
        "id": "0qVGtb6-6Qid",
        "colab": {
          "base_uri": "https://localhost:8080/",
          "height": 487
        },
        "outputId": "ad4092ec-dde0-4646-ed77-5b7cb7fba113"
      },
      "outputs": [
        {
          "output_type": "display_data",
          "data": {
            "text/plain": [
              "<Figure size 640x480 with 1 Axes>"
            ],
            "image/png": "[encoded data removed]"
          },
          "metadata": {}
        }
      ],
      "source": [
        "  plt.plot(train_losses, label='Training Loss')\n",
        "  plt.plot(val_losses, label='Validation Loss')\n",
        "  plt.xlabel('Epoch')\n",
        "  plt.ylabel('Loss (MSE)')\n",
        "  plt.title('Training and Validation Loss per Epoch')\n",
        "  plt.grid(False)\n",
        "  plt.legend()\n",
        "  plt.tight_layout()\n",
        "  plt.show()\n",
        "\n",
        "  np.save(\"/content/drive/MyDrive/train_losses.npy\", np.array(train_losses))\n",
        "  np.save(\"/content/drive/MyDrive/val_losses.npy\", np.array(val_losses))"
      ]
    },
    {
      "cell_type": "code",
      "execution_count": null,
      "metadata": {
        "id": "p7kFt99pofYh",
        "colab": {
          "base_uri": "https://localhost:8080/",
          "height": 434
        },
        "outputId": "17dd3c74-9cba-4f89-af93-94e3f61d9346"
      },
      "outputs": [
        {
          "output_type": "stream",
          "name": "stdout",
          "text": [
            "/content/drive/MyDrive/efficientSCI_finetuned_band1.pth\n"
          ]
        },
        {
          "output_type": "stream",
          "name": "stderr",
          "text": [
            "Evaluating: 100%|██████████| 50/50 [01:26<00:00,  1.72s/it]\n"
          ]
        },
        {
          "output_type": "display_data",
          "data": {
            "text/plain": [
              "<Figure size 1400x500 with 1 Axes>"
            ],
            "image/png": "[encoded data removed]"
          },
          "metadata": {}
        },
        {
          "output_type": "stream",
          "name": "stdout",
          "text": [
            "Average MSE: 2310.952711\n",
            "Average PSNR: 24.96 dB\n"
          ]
        }
      ],
      "source": [
        "\n",
        "if do_eval:\n",
        "    print(model_ckpt_path)\n",
        "    model.load_state_dict(torch.load(model_ckpt_path, map_location=torch.device('cpu')))\n",
        "    model.eval()\n",
        "\n",
        "    recon_ts_all, true_ts_all, mse_losses, psnr_scores = [], [], [], []\n",
        "\n",
        "    with torch.no_grad():\n",
        "        for y, phi, phi_s, x_true, max_val in tqdm(test_loader, desc=\"Evaluating\", total=len(test_loader)):\n",
        "            y, phi, phi_s, x_true = y.to(device), phi.to(device), phi_s.to(device), x_true.to(device)\n",
        "            x_pred = model(y, phi, phi_s)[0]#.cpu()\n",
        "            x_true = x_true#.cpu()\n",
        "            max_val = max_val#.cpu()\n",
        "\n",
        "            x_pred = torch.expm1(x_pred) * max_val.to(device) # invert log1p and rescale\n",
        "            x_true = torch.expm1(x_true) * max_val.to(device)\n",
        "\n",
        "            #Calculate MSE\n",
        "            loss = nn.functional.mse_loss(x_pred, x_true).item()\n",
        "            mse_losses.append(loss)\n",
        "\n",
        "            #Calculate PSNR\n",
        "            max_val_scalar = torch.max(x_true).item()  # or use a fixed value if needed\n",
        "            psnr = 10 * np.log10((max_val_scalar ** 2) / (loss + 1e-8))\n",
        "            psnr_scores.append(psnr)\n",
        "            torch.cuda.empty_cache()\n",
        "            gc.collect()\n",
        "\n",
        "            T, H, W = x_true.shape[1:]\n",
        "            h, w = H // 2, W // 2\n",
        "            true_ts_all.append(x_true[0, :, h, w].cpu().numpy())\n",
        "            recon_ts_all.append(x_pred[0, :, h, w].cpu().numpy())\n",
        "\n",
        "    # Plot\n",
        "    true_ts_concat = np.concatenate(true_ts_all)\n",
        "    recon_ts_concat = np.concatenate(recon_ts_all)\n",
        "\n",
        "    from datetime import datetime, timedelta\n",
        "    start_time = datetime(2024, 4, 1)\n",
        "    frame_times = [start_time + timedelta(minutes=10 * i) for i in range(len(true_ts_concat))]\n",
        "\n",
        "    plt.figure(figsize=(14, 5))\n",
        "    plt.plot(frame_times, true_ts_concat, label=\"True\")\n",
        "    plt.plot(frame_times, recon_ts_concat, label=\"Reconstructed\", linestyle='-')\n",
        "    plt.title(f\"Time Series at Center – Location: {test_loc}\")\n",
        "    plt.xlabel('Time')\n",
        "    plt.ylabel('Radiance')\n",
        "    plt.grid()\n",
        "    plt.legend()\n",
        "    plt.gcf().autofmt_xdate()\n",
        "    plt.tight_layout()\n",
        "    plt.show()\n",
        "\n",
        "    print(f\"Average MSE: {np.mean(mse_losses):.6f}\")\n",
        "    print(f\"Average PSNR: {np.mean(psnr_scores):.2f} dB\")\n",
        "\n"
      ]
    }
  ],
  "metadata": {
    "accelerator": "GPU",
    "colab": {
      "gpuType": "A100",
      "machine_shape": "hm",
      "toc_visible": true,
      "provenance": []
    },
    "kernelspec": {
      "display_name": "Python 3",
      "name": "python3"
    },
    "language_info": {
      "name": "python"
    }
  },
  "nbformat": 4,
  "nbformat_minor": 0
}